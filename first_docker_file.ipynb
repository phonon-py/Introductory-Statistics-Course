{
 "cells": [
  {
   "cell_type": "code",
   "execution_count": 1,
   "id": "cd0ca3f5-a53f-4956-997b-4d811535da19",
   "metadata": {},
   "outputs": [],
   "source": [
    "import numpy as np\n",
    "import seaborn as sns\n",
    "import pandas as pd\n",
    "from scipy import stats\n",
    "from sklearn.preprocessing import StandardScaler\n",
    "import matplotlib.pyplot as plt\n",
    "%matplotlib inline"
   ]
  },
  {
   "cell_type": "markdown",
   "id": "81d83588-58da-46a5-a7ab-6a295cdf78d8",
   "metadata": {},
   "source": [
    "# データ準備"
   ]
  },
  {
   "cell_type": "code",
   "execution_count": 2,
   "id": "22fd265c-43b0-4dd4-a616-32f325d838a2",
   "metadata": {},
   "outputs": [],
   "source": [
    "df = sns.load_dataset('tips')\n",
    "\n",
    "df['tip_rate'] = df['tip'] / df['total_bill']"
   ]
  },
  {
   "cell_type": "code",
   "execution_count": 3,
   "id": "9e6b04db-6584-4bc3-9958-ddf6e1285227",
   "metadata": {},
   "outputs": [
    {
     "data": {
      "text/plain": [
       "Index(['total_bill', 'tip', 'sex', 'smoker', 'day', 'time', 'size',\n",
       "       'tip_rate'],\n",
       "      dtype='object')"
      ]
     },
     "execution_count": 3,
     "metadata": {},
     "output_type": "execute_result"
    }
   ],
   "source": [
    "df.columns"
   ]
  },
  {
   "cell_type": "code",
   "execution_count": 4,
   "id": "c56a6548-540f-412c-9931-d94818ec1b24",
   "metadata": {},
   "outputs": [
    {
     "data": {
      "text/html": [
       "<div>\n",
       "<style scoped>\n",
       "    .dataframe tbody tr th:only-of-type {\n",
       "        vertical-align: middle;\n",
       "    }\n",
       "\n",
       "    .dataframe tbody tr th {\n",
       "        vertical-align: top;\n",
       "    }\n",
       "\n",
       "    .dataframe thead th {\n",
       "        text-align: right;\n",
       "    }\n",
       "</style>\n",
       "<table border=\"1\" class=\"dataframe\">\n",
       "  <thead>\n",
       "    <tr style=\"text-align: right;\">\n",
       "      <th></th>\n",
       "      <th>total_bill</th>\n",
       "      <th>tip</th>\n",
       "      <th>sex</th>\n",
       "      <th>smoker</th>\n",
       "      <th>day</th>\n",
       "      <th>time</th>\n",
       "      <th>size</th>\n",
       "      <th>tip_rate</th>\n",
       "    </tr>\n",
       "  </thead>\n",
       "  <tbody>\n",
       "    <tr>\n",
       "      <th>0</th>\n",
       "      <td>16.99</td>\n",
       "      <td>1.01</td>\n",
       "      <td>Female</td>\n",
       "      <td>No</td>\n",
       "      <td>Sun</td>\n",
       "      <td>Dinner</td>\n",
       "      <td>2</td>\n",
       "      <td>0.059447</td>\n",
       "    </tr>\n",
       "    <tr>\n",
       "      <th>1</th>\n",
       "      <td>10.34</td>\n",
       "      <td>1.66</td>\n",
       "      <td>Male</td>\n",
       "      <td>No</td>\n",
       "      <td>Sun</td>\n",
       "      <td>Dinner</td>\n",
       "      <td>3</td>\n",
       "      <td>0.160542</td>\n",
       "    </tr>\n",
       "    <tr>\n",
       "      <th>2</th>\n",
       "      <td>21.01</td>\n",
       "      <td>3.50</td>\n",
       "      <td>Male</td>\n",
       "      <td>No</td>\n",
       "      <td>Sun</td>\n",
       "      <td>Dinner</td>\n",
       "      <td>3</td>\n",
       "      <td>0.166587</td>\n",
       "    </tr>\n",
       "    <tr>\n",
       "      <th>3</th>\n",
       "      <td>23.68</td>\n",
       "      <td>3.31</td>\n",
       "      <td>Male</td>\n",
       "      <td>No</td>\n",
       "      <td>Sun</td>\n",
       "      <td>Dinner</td>\n",
       "      <td>2</td>\n",
       "      <td>0.139780</td>\n",
       "    </tr>\n",
       "    <tr>\n",
       "      <th>4</th>\n",
       "      <td>24.59</td>\n",
       "      <td>3.61</td>\n",
       "      <td>Female</td>\n",
       "      <td>No</td>\n",
       "      <td>Sun</td>\n",
       "      <td>Dinner</td>\n",
       "      <td>4</td>\n",
       "      <td>0.146808</td>\n",
       "    </tr>\n",
       "  </tbody>\n",
       "</table>\n",
       "</div>"
      ],
      "text/plain": [
       "   total_bill   tip     sex smoker  day    time  size  tip_rate\n",
       "0       16.99  1.01  Female     No  Sun  Dinner     2  0.059447\n",
       "1       10.34  1.66    Male     No  Sun  Dinner     3  0.160542\n",
       "2       21.01  3.50    Male     No  Sun  Dinner     3  0.166587\n",
       "3       23.68  3.31    Male     No  Sun  Dinner     2  0.139780\n",
       "4       24.59  3.61  Female     No  Sun  Dinner     4  0.146808"
      ]
     },
     "execution_count": 4,
     "metadata": {},
     "output_type": "execute_result"
    }
   ],
   "source": [
    "df.head()"
   ]
  },
  {
   "cell_type": "code",
   "execution_count": 5,
   "id": "5d0e4974-5fca-47f7-ba9d-26769709edce",
   "metadata": {},
   "outputs": [
    {
     "data": {
      "text/plain": [
       "'0.11.1'"
      ]
     },
     "execution_count": 5,
     "metadata": {},
     "output_type": "execute_result"
    }
   ],
   "source": [
    "sns.__version__"
   ]
  },
  {
   "cell_type": "markdown",
   "id": "2203d51a-1e4e-41dc-ab9f-e26a35d44f79",
   "metadata": {},
   "source": [
    "# ヒストグラムで連続変数の分布を描画する"
   ]
  },
  {
   "cell_type": "code",
   "execution_count": 6,
   "id": "3565d009-0638-4766-af7d-ac949e53d9fa",
   "metadata": {},
   "outputs": [
    {
     "data": {
      "text/plain": [
       "<seaborn.axisgrid.FacetGrid at 0x4032244a00>"
      ]
     },
     "execution_count": 6,
     "metadata": {},
     "output_type": "execute_result"
    },
    {
     "data": {
      "image/png": "[encoded data removed]",
      "text/plain": [
       "<Figure size 360x360 with 1 Axes>"
      ]
     },
     "metadata": {
      "needs_background": "light"
     },
     "output_type": "display_data"
    }
   ],
   "source": [
    "sns.displot(df['tip'], kde = False)"
   ]
  },
  {
   "cell_type": "markdown",
   "id": "40f3aa75-d6c2-4705-b97b-7b7db3ae0773",
   "metadata": {},
   "source": [
    "#　棒グラフでカテゴリ変数を描画する"
   ]
  },
  {
   "cell_type": "code",
   "execution_count": 7,
   "id": "c5665043-31c8-4529-8389-fc761b90e1a9",
   "metadata": {},
   "outputs": [
    {
     "data": {
      "text/plain": [
       "<seaborn.axisgrid.FacetGrid at 0x404fed3130>"
      ]
     },
     "execution_count": 7,
     "metadata": {},
     "output_type": "execute_result"
    },
    {
     "data": {
      "image/png": "[encoded data removed]",
      "text/plain": [
       "<Figure size 360x360 with 1 Axes>"
      ]
     },
     "metadata": {
      "needs_background": "light"
     },
     "output_type": "display_data"
    }
   ],
   "source": [
    "sns.catplot(x= 'time', data = df, kind= 'count')"
   ]
  },
  {
   "cell_type": "markdown",
   "id": "a8c90aec-74a6-477f-8331-32f0aedaa922",
   "metadata": {},
   "source": [
    "# 平均値"
   ]
  },
  {
   "cell_type": "code",
   "execution_count": 8,
   "id": "6e1f90d1-1915-42b7-9470-b917cf3bf608",
   "metadata": {},
   "outputs": [
    {
     "data": {
      "text/plain": [
       "2.0"
      ]
     },
     "execution_count": 8,
     "metadata": {},
     "output_type": "execute_result"
    }
   ],
   "source": [
    "\n",
    "np.mean([1, 2, 3])"
   ]
  },
  {
   "cell_type": "code",
   "execution_count": 9,
   "id": "46929916-b3d7-4bee-8b59-651ee208f615",
   "metadata": {},
   "outputs": [
    {
     "data": {
      "text/html": [
       "<div>\n",
       "<style scoped>\n",
       "    .dataframe tbody tr th:only-of-type {\n",
       "        vertical-align: middle;\n",
       "    }\n",
       "\n",
       "    .dataframe tbody tr th {\n",
       "        vertical-align: top;\n",
       "    }\n",
       "\n",
       "    .dataframe thead th {\n",
       "        text-align: right;\n",
       "    }\n",
       "</style>\n",
       "<table border=\"1\" class=\"dataframe\">\n",
       "  <thead>\n",
       "    <tr style=\"text-align: right;\">\n",
       "      <th></th>\n",
       "      <th>total_bill</th>\n",
       "      <th>tip</th>\n",
       "      <th>sex</th>\n",
       "      <th>smoker</th>\n",
       "      <th>day</th>\n",
       "      <th>time</th>\n",
       "      <th>size</th>\n",
       "      <th>tip_rate</th>\n",
       "    </tr>\n",
       "  </thead>\n",
       "  <tbody>\n",
       "    <tr>\n",
       "      <th>0</th>\n",
       "      <td>16.99</td>\n",
       "      <td>1.01</td>\n",
       "      <td>Female</td>\n",
       "      <td>No</td>\n",
       "      <td>Sun</td>\n",
       "      <td>Dinner</td>\n",
       "      <td>2</td>\n",
       "      <td>0.059447</td>\n",
       "    </tr>\n",
       "    <tr>\n",
       "      <th>1</th>\n",
       "      <td>10.34</td>\n",
       "      <td>1.66</td>\n",
       "      <td>Male</td>\n",
       "      <td>No</td>\n",
       "      <td>Sun</td>\n",
       "      <td>Dinner</td>\n",
       "      <td>3</td>\n",
       "      <td>0.160542</td>\n",
       "    </tr>\n",
       "    <tr>\n",
       "      <th>2</th>\n",
       "      <td>21.01</td>\n",
       "      <td>3.50</td>\n",
       "      <td>Male</td>\n",
       "      <td>No</td>\n",
       "      <td>Sun</td>\n",
       "      <td>Dinner</td>\n",
       "      <td>3</td>\n",
       "      <td>0.166587</td>\n",
       "    </tr>\n",
       "    <tr>\n",
       "      <th>3</th>\n",
       "      <td>23.68</td>\n",
       "      <td>3.31</td>\n",
       "      <td>Male</td>\n",
       "      <td>No</td>\n",
       "      <td>Sun</td>\n",
       "      <td>Dinner</td>\n",
       "      <td>2</td>\n",
       "      <td>0.139780</td>\n",
       "    </tr>\n",
       "    <tr>\n",
       "      <th>4</th>\n",
       "      <td>24.59</td>\n",
       "      <td>3.61</td>\n",
       "      <td>Female</td>\n",
       "      <td>No</td>\n",
       "      <td>Sun</td>\n",
       "      <td>Dinner</td>\n",
       "      <td>4</td>\n",
       "      <td>0.146808</td>\n",
       "    </tr>\n",
       "  </tbody>\n",
       "</table>\n",
       "</div>"
      ],
      "text/plain": [
       "   total_bill   tip     sex smoker  day    time  size  tip_rate\n",
       "0       16.99  1.01  Female     No  Sun  Dinner     2  0.059447\n",
       "1       10.34  1.66    Male     No  Sun  Dinner     3  0.160542\n",
       "2       21.01  3.50    Male     No  Sun  Dinner     3  0.166587\n",
       "3       23.68  3.31    Male     No  Sun  Dinner     2  0.139780\n",
       "4       24.59  3.61  Female     No  Sun  Dinner     4  0.146808"
      ]
     },
     "execution_count": 9,
     "metadata": {},
     "output_type": "execute_result"
    }
   ],
   "source": [
    "df.head()"
   ]
  },
  {
   "cell_type": "code",
   "execution_count": 10,
   "id": "926fe035-7789-4ae7-8a6f-51aff92a3fec",
   "metadata": {},
   "outputs": [
    {
     "data": {
      "text/plain": [
       "0.16080258172250478"
      ]
     },
     "execution_count": 10,
     "metadata": {},
     "output_type": "execute_result"
    }
   ],
   "source": [
    "np.mean(df['tip_rate'])"
   ]
  },
  {
   "cell_type": "code",
   "execution_count": 11,
   "id": "293c5ab2-e6bc-4a34-a2ae-f87913c4261b",
   "metadata": {},
   "outputs": [
    {
     "data": {
      "text/plain": [
       "0.16080258172250478"
      ]
     },
     "execution_count": 11,
     "metadata": {},
     "output_type": "execute_result"
    }
   ],
   "source": [
    "df['tip_rate'].mean()"
   ]
  },
  {
   "cell_type": "markdown",
   "id": "1e6a78f4-a785-480e-a39d-05c0968aced8",
   "metadata": {},
   "source": [
    "## groupbyはとても便利"
   ]
  },
  {
   "cell_type": "code",
   "execution_count": 12,
   "id": "553b3ba0-4383-44c2-b1d3-5e51b14c54f2",
   "metadata": {},
   "outputs": [
    {
     "data": {
      "text/html": [
       "<div>\n",
       "<style scoped>\n",
       "    .dataframe tbody tr th:only-of-type {\n",
       "        vertical-align: middle;\n",
       "    }\n",
       "\n",
       "    .dataframe tbody tr th {\n",
       "        vertical-align: top;\n",
       "    }\n",
       "\n",
       "    .dataframe thead th {\n",
       "        text-align: right;\n",
       "    }\n",
       "</style>\n",
       "<table border=\"1\" class=\"dataframe\">\n",
       "  <thead>\n",
       "    <tr style=\"text-align: right;\">\n",
       "      <th></th>\n",
       "      <th>total_bill</th>\n",
       "      <th>tip</th>\n",
       "      <th>size</th>\n",
       "      <th>tip_rate</th>\n",
       "    </tr>\n",
       "    <tr>\n",
       "      <th>sex</th>\n",
       "      <th></th>\n",
       "      <th></th>\n",
       "      <th></th>\n",
       "      <th></th>\n",
       "    </tr>\n",
       "  </thead>\n",
       "  <tbody>\n",
       "    <tr>\n",
       "      <th>Male</th>\n",
       "      <td>20.744076</td>\n",
       "      <td>3.089618</td>\n",
       "      <td>2.630573</td>\n",
       "      <td>0.157651</td>\n",
       "    </tr>\n",
       "    <tr>\n",
       "      <th>Female</th>\n",
       "      <td>18.056897</td>\n",
       "      <td>2.833448</td>\n",
       "      <td>2.459770</td>\n",
       "      <td>0.166491</td>\n",
       "    </tr>\n",
       "  </tbody>\n",
       "</table>\n",
       "</div>"
      ],
      "text/plain": [
       "        total_bill       tip      size  tip_rate\n",
       "sex                                             \n",
       "Male     20.744076  3.089618  2.630573  0.157651\n",
       "Female   18.056897  2.833448  2.459770  0.166491"
      ]
     },
     "execution_count": 12,
     "metadata": {},
     "output_type": "execute_result"
    }
   ],
   "source": [
    "df.groupby('sex').mean()"
   ]
  },
  {
   "cell_type": "code",
   "execution_count": 13,
   "id": "135670e0-cc11-470f-b2fc-a138c8829da9",
   "metadata": {},
   "outputs": [
    {
     "data": {
      "text/plain": [
       "sex\n",
       "Male      0.157651\n",
       "Female    0.166491\n",
       "Name: tip_rate, dtype: float64"
      ]
     },
     "execution_count": 13,
     "metadata": {},
     "output_type": "execute_result"
    }
   ],
   "source": [
    "df.groupby('sex').mean()['tip_rate']"
   ]
  },
  {
   "cell_type": "code",
   "execution_count": 14,
   "id": "278fdb67-896c-4a18-a2dd-56765c484670",
   "metadata": {},
   "outputs": [
    {
     "data": {
      "text/plain": [
       "<AxesSubplot:xlabel='sex', ylabel='tip_rate'>"
      ]
     },
     "execution_count": 14,
     "metadata": {},
     "output_type": "execute_result"
    },
    {
     "data": {
      "image/png": "[encoded data removed]",
      "text/plain": [
       "<Figure size 432x288 with 1 Axes>"
      ]
     },
     "metadata": {
      "needs_background": "light"
     },
     "output_type": "display_data"
    }
   ],
   "source": [
    "sns.barplot(x='sex', y='tip_rate', data=df, ci=None)"
   ]
  },
  {
   "cell_type": "markdown",
   "id": "da42d3f6-9d30-4258-a97c-8aa8a7d155ad",
   "metadata": {},
   "source": [
    "# 中央値"
   ]
  },
  {
   "cell_type": "code",
   "execution_count": 15,
   "id": "3c69c0a3-9388-4a80-bce5-b9c9fac7997f",
   "metadata": {},
   "outputs": [
    {
     "data": {
      "text/plain": [
       "0.15476977125802577"
      ]
     },
     "execution_count": 15,
     "metadata": {},
     "output_type": "execute_result"
    }
   ],
   "source": [
    "np.median(df['tip_rate'])"
   ]
  },
  {
   "cell_type": "code",
   "execution_count": 16,
   "id": "27c5493d-ef83-430a-af8b-ce91b1a0362c",
   "metadata": {},
   "outputs": [
    {
     "data": {
      "text/plain": [
       "0      0.059447\n",
       "1      0.160542\n",
       "2      0.166587\n",
       "3      0.139780\n",
       "4      0.146808\n",
       "         ...   \n",
       "239    0.203927\n",
       "240    0.073584\n",
       "241    0.088222\n",
       "242    0.098204\n",
       "243    0.159744\n",
       "Name: tip_rate, Length: 244, dtype: float64"
      ]
     },
     "execution_count": 16,
     "metadata": {},
     "output_type": "execute_result"
    }
   ],
   "source": [
    "df['tip_rate']"
   ]
  },
  {
   "cell_type": "code",
   "execution_count": 17,
   "id": "37f702a1-3a42-42ad-afd2-b3ed9f92101a",
   "metadata": {},
   "outputs": [
    {
     "data": {
      "text/plain": [
       "<seaborn.axisgrid.FacetGrid at 0x4050186d30>"
      ]
     },
     "execution_count": 17,
     "metadata": {},
     "output_type": "execute_result"
    },
    {
     "data": {
      "image/png": "[encoded data removed]",
      "text/plain": [
       "<Figure size 360x360 with 1 Axes>"
      ]
     },
     "metadata": {
      "needs_background": "light"
     },
     "output_type": "display_data"
    }
   ],
   "source": [
    "sns.displot(df['tip_rate'], kde = False)"
   ]
  },
  {
   "cell_type": "code",
   "execution_count": 18,
   "id": "cb4d76e7-c151-4b55-9f52-8042b3332dd0",
   "metadata": {},
   "outputs": [
    {
     "data": {
      "text/plain": [
       "0.15476977125802577"
      ]
     },
     "execution_count": 18,
     "metadata": {},
     "output_type": "execute_result"
    }
   ],
   "source": [
    "df['tip_rate'].median()"
   ]
  },
  {
   "cell_type": "code",
   "execution_count": 19,
   "id": "988ff2c6-087b-449b-9928-01cd1e401b59",
   "metadata": {},
   "outputs": [
    {
     "data": {
      "text/html": [
       "<div>\n",
       "<style scoped>\n",
       "    .dataframe tbody tr th:only-of-type {\n",
       "        vertical-align: middle;\n",
       "    }\n",
       "\n",
       "    .dataframe tbody tr th {\n",
       "        vertical-align: top;\n",
       "    }\n",
       "\n",
       "    .dataframe thead th {\n",
       "        text-align: right;\n",
       "    }\n",
       "</style>\n",
       "<table border=\"1\" class=\"dataframe\">\n",
       "  <thead>\n",
       "    <tr style=\"text-align: right;\">\n",
       "      <th></th>\n",
       "      <th>total_bill</th>\n",
       "      <th>tip</th>\n",
       "      <th>size</th>\n",
       "      <th>tip_rate</th>\n",
       "    </tr>\n",
       "    <tr>\n",
       "      <th>sex</th>\n",
       "      <th></th>\n",
       "      <th></th>\n",
       "      <th></th>\n",
       "      <th></th>\n",
       "    </tr>\n",
       "  </thead>\n",
       "  <tbody>\n",
       "    <tr>\n",
       "      <th>Male</th>\n",
       "      <td>18.35</td>\n",
       "      <td>3.00</td>\n",
       "      <td>2</td>\n",
       "      <td>0.153492</td>\n",
       "    </tr>\n",
       "    <tr>\n",
       "      <th>Female</th>\n",
       "      <td>16.40</td>\n",
       "      <td>2.75</td>\n",
       "      <td>2</td>\n",
       "      <td>0.155581</td>\n",
       "    </tr>\n",
       "  </tbody>\n",
       "</table>\n",
       "</div>"
      ],
      "text/plain": [
       "        total_bill   tip  size  tip_rate\n",
       "sex                                     \n",
       "Male         18.35  3.00     2  0.153492\n",
       "Female       16.40  2.75     2  0.155581"
      ]
     },
     "execution_count": 19,
     "metadata": {},
     "output_type": "execute_result"
    }
   ],
   "source": [
    "df.groupby('sex').median()"
   ]
  },
  {
   "cell_type": "code",
   "execution_count": 20,
   "id": "de7b3b5b-3f85-4ebd-b610-652df82a6e56",
   "metadata": {},
   "outputs": [
    {
     "data": {
      "text/plain": [
       "<AxesSubplot:xlabel='sex', ylabel='tip_rate'>"
      ]
     },
     "execution_count": 20,
     "metadata": {},
     "output_type": "execute_result"
    },
    {
     "data": {
      "image/png": "[encoded data removed]",
      "text/plain": [
       "<Figure size 432x288 with 1 Axes>"
      ]
     },
     "metadata": {
      "needs_background": "light"
     },
     "output_type": "display_data"
    }
   ],
   "source": [
    "sns.barplot(data=df, x=\"sex\", y=\"tip_rate\", estimator= np.median, ci=None)"
   ]
  },
  {
   "cell_type": "code",
   "execution_count": 21,
   "id": "27ed6f75-6b97-4d68-bc22-8efd0c5445df",
   "metadata": {},
   "outputs": [
    {
     "data": {
      "text/html": [
       "<div>\n",
       "<style scoped>\n",
       "    .dataframe tbody tr th:only-of-type {\n",
       "        vertical-align: middle;\n",
       "    }\n",
       "\n",
       "    .dataframe tbody tr th {\n",
       "        vertical-align: top;\n",
       "    }\n",
       "\n",
       "    .dataframe thead th {\n",
       "        text-align: right;\n",
       "    }\n",
       "</style>\n",
       "<table border=\"1\" class=\"dataframe\">\n",
       "  <thead>\n",
       "    <tr style=\"text-align: right;\">\n",
       "      <th></th>\n",
       "      <th>total_bill</th>\n",
       "      <th>tip</th>\n",
       "      <th>sex</th>\n",
       "      <th>smoker</th>\n",
       "      <th>day</th>\n",
       "      <th>time</th>\n",
       "      <th>size</th>\n",
       "      <th>tip_rate</th>\n",
       "    </tr>\n",
       "  </thead>\n",
       "  <tbody>\n",
       "    <tr>\n",
       "      <th>237</th>\n",
       "      <td>32.83</td>\n",
       "      <td>1.17</td>\n",
       "      <td>Male</td>\n",
       "      <td>Yes</td>\n",
       "      <td>Sat</td>\n",
       "      <td>Dinner</td>\n",
       "      <td>2</td>\n",
       "      <td>0.035638</td>\n",
       "    </tr>\n",
       "    <tr>\n",
       "      <th>102</th>\n",
       "      <td>44.30</td>\n",
       "      <td>2.50</td>\n",
       "      <td>Female</td>\n",
       "      <td>Yes</td>\n",
       "      <td>Sat</td>\n",
       "      <td>Dinner</td>\n",
       "      <td>3</td>\n",
       "      <td>0.056433</td>\n",
       "    </tr>\n",
       "    <tr>\n",
       "      <th>57</th>\n",
       "      <td>26.41</td>\n",
       "      <td>1.50</td>\n",
       "      <td>Female</td>\n",
       "      <td>No</td>\n",
       "      <td>Sat</td>\n",
       "      <td>Dinner</td>\n",
       "      <td>2</td>\n",
       "      <td>0.056797</td>\n",
       "    </tr>\n",
       "    <tr>\n",
       "      <th>0</th>\n",
       "      <td>16.99</td>\n",
       "      <td>1.01</td>\n",
       "      <td>Female</td>\n",
       "      <td>No</td>\n",
       "      <td>Sun</td>\n",
       "      <td>Dinner</td>\n",
       "      <td>2</td>\n",
       "      <td>0.059447</td>\n",
       "    </tr>\n",
       "    <tr>\n",
       "      <th>187</th>\n",
       "      <td>30.46</td>\n",
       "      <td>2.00</td>\n",
       "      <td>Male</td>\n",
       "      <td>Yes</td>\n",
       "      <td>Sun</td>\n",
       "      <td>Dinner</td>\n",
       "      <td>5</td>\n",
       "      <td>0.065660</td>\n",
       "    </tr>\n",
       "    <tr>\n",
       "      <th>...</th>\n",
       "      <td>...</td>\n",
       "      <td>...</td>\n",
       "      <td>...</td>\n",
       "      <td>...</td>\n",
       "      <td>...</td>\n",
       "      <td>...</td>\n",
       "      <td>...</td>\n",
       "      <td>...</td>\n",
       "    </tr>\n",
       "    <tr>\n",
       "      <th>183</th>\n",
       "      <td>23.17</td>\n",
       "      <td>6.50</td>\n",
       "      <td>Male</td>\n",
       "      <td>Yes</td>\n",
       "      <td>Sun</td>\n",
       "      <td>Dinner</td>\n",
       "      <td>4</td>\n",
       "      <td>0.280535</td>\n",
       "    </tr>\n",
       "    <tr>\n",
       "      <th>232</th>\n",
       "      <td>11.61</td>\n",
       "      <td>3.39</td>\n",
       "      <td>Male</td>\n",
       "      <td>No</td>\n",
       "      <td>Sat</td>\n",
       "      <td>Dinner</td>\n",
       "      <td>2</td>\n",
       "      <td>0.291990</td>\n",
       "    </tr>\n",
       "    <tr>\n",
       "      <th>67</th>\n",
       "      <td>3.07</td>\n",
       "      <td>1.00</td>\n",
       "      <td>Female</td>\n",
       "      <td>Yes</td>\n",
       "      <td>Sat</td>\n",
       "      <td>Dinner</td>\n",
       "      <td>1</td>\n",
       "      <td>0.325733</td>\n",
       "    </tr>\n",
       "    <tr>\n",
       "      <th>178</th>\n",
       "      <td>9.60</td>\n",
       "      <td>4.00</td>\n",
       "      <td>Female</td>\n",
       "      <td>Yes</td>\n",
       "      <td>Sun</td>\n",
       "      <td>Dinner</td>\n",
       "      <td>2</td>\n",
       "      <td>0.416667</td>\n",
       "    </tr>\n",
       "    <tr>\n",
       "      <th>172</th>\n",
       "      <td>7.25</td>\n",
       "      <td>5.15</td>\n",
       "      <td>Male</td>\n",
       "      <td>Yes</td>\n",
       "      <td>Sun</td>\n",
       "      <td>Dinner</td>\n",
       "      <td>2</td>\n",
       "      <td>0.710345</td>\n",
       "    </tr>\n",
       "  </tbody>\n",
       "</table>\n",
       "<p>244 rows × 8 columns</p>\n",
       "</div>"
      ],
      "text/plain": [
       "     total_bill   tip     sex smoker  day    time  size  tip_rate\n",
       "237       32.83  1.17    Male    Yes  Sat  Dinner     2  0.035638\n",
       "102       44.30  2.50  Female    Yes  Sat  Dinner     3  0.056433\n",
       "57        26.41  1.50  Female     No  Sat  Dinner     2  0.056797\n",
       "0         16.99  1.01  Female     No  Sun  Dinner     2  0.059447\n",
       "187       30.46  2.00    Male    Yes  Sun  Dinner     5  0.065660\n",
       "..          ...   ...     ...    ...  ...     ...   ...       ...\n",
       "183       23.17  6.50    Male    Yes  Sun  Dinner     4  0.280535\n",
       "232       11.61  3.39    Male     No  Sat  Dinner     2  0.291990\n",
       "67         3.07  1.00  Female    Yes  Sat  Dinner     1  0.325733\n",
       "178        9.60  4.00  Female    Yes  Sun  Dinner     2  0.416667\n",
       "172        7.25  5.15    Male    Yes  Sun  Dinner     2  0.710345\n",
       "\n",
       "[244 rows x 8 columns]"
      ]
     },
     "execution_count": 21,
     "metadata": {},
     "output_type": "execute_result"
    }
   ],
   "source": [
    "df.sort_values('tip_rate', ascending=True)"
   ]
  },
  {
   "cell_type": "markdown",
   "id": "d0d7a785-5a1a-47d3-92e6-8c32584dc906",
   "metadata": {},
   "source": [
    "# 最頻値"
   ]
  },
  {
   "cell_type": "code",
   "execution_count": 22,
   "id": "c2eb107f-2100-467a-88e3-81d33368ec69",
   "metadata": {},
   "outputs": [
    {
     "name": "stdout",
     "output_type": "stream",
     "text": [
      "mode:[[13.42 2.0 'Male' 'No' 'Sat' 'Dinner' 2 0.1448225923244026]]\n",
      "count:[[  3  33 157 151  87 176 156   2]]\n"
     ]
    }
   ],
   "source": [
    "mode, count = stats.mode(df)\n",
    "\n",
    "print(f'mode:{mode}')\n",
    "print(f'count:{count}')"
   ]
  },
  {
   "cell_type": "code",
   "execution_count": 23,
   "id": "da786ec4-4ae0-4af7-8242-cac911c55821",
   "metadata": {},
   "outputs": [
    {
     "data": {
      "text/plain": [
       "0    2\n",
       "dtype: int64"
      ]
     },
     "execution_count": 23,
     "metadata": {},
     "output_type": "execute_result"
    }
   ],
   "source": [
    "df['size'].mode()"
   ]
  },
  {
   "cell_type": "code",
   "execution_count": 24,
   "id": "acbf5713-7bb8-46e5-b415-2953c827b334",
   "metadata": {},
   "outputs": [
    {
     "name": "stdout",
     "output_type": "stream",
     "text": [
      "mode:[2]\n",
      "count:[156]\n"
     ]
    }
   ],
   "source": [
    "mode, count = stats.mode(df['size'])\n",
    "\n",
    "print(f'mode:{mode}')\n",
    "print(f'count:{count}')"
   ]
  },
  {
   "cell_type": "code",
   "execution_count": 25,
   "id": "565dc974-644b-45f4-af81-b5af22fd6f99",
   "metadata": {},
   "outputs": [
    {
     "name": "stdout",
     "output_type": "stream",
     "text": [
      "mode:[0.14482259]\n",
      "count:[2]\n"
     ]
    }
   ],
   "source": [
    "mode, count = stats.mode(df['tip_rate'])\n",
    "\n",
    "print(f'mode:{mode}')\n",
    "print(f'count:{count}')"
   ]
  },
  {
   "cell_type": "code",
   "execution_count": 26,
   "id": "0148115d-7b46-40e5-ba47-1ebf283373b9",
   "metadata": {},
   "outputs": [],
   "source": [
    "# 範囲（Range）"
   ]
  },
  {
   "cell_type": "code",
   "execution_count": 27,
   "id": "90178523-0beb-4807-8a2c-ea3bfaac8493",
   "metadata": {},
   "outputs": [
    {
     "data": {
      "text/plain": [
       "1.0"
      ]
     },
     "execution_count": 27,
     "metadata": {},
     "output_type": "execute_result"
    }
   ],
   "source": [
    "np.min(df['tip'])"
   ]
  },
  {
   "cell_type": "code",
   "execution_count": 28,
   "id": "0a5e8b88-56cb-4ae0-a3c4-64694222cf4d",
   "metadata": {},
   "outputs": [
    {
     "data": {
      "text/plain": [
       "1.0"
      ]
     },
     "execution_count": 28,
     "metadata": {},
     "output_type": "execute_result"
    }
   ],
   "source": [
    "df['tip'].min()"
   ]
  },
  {
   "cell_type": "code",
   "execution_count": 29,
   "id": "3eeb180d-3bb9-4937-b644-6b5d197b2df4",
   "metadata": {},
   "outputs": [
    {
     "data": {
      "text/html": [
       "<div>\n",
       "<style scoped>\n",
       "    .dataframe tbody tr th:only-of-type {\n",
       "        vertical-align: middle;\n",
       "    }\n",
       "\n",
       "    .dataframe tbody tr th {\n",
       "        vertical-align: top;\n",
       "    }\n",
       "\n",
       "    .dataframe thead th {\n",
       "        text-align: right;\n",
       "    }\n",
       "</style>\n",
       "<table border=\"1\" class=\"dataframe\">\n",
       "  <thead>\n",
       "    <tr style=\"text-align: right;\">\n",
       "      <th></th>\n",
       "      <th>total_bill</th>\n",
       "      <th>tip</th>\n",
       "      <th>size</th>\n",
       "      <th>tip_rate</th>\n",
       "    </tr>\n",
       "    <tr>\n",
       "      <th>sex</th>\n",
       "      <th></th>\n",
       "      <th></th>\n",
       "      <th></th>\n",
       "      <th></th>\n",
       "    </tr>\n",
       "  </thead>\n",
       "  <tbody>\n",
       "    <tr>\n",
       "      <th>Male</th>\n",
       "      <td>7.25</td>\n",
       "      <td>1.0</td>\n",
       "      <td>1</td>\n",
       "      <td>0.035638</td>\n",
       "    </tr>\n",
       "    <tr>\n",
       "      <th>Female</th>\n",
       "      <td>3.07</td>\n",
       "      <td>1.0</td>\n",
       "      <td>1</td>\n",
       "      <td>0.056433</td>\n",
       "    </tr>\n",
       "  </tbody>\n",
       "</table>\n",
       "</div>"
      ],
      "text/plain": [
       "        total_bill  tip  size  tip_rate\n",
       "sex                                    \n",
       "Male          7.25  1.0     1  0.035638\n",
       "Female        3.07  1.0     1  0.056433"
      ]
     },
     "execution_count": 29,
     "metadata": {},
     "output_type": "execute_result"
    }
   ],
   "source": [
    "df.groupby('sex').min()"
   ]
  },
  {
   "cell_type": "code",
   "execution_count": 30,
   "id": "ae77671f-c952-40f0-894c-d33b6cfd41f9",
   "metadata": {},
   "outputs": [
    {
     "data": {
      "text/plain": [
       "10.0"
      ]
     },
     "execution_count": 30,
     "metadata": {},
     "output_type": "execute_result"
    }
   ],
   "source": [
    "np.max(df['tip'])"
   ]
  },
  {
   "cell_type": "code",
   "execution_count": 31,
   "id": "86e15900-814a-4976-9063-84451401c25c",
   "metadata": {},
   "outputs": [
    {
     "data": {
      "text/plain": [
       "10.0"
      ]
     },
     "execution_count": 31,
     "metadata": {},
     "output_type": "execute_result"
    }
   ],
   "source": [
    "df['tip'].max()"
   ]
  },
  {
   "cell_type": "code",
   "execution_count": 32,
   "id": "4fdd7acc-04ec-4dac-8af8-bde04e1b7570",
   "metadata": {},
   "outputs": [
    {
     "data": {
      "text/html": [
       "<div>\n",
       "<style scoped>\n",
       "    .dataframe tbody tr th:only-of-type {\n",
       "        vertical-align: middle;\n",
       "    }\n",
       "\n",
       "    .dataframe tbody tr th {\n",
       "        vertical-align: top;\n",
       "    }\n",
       "\n",
       "    .dataframe thead th {\n",
       "        text-align: right;\n",
       "    }\n",
       "</style>\n",
       "<table border=\"1\" class=\"dataframe\">\n",
       "  <thead>\n",
       "    <tr style=\"text-align: right;\">\n",
       "      <th></th>\n",
       "      <th>total_bill</th>\n",
       "      <th>tip</th>\n",
       "      <th>size</th>\n",
       "      <th>tip_rate</th>\n",
       "    </tr>\n",
       "    <tr>\n",
       "      <th>sex</th>\n",
       "      <th></th>\n",
       "      <th></th>\n",
       "      <th></th>\n",
       "      <th></th>\n",
       "    </tr>\n",
       "  </thead>\n",
       "  <tbody>\n",
       "    <tr>\n",
       "      <th>Male</th>\n",
       "      <td>50.81</td>\n",
       "      <td>10.0</td>\n",
       "      <td>6</td>\n",
       "      <td>0.710345</td>\n",
       "    </tr>\n",
       "    <tr>\n",
       "      <th>Female</th>\n",
       "      <td>44.30</td>\n",
       "      <td>6.5</td>\n",
       "      <td>6</td>\n",
       "      <td>0.416667</td>\n",
       "    </tr>\n",
       "  </tbody>\n",
       "</table>\n",
       "</div>"
      ],
      "text/plain": [
       "        total_bill   tip  size  tip_rate\n",
       "sex                                     \n",
       "Male         50.81  10.0     6  0.710345\n",
       "Female       44.30   6.5     6  0.416667"
      ]
     },
     "execution_count": 32,
     "metadata": {},
     "output_type": "execute_result"
    }
   ],
   "source": [
    "df.groupby('sex').max()"
   ]
  },
  {
   "cell_type": "markdown",
   "id": "08a0aff9-36ec-4ffb-9446-80550410fcc4",
   "metadata": {},
   "source": [
    "# 四分位数"
   ]
  },
  {
   "cell_type": "code",
   "execution_count": 33,
   "id": "baffdf19-1d6e-47f6-a5c3-05263f508afd",
   "metadata": {},
   "outputs": [
    {
     "data": {
      "text/plain": [
       "array([0.12912736, 0.15476977, 0.19147549])"
      ]
     },
     "execution_count": 33,
     "metadata": {},
     "output_type": "execute_result"
    }
   ],
   "source": [
    "np.quantile(df['tip_rate'], [0.25, 0.50, 0.75])"
   ]
  },
  {
   "cell_type": "code",
   "execution_count": 34,
   "id": "c81b523d-79f2-478c-81a2-fb0914f5f840",
   "metadata": {},
   "outputs": [
    {
     "data": {
      "text/plain": [
       "0.25    0.129127\n",
       "0.50    0.154770\n",
       "0.75    0.191475\n",
       "Name: tip_rate, dtype: float64"
      ]
     },
     "execution_count": 34,
     "metadata": {},
     "output_type": "execute_result"
    }
   ],
   "source": [
    "df['tip_rate'].quantile([0.25, 0.50, 0.75])"
   ]
  },
  {
   "cell_type": "code",
   "execution_count": 35,
   "id": "d602f37a-d468-4e82-b2c1-78e1c90b113e",
   "metadata": {},
   "outputs": [
    {
     "data": {
      "text/plain": [
       "0.06234812458689151"
      ]
     },
     "execution_count": 35,
     "metadata": {},
     "output_type": "execute_result"
    }
   ],
   "source": [
    "stats.iqr(df['tip_rate'])"
   ]
  },
  {
   "cell_type": "code",
   "execution_count": 36,
   "id": "1b4c1d63-4fad-4ae0-83ab-b85c49b20063",
   "metadata": {},
   "outputs": [
    {
     "data": {
      "text/plain": [
       "0.062348000000000015"
      ]
     },
     "execution_count": 36,
     "metadata": {},
     "output_type": "execute_result"
    }
   ],
   "source": [
    "0.191475 - 0.129127"
   ]
  },
  {
   "cell_type": "markdown",
   "id": "fbabf19f-38ae-459d-91c6-0c9bcaa42224",
   "metadata": {},
   "source": [
    "## QD"
   ]
  },
  {
   "cell_type": "code",
   "execution_count": 37,
   "id": "bf3adbfd-a799-41ee-840c-05f119ebaa5d",
   "metadata": {},
   "outputs": [
    {
     "data": {
      "text/plain": [
       "0.031174062293445756"
      ]
     },
     "execution_count": 37,
     "metadata": {},
     "output_type": "execute_result"
    }
   ],
   "source": [
    "stats.iqr(df['tip_rate']) / 2"
   ]
  },
  {
   "cell_type": "code",
   "execution_count": 38,
   "id": "8ffdb13f-a17e-4a80-9866-367eafa08a35",
   "metadata": {},
   "outputs": [
    {
     "data": {
      "image/png": "[encoded data removed]",
      "text/plain": [
       "<Figure size 432x288 with 1 Axes>"
      ]
     },
     "metadata": {
      "needs_background": "light"
     },
     "output_type": "display_data"
    }
   ],
   "source": [
    "plt.boxplot(df['tip_rate'])\n",
    "plt.show()"
   ]
  },
  {
   "cell_type": "code",
   "execution_count": 39,
   "id": "55b6eb36-f47d-4356-8c69-80ee05b07e7b",
   "metadata": {},
   "outputs": [
    {
     "data": {
      "text/plain": [
       "<AxesSubplot:xlabel='size', ylabel='tip_rate'>"
      ]
     },
     "execution_count": 39,
     "metadata": {},
     "output_type": "execute_result"
    },
    {
     "data": {
      "image/png": "[encoded data removed]",
      "text/plain": [
       "<Figure size 432x288 with 1 Axes>"
      ]
     },
     "metadata": {
      "needs_background": "light"
     },
     "output_type": "display_data"
    }
   ],
   "source": [
    "sns.boxplot(x= 'size', y= 'tip_rate', data= df)"
   ]
  },
  {
   "cell_type": "markdown",
   "id": "2e101f9c-5ec3-42ea-bf77-9b508cd1ff7e",
   "metadata": {},
   "source": [
    "# 分散と標準偏差"
   ]
  },
  {
   "cell_type": "markdown",
   "id": "15cb5b8b-499d-4cee-b617-1ddc41b33201",
   "metadata": {},
   "source": [
    "## 分散"
   ]
  },
  {
   "cell_type": "code",
   "execution_count": 40,
   "id": "1558b594-b1fe-4fad-b021-f2a19ae82a1d",
   "metadata": {},
   "outputs": [
    {
     "data": {
      "text/plain": [
       "2.9166666666666665"
      ]
     },
     "execution_count": 40,
     "metadata": {},
     "output_type": "execute_result"
    }
   ],
   "source": [
    "np.var([1, 2, 3, 4, 5, 6, ])"
   ]
  },
  {
   "cell_type": "code",
   "execution_count": 41,
   "id": "7bfb1155-814c-48b0-b4d6-933139d89387",
   "metadata": {},
   "outputs": [
    {
     "data": {
      "text/plain": [
       "0.0037145280013546928"
      ]
     },
     "execution_count": 41,
     "metadata": {},
     "output_type": "execute_result"
    }
   ],
   "source": [
    "np.var(df['tip_rate'])"
   ]
  },
  {
   "cell_type": "markdown",
   "id": "dadf3c56-2ab2-4fe7-b177-0855a7e480c1",
   "metadata": {},
   "source": [
    "## 標準偏差"
   ]
  },
  {
   "cell_type": "code",
   "execution_count": 42,
   "id": "77964a1d-40a4-41b3-bd0c-cd623e57cac8",
   "metadata": {},
   "outputs": [
    {
     "data": {
      "text/plain": [
       "1.3807999538298958"
      ]
     },
     "execution_count": 42,
     "metadata": {},
     "output_type": "execute_result"
    }
   ],
   "source": [
    "tip_std = np.std(df['tip'])\n",
    "tip_std"
   ]
  },
  {
   "cell_type": "code",
   "execution_count": 43,
   "id": "705ce184-fcf4-4f4e-a90f-91324be4b224",
   "metadata": {},
   "outputs": [
    {
     "data": {
      "text/plain": [
       "1.3807999538298958"
      ]
     },
     "execution_count": 43,
     "metadata": {},
     "output_type": "execute_result"
    }
   ],
   "source": [
    "np.sqrt(np.var(df['tip']))"
   ]
  },
  {
   "cell_type": "code",
   "execution_count": 44,
   "id": "01f17428-6822-4c9a-812f-b0610bc27ac4",
   "metadata": {},
   "outputs": [],
   "source": [
    "tip_mean = df['tip'].mean()"
   ]
  },
  {
   "cell_type": "code",
   "execution_count": 45,
   "id": "d77020ea-b26e-4929-b2bd-0bbfd06b7944",
   "metadata": {},
   "outputs": [
    {
     "data": {
      "text/plain": [
       "2.9982786885245902"
      ]
     },
     "execution_count": 45,
     "metadata": {},
     "output_type": "execute_result"
    }
   ],
   "source": [
    "tip_mean"
   ]
  },
  {
   "cell_type": "markdown",
   "id": "fada3977-e268-4278-9b49-6a09bbfdcbe5",
   "metadata": {},
   "source": [
    "## 大体の予測する場合"
   ]
  },
  {
   "cell_type": "markdown",
   "id": "c80e1239-fc43-4393-a3e1-45f260cc21c2",
   "metadata": {},
   "source": [
    "約３分の2"
   ]
  },
  {
   "cell_type": "code",
   "execution_count": 46,
   "id": "bbc52bcb-69cd-4215-bd03-bd7da3502c62",
   "metadata": {},
   "outputs": [
    {
     "data": {
      "text/plain": [
       "4.379078642354486"
      ]
     },
     "execution_count": 46,
     "metadata": {},
     "output_type": "execute_result"
    }
   ],
   "source": [
    "tip_mean + tip_std"
   ]
  },
  {
   "cell_type": "code",
   "execution_count": 47,
   "id": "1cf4f4ef-bd71-4c8a-9170-3b75c0256984",
   "metadata": {},
   "outputs": [
    {
     "data": {
      "text/plain": [
       "1.6174787346946944"
      ]
     },
     "execution_count": 47,
     "metadata": {},
     "output_type": "execute_result"
    }
   ],
   "source": [
    "tip_mean - tip_std"
   ]
  },
  {
   "cell_type": "markdown",
   "id": "4b4a1090-6506-4db8-ab24-aac220107341",
   "metadata": {},
   "source": [
    "95％"
   ]
  },
  {
   "cell_type": "code",
   "execution_count": 48,
   "id": "785efae8-c50c-496e-abe0-0f81e826ca72",
   "metadata": {},
   "outputs": [
    {
     "data": {
      "text/plain": [
       "5.759878596184382"
      ]
     },
     "execution_count": 48,
     "metadata": {},
     "output_type": "execute_result"
    }
   ],
   "source": [
    "tip_mean + (2 * tip_std)"
   ]
  },
  {
   "cell_type": "code",
   "execution_count": 49,
   "id": "6edb1acd-c8bb-420c-b3c1-e12bb81fdbfd",
   "metadata": {},
   "outputs": [
    {
     "data": {
      "text/plain": [
       "0.23667878086479854"
      ]
     },
     "execution_count": 49,
     "metadata": {},
     "output_type": "execute_result"
    }
   ],
   "source": [
    "tip_mean - (2 * tip_std)"
   ]
  },
  {
   "cell_type": "markdown",
   "id": "a36e6b6d-a6b6-436c-9668-5514b4d29320",
   "metadata": {},
   "source": [
    "95%から100%"
   ]
  },
  {
   "cell_type": "code",
   "execution_count": 50,
   "id": "cdb64de5-2aa0-4ed1-8746-90211ed85e75",
   "metadata": {},
   "outputs": [
    {
     "data": {
      "text/plain": [
       "7.140678550014278"
      ]
     },
     "execution_count": 50,
     "metadata": {},
     "output_type": "execute_result"
    }
   ],
   "source": [
    "tip_mean + (3 * tip_std)"
   ]
  },
  {
   "cell_type": "code",
   "execution_count": 51,
   "id": "12797a4e-8084-4451-a346-da7a50f8dbd3",
   "metadata": {},
   "outputs": [
    {
     "data": {
      "text/plain": [
       "-1.1441211729650975"
      ]
     },
     "execution_count": 51,
     "metadata": {},
     "output_type": "execute_result"
    }
   ],
   "source": [
    "tip_mean - (3 * tip_std)"
   ]
  },
  {
   "cell_type": "markdown",
   "id": "84016358-3091-4023-bfb8-6c6faa83d6a8",
   "metadata": {},
   "source": [
    "# 共分散"
   ]
  },
  {
   "cell_type": "code",
   "execution_count": 52,
   "id": "b12daf0c-8dc2-47cf-a839-b01ec66fe9d9",
   "metadata": {},
   "outputs": [
    {
     "data": {
      "text/plain": [
       "array([[ 0.66666667,  6.66666667],\n",
       "       [ 6.66666667, 66.88888889]])"
      ]
     },
     "execution_count": 52,
     "metadata": {},
     "output_type": "execute_result"
    }
   ],
   "source": [
    "np.cov([1, 2, 3], [-4, 5, 16], rowvar=False, bias=True)"
   ]
  },
  {
   "cell_type": "code",
   "execution_count": 53,
   "id": "3c75ce29-f6bf-424a-b07b-e48bbc7c2958",
   "metadata": {},
   "outputs": [
    {
     "data": {
      "text/html": [
       "<div>\n",
       "<style scoped>\n",
       "    .dataframe tbody tr th:only-of-type {\n",
       "        vertical-align: middle;\n",
       "    }\n",
       "\n",
       "    .dataframe tbody tr th {\n",
       "        vertical-align: top;\n",
       "    }\n",
       "\n",
       "    .dataframe thead th {\n",
       "        text-align: right;\n",
       "    }\n",
       "</style>\n",
       "<table border=\"1\" class=\"dataframe\">\n",
       "  <thead>\n",
       "    <tr style=\"text-align: right;\">\n",
       "      <th></th>\n",
       "      <th>total_bill</th>\n",
       "      <th>tip</th>\n",
       "      <th>sex</th>\n",
       "      <th>smoker</th>\n",
       "      <th>day</th>\n",
       "      <th>time</th>\n",
       "      <th>size</th>\n",
       "      <th>tip_rate</th>\n",
       "    </tr>\n",
       "  </thead>\n",
       "  <tbody>\n",
       "    <tr>\n",
       "      <th>0</th>\n",
       "      <td>16.99</td>\n",
       "      <td>1.01</td>\n",
       "      <td>Female</td>\n",
       "      <td>No</td>\n",
       "      <td>Sun</td>\n",
       "      <td>Dinner</td>\n",
       "      <td>2</td>\n",
       "      <td>0.059447</td>\n",
       "    </tr>\n",
       "    <tr>\n",
       "      <th>1</th>\n",
       "      <td>10.34</td>\n",
       "      <td>1.66</td>\n",
       "      <td>Male</td>\n",
       "      <td>No</td>\n",
       "      <td>Sun</td>\n",
       "      <td>Dinner</td>\n",
       "      <td>3</td>\n",
       "      <td>0.160542</td>\n",
       "    </tr>\n",
       "    <tr>\n",
       "      <th>2</th>\n",
       "      <td>21.01</td>\n",
       "      <td>3.50</td>\n",
       "      <td>Male</td>\n",
       "      <td>No</td>\n",
       "      <td>Sun</td>\n",
       "      <td>Dinner</td>\n",
       "      <td>3</td>\n",
       "      <td>0.166587</td>\n",
       "    </tr>\n",
       "    <tr>\n",
       "      <th>3</th>\n",
       "      <td>23.68</td>\n",
       "      <td>3.31</td>\n",
       "      <td>Male</td>\n",
       "      <td>No</td>\n",
       "      <td>Sun</td>\n",
       "      <td>Dinner</td>\n",
       "      <td>2</td>\n",
       "      <td>0.139780</td>\n",
       "    </tr>\n",
       "    <tr>\n",
       "      <th>4</th>\n",
       "      <td>24.59</td>\n",
       "      <td>3.61</td>\n",
       "      <td>Female</td>\n",
       "      <td>No</td>\n",
       "      <td>Sun</td>\n",
       "      <td>Dinner</td>\n",
       "      <td>4</td>\n",
       "      <td>0.146808</td>\n",
       "    </tr>\n",
       "  </tbody>\n",
       "</table>\n",
       "</div>"
      ],
      "text/plain": [
       "   total_bill   tip     sex smoker  day    time  size  tip_rate\n",
       "0       16.99  1.01  Female     No  Sun  Dinner     2  0.059447\n",
       "1       10.34  1.66    Male     No  Sun  Dinner     3  0.160542\n",
       "2       21.01  3.50    Male     No  Sun  Dinner     3  0.166587\n",
       "3       23.68  3.31    Male     No  Sun  Dinner     2  0.139780\n",
       "4       24.59  3.61  Female     No  Sun  Dinner     4  0.146808"
      ]
     },
     "execution_count": 53,
     "metadata": {},
     "output_type": "execute_result"
    }
   ],
   "source": [
    "df.head()"
   ]
  },
  {
   "cell_type": "code",
   "execution_count": 54,
   "id": "4b416f87-94cc-4235-abb2-ffc990f6f902",
   "metadata": {},
   "outputs": [
    {
     "data": {
      "text/plain": [
       "array([[78.92813149,  8.28938892],\n",
       "       [ 8.28938892,  1.90660851]])"
      ]
     },
     "execution_count": 54,
     "metadata": {},
     "output_type": "execute_result"
    }
   ],
   "source": [
    "np.cov(df['total_bill'], df['tip'], bias=True)"
   ]
  },
  {
   "cell_type": "code",
   "execution_count": 55,
   "id": "979e0828-88f3-49c5-91b4-38c0631617c7",
   "metadata": {},
   "outputs": [],
   "source": [
    "x = np.stack([df['total_bill'], df['tip'], df['size']], axis=0)"
   ]
  },
  {
   "cell_type": "code",
   "execution_count": 56,
   "id": "54f5feb1-423e-42ec-9458-64f5913014b1",
   "metadata": {},
   "outputs": [
    {
     "data": {
      "text/plain": [
       "array([[78.92813149,  8.28938892,  5.04522121],\n",
       "       [ 8.28938892,  1.90660851,  0.64126747],\n",
       "       [ 5.04522121,  0.64126747,  0.9008835 ]])"
      ]
     },
     "execution_count": 56,
     "metadata": {},
     "output_type": "execute_result"
    }
   ],
   "source": [
    "np.cov(x, bias=True)"
   ]
  },
  {
   "cell_type": "markdown",
   "id": "659ac571-d24e-4529-84c2-71dd55e82fde",
   "metadata": {},
   "source": [
    "df.cov()は不偏分散と普遍共分散で表示される"
   ]
  },
  {
   "cell_type": "code",
   "execution_count": 57,
   "id": "45342090-2a77-450f-bdf7-ab08f40ca8ba",
   "metadata": {},
   "outputs": [
    {
     "data": {
      "text/html": [
       "<div>\n",
       "<style scoped>\n",
       "    .dataframe tbody tr th:only-of-type {\n",
       "        vertical-align: middle;\n",
       "    }\n",
       "\n",
       "    .dataframe tbody tr th {\n",
       "        vertical-align: top;\n",
       "    }\n",
       "\n",
       "    .dataframe thead th {\n",
       "        text-align: right;\n",
       "    }\n",
       "</style>\n",
       "<table border=\"1\" class=\"dataframe\">\n",
       "  <thead>\n",
       "    <tr style=\"text-align: right;\">\n",
       "      <th></th>\n",
       "      <th>total_bill</th>\n",
       "      <th>tip</th>\n",
       "      <th>size</th>\n",
       "      <th>tip_rate</th>\n",
       "    </tr>\n",
       "  </thead>\n",
       "  <tbody>\n",
       "    <tr>\n",
       "      <th>total_bill</th>\n",
       "      <td>79.252939</td>\n",
       "      <td>8.323502</td>\n",
       "      <td>5.065983</td>\n",
       "      <td>-0.184107</td>\n",
       "    </tr>\n",
       "    <tr>\n",
       "      <th>tip</th>\n",
       "      <td>8.323502</td>\n",
       "      <td>1.914455</td>\n",
       "      <td>0.643906</td>\n",
       "      <td>0.028931</td>\n",
       "    </tr>\n",
       "    <tr>\n",
       "      <th>size</th>\n",
       "      <td>5.065983</td>\n",
       "      <td>0.643906</td>\n",
       "      <td>0.904591</td>\n",
       "      <td>-0.008298</td>\n",
       "    </tr>\n",
       "    <tr>\n",
       "      <th>tip_rate</th>\n",
       "      <td>-0.184107</td>\n",
       "      <td>0.028931</td>\n",
       "      <td>-0.008298</td>\n",
       "      <td>0.003730</td>\n",
       "    </tr>\n",
       "  </tbody>\n",
       "</table>\n",
       "</div>"
      ],
      "text/plain": [
       "            total_bill       tip      size  tip_rate\n",
       "total_bill   79.252939  8.323502  5.065983 -0.184107\n",
       "tip           8.323502  1.914455  0.643906  0.028931\n",
       "size          5.065983  0.643906  0.904591 -0.008298\n",
       "tip_rate     -0.184107  0.028931 -0.008298  0.003730"
      ]
     },
     "execution_count": 57,
     "metadata": {},
     "output_type": "execute_result"
    }
   ],
   "source": [
    "df.cov()"
   ]
  },
  {
   "cell_type": "markdown",
   "id": "863dba9d-606f-449b-ab1c-75b7c05aac5e",
   "metadata": {},
   "source": [
    "# 相関行列"
   ]
  },
  {
   "cell_type": "code",
   "execution_count": 58,
   "id": "2fcd581f-f893-4bdb-ac1a-aa2e4c3c3c01",
   "metadata": {},
   "outputs": [
    {
     "data": {
      "text/plain": [
       "array([[1.        , 0.89104211],\n",
       "       [0.89104211, 1.        ]])"
      ]
     },
     "execution_count": 58,
     "metadata": {},
     "output_type": "execute_result"
    }
   ],
   "source": [
    "np.corrcoef([1, 4, 5], [5, 6, 8])"
   ]
  },
  {
   "cell_type": "code",
   "execution_count": 59,
   "id": "c3e1e8b8-4d0f-44fd-82f8-7644093ddca0",
   "metadata": {},
   "outputs": [
    {
     "data": {
      "text/plain": [
       "array([[1.        , 0.67573411],\n",
       "       [0.67573411, 1.        ]])"
      ]
     },
     "execution_count": 59,
     "metadata": {},
     "output_type": "execute_result"
    }
   ],
   "source": [
    "np.corrcoef(df['total_bill'], df['tip'])"
   ]
  },
  {
   "cell_type": "code",
   "execution_count": 60,
   "id": "2ec73bfa-3ff5-479d-a8a9-aeb36c8807fc",
   "metadata": {},
   "outputs": [
    {
     "data": {
      "text/plain": [
       "array([[1.        , 0.67573411, 0.59831513],\n",
       "       [0.67573411, 1.        , 0.48929878],\n",
       "       [0.59831513, 0.48929878, 1.        ]])"
      ]
     },
     "execution_count": 60,
     "metadata": {},
     "output_type": "execute_result"
    }
   ],
   "source": [
    "x = np.stack([df['total_bill'], df['tip'], df['size']], axis=0)\n",
    "np.corrcoef(x)"
   ]
  },
  {
   "cell_type": "code",
   "execution_count": 61,
   "id": "e0907c10-06f9-406e-a9fd-9457832d1ce2",
   "metadata": {},
   "outputs": [
    {
     "data": {
      "text/html": [
       "<div>\n",
       "<style scoped>\n",
       "    .dataframe tbody tr th:only-of-type {\n",
       "        vertical-align: middle;\n",
       "    }\n",
       "\n",
       "    .dataframe tbody tr th {\n",
       "        vertical-align: top;\n",
       "    }\n",
       "\n",
       "    .dataframe thead th {\n",
       "        text-align: right;\n",
       "    }\n",
       "</style>\n",
       "<table border=\"1\" class=\"dataframe\">\n",
       "  <thead>\n",
       "    <tr style=\"text-align: right;\">\n",
       "      <th></th>\n",
       "      <th>total_bill</th>\n",
       "      <th>tip</th>\n",
       "      <th>size</th>\n",
       "      <th>tip_rate</th>\n",
       "    </tr>\n",
       "  </thead>\n",
       "  <tbody>\n",
       "    <tr>\n",
       "      <th>total_bill</th>\n",
       "      <td>1.000000</td>\n",
       "      <td>0.675734</td>\n",
       "      <td>0.598315</td>\n",
       "      <td>-0.338624</td>\n",
       "    </tr>\n",
       "    <tr>\n",
       "      <th>tip</th>\n",
       "      <td>0.675734</td>\n",
       "      <td>1.000000</td>\n",
       "      <td>0.489299</td>\n",
       "      <td>0.342370</td>\n",
       "    </tr>\n",
       "    <tr>\n",
       "      <th>size</th>\n",
       "      <td>0.598315</td>\n",
       "      <td>0.489299</td>\n",
       "      <td>1.000000</td>\n",
       "      <td>-0.142860</td>\n",
       "    </tr>\n",
       "    <tr>\n",
       "      <th>tip_rate</th>\n",
       "      <td>-0.338624</td>\n",
       "      <td>0.342370</td>\n",
       "      <td>-0.142860</td>\n",
       "      <td>1.000000</td>\n",
       "    </tr>\n",
       "  </tbody>\n",
       "</table>\n",
       "</div>"
      ],
      "text/plain": [
       "            total_bill       tip      size  tip_rate\n",
       "total_bill    1.000000  0.675734  0.598315 -0.338624\n",
       "tip           0.675734  1.000000  0.489299  0.342370\n",
       "size          0.598315  0.489299  1.000000 -0.142860\n",
       "tip_rate     -0.338624  0.342370 -0.142860  1.000000"
      ]
     },
     "execution_count": 61,
     "metadata": {},
     "output_type": "execute_result"
    }
   ],
   "source": [
    "df.corr()"
   ]
  },
  {
   "cell_type": "code",
   "execution_count": 62,
   "id": "1d0cc0e2-4578-4188-8630-4ca5b2d0f6d4",
   "metadata": {},
   "outputs": [
    {
     "data": {
      "text/plain": [
       "<AxesSubplot:>"
      ]
     },
     "execution_count": 62,
     "metadata": {},
     "output_type": "execute_result"
    },
    {
     "data": {
      "image/png": "[encoded data removed]",
      "text/plain": [
       "<Figure size 432x288 with 2 Axes>"
      ]
     },
     "metadata": {
      "needs_background": "light"
     },
     "output_type": "display_data"
    }
   ],
   "source": [
    "sns.heatmap(df.corr(), cmap='coolwarm', annot=True)"
   ]
  },
  {
   "cell_type": "markdown",
   "id": "38de51da-619b-4990-8cd7-9577655c5bd8",
   "metadata": {},
   "source": [
    "# 連関 "
   ]
  },
  {
   "cell_type": "code",
   "execution_count": 63,
   "id": "69167a3b-c241-4300-aa06-1875b974675f",
   "metadata": {},
   "outputs": [
    {
     "data": {
      "text/html": [
       "<div>\n",
       "<style scoped>\n",
       "    .dataframe tbody tr th:only-of-type {\n",
       "        vertical-align: middle;\n",
       "    }\n",
       "\n",
       "    .dataframe tbody tr th {\n",
       "        vertical-align: top;\n",
       "    }\n",
       "\n",
       "    .dataframe thead th {\n",
       "        text-align: right;\n",
       "    }\n",
       "</style>\n",
       "<table border=\"1\" class=\"dataframe\">\n",
       "  <thead>\n",
       "    <tr style=\"text-align: right;\">\n",
       "      <th>time</th>\n",
       "      <th>Lunch</th>\n",
       "      <th>Dinner</th>\n",
       "    </tr>\n",
       "    <tr>\n",
       "      <th>sex</th>\n",
       "      <th></th>\n",
       "      <th></th>\n",
       "    </tr>\n",
       "  </thead>\n",
       "  <tbody>\n",
       "    <tr>\n",
       "      <th>Male</th>\n",
       "      <td>33</td>\n",
       "      <td>124</td>\n",
       "    </tr>\n",
       "    <tr>\n",
       "      <th>Female</th>\n",
       "      <td>35</td>\n",
       "      <td>52</td>\n",
       "    </tr>\n",
       "  </tbody>\n",
       "</table>\n",
       "</div>"
      ],
      "text/plain": [
       "time    Lunch  Dinner\n",
       "sex                  \n",
       "Male       33     124\n",
       "Female     35      52"
      ]
     },
     "execution_count": 63,
     "metadata": {},
     "output_type": "execute_result"
    }
   ],
   "source": [
    "pd.crosstab(df['sex'], df['time'])"
   ]
  },
  {
   "cell_type": "code",
   "execution_count": 64,
   "id": "2a94148a-1818-4417-b939-5c367c1a5a16",
   "metadata": {},
   "outputs": [
    {
     "data": {
      "text/plain": [
       "(10.277251918677742,\n",
       " 0.0013468039268008766,\n",
       " 1,\n",
       " array([[ 43.75409836, 113.24590164],\n",
       "        [ 24.24590164,  62.75409836]]))"
      ]
     },
     "execution_count": 64,
     "metadata": {},
     "output_type": "execute_result"
    }
   ],
   "source": [
    "cont_table = pd.crosstab(df['sex'], df['time'])\n",
    "stats.chi2_contingency(cont_table, correction=False)"
   ]
  },
  {
   "cell_type": "markdown",
   "id": "9d4b882c-a133-4ab8-b689-04c7869f273e",
   "metadata": {},
   "source": [
    "# クラメールの連関係数 "
   ]
  },
  {
   "cell_type": "code",
   "execution_count": 65,
   "id": "90ef30ad-d275-4081-b42b-8eccbbfb28f0",
   "metadata": {},
   "outputs": [],
   "source": [
    "chi_2 = stats.chi2_contingency(cont_table, correction=False)[0]"
   ]
  },
  {
   "cell_type": "code",
   "execution_count": 66,
   "id": "a9451be5-4797-4721-936c-4318866ebebb",
   "metadata": {},
   "outputs": [
    {
     "data": {
      "text/plain": [
       "2"
      ]
     },
     "execution_count": 66,
     "metadata": {},
     "output_type": "execute_result"
    }
   ],
   "source": [
    "len(cont_table)"
   ]
  },
  {
   "cell_type": "code",
   "execution_count": 67,
   "id": "3a670f3a-76cf-4dd4-87f0-3e273bdf9e16",
   "metadata": {},
   "outputs": [],
   "source": [
    "def cramers_v(x, y):\n",
    "    cont_table = pd.crosstab(x, y)\n",
    "    chi_2 = stats.chi2_contingency(cont_table, correction=False)[0]\n",
    "    min_d = min(cont_table.shape) - 1\n",
    "    n = len(x)\n",
    "    v = np.sqrt(chi_2 / (min_d * n))\n",
    "    return v"
   ]
  },
  {
   "cell_type": "code",
   "execution_count": 68,
   "id": "c0fefb09-cbd9-466f-8182-c5d0cdee08bb",
   "metadata": {},
   "outputs": [
    {
     "data": {
      "text/plain": [
       "0.20523129613344476"
      ]
     },
     "execution_count": 68,
     "metadata": {},
     "output_type": "execute_result"
    }
   ],
   "source": [
    "cramers_v(df['sex'], df['time'])"
   ]
  },
  {
   "cell_type": "markdown",
   "id": "c08af8fc-2ef5-4236-99b2-ddb870ffdd9e",
   "metadata": {},
   "source": [
    "# 確率分布 "
   ]
  },
  {
   "cell_type": "code",
   "execution_count": 69,
   "id": "634010a6-599f-42a2-ae63-44a2e3c7d6af",
   "metadata": {},
   "outputs": [
    {
     "data": {
      "text/plain": [
       "3"
      ]
     },
     "execution_count": 69,
     "metadata": {},
     "output_type": "execute_result"
    }
   ],
   "source": [
    "# random variates: 確率変量\n",
    "stats.randint.rvs(1, 7)"
   ]
  },
  {
   "cell_type": "code",
   "execution_count": 70,
   "id": "f8d8d8bb-1675-4581-8f5b-5a28793e8d48",
   "metadata": {},
   "outputs": [
    {
     "data": {
      "text/plain": [
       "0.48308471725148794"
      ]
     },
     "execution_count": 70,
     "metadata": {},
     "output_type": "execute_result"
    }
   ],
   "source": [
    "stats.uniform.rvs(0, 1)"
   ]
  },
  {
   "cell_type": "markdown",
   "id": "f5b63f19-1e48-4e55-9bed-1f9bd6551360",
   "metadata": {},
   "source": [
    "# 確立分布の描画 "
   ]
  },
  {
   "cell_type": "code",
   "execution_count": 71,
   "id": "f4eaefff-480c-4841-8846-44cd682beabf",
   "metadata": {},
   "outputs": [],
   "source": [
    "def simple_func(x):\n",
    "    return x **2 + 3"
   ]
  },
  {
   "cell_type": "code",
   "execution_count": 72,
   "id": "98b7a3e4-bb47-451f-92e3-270ca7ef4d25",
   "metadata": {},
   "outputs": [
    {
     "data": {
      "text/plain": [
       "7"
      ]
     },
     "execution_count": 72,
     "metadata": {},
     "output_type": "execute_result"
    }
   ],
   "source": [
    "simple_func(2)"
   ]
  },
  {
   "cell_type": "code",
   "execution_count": 73,
   "id": "fd6475cb-116a-4a14-a4c2-58e21962020f",
   "metadata": {},
   "outputs": [],
   "source": [
    "# x = np.linspace(-3, 3, 100)\n",
    "x = np.arange(-3, 4)\n",
    "y = simple_func(x)"
   ]
  },
  {
   "cell_type": "code",
   "execution_count": 74,
   "id": "8df466d0-12ea-4b02-bde7-b72ddce515bb",
   "metadata": {},
   "outputs": [
    {
     "data": {
      "text/plain": [
       "array([-3, -2, -1,  0,  1,  2,  3])"
      ]
     },
     "execution_count": 74,
     "metadata": {},
     "output_type": "execute_result"
    }
   ],
   "source": [
    "x"
   ]
  },
  {
   "cell_type": "code",
   "execution_count": 75,
   "id": "7be234b1-f508-4a66-8deb-556f78e73ec4",
   "metadata": {},
   "outputs": [
    {
     "data": {
      "text/plain": [
       "[<matplotlib.lines.Line2D at 0x4053278a90>]"
      ]
     },
     "execution_count": 75,
     "metadata": {},
     "output_type": "execute_result"
    },
    {
     "data": {
      "image/png": "[encoded data removed]",
      "text/plain": [
       "<Figure size 432x288 with 1 Axes>"
      ]
     },
     "metadata": {
      "needs_background": "light"
     },
     "output_type": "display_data"
    }
   ],
   "source": [
    "plt.plot(x, y)"
   ]
  },
  {
   "cell_type": "code",
   "execution_count": 76,
   "id": "339f4f38-d275-4720-baa0-06e3cef72c4c",
   "metadata": {},
   "outputs": [
    {
     "data": {
      "text/plain": [
       "array([12,  7,  4,  3,  4,  7, 12])"
      ]
     },
     "execution_count": 76,
     "metadata": {},
     "output_type": "execute_result"
    }
   ],
   "source": [
    "y"
   ]
  },
  {
   "cell_type": "markdown",
   "id": "a42247cb-72f2-4618-9213-f7dbda7db4b0",
   "metadata": {},
   "source": [
    "## 離散型確率分布 "
   ]
  },
  {
   "cell_type": "code",
   "execution_count": 77,
   "id": "eb130a2c-3bc4-4810-8d8c-fc1a214e7655",
   "metadata": {},
   "outputs": [
    {
     "data": {
      "text/plain": [
       "<matplotlib.collections.LineCollection at 0x4053454c70>"
      ]
     },
     "execution_count": 77,
     "metadata": {},
     "output_type": "execute_result"
    },
    {
     "data": {
      "image/png": "[encoded data removed]",
      "text/plain": [
       "<Figure size 432x288 with 1 Axes>"
      ]
     },
     "metadata": {
      "needs_background": "light"
     },
     "output_type": "display_data"
    }
   ],
   "source": [
    "x = np.arange(1, 7)\n",
    "y = stats.randint(1, 7).pmf(x)\n",
    "plt.plot(x, y, 'o')\n",
    "plt.vlines(x, 0, y)"
   ]
  },
  {
   "cell_type": "markdown",
   "id": "85a67d32-f972-4dda-8586-0d48adeb69b1",
   "metadata": {},
   "source": [
    "## 連続型確率分布"
   ]
  },
  {
   "cell_type": "code",
   "execution_count": 78,
   "id": "6a2c18e4-ae9b-4cf4-8f1c-7ad70483d891",
   "metadata": {},
   "outputs": [
    {
     "data": {
      "text/plain": [
       "[<matplotlib.lines.Line2D at 0x40535f0d90>]"
      ]
     },
     "execution_count": 78,
     "metadata": {},
     "output_type": "execute_result"
    },
    {
     "data": {
      "image/png": "[encoded data removed]",
      "text/plain": [
       "<Figure size 432x288 with 1 Axes>"
      ]
     },
     "metadata": {
      "needs_background": "light"
     },
     "output_type": "display_data"
    }
   ],
   "source": [
    "x = np.linspace(-2, 2, 100)\n",
    "y = stats.uniform(loc=0, scale=1).pdf(x)\n",
    "plt.plot(x, y)"
   ]
  },
  {
   "cell_type": "code",
   "execution_count": 79,
   "id": "04e70188-5431-4a1a-ac9a-5f012a9c5873",
   "metadata": {},
   "outputs": [
    {
     "data": {
      "text/plain": [
       "array([0., 0., 0., 0., 0., 0., 0., 0., 0., 0., 0., 0., 0., 0., 0., 0., 0.,\n",
       "       0., 0., 0., 0., 0., 0., 0., 0., 0., 0., 0., 0., 0., 0., 0., 0., 0.,\n",
       "       0., 0., 0., 0., 0., 0., 0., 0., 0., 0., 0., 0., 0., 0., 0., 0., 1.,\n",
       "       1., 1., 1., 1., 1., 1., 1., 1., 1., 1., 1., 1., 1., 1., 1., 1., 1.,\n",
       "       1., 1., 1., 1., 1., 1., 1., 0., 0., 0., 0., 0., 0., 0., 0., 0., 0.,\n",
       "       0., 0., 0., 0., 0., 0., 0., 0., 0., 0., 0., 0., 0., 0., 0.])"
      ]
     },
     "execution_count": 79,
     "metadata": {},
     "output_type": "execute_result"
    }
   ],
   "source": [
    "y"
   ]
  },
  {
   "cell_type": "markdown",
   "id": "eaf36d18-a3d3-4bba-b429-2f0a4fd98923",
   "metadata": {},
   "source": [
    "# CDF "
   ]
  },
  {
   "cell_type": "code",
   "execution_count": 80,
   "id": "7e0e3e9a-4665-425e-97b9-72f7186d0df4",
   "metadata": {},
   "outputs": [
    {
     "data": {
      "text/plain": [
       "[<matplotlib.lines.Line2D at 0x40538996a0>]"
      ]
     },
     "execution_count": 80,
     "metadata": {},
     "output_type": "execute_result"
    },
    {
     "data": {
      "image/png": "[encoded data removed]",
      "text/plain": [
       "<Figure size 432x288 with 1 Axes>"
      ]
     },
     "metadata": {
      "needs_background": "light"
     },
     "output_type": "display_data"
    }
   ],
   "source": [
    "x = np.linspace(-3, 3, 100)\n",
    "y = stats.norm.pdf(x)\n",
    "plt.plot(x, y)"
   ]
  },
  {
   "cell_type": "code",
   "execution_count": 81,
   "id": "316dbfd9-7c51-4601-98ca-f5838830cd6a",
   "metadata": {},
   "outputs": [
    {
     "data": {
      "text/plain": [
       "[<matplotlib.lines.Line2D at 0x4053b322e0>]"
      ]
     },
     "execution_count": 81,
     "metadata": {},
     "output_type": "execute_result"
    },
    {
     "data": {
      "image/png": "[encoded data removed]",
      "text/plain": [
       "<Figure size 432x288 with 1 Axes>"
      ]
     },
     "metadata": {
      "needs_background": "light"
     },
     "output_type": "display_data"
    }
   ],
   "source": [
    "y = stats.norm.cdf(x)\n",
    "plt.plot(x, y)\n"
   ]
  },
  {
   "cell_type": "code",
   "execution_count": 82,
   "id": "c553854e-6beb-4fa6-8231-2488ba72d9d9",
   "metadata": {},
   "outputs": [
    {
     "data": {
      "text/plain": [
       "[<matplotlib.lines.Line2D at 0x4051d02f10>]"
      ]
     },
     "execution_count": 82,
     "metadata": {},
     "output_type": "execute_result"
    },
    {
     "data": {
      "image/png": "[encoded data removed]",
      "text/plain": [
       "<Figure size 432x288 with 1 Axes>"
      ]
     },
     "metadata": {
      "needs_background": "light"
     },
     "output_type": "display_data"
    }
   ],
   "source": [
    "y = stats.norm.sf(x)\n",
    "plt.plot(x, y)\n"
   ]
  },
  {
   "cell_type": "markdown",
   "id": "0ab0d51d-2693-4e7f-879c-30142fd09ef0",
   "metadata": {},
   "source": [
    "#　正規分布 "
   ]
  },
  {
   "cell_type": "code",
   "execution_count": 83,
   "id": "bffcb091-e755-478a-9d09-7dbd7451d575",
   "metadata": {},
   "outputs": [
    {
     "data": {
      "text/plain": [
       "[<matplotlib.lines.Line2D at 0x40519e3c10>]"
      ]
     },
     "execution_count": 83,
     "metadata": {},
     "output_type": "execute_result"
    },
    {
     "data": {
      "image/png": "[encoded data removed]",
      "text/plain": [
       "<Figure size 432x288 with 1 Axes>"
      ]
     },
     "metadata": {
      "needs_background": "light"
     },
     "output_type": "display_data"
    }
   ],
   "source": [
    "x = np.linspace(-5, 15, 100)\n",
    "y = stats.norm(loc=10, scale=3).pdf(x)\n",
    "y2 = stats.norm(loc=8, scale=3).pdf(x)\n",
    "y3 = stats.norm(loc=8, scale=1).pdf(x)\n",
    "\n",
    "plt.plot(x, y)\n",
    "plt.plot(x, y2)\n",
    "plt.plot(x, y3)"
   ]
  },
  {
   "cell_type": "code",
   "execution_count": 84,
   "id": "c6476303-cd04-46e3-8afe-e58de8cdddce",
   "metadata": {},
   "outputs": [
    {
     "data": {
      "text/plain": [
       "[<matplotlib.lines.Line2D at 0x4051668400>]"
      ]
     },
     "execution_count": 84,
     "metadata": {},
     "output_type": "execute_result"
    },
    {
     "data": {
      "image/png": "[encoded data removed]",
      "text/plain": [
       "<Figure size 432x288 with 1 Axes>"
      ]
     },
     "metadata": {
      "needs_background": "light"
     },
     "output_type": "display_data"
    }
   ],
   "source": [
    "y = stats.norm.pdf(x)\n",
    "plt.plot(x, y)"
   ]
  },
  {
   "cell_type": "markdown",
   "id": "4ab7179d-f2de-4810-bdd3-96e262367599",
   "metadata": {},
   "source": [
    "#　カーネル密度推定 "
   ]
  },
  {
   "cell_type": "code",
   "execution_count": 85,
   "id": "7353a137-2875-4dee-b065-db5dc0d737d4",
   "metadata": {},
   "outputs": [
    {
     "data": {
      "text/plain": [
       "[<matplotlib.lines.Line2D at 0x4053f7f430>]"
      ]
     },
     "execution_count": 85,
     "metadata": {},
     "output_type": "execute_result"
    },
    {
     "data": {
      "image/png": "[encoded data removed]",
      "text/plain": [
       "<Figure size 432x288 with 1 Axes>"
      ]
     },
     "metadata": {
      "needs_background": "light"
     },
     "output_type": "display_data"
    }
   ],
   "source": [
    "x = np.linspace(-3, 10, 100)\n",
    "y = stats.gaussian_kde([1, 1, 2, 2, 3, 4, 5]).pdf(x)\n",
    "plt.plot(x, y)"
   ]
  },
  {
   "cell_type": "code",
   "execution_count": 86,
   "id": "13f31c1b-da84-4f43-83c2-b75f472727bf",
   "metadata": {},
   "outputs": [
    {
     "data": {
      "text/plain": [
       "<seaborn.axisgrid.FacetGrid at 0x40501862e0>"
      ]
     },
     "execution_count": 86,
     "metadata": {},
     "output_type": "execute_result"
    },
    {
     "data": {
      "image/png": "[encoded data removed]",
      "text/plain": [
       "<Figure size 360x360 with 1 Axes>"
      ]
     },
     "metadata": {
      "needs_background": "light"
     },
     "output_type": "display_data"
    }
   ],
   "source": [
    "sns.displot(df['tip'], kde=True)"
   ]
  },
  {
   "cell_type": "code",
   "execution_count": 87,
   "id": "e40d9fd8-87ff-4258-b0b2-b8b3b4e8ed6d",
   "metadata": {},
   "outputs": [],
   "source": [
    "resample_data = stats.gaussian_kde(df['tip']).resample()"
   ]
  },
  {
   "cell_type": "code",
   "execution_count": 88,
   "id": "a7dad96b-7c7c-490c-8e46-959541d914e4",
   "metadata": {},
   "outputs": [
    {
     "data": {
      "text/plain": [
       "(1, 244)"
      ]
     },
     "execution_count": 88,
     "metadata": {},
     "output_type": "execute_result"
    }
   ],
   "source": [
    "resample_data.shape"
   ]
  },
  {
   "cell_type": "markdown",
   "id": "17a6e3f7-cc52-49bb-8d39-74b00c15fec5",
   "metadata": {},
   "source": [
    "# Chalenge "
   ]
  },
  {
   "cell_type": "code",
   "execution_count": 89,
   "id": "1c0f6cac-9086-4615-9a3f-1df0d3bd8268",
   "metadata": {},
   "outputs": [
    {
     "data": {
      "text/plain": [
       "[<matplotlib.lines.Line2D at 0x40551ded90>]"
      ]
     },
     "execution_count": 89,
     "metadata": {},
     "output_type": "execute_result"
    },
    {
     "data": {
      "image/png": "[encoded data removed]",
      "text/plain": [
       "<Figure size 432x288 with 1 Axes>"
      ]
     },
     "metadata": {
      "needs_background": "light"
     },
     "output_type": "display_data"
    }
   ],
   "source": [
    "x = np.linspace(-5, 15, 1000)\n",
    "y = stats.norm(loc=4, scale=3).pdf(x)\n",
    "plt.plot(x, y)"
   ]
  },
  {
   "cell_type": "code",
   "execution_count": 90,
   "id": "18286c59-8df4-4fb6-870a-e3f05dd82973",
   "metadata": {},
   "outputs": [
    {
     "data": {
      "text/plain": [
       "5.000000000000001"
      ]
     },
     "execution_count": 90,
     "metadata": {},
     "output_type": "execute_result"
    }
   ],
   "source": [
    "x_mean = x.mean()\n",
    "x_mean"
   ]
  },
  {
   "cell_type": "code",
   "execution_count": 91,
   "id": "ea7cdc40-fd5c-4a0f-b93c-b301f2aa7ad9",
   "metadata": {},
   "outputs": [
    {
     "data": {
      "text/plain": [
       "5.779279084228419"
      ]
     },
     "execution_count": 91,
     "metadata": {},
     "output_type": "execute_result"
    }
   ],
   "source": [
    "x_std = x.std()\n",
    "x_std"
   ]
  },
  {
   "cell_type": "code",
   "execution_count": 92,
   "id": "5462db28-ca5a-4a29-bce2-f3ed586443f3",
   "metadata": {},
   "outputs": [
    {
     "data": {
      "text/plain": [
       "10.77927908422842"
      ]
     },
     "execution_count": 92,
     "metadata": {},
     "output_type": "execute_result"
    }
   ],
   "source": [
    "x_mean + x_std"
   ]
  },
  {
   "cell_type": "code",
   "execution_count": 93,
   "id": "22f1af96-724c-4800-9891-753567e7b0ba",
   "metadata": {},
   "outputs": [
    {
     "data": {
      "text/plain": [
       "-0.7792790842284179"
      ]
     },
     "execution_count": 93,
     "metadata": {},
     "output_type": "execute_result"
    }
   ],
   "source": [
    "x_mean - x_std"
   ]
  },
  {
   "cell_type": "code",
   "execution_count": 94,
   "id": "f935fe11-5fb4-4486-bbb0-dd2b50a57e36",
   "metadata": {},
   "outputs": [
    {
     "data": {
      "text/plain": [
       "16.558558168456837"
      ]
     },
     "execution_count": 94,
     "metadata": {},
     "output_type": "execute_result"
    }
   ],
   "source": [
    "x_mean + 2*x_std"
   ]
  },
  {
   "cell_type": "code",
   "execution_count": 95,
   "id": "95f6635a-d5fc-4a32-b20b-2ea5b92acd29",
   "metadata": {},
   "outputs": [
    {
     "data": {
      "text/plain": [
       "-6.558558168456837"
      ]
     },
     "execution_count": 95,
     "metadata": {},
     "output_type": "execute_result"
    }
   ],
   "source": [
    "x_mean - 2*x_std"
   ]
  },
  {
   "cell_type": "markdown",
   "id": "03c1ad73-4762-48a0-8169-235a5d9a60b8",
   "metadata": {},
   "source": [
    "# 68-95-99.7ルール "
   ]
  },
  {
   "cell_type": "code",
   "execution_count": 96,
   "id": "5cd5bdba-655d-4a96-bad6-1be201a47f5c",
   "metadata": {},
   "outputs": [],
   "source": [
    "group1 = []\n",
    "group2 = []\n",
    "group3 = []\n",
    "samples = []\n",
    "\n",
    "loc = 4\n",
    "scale = 3\n",
    "\n",
    "for i in range(1000):\n",
    "    sample = stats.norm(loc=loc, scale=scale).rvs()\n",
    "    if loc-scale < sample < loc+scale:\n",
    "        group1.append(sample)\n",
    "    elif loc-2*scale < sample < loc+2*scale:\n",
    "        group2.append(sample)\n",
    "    elif loc-3*scale < sample < loc+3*scale:\n",
    "        group3.append(sample)\n",
    "    samples.append(sample)"
   ]
  },
  {
   "cell_type": "code",
   "execution_count": 97,
   "id": "ab4db125-c004-43b6-bdfe-2903ccca95a1",
   "metadata": {},
   "outputs": [
    {
     "data": {
      "text/plain": [
       "0.701"
      ]
     },
     "execution_count": 97,
     "metadata": {},
     "output_type": "execute_result"
    }
   ],
   "source": [
    "len(group1)/len(samples)"
   ]
  },
  {
   "cell_type": "code",
   "execution_count": 98,
   "id": "979ef524-891b-4be2-b4a3-5954ad8881d4",
   "metadata": {},
   "outputs": [
    {
     "name": "stdout",
     "output_type": "stream",
     "text": [
      "Group1: 0.701\n",
      "Group2: 0.958\n",
      "Group3: 0.997\n"
     ]
    }
   ],
   "source": [
    "print(f'Group1: {len(group1)/len(samples)}')\n",
    "print(f'Group2: {(len(group1) + len(group2))/len(samples)}')\n",
    "print(f'Group3: {(len(group1) + len(group2) + len(group3))/len(samples)}')"
   ]
  },
  {
   "cell_type": "markdown",
   "id": "e7899b35-25cb-4c8b-b88d-8ae4c9e7f6d2",
   "metadata": {},
   "source": [
    "#　標準化"
   ]
  },
  {
   "cell_type": "code",
   "execution_count": 99,
   "id": "67c5172e-da0b-4de6-ba9f-79220ad081fc",
   "metadata": {},
   "outputs": [],
   "source": [
    "scaler = StandardScaler()"
   ]
  },
  {
   "cell_type": "code",
   "execution_count": 100,
   "id": "3546fe25-e48c-46f7-b956-7adffc13e873",
   "metadata": {},
   "outputs": [],
   "source": [
    "scaled = scaler.fit_transform(df['tip_rate'].values.reshape(-1, 1))"
   ]
  },
  {
   "cell_type": "markdown",
   "id": "31d03529-8ab7-4065-ba91-774eeb98738f",
   "metadata": {},
   "source": [
    "## 偏差値 "
   ]
  },
  {
   "cell_type": "code",
   "execution_count": 101,
   "id": "59d8cc5e-8fff-43eb-8744-7870e4f81d35",
   "metadata": {},
   "outputs": [],
   "source": [
    "# scaled * 10 + 50"
   ]
  },
  {
   "cell_type": "code",
   "execution_count": 102,
   "id": "e8ac7cbd-9abe-46c1-8bbd-205fcdc3ff3d",
   "metadata": {},
   "outputs": [],
   "source": [
    "# scaler.fit_transform(df[['total_bill', 'tip_rate']])"
   ]
  },
  {
   "cell_type": "markdown",
   "id": "a09b155f-aedb-457e-84e5-329e65526573",
   "metadata": {},
   "source": [
    "# 二項分布 "
   ]
  },
  {
   "cell_type": "code",
   "execution_count": 103,
   "id": "4699a9b1-6b74-4397-8cab-b80ac36c6f76",
   "metadata": {},
   "outputs": [
    {
     "data": {
      "text/plain": [
       "<matplotlib.collections.LineCollection at 0x4055a15ca0>"
      ]
     },
     "execution_count": 103,
     "metadata": {},
     "output_type": "execute_result"
    },
    {
     "data": {
      "image/png": "[encoded data removed]",
      "text/plain": [
       "<Figure size 432x288 with 1 Axes>"
      ]
     },
     "metadata": {
      "needs_background": "light"
     },
     "output_type": "display_data"
    }
   ],
   "source": [
    "n = 3\n",
    "x = np.arange(n+1)\n",
    "y = stats.binom(n=n, p=1/6).pmf(x)\n",
    "plt.plot(x, y, 'o')\n",
    "plt.vlines(x, 0, y)"
   ]
  },
  {
   "cell_type": "code",
   "execution_count": 104,
   "id": "a6c73c36-0965-4866-8bfc-747c4c6623ae",
   "metadata": {},
   "outputs": [
    {
     "data": {
      "text/plain": [
       "array([0, 1, 2, 3])"
      ]
     },
     "execution_count": 104,
     "metadata": {},
     "output_type": "execute_result"
    }
   ],
   "source": [
    "x"
   ]
  },
  {
   "cell_type": "code",
   "execution_count": 105,
   "id": "7746e719-c40b-4aa0-9017-b00725fba32e",
   "metadata": {},
   "outputs": [
    {
     "data": {
      "text/plain": [
       "array([0.5787037 , 0.34722222, 0.06944444, 0.00462963])"
      ]
     },
     "execution_count": 105,
     "metadata": {},
     "output_type": "execute_result"
    }
   ],
   "source": [
    "y"
   ]
  },
  {
   "cell_type": "markdown",
   "id": "45a275d6-8f9d-4346-a137-844749360c1f",
   "metadata": {},
   "source": [
    "## 練習問題"
   ]
  },
  {
   "cell_type": "code",
   "execution_count": 106,
   "id": "11b3be93-82e8-4c3c-9a4d-5e0f5b9a60d0",
   "metadata": {},
   "outputs": [
    {
     "data": {
      "text/plain": [
       "<matplotlib.collections.LineCollection at 0x4056804e20>"
      ]
     },
     "execution_count": 106,
     "metadata": {},
     "output_type": "execute_result"
    },
    {
     "data": {
      "image/png": "[encoded data removed]",
      "text/plain": [
       "<Figure size 432x288 with 1 Axes>"
      ]
     },
     "metadata": {
      "needs_background": "light"
     },
     "output_type": "display_data"
    }
   ],
   "source": [
    "n = 100\n",
    "p = 1/6\n",
    "x = np.arange(n+1)\n",
    "y = stats.binom(n=n, p=p).pmf(x)\n",
    "plt.plot(x, y, 'o')\n",
    "plt.vlines(x, 0, y)"
   ]
  },
  {
   "cell_type": "code",
   "execution_count": 107,
   "id": "311f1615-c56a-4d24-b4b7-7292a20c76cd",
   "metadata": {},
   "outputs": [
    {
     "data": {
      "text/plain": [
       "[<matplotlib.lines.Line2D at 0x40568cbfd0>]"
      ]
     },
     "execution_count": 107,
     "metadata": {},
     "output_type": "execute_result"
    },
    {
     "data": {
      "image/png": "[encoded data removed]",
      "text/plain": [
       "<Figure size 432x288 with 1 Axes>"
      ]
     },
     "metadata": {
      "needs_background": "light"
     },
     "output_type": "display_data"
    }
   ],
   "source": [
    "y2 = stats.norm(p*n, np.sqrt(n*p*(1-p))).pdf(x)\n",
    "plt.plot(x, y2)\n",
    "plt.plot(x, y, 'o')"
   ]
  },
  {
   "cell_type": "code",
   "execution_count": 108,
   "id": "4e4139e5-81bf-4d8f-9173-1715ced0c985",
   "metadata": {},
   "outputs": [
    {
     "data": {
      "text/plain": [
       "16.666666666666664"
      ]
     },
     "execution_count": 108,
     "metadata": {},
     "output_type": "execute_result"
    }
   ],
   "source": [
    "p * n"
   ]
  },
  {
   "cell_type": "code",
   "execution_count": 109,
   "id": "ba1f28c8-1a8b-430e-85fa-bb650de5b3a2",
   "metadata": {},
   "outputs": [
    {
     "data": {
      "text/plain": [
       "16.666666666666664"
      ]
     },
     "execution_count": 109,
     "metadata": {},
     "output_type": "execute_result"
    }
   ],
   "source": [
    "# 平均\n",
    "stats.binom(n=n, p=p).mean()"
   ]
  },
  {
   "cell_type": "code",
   "execution_count": 110,
   "id": "5cb3aa28-f98e-457f-a735-51bec83b562f",
   "metadata": {},
   "outputs": [
    {
     "data": {
      "text/plain": [
       "13.888888888888888"
      ]
     },
     "execution_count": 110,
     "metadata": {},
     "output_type": "execute_result"
    }
   ],
   "source": [
    "# 分散\n",
    "stats.binom(n, p).var()"
   ]
  },
  {
   "cell_type": "code",
   "execution_count": 111,
   "id": "3228f74c-6199-4a18-8917-c988a10d120c",
   "metadata": {},
   "outputs": [
    {
     "data": {
      "text/plain": [
       "13.888888888888888"
      ]
     },
     "execution_count": 111,
     "metadata": {},
     "output_type": "execute_result"
    }
   ],
   "source": [
    "p*n*(1-p)"
   ]
  },
  {
   "cell_type": "code",
   "execution_count": 112,
   "id": "85187aa5-81a2-42f2-8777-216b706d714d",
   "metadata": {},
   "outputs": [
    {
     "data": {
      "text/plain": [
       "3.7267799624996494"
      ]
     },
     "execution_count": 112,
     "metadata": {},
     "output_type": "execute_result"
    }
   ],
   "source": [
    "# 標準偏差\n",
    "stats.binom(n, p).std()"
   ]
  },
  {
   "cell_type": "code",
   "execution_count": 113,
   "id": "60604387-8242-4eef-96d0-b0f3d9b38448",
   "metadata": {},
   "outputs": [
    {
     "data": {
      "text/plain": [
       "3.7267799624996494"
      ]
     },
     "execution_count": 113,
     "metadata": {},
     "output_type": "execute_result"
    }
   ],
   "source": [
    "np.sqrt(p*n*(1-p))"
   ]
  },
  {
   "cell_type": "markdown",
   "id": "d048d6c8-d43f-4345-a6f8-34d087a2c4e2",
   "metadata": {},
   "source": [
    "#　標本分布を見てみよう（Chalenge） "
   ]
  },
  {
   "cell_type": "code",
   "execution_count": 114,
   "id": "ba9a098a-698a-44f6-8a4f-fb645c38faca",
   "metadata": {},
   "outputs": [
    {
     "data": {
      "text/plain": [
       "50"
      ]
     },
     "execution_count": 114,
     "metadata": {},
     "output_type": "execute_result"
    }
   ],
   "source": [
    "len(df['tip'].sample(50))"
   ]
  },
  {
   "cell_type": "code",
   "execution_count": 115,
   "id": "17eaaecf-ccfd-4469-9ec9-d710a8b91c24",
   "metadata": {},
   "outputs": [],
   "source": [
    "# n = 50\n",
    "# for i in range(100):\n",
    "#     sample_df = df['tip'].sample(n)\n",
    "#     print(f'---sample_df:{i}---')\n",
    "#     print(f'df_mean{sample_df.mean()}')\n",
    "#     print(f'df_var{sample_df.var()}')"
   ]
  },
  {
   "cell_type": "code",
   "execution_count": 116,
   "id": "b5322391-58eb-401a-88c6-064fe62b513d",
   "metadata": {},
   "outputs": [
    {
     "name": "stdout",
     "output_type": "stream",
     "text": [
      "2.9982786885245902\n",
      "1.9144546380624725\n"
     ]
    }
   ],
   "source": [
    "print(df['tip'].mean())\n",
    "print(df['tip'].var())"
   ]
  },
  {
   "cell_type": "code",
   "execution_count": 117,
   "id": "9e60ac4a-2495-46bf-9a2d-8e100a0c2c7c",
   "metadata": {},
   "outputs": [],
   "source": [
    "m = 100\n",
    "n = 50\n",
    "column = 'tip'\n",
    "\n",
    "sample_means = []\n",
    "for i in range(m):\n",
    "    sample_df = df.sample(n)\n",
    "    sample_mean = sample_df[column].mean()\n",
    "    sample_means.append(sample_mean)"
   ]
  },
  {
   "cell_type": "code",
   "execution_count": 118,
   "id": "54d9dbb7-0e97-4199-b856-30052ae22540",
   "metadata": {},
   "outputs": [
    {
     "data": {
      "text/plain": [
       "2.9830640000000006"
      ]
     },
     "execution_count": 118,
     "metadata": {},
     "output_type": "execute_result"
    }
   ],
   "source": [
    "# 平均\n",
    "np.mean(sample_means)"
   ]
  },
  {
   "cell_type": "code",
   "execution_count": 119,
   "id": "1e44f3bd-861f-42cb-a0e1-067beff3f317",
   "metadata": {},
   "outputs": [
    {
     "data": {
      "text/plain": [
       "2.9982786885245902"
      ]
     },
     "execution_count": 119,
     "metadata": {},
     "output_type": "execute_result"
    }
   ],
   "source": [
    "# 母平均\n",
    "df[column].mean()"
   ]
  },
  {
   "cell_type": "code",
   "execution_count": 120,
   "id": "9e87a104-1b00-4624-8dd4-50a7e569cb03",
   "metadata": {},
   "outputs": [
    {
     "data": {
      "text/plain": [
       "0.031093289503999984"
      ]
     },
     "execution_count": 120,
     "metadata": {},
     "output_type": "execute_result"
    }
   ],
   "source": [
    "# 分散\n",
    "np.var(sample_means)"
   ]
  },
  {
   "cell_type": "code",
   "execution_count": 121,
   "id": "5681f48f-3fe7-4cf0-8460-005d3428a77b",
   "metadata": {},
   "outputs": [
    {
     "data": {
      "text/plain": [
       "0.03813217024993285"
      ]
     },
     "execution_count": 121,
     "metadata": {},
     "output_type": "execute_result"
    }
   ],
   "source": [
    "# 母分散/n\n",
    "np.var(df[column])/n"
   ]
  },
  {
   "cell_type": "code",
   "execution_count": 122,
   "id": "ef0b11e2-2cb5-4f8f-8fa2-9b48124101d8",
   "metadata": {},
   "outputs": [
    {
     "data": {
      "text/plain": [
       "<seaborn.axisgrid.FacetGrid at 0x4057257820>"
      ]
     },
     "execution_count": 122,
     "metadata": {},
     "output_type": "execute_result"
    },
    {
     "data": {
      "image/png": "[encoded data removed]",
      "text/plain": [
       "<Figure size 360x360 with 1 Axes>"
      ]
     },
     "metadata": {
      "needs_background": "light"
     },
     "output_type": "display_data"
    }
   ],
   "source": [
    "sns.displot(df[column])"
   ]
  },
  {
   "cell_type": "code",
   "execution_count": 123,
   "id": "cf7d59e7-de0a-4d15-8da7-ca62dd94865b",
   "metadata": {},
   "outputs": [
    {
     "data": {
      "text/plain": [
       "<seaborn.axisgrid.FacetGrid at 0x40574cf7c0>"
      ]
     },
     "execution_count": 123,
     "metadata": {},
     "output_type": "execute_result"
    },
    {
     "data": {
      "image/png": "[encoded data removed]",
      "text/plain": [
       "<Figure size 360x360 with 1 Axes>"
      ]
     },
     "metadata": {
      "needs_background": "light"
     },
     "output_type": "display_data"
    }
   ],
   "source": [
    "sns.displot(sample_means)"
   ]
  },
  {
   "cell_type": "markdown",
   "id": "b9ddcf4f-f589-463e-926c-8eb0fa73cc77",
   "metadata": {},
   "source": [
    "# 不偏分散"
   ]
  },
  {
   "cell_type": "code",
   "execution_count": 124,
   "id": "41bd256d-2605-426b-88bc-6a341525d430",
   "metadata": {},
   "outputs": [
    {
     "data": {
      "text/plain": [
       "1.914454638062471"
      ]
     },
     "execution_count": 124,
     "metadata": {},
     "output_type": "execute_result"
    }
   ],
   "source": [
    "stats.tvar(df['tip'])"
   ]
  },
  {
   "cell_type": "code",
   "execution_count": 126,
   "id": "4ad9dabe-2cba-4baa-ba9e-3297854b1974",
   "metadata": {},
   "outputs": [
    {
     "data": {
      "text/plain": [
       "1.9144546380624725"
      ]
     },
     "execution_count": 126,
     "metadata": {},
     "output_type": "execute_result"
    }
   ],
   "source": [
    "np.var(df['tip'], ddof=1)"
   ]
  },
  {
   "cell_type": "markdown",
   "id": "30f9f69d-9e7c-40aa-8a31-cfed6a51f921",
   "metadata": {},
   "source": [
    "# 不偏分散の平方根 "
   ]
  },
  {
   "cell_type": "code",
   "execution_count": 128,
   "id": "8641ed25-f64e-43d8-be77-a2a214f80826",
   "metadata": {},
   "outputs": [
    {
     "data": {
      "text/plain": [
       "1.3836381890011822"
      ]
     },
     "execution_count": 128,
     "metadata": {},
     "output_type": "execute_result"
    }
   ],
   "source": [
    "np.sqrt(stats.tvar(df['tip']))"
   ]
  },
  {
   "cell_type": "code",
   "execution_count": 130,
   "id": "53c4e68a-e836-4bd6-9350-56fa8359a33d",
   "metadata": {},
   "outputs": [
    {
     "data": {
      "text/plain": [
       "1.3836381890011822"
      ]
     },
     "execution_count": 130,
     "metadata": {},
     "output_type": "execute_result"
    }
   ],
   "source": [
    "stats.tstd(df['tip'])"
   ]
  },
  {
   "cell_type": "code",
   "execution_count": 132,
   "id": "a90ac5aa-286d-4a1b-bce1-397c23e7f9d3",
   "metadata": {},
   "outputs": [
    {
     "data": {
      "text/plain": [
       "1.3836381890011826"
      ]
     },
     "execution_count": 132,
     "metadata": {},
     "output_type": "execute_result"
    }
   ],
   "source": [
    "np.std(df['tip'], ddof=1)"
   ]
  },
  {
   "cell_type": "markdown",
   "id": "bd15996e-acef-447f-b858-333a15632de9",
   "metadata": {},
   "source": [
    "## Chalenge問題 "
   ]
  },
  {
   "cell_type": "code",
   "execution_count": 143,
   "id": "2ab1a7b9-e630-4599-8313-24d9809c3232",
   "metadata": {},
   "outputs": [],
   "source": [
    "m = 100\n",
    "n = 50\n",
    "column = 'tip'\n",
    "\n",
    "sample_vars = []\n",
    "sample_tvars = []\n",
    "for i in range(m):\n",
    "    sample_df = df.sample(n)\n",
    "    sample_var = np.var(sample_df[column])\n",
    "    sample_vars.append(sample_var)\n",
    "    sample_tvar = np.var(sample_df[column], ddof=1)\n",
    "    sample_tvars.append(sample_tvar)"
   ]
  },
  {
   "cell_type": "code",
   "execution_count": 144,
   "id": "f1d0fbd9-73e3-4b87-a066-88362d2a7c02",
   "metadata": {},
   "outputs": [
    {
     "data": {
      "text/plain": [
       "1.8915942012"
      ]
     },
     "execution_count": 144,
     "metadata": {},
     "output_type": "execute_result"
    }
   ],
   "source": [
    "np.mean(sample_vars)"
   ]
  },
  {
   "cell_type": "code",
   "execution_count": 145,
   "id": "5243203c-8891-4a07-b88e-17410fab04bf",
   "metadata": {},
   "outputs": [
    {
     "data": {
      "text/plain": [
       "1.9301981644897959"
      ]
     },
     "execution_count": 145,
     "metadata": {},
     "output_type": "execute_result"
    }
   ],
   "source": [
    "np.mean(sample_tvars)"
   ]
  },
  {
   "cell_type": "code",
   "execution_count": 146,
   "id": "5e543bdb-6c44-4fdb-9562-298953034947",
   "metadata": {},
   "outputs": [
    {
     "data": {
      "text/plain": [
       "1.9066085124966428"
      ]
     },
     "execution_count": 146,
     "metadata": {},
     "output_type": "execute_result"
    }
   ],
   "source": [
    "np.var(df[column])"
   ]
  },
  {
   "cell_type": "code",
   "execution_count": null,
   "id": "44c848ae-c06a-463b-99de-6cf047c3808b",
   "metadata": {},
   "outputs": [],
   "source": []
  }
 ],
 "metadata": {
  "kernelspec": {
   "display_name": "Python 3",
   "language": "python",
   "name": "python3"
  },
  "language_info": {
   "codemirror_mode": {
    "name": "ipython",
    "version": 3
   },
   "file_extension": ".py",
   "mimetype": "text/x-python",
   "name": "python",
   "nbconvert_exporter": "python",
   "pygments_lexer": "ipython3",
   "version": "3.8.8"
  }
 },
 "nbformat": 4,
 "nbformat_minor": 5
}
