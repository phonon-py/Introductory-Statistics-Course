{
  "cells": [
    {
      "cell_type": "code",
      "execution_count": 1,
      "id": "cd0ca3f5-a53f-4956-997b-4d811535da19",
      "metadata": {
        "id": "cd0ca3f5-a53f-4956-997b-4d811535da19"
      },
      "outputs": [],
      "source": [
        "import numpy as np\n",
        "import seaborn as sns\n",
        "import pandas as pd\n",
        "from scipy import stats\n",
        "from sklearn.preprocessing import StandardScaler\n",
        "import matplotlib.pyplot as plt\n",
        "%matplotlib inline"
      ]
    },
    {
      "cell_type": "markdown",
      "id": "81d83588-58da-46a5-a7ab-6a295cdf78d8",
      "metadata": {
        "id": "81d83588-58da-46a5-a7ab-6a295cdf78d8"
      },
      "source": [
        "# データ準備"
      ]
    },
    {
      "cell_type": "code",
      "execution_count": 2,
      "id": "22fd265c-43b0-4dd4-a616-32f325d838a2",
      "metadata": {
        "id": "22fd265c-43b0-4dd4-a616-32f325d838a2"
      },
      "outputs": [],
      "source": [
        "df = sns.load_dataset('tips')\n",
        "\n",
        "df['tip_rate'] = df['tip'] / df['total_bill']"
      ]
    },
    {
      "cell_type": "code",
      "execution_count": 3,
      "id": "9e6b04db-6584-4bc3-9958-ddf6e1285227",
      "metadata": {
        "colab": {
          "base_uri": "https://localhost:8080/"
        },
        "id": "9e6b04db-6584-4bc3-9958-ddf6e1285227",
        "outputId": "d60ff69b-5fac-46aa-b66b-bd37f3440b24"
      },
      "outputs": [
        {
          "output_type": "execute_result",
          "data": {
            "text/plain": [
              "Index(['total_bill', 'tip', 'sex', 'smoker', 'day', 'time', 'size',\n",
              "       'tip_rate'],\n",
              "      dtype='object')"
            ]
          },
          "metadata": {},
          "execution_count": 3
        }
      ],
      "source": [
        "df.columns"
      ]
    },
    {
      "cell_type": "code",
      "execution_count": 4,
      "id": "c56a6548-540f-412c-9931-d94818ec1b24",
      "metadata": {
        "colab": {
          "base_uri": "https://localhost:8080/",
          "height": 206
        },
        "id": "c56a6548-540f-412c-9931-d94818ec1b24",
        "outputId": "996c335d-63f4-4d7d-cc75-162bf8244359"
      },
      "outputs": [
        {
          "output_type": "execute_result",
          "data": {
            "text/plain": [
              "   total_bill   tip     sex smoker  day    time  size  tip_rate\n",
              "0       16.99  1.01  Female     No  Sun  Dinner     2  0.059447\n",
              "1       10.34  1.66    Male     No  Sun  Dinner     3  0.160542\n",
              "2       21.01  3.50    Male     No  Sun  Dinner     3  0.166587\n",
              "3       23.68  3.31    Male     No  Sun  Dinner     2  0.139780\n",
              "4       24.59  3.61  Female     No  Sun  Dinner     4  0.146808"
            ],
            "text/html": [
              "\n",
              "\n",
              "  <div id=\"df-73641dca-6fb2-46c5-815c-a729c92b117e\">\n",
              "    <div class=\"colab-df-container\">\n",
              "      <div>\n",
              "<style scoped>\n",
              "    .dataframe tbody tr th:only-of-type {\n",
              "        vertical-align: middle;\n",
              "    }\n",
              "\n",
              "    .dataframe tbody tr th {\n",
              "        vertical-align: top;\n",
              "    }\n",
              "\n",
              "    .dataframe thead th {\n",
              "        text-align: right;\n",
              "    }\n",
              "</style>\n",
              "<table border=\"1\" class=\"dataframe\">\n",
              "  <thead>\n",
              "    <tr style=\"text-align: right;\">\n",
              "      <th></th>\n",
              "      <th>total_bill</th>\n",
              "      <th>tip</th>\n",
              "      <th>sex</th>\n",
              "      <th>smoker</th>\n",
              "      <th>day</th>\n",
              "      <th>time</th>\n",
              "      <th>size</th>\n",
              "      <th>tip_rate</th>\n",
              "    </tr>\n",
              "  </thead>\n",
              "  <tbody>\n",
              "    <tr>\n",
              "      <th>0</th>\n",
              "      <td>16.99</td>\n",
              "      <td>1.01</td>\n",
              "      <td>Female</td>\n",
              "      <td>No</td>\n",
              "      <td>Sun</td>\n",
              "      <td>Dinner</td>\n",
              "      <td>2</td>\n",
              "      <td>0.059447</td>\n",
              "    </tr>\n",
              "    <tr>\n",
              "      <th>1</th>\n",
              "      <td>10.34</td>\n",
              "      <td>1.66</td>\n",
              "      <td>Male</td>\n",
              "      <td>No</td>\n",
              "      <td>Sun</td>\n",
              "      <td>Dinner</td>\n",
              "      <td>3</td>\n",
              "      <td>0.160542</td>\n",
              "    </tr>\n",
              "    <tr>\n",
              "      <th>2</th>\n",
              "      <td>21.01</td>\n",
              "      <td>3.50</td>\n",
              "      <td>Male</td>\n",
              "      <td>No</td>\n",
              "      <td>Sun</td>\n",
              "      <td>Dinner</td>\n",
              "      <td>3</td>\n",
              "      <td>0.166587</td>\n",
              "    </tr>\n",
              "    <tr>\n",
              "      <th>3</th>\n",
              "      <td>23.68</td>\n",
              "      <td>3.31</td>\n",
              "      <td>Male</td>\n",
              "      <td>No</td>\n",
              "      <td>Sun</td>\n",
              "      <td>Dinner</td>\n",
              "      <td>2</td>\n",
              "      <td>0.139780</td>\n",
              "    </tr>\n",
              "    <tr>\n",
              "      <th>4</th>\n",
              "      <td>24.59</td>\n",
              "      <td>3.61</td>\n",
              "      <td>Female</td>\n",
              "      <td>No</td>\n",
              "      <td>Sun</td>\n",
              "      <td>Dinner</td>\n",
              "      <td>4</td>\n",
              "      <td>0.146808</td>\n",
              "    </tr>\n",
              "  </tbody>\n",
              "</table>\n",
              "</div>\n",
              "      <button class=\"colab-df-convert\" onclick=\"convertToInteractive('df-73641dca-6fb2-46c5-815c-a729c92b117e')\"\n",
              "              title=\"Convert this dataframe to an interactive table.\"\n",
              "              style=\"display:none;\">\n",
              "\n",
              "  <svg xmlns=\"http://www.w3.org/2000/svg\" height=\"24px\"viewBox=\"0 0 24 24\"\n",
              "       width=\"24px\">\n",
              "    <path d=\"M0 0h24v24H0V0z\" fill=\"none\"/>\n",
              "    <path d=\"M18.56 5.44l.94 2.06.94-2.06 2.06-.94-2.06-.94-.94-2.06-.94 2.06-2.06.94zm-11 1L8.5 8.5l.94-2.06 2.06-.94-2.06-.94L8.5 2.5l-.94 2.06-2.06.94zm10 10l.94 2.06.94-2.06 2.06-.94-2.06-.94-.94-2.06-.94 2.06-2.06.94z\"/><path d=\"M17.41 7.96l-1.37-1.37c-.4-.4-.92-.59-1.43-.59-.52 0-1.04.2-1.43.59L10.3 9.45l-7.72 7.72c-.78.78-.78 2.05 0 2.83L4 21.41c.39.39.9.59 1.41.59.51 0 1.02-.2 1.41-.59l7.78-7.78 2.81-2.81c.8-.78.8-2.07 0-2.86zM5.41 20L4 18.59l7.72-7.72 1.47 1.35L5.41 20z\"/>\n",
              "  </svg>\n",
              "      </button>\n",
              "\n",
              "\n",
              "\n",
              "    <div id=\"df-2703c67f-eb7c-4149-b138-996418837af7\">\n",
              "      <button class=\"colab-df-quickchart\" onclick=\"quickchart('df-2703c67f-eb7c-4149-b138-996418837af7')\"\n",
              "              title=\"Suggest charts.\"\n",
              "              style=\"display:none;\">\n",
              "\n",
              "<svg xmlns=\"http://www.w3.org/2000/svg\" height=\"24px\"viewBox=\"0 0 24 24\"\n",
              "     width=\"24px\">\n",
              "    <g>\n",
              "        <path d=\"M19 3H5c-1.1 0-2 .9-2 2v14c0 1.1.9 2 2 2h14c1.1 0 2-.9 2-2V5c0-1.1-.9-2-2-2zM9 17H7v-7h2v7zm4 0h-2V7h2v10zm4 0h-2v-4h2v4z\"/>\n",
              "    </g>\n",
              "</svg>\n",
              "      </button>\n",
              "    </div>\n",
              "\n",
              "<style>\n",
              "  .colab-df-quickchart {\n",
              "    background-color: #E8F0FE;\n",
              "    border: none;\n",
              "    border-radius: 50%;\n",
              "    cursor: pointer;\n",
              "    display: none;\n",
              "    fill: #1967D2;\n",
              "    height: 32px;\n",
              "    padding: 0 0 0 0;\n",
              "    width: 32px;\n",
              "  }\n",
              "\n",
              "  .colab-df-quickchart:hover {\n",
              "    background-color: #E2EBFA;\n",
              "    box-shadow: 0px 1px 2px rgba(60, 64, 67, 0.3), 0px 1px 3px 1px rgba(60, 64, 67, 0.15);\n",
              "    fill: #174EA6;\n",
              "  }\n",
              "\n",
              "  [theme=dark] .colab-df-quickchart {\n",
              "    background-color: #3B4455;\n",
              "    fill: #D2E3FC;\n",
              "  }\n",
              "\n",
              "  [theme=dark] .colab-df-quickchart:hover {\n",
              "    background-color: #434B5C;\n",
              "    box-shadow: 0px 1px 3px 1px rgba(0, 0, 0, 0.15);\n",
              "    filter: drop-shadow(0px 1px 2px rgba(0, 0, 0, 0.3));\n",
              "    fill: #FFFFFF;\n",
              "  }\n",
              "</style>\n",
              "\n",
              "    <script>\n",
              "      async function quickchart(key) {\n",
              "        const containerElement = document.querySelector('#' + key);\n",
              "        const charts = await google.colab.kernel.invokeFunction(\n",
              "            'suggestCharts', [key], {});\n",
              "      }\n",
              "    </script>\n",
              "\n",
              "      <script>\n",
              "\n",
              "function displayQuickchartButton(domScope) {\n",
              "  let quickchartButtonEl =\n",
              "    domScope.querySelector('#df-2703c67f-eb7c-4149-b138-996418837af7 button.colab-df-quickchart');\n",
              "  quickchartButtonEl.style.display =\n",
              "    google.colab.kernel.accessAllowed ? 'block' : 'none';\n",
              "}\n",
              "\n",
              "        displayQuickchartButton(document);\n",
              "      </script>\n",
              "      <style>\n",
              "    .colab-df-container {\n",
              "      display:flex;\n",
              "      flex-wrap:wrap;\n",
              "      gap: 12px;\n",
              "    }\n",
              "\n",
              "    .colab-df-convert {\n",
              "      background-color: #E8F0FE;\n",
              "      border: none;\n",
              "      border-radius: 50%;\n",
              "      cursor: pointer;\n",
              "      display: none;\n",
              "      fill: #1967D2;\n",
              "      height: 32px;\n",
              "      padding: 0 0 0 0;\n",
              "      width: 32px;\n",
              "    }\n",
              "\n",
              "    .colab-df-convert:hover {\n",
              "      background-color: #E2EBFA;\n",
              "      box-shadow: 0px 1px 2px rgba(60, 64, 67, 0.3), 0px 1px 3px 1px rgba(60, 64, 67, 0.15);\n",
              "      fill: #174EA6;\n",
              "    }\n",
              "\n",
              "    [theme=dark] .colab-df-convert {\n",
              "      background-color: #3B4455;\n",
              "      fill: #D2E3FC;\n",
              "    }\n",
              "\n",
              "    [theme=dark] .colab-df-convert:hover {\n",
              "      background-color: #434B5C;\n",
              "      box-shadow: 0px 1px 3px 1px rgba(0, 0, 0, 0.15);\n",
              "      filter: drop-shadow(0px 1px 2px rgba(0, 0, 0, 0.3));\n",
              "      fill: #FFFFFF;\n",
              "    }\n",
              "  </style>\n",
              "\n",
              "      <script>\n",
              "        const buttonEl =\n",
              "          document.querySelector('#df-73641dca-6fb2-46c5-815c-a729c92b117e button.colab-df-convert');\n",
              "        buttonEl.style.display =\n",
              "          google.colab.kernel.accessAllowed ? 'block' : 'none';\n",
              "\n",
              "        async function convertToInteractive(key) {\n",
              "          const element = document.querySelector('#df-73641dca-6fb2-46c5-815c-a729c92b117e');\n",
              "          const dataTable =\n",
              "            await google.colab.kernel.invokeFunction('convertToInteractive',\n",
              "                                                     [key], {});\n",
              "          if (!dataTable) return;\n",
              "\n",
              "          const docLinkHtml = 'Like what you see? Visit the ' +\n",
              "            '<a target=\"_blank\" href=https://colab.research.google.com/notebooks/data_table.ipynb>data table notebook</a>'\n",
              "            + ' to learn more about interactive tables.';\n",
              "          element.innerHTML = '';\n",
              "          dataTable['output_type'] = 'display_data';\n",
              "          await google.colab.output.renderOutput(dataTable, element);\n",
              "          const docLink = document.createElement('div');\n",
              "          docLink.innerHTML = docLinkHtml;\n",
              "          element.appendChild(docLink);\n",
              "        }\n",
              "      </script>\n",
              "    </div>\n",
              "  </div>\n"
            ]
          },
          "metadata": {},
          "execution_count": 4
        }
      ],
      "source": [
        "df.head()"
      ]
    },
    {
      "cell_type": "code",
      "execution_count": 5,
      "id": "5d0e4974-5fca-47f7-ba9d-26769709edce",
      "metadata": {
        "colab": {
          "base_uri": "https://localhost:8080/",
          "height": 35
        },
        "id": "5d0e4974-5fca-47f7-ba9d-26769709edce",
        "outputId": "dbaddfa2-da51-44c4-a044-7ffb2f89a4a5"
      },
      "outputs": [
        {
          "output_type": "execute_result",
          "data": {
            "text/plain": [
              "'0.12.2'"
            ],
            "application/vnd.google.colaboratory.intrinsic+json": {
              "type": "string"
            }
          },
          "metadata": {},
          "execution_count": 5
        }
      ],
      "source": [
        "sns.__version__"
      ]
    },
    {
      "cell_type": "markdown",
      "id": "2203d51a-1e4e-41dc-ab9f-e26a35d44f79",
      "metadata": {
        "id": "2203d51a-1e4e-41dc-ab9f-e26a35d44f79"
      },
      "source": [
        "# ヒストグラムで連続変数の分布を描画する"
      ]
    },
    {
      "cell_type": "code",
      "execution_count": 6,
      "id": "3565d009-0638-4766-af7d-ac949e53d9fa",
      "metadata": {
        "colab": {
          "base_uri": "https://localhost:8080/",
          "height": 524
        },
        "id": "3565d009-0638-4766-af7d-ac949e53d9fa",
        "outputId": "fc4eb038-d90e-4fdd-8bda-623aa7690316"
      },
      "outputs": [
        {
          "output_type": "execute_result",
          "data": {
            "text/plain": [
              "<seaborn.axisgrid.FacetGrid at 0x7c479505f610>"
            ]
          },
          "metadata": {},
          "execution_count": 6
        },
        {
          "output_type": "display_data",
          "data": {
            "text/plain": [
              "<Figure size 500x500 with 1 Axes>"
            ],
            "image/png": "[encoded data removed]"
          },
          "metadata": {}
        }
      ],
      "source": [
        "sns.displot(df['tip'], kde = False)"
      ]
    },
    {
      "cell_type": "markdown",
      "id": "40f3aa75-d6c2-4705-b97b-7b7db3ae0773",
      "metadata": {
        "id": "40f3aa75-d6c2-4705-b97b-7b7db3ae0773"
      },
      "source": [
        "#　棒グラフでカテゴリ変数を描画する"
      ]
    },
    {
      "cell_type": "code",
      "execution_count": 7,
      "id": "c5665043-31c8-4529-8389-fc761b90e1a9",
      "metadata": {
        "colab": {
          "base_uri": "https://localhost:8080/",
          "height": 524
        },
        "id": "c5665043-31c8-4529-8389-fc761b90e1a9",
        "outputId": "48306e0e-1102-4c9e-9bb6-2167a9c619ff"
      },
      "outputs": [
        {
          "output_type": "execute_result",
          "data": {
            "text/plain": [
              "<seaborn.axisgrid.FacetGrid at 0x7c479505f460>"
            ]
          },
          "metadata": {},
          "execution_count": 7
        },
        {
          "output_type": "display_data",
          "data": {
            "text/plain": [
              "<Figure size 500x500 with 1 Axes>"
            ],
            "image/png": "[encoded data removed]"
          },
          "metadata": {}
        }
      ],
      "source": [
        "sns.catplot(x= 'time', data = df, kind= 'count')"
      ]
    },
    {
      "cell_type": "markdown",
      "id": "a8c90aec-74a6-477f-8331-32f0aedaa922",
      "metadata": {
        "id": "a8c90aec-74a6-477f-8331-32f0aedaa922"
      },
      "source": [
        "# 平均値"
      ]
    },
    {
      "cell_type": "code",
      "execution_count": 8,
      "id": "6e1f90d1-1915-42b7-9470-b917cf3bf608",
      "metadata": {
        "colab": {
          "base_uri": "https://localhost:8080/"
        },
        "id": "6e1f90d1-1915-42b7-9470-b917cf3bf608",
        "outputId": "25e5b95d-153d-459d-f4f7-1a6b6611de0a"
      },
      "outputs": [
        {
          "output_type": "execute_result",
          "data": {
            "text/plain": [
              "2.0"
            ]
          },
          "metadata": {},
          "execution_count": 8
        }
      ],
      "source": [
        "\n",
        "np.mean([1, 2, 3])"
      ]
    },
    {
      "cell_type": "code",
      "execution_count": 9,
      "id": "46929916-b3d7-4bee-8b59-651ee208f615",
      "metadata": {
        "colab": {
          "base_uri": "https://localhost:8080/",
          "height": 206
        },
        "id": "46929916-b3d7-4bee-8b59-651ee208f615",
        "outputId": "94a1c95b-42d4-41e3-cb22-41c8c26dbef6"
      },
      "outputs": [
        {
          "output_type": "execute_result",
          "data": {
            "text/plain": [
              "   total_bill   tip     sex smoker  day    time  size  tip_rate\n",
              "0       16.99  1.01  Female     No  Sun  Dinner     2  0.059447\n",
              "1       10.34  1.66    Male     No  Sun  Dinner     3  0.160542\n",
              "2       21.01  3.50    Male     No  Sun  Dinner     3  0.166587\n",
              "3       23.68  3.31    Male     No  Sun  Dinner     2  0.139780\n",
              "4       24.59  3.61  Female     No  Sun  Dinner     4  0.146808"
            ],
            "text/html": [
              "\n",
              "\n",
              "  <div id=\"df-8af8a9a6-317e-4abf-97d1-434b8f927eb4\">\n",
              "    <div class=\"colab-df-container\">\n",
              "      <div>\n",
              "<style scoped>\n",
              "    .dataframe tbody tr th:only-of-type {\n",
              "        vertical-align: middle;\n",
              "    }\n",
              "\n",
              "    .dataframe tbody tr th {\n",
              "        vertical-align: top;\n",
              "    }\n",
              "\n",
              "    .dataframe thead th {\n",
              "        text-align: right;\n",
              "    }\n",
              "</style>\n",
              "<table border=\"1\" class=\"dataframe\">\n",
              "  <thead>\n",
              "    <tr style=\"text-align: right;\">\n",
              "      <th></th>\n",
              "      <th>total_bill</th>\n",
              "      <th>tip</th>\n",
              "      <th>sex</th>\n",
              "      <th>smoker</th>\n",
              "      <th>day</th>\n",
              "      <th>time</th>\n",
              "      <th>size</th>\n",
              "      <th>tip_rate</th>\n",
              "    </tr>\n",
              "  </thead>\n",
              "  <tbody>\n",
              "    <tr>\n",
              "      <th>0</th>\n",
              "      <td>16.99</td>\n",
              "      <td>1.01</td>\n",
              "      <td>Female</td>\n",
              "      <td>No</td>\n",
              "      <td>Sun</td>\n",
              "      <td>Dinner</td>\n",
              "      <td>2</td>\n",
              "      <td>0.059447</td>\n",
              "    </tr>\n",
              "    <tr>\n",
              "      <th>1</th>\n",
              "      <td>10.34</td>\n",
              "      <td>1.66</td>\n",
              "      <td>Male</td>\n",
              "      <td>No</td>\n",
              "      <td>Sun</td>\n",
              "      <td>Dinner</td>\n",
              "      <td>3</td>\n",
              "      <td>0.160542</td>\n",
              "    </tr>\n",
              "    <tr>\n",
              "      <th>2</th>\n",
              "      <td>21.01</td>\n",
              "      <td>3.50</td>\n",
              "      <td>Male</td>\n",
              "      <td>No</td>\n",
              "      <td>Sun</td>\n",
              "      <td>Dinner</td>\n",
              "      <td>3</td>\n",
              "      <td>0.166587</td>\n",
              "    </tr>\n",
              "    <tr>\n",
              "      <th>3</th>\n",
              "      <td>23.68</td>\n",
              "      <td>3.31</td>\n",
              "      <td>Male</td>\n",
              "      <td>No</td>\n",
              "      <td>Sun</td>\n",
              "      <td>Dinner</td>\n",
              "      <td>2</td>\n",
              "      <td>0.139780</td>\n",
              "    </tr>\n",
              "    <tr>\n",
              "      <th>4</th>\n",
              "      <td>24.59</td>\n",
              "      <td>3.61</td>\n",
              "      <td>Female</td>\n",
              "      <td>No</td>\n",
              "      <td>Sun</td>\n",
              "      <td>Dinner</td>\n",
              "      <td>4</td>\n",
              "      <td>0.146808</td>\n",
              "    </tr>\n",
              "  </tbody>\n",
              "</table>\n",
              "</div>\n",
              "      <button class=\"colab-df-convert\" onclick=\"convertToInteractive('df-8af8a9a6-317e-4abf-97d1-434b8f927eb4')\"\n",
              "              title=\"Convert this dataframe to an interactive table.\"\n",
              "              style=\"display:none;\">\n",
              "\n",
              "  <svg xmlns=\"http://www.w3.org/2000/svg\" height=\"24px\"viewBox=\"0 0 24 24\"\n",
              "       width=\"24px\">\n",
              "    <path d=\"M0 0h24v24H0V0z\" fill=\"none\"/>\n",
              "    <path d=\"M18.56 5.44l.94 2.06.94-2.06 2.06-.94-2.06-.94-.94-2.06-.94 2.06-2.06.94zm-11 1L8.5 8.5l.94-2.06 2.06-.94-2.06-.94L8.5 2.5l-.94 2.06-2.06.94zm10 10l.94 2.06.94-2.06 2.06-.94-2.06-.94-.94-2.06-.94 2.06-2.06.94z\"/><path d=\"M17.41 7.96l-1.37-1.37c-.4-.4-.92-.59-1.43-.59-.52 0-1.04.2-1.43.59L10.3 9.45l-7.72 7.72c-.78.78-.78 2.05 0 2.83L4 21.41c.39.39.9.59 1.41.59.51 0 1.02-.2 1.41-.59l7.78-7.78 2.81-2.81c.8-.78.8-2.07 0-2.86zM5.41 20L4 18.59l7.72-7.72 1.47 1.35L5.41 20z\"/>\n",
              "  </svg>\n",
              "      </button>\n",
              "\n",
              "\n",
              "\n",
              "    <div id=\"df-b9f36cb4-6ad4-4a99-be31-1ce2357192ba\">\n",
              "      <button class=\"colab-df-quickchart\" onclick=\"quickchart('df-b9f36cb4-6ad4-4a99-be31-1ce2357192ba')\"\n",
              "              title=\"Suggest charts.\"\n",
              "              style=\"display:none;\">\n",
              "\n",
              "<svg xmlns=\"http://www.w3.org/2000/svg\" height=\"24px\"viewBox=\"0 0 24 24\"\n",
              "     width=\"24px\">\n",
              "    <g>\n",
              "        <path d=\"M19 3H5c-1.1 0-2 .9-2 2v14c0 1.1.9 2 2 2h14c1.1 0 2-.9 2-2V5c0-1.1-.9-2-2-2zM9 17H7v-7h2v7zm4 0h-2V7h2v10zm4 0h-2v-4h2v4z\"/>\n",
              "    </g>\n",
              "</svg>\n",
              "      </button>\n",
              "    </div>\n",
              "\n",
              "<style>\n",
              "  .colab-df-quickchart {\n",
              "    background-color: #E8F0FE;\n",
              "    border: none;\n",
              "    border-radius: 50%;\n",
              "    cursor: pointer;\n",
              "    display: none;\n",
              "    fill: #1967D2;\n",
              "    height: 32px;\n",
              "    padding: 0 0 0 0;\n",
              "    width: 32px;\n",
              "  }\n",
              "\n",
              "  .colab-df-quickchart:hover {\n",
              "    background-color: #E2EBFA;\n",
              "    box-shadow: 0px 1px 2px rgba(60, 64, 67, 0.3), 0px 1px 3px 1px rgba(60, 64, 67, 0.15);\n",
              "    fill: #174EA6;\n",
              "  }\n",
              "\n",
              "  [theme=dark] .colab-df-quickchart {\n",
              "    background-color: #3B4455;\n",
              "    fill: #D2E3FC;\n",
              "  }\n",
              "\n",
              "  [theme=dark] .colab-df-quickchart:hover {\n",
              "    background-color: #434B5C;\n",
              "    box-shadow: 0px 1px 3px 1px rgba(0, 0, 0, 0.15);\n",
              "    filter: drop-shadow(0px 1px 2px rgba(0, 0, 0, 0.3));\n",
              "    fill: #FFFFFF;\n",
              "  }\n",
              "</style>\n",
              "\n",
              "    <script>\n",
              "      async function quickchart(key) {\n",
              "        const containerElement = document.querySelector('#' + key);\n",
              "        const charts = await google.colab.kernel.invokeFunction(\n",
              "            'suggestCharts', [key], {});\n",
              "      }\n",
              "    </script>\n",
              "\n",
              "      <script>\n",
              "\n",
              "function displayQuickchartButton(domScope) {\n",
              "  let quickchartButtonEl =\n",
              "    domScope.querySelector('#df-b9f36cb4-6ad4-4a99-be31-1ce2357192ba button.colab-df-quickchart');\n",
              "  quickchartButtonEl.style.display =\n",
              "    google.colab.kernel.accessAllowed ? 'block' : 'none';\n",
              "}\n",
              "\n",
              "        displayQuickchartButton(document);\n",
              "      </script>\n",
              "      <style>\n",
              "    .colab-df-container {\n",
              "      display:flex;\n",
              "      flex-wrap:wrap;\n",
              "      gap: 12px;\n",
              "    }\n",
              "\n",
              "    .colab-df-convert {\n",
              "      background-color: #E8F0FE;\n",
              "      border: none;\n",
              "      border-radius: 50%;\n",
              "      cursor: pointer;\n",
              "      display: none;\n",
              "      fill: #1967D2;\n",
              "      height: 32px;\n",
              "      padding: 0 0 0 0;\n",
              "      width: 32px;\n",
              "    }\n",
              "\n",
              "    .colab-df-convert:hover {\n",
              "      background-color: #E2EBFA;\n",
              "      box-shadow: 0px 1px 2px rgba(60, 64, 67, 0.3), 0px 1px 3px 1px rgba(60, 64, 67, 0.15);\n",
              "      fill: #174EA6;\n",
              "    }\n",
              "\n",
              "    [theme=dark] .colab-df-convert {\n",
              "      background-color: #3B4455;\n",
              "      fill: #D2E3FC;\n",
              "    }\n",
              "\n",
              "    [theme=dark] .colab-df-convert:hover {\n",
              "      background-color: #434B5C;\n",
              "      box-shadow: 0px 1px 3px 1px rgba(0, 0, 0, 0.15);\n",
              "      filter: drop-shadow(0px 1px 2px rgba(0, 0, 0, 0.3));\n",
              "      fill: #FFFFFF;\n",
              "    }\n",
              "  </style>\n",
              "\n",
              "      <script>\n",
              "        const buttonEl =\n",
              "          document.querySelector('#df-8af8a9a6-317e-4abf-97d1-434b8f927eb4 button.colab-df-convert');\n",
              "        buttonEl.style.display =\n",
              "          google.colab.kernel.accessAllowed ? 'block' : 'none';\n",
              "\n",
              "        async function convertToInteractive(key) {\n",
              "          const element = document.querySelector('#df-8af8a9a6-317e-4abf-97d1-434b8f927eb4');\n",
              "          const dataTable =\n",
              "            await google.colab.kernel.invokeFunction('convertToInteractive',\n",
              "                                                     [key], {});\n",
              "          if (!dataTable) return;\n",
              "\n",
              "          const docLinkHtml = 'Like what you see? Visit the ' +\n",
              "            '<a target=\"_blank\" href=https://colab.research.google.com/notebooks/data_table.ipynb>data table notebook</a>'\n",
              "            + ' to learn more about interactive tables.';\n",
              "          element.innerHTML = '';\n",
              "          dataTable['output_type'] = 'display_data';\n",
              "          await google.colab.output.renderOutput(dataTable, element);\n",
              "          const docLink = document.createElement('div');\n",
              "          docLink.innerHTML = docLinkHtml;\n",
              "          element.appendChild(docLink);\n",
              "        }\n",
              "      </script>\n",
              "    </div>\n",
              "  </div>\n"
            ]
          },
          "metadata": {},
          "execution_count": 9
        }
      ],
      "source": [
        "df.head()"
      ]
    },
    {
      "cell_type": "code",
      "execution_count": 10,
      "id": "926fe035-7789-4ae7-8a6f-51aff92a3fec",
      "metadata": {
        "colab": {
          "base_uri": "https://localhost:8080/"
        },
        "id": "926fe035-7789-4ae7-8a6f-51aff92a3fec",
        "outputId": "e6e7a48c-7a8f-4309-dc81-c5504682d401"
      },
      "outputs": [
        {
          "output_type": "execute_result",
          "data": {
            "text/plain": [
              "0.16080258172250472"
            ]
          },
          "metadata": {},
          "execution_count": 10
        }
      ],
      "source": [
        "np.mean(df['tip_rate'])"
      ]
    },
    {
      "cell_type": "code",
      "execution_count": 11,
      "id": "293c5ab2-e6bc-4a34-a2ae-f87913c4261b",
      "metadata": {
        "colab": {
          "base_uri": "https://localhost:8080/"
        },
        "id": "293c5ab2-e6bc-4a34-a2ae-f87913c4261b",
        "outputId": "be024507-e253-4bad-dea2-2aa08368bfcb"
      },
      "outputs": [
        {
          "output_type": "execute_result",
          "data": {
            "text/plain": [
              "0.16080258172250472"
            ]
          },
          "metadata": {},
          "execution_count": 11
        }
      ],
      "source": [
        "df['tip_rate'].mean()"
      ]
    },
    {
      "cell_type": "markdown",
      "id": "1e6a78f4-a785-480e-a39d-05c0968aced8",
      "metadata": {
        "id": "1e6a78f4-a785-480e-a39d-05c0968aced8"
      },
      "source": [
        "## groupbyはとても便利"
      ]
    },
    {
      "cell_type": "code",
      "execution_count": 12,
      "id": "553b3ba0-4383-44c2-b1d3-5e51b14c54f2",
      "metadata": {
        "colab": {
          "base_uri": "https://localhost:8080/",
          "height": 198
        },
        "id": "553b3ba0-4383-44c2-b1d3-5e51b14c54f2",
        "outputId": "33337f8a-8350-47aa-904b-f01e910f2388"
      },
      "outputs": [
        {
          "output_type": "stream",
          "name": "stderr",
          "text": [
            "<ipython-input-12-e22e9959c4d5>:1: FutureWarning: The default value of numeric_only in DataFrameGroupBy.mean is deprecated. In a future version, numeric_only will default to False. Either specify numeric_only or select only columns which should be valid for the function.\n",
            "  df.groupby('sex').mean()\n"
          ]
        },
        {
          "output_type": "execute_result",
          "data": {
            "text/plain": [
              "        total_bill       tip      size  tip_rate\n",
              "sex                                             \n",
              "Male     20.744076  3.089618  2.630573  0.157651\n",
              "Female   18.056897  2.833448  2.459770  0.166491"
            ],
            "text/html": [
              "\n",
              "\n",
              "  <div id=\"df-54cdf34d-3540-40a0-998d-2384c0f65f23\">\n",
              "    <div class=\"colab-df-container\">\n",
              "      <div>\n",
              "<style scoped>\n",
              "    .dataframe tbody tr th:only-of-type {\n",
              "        vertical-align: middle;\n",
              "    }\n",
              "\n",
              "    .dataframe tbody tr th {\n",
              "        vertical-align: top;\n",
              "    }\n",
              "\n",
              "    .dataframe thead th {\n",
              "        text-align: right;\n",
              "    }\n",
              "</style>\n",
              "<table border=\"1\" class=\"dataframe\">\n",
              "  <thead>\n",
              "    <tr style=\"text-align: right;\">\n",
              "      <th></th>\n",
              "      <th>total_bill</th>\n",
              "      <th>tip</th>\n",
              "      <th>size</th>\n",
              "      <th>tip_rate</th>\n",
              "    </tr>\n",
              "    <tr>\n",
              "      <th>sex</th>\n",
              "      <th></th>\n",
              "      <th></th>\n",
              "      <th></th>\n",
              "      <th></th>\n",
              "    </tr>\n",
              "  </thead>\n",
              "  <tbody>\n",
              "    <tr>\n",
              "      <th>Male</th>\n",
              "      <td>20.744076</td>\n",
              "      <td>3.089618</td>\n",
              "      <td>2.630573</td>\n",
              "      <td>0.157651</td>\n",
              "    </tr>\n",
              "    <tr>\n",
              "      <th>Female</th>\n",
              "      <td>18.056897</td>\n",
              "      <td>2.833448</td>\n",
              "      <td>2.459770</td>\n",
              "      <td>0.166491</td>\n",
              "    </tr>\n",
              "  </tbody>\n",
              "</table>\n",
              "</div>\n",
              "      <button class=\"colab-df-convert\" onclick=\"convertToInteractive('df-54cdf34d-3540-40a0-998d-2384c0f65f23')\"\n",
              "              title=\"Convert this dataframe to an interactive table.\"\n",
              "              style=\"display:none;\">\n",
              "\n",
              "  <svg xmlns=\"http://www.w3.org/2000/svg\" height=\"24px\"viewBox=\"0 0 24 24\"\n",
              "       width=\"24px\">\n",
              "    <path d=\"M0 0h24v24H0V0z\" fill=\"none\"/>\n",
              "    <path d=\"M18.56 5.44l.94 2.06.94-2.06 2.06-.94-2.06-.94-.94-2.06-.94 2.06-2.06.94zm-11 1L8.5 8.5l.94-2.06 2.06-.94-2.06-.94L8.5 2.5l-.94 2.06-2.06.94zm10 10l.94 2.06.94-2.06 2.06-.94-2.06-.94-.94-2.06-.94 2.06-2.06.94z\"/><path d=\"M17.41 7.96l-1.37-1.37c-.4-.4-.92-.59-1.43-.59-.52 0-1.04.2-1.43.59L10.3 9.45l-7.72 7.72c-.78.78-.78 2.05 0 2.83L4 21.41c.39.39.9.59 1.41.59.51 0 1.02-.2 1.41-.59l7.78-7.78 2.81-2.81c.8-.78.8-2.07 0-2.86zM5.41 20L4 18.59l7.72-7.72 1.47 1.35L5.41 20z\"/>\n",
              "  </svg>\n",
              "      </button>\n",
              "\n",
              "\n",
              "\n",
              "    <div id=\"df-0051d01e-dcf9-4908-9916-867e25380763\">\n",
              "      <button class=\"colab-df-quickchart\" onclick=\"quickchart('df-0051d01e-dcf9-4908-9916-867e25380763')\"\n",
              "              title=\"Suggest charts.\"\n",
              "              style=\"display:none;\">\n",
              "\n",
              "<svg xmlns=\"http://www.w3.org/2000/svg\" height=\"24px\"viewBox=\"0 0 24 24\"\n",
              "     width=\"24px\">\n",
              "    <g>\n",
              "        <path d=\"M19 3H5c-1.1 0-2 .9-2 2v14c0 1.1.9 2 2 2h14c1.1 0 2-.9 2-2V5c0-1.1-.9-2-2-2zM9 17H7v-7h2v7zm4 0h-2V7h2v10zm4 0h-2v-4h2v4z\"/>\n",
              "    </g>\n",
              "</svg>\n",
              "      </button>\n",
              "    </div>\n",
              "\n",
              "<style>\n",
              "  .colab-df-quickchart {\n",
              "    background-color: #E8F0FE;\n",
              "    border: none;\n",
              "    border-radius: 50%;\n",
              "    cursor: pointer;\n",
              "    display: none;\n",
              "    fill: #1967D2;\n",
              "    height: 32px;\n",
              "    padding: 0 0 0 0;\n",
              "    width: 32px;\n",
              "  }\n",
              "\n",
              "  .colab-df-quickchart:hover {\n",
              "    background-color: #E2EBFA;\n",
              "    box-shadow: 0px 1px 2px rgba(60, 64, 67, 0.3), 0px 1px 3px 1px rgba(60, 64, 67, 0.15);\n",
              "    fill: #174EA6;\n",
              "  }\n",
              "\n",
              "  [theme=dark] .colab-df-quickchart {\n",
              "    background-color: #3B4455;\n",
              "    fill: #D2E3FC;\n",
              "  }\n",
              "\n",
              "  [theme=dark] .colab-df-quickchart:hover {\n",
              "    background-color: #434B5C;\n",
              "    box-shadow: 0px 1px 3px 1px rgba(0, 0, 0, 0.15);\n",
              "    filter: drop-shadow(0px 1px 2px rgba(0, 0, 0, 0.3));\n",
              "    fill: #FFFFFF;\n",
              "  }\n",
              "</style>\n",
              "\n",
              "    <script>\n",
              "      async function quickchart(key) {\n",
              "        const containerElement = document.querySelector('#' + key);\n",
              "        const charts = await google.colab.kernel.invokeFunction(\n",
              "            'suggestCharts', [key], {});\n",
              "      }\n",
              "    </script>\n",
              "\n",
              "      <script>\n",
              "\n",
              "function displayQuickchartButton(domScope) {\n",
              "  let quickchartButtonEl =\n",
              "    domScope.querySelector('#df-0051d01e-dcf9-4908-9916-867e25380763 button.colab-df-quickchart');\n",
              "  quickchartButtonEl.style.display =\n",
              "    google.colab.kernel.accessAllowed ? 'block' : 'none';\n",
              "}\n",
              "\n",
              "        displayQuickchartButton(document);\n",
              "      </script>\n",
              "      <style>\n",
              "    .colab-df-container {\n",
              "      display:flex;\n",
              "      flex-wrap:wrap;\n",
              "      gap: 12px;\n",
              "    }\n",
              "\n",
              "    .colab-df-convert {\n",
              "      background-color: #E8F0FE;\n",
              "      border: none;\n",
              "      border-radius: 50%;\n",
              "      cursor: pointer;\n",
              "      display: none;\n",
              "      fill: #1967D2;\n",
              "      height: 32px;\n",
              "      padding: 0 0 0 0;\n",
              "      width: 32px;\n",
              "    }\n",
              "\n",
              "    .colab-df-convert:hover {\n",
              "      background-color: #E2EBFA;\n",
              "      box-shadow: 0px 1px 2px rgba(60, 64, 67, 0.3), 0px 1px 3px 1px rgba(60, 64, 67, 0.15);\n",
              "      fill: #174EA6;\n",
              "    }\n",
              "\n",
              "    [theme=dark] .colab-df-convert {\n",
              "      background-color: #3B4455;\n",
              "      fill: #D2E3FC;\n",
              "    }\n",
              "\n",
              "    [theme=dark] .colab-df-convert:hover {\n",
              "      background-color: #434B5C;\n",
              "      box-shadow: 0px 1px 3px 1px rgba(0, 0, 0, 0.15);\n",
              "      filter: drop-shadow(0px 1px 2px rgba(0, 0, 0, 0.3));\n",
              "      fill: #FFFFFF;\n",
              "    }\n",
              "  </style>\n",
              "\n",
              "      <script>\n",
              "        const buttonEl =\n",
              "          document.querySelector('#df-54cdf34d-3540-40a0-998d-2384c0f65f23 button.colab-df-convert');\n",
              "        buttonEl.style.display =\n",
              "          google.colab.kernel.accessAllowed ? 'block' : 'none';\n",
              "\n",
              "        async function convertToInteractive(key) {\n",
              "          const element = document.querySelector('#df-54cdf34d-3540-40a0-998d-2384c0f65f23');\n",
              "          const dataTable =\n",
              "            await google.colab.kernel.invokeFunction('convertToInteractive',\n",
              "                                                     [key], {});\n",
              "          if (!dataTable) return;\n",
              "\n",
              "          const docLinkHtml = 'Like what you see? Visit the ' +\n",
              "            '<a target=\"_blank\" href=https://colab.research.google.com/notebooks/data_table.ipynb>data table notebook</a>'\n",
              "            + ' to learn more about interactive tables.';\n",
              "          element.innerHTML = '';\n",
              "          dataTable['output_type'] = 'display_data';\n",
              "          await google.colab.output.renderOutput(dataTable, element);\n",
              "          const docLink = document.createElement('div');\n",
              "          docLink.innerHTML = docLinkHtml;\n",
              "          element.appendChild(docLink);\n",
              "        }\n",
              "      </script>\n",
              "    </div>\n",
              "  </div>\n"
            ]
          },
          "metadata": {},
          "execution_count": 12
        }
      ],
      "source": [
        "df.groupby('sex').mean()"
      ]
    },
    {
      "cell_type": "code",
      "execution_count": 13,
      "id": "135670e0-cc11-470f-b2fc-a138c8829da9",
      "metadata": {
        "colab": {
          "base_uri": "https://localhost:8080/"
        },
        "id": "135670e0-cc11-470f-b2fc-a138c8829da9",
        "outputId": "2433efeb-762d-4d20-c001-dd829c3a4bf0"
      },
      "outputs": [
        {
          "output_type": "stream",
          "name": "stderr",
          "text": [
            "<ipython-input-13-8d3759b6e26c>:1: FutureWarning: The default value of numeric_only in DataFrameGroupBy.mean is deprecated. In a future version, numeric_only will default to False. Either specify numeric_only or select only columns which should be valid for the function.\n",
            "  df.groupby('sex').mean()['tip_rate']\n"
          ]
        },
        {
          "output_type": "execute_result",
          "data": {
            "text/plain": [
              "sex\n",
              "Male      0.157651\n",
              "Female    0.166491\n",
              "Name: tip_rate, dtype: float64"
            ]
          },
          "metadata": {},
          "execution_count": 13
        }
      ],
      "source": [
        "df.groupby('sex').mean()['tip_rate']"
      ]
    },
    {
      "cell_type": "code",
      "execution_count": 14,
      "id": "278fdb67-896c-4a18-a2dd-56765c484670",
      "metadata": {
        "colab": {
          "base_uri": "https://localhost:8080/",
          "height": 553
        },
        "id": "278fdb67-896c-4a18-a2dd-56765c484670",
        "outputId": "dbef7734-6a3e-40ef-e570-0ec356f4e1c3"
      },
      "outputs": [
        {
          "output_type": "stream",
          "name": "stderr",
          "text": [
            "<ipython-input-14-9f87472dab9d>:1: FutureWarning: \n",
            "\n",
            "The `ci` parameter is deprecated. Use `errorbar=None` for the same effect.\n",
            "\n",
            "  sns.barplot(x='sex', y='tip_rate', data=df, ci=None)\n"
          ]
        },
        {
          "output_type": "execute_result",
          "data": {
            "text/plain": [
              "<Axes: xlabel='sex', ylabel='tip_rate'>"
            ]
          },
          "metadata": {},
          "execution_count": 14
        },
        {
          "output_type": "display_data",
          "data": {
            "text/plain": [
              "<Figure size 640x480 with 1 Axes>"
            ],
            "image/png": "[encoded data removed]"
          },
          "metadata": {}
        }
      ],
      "source": [
        "sns.barplot(x='sex', y='tip_rate', data=df, ci=None)"
      ]
    },
    {
      "cell_type": "markdown",
      "id": "da42d3f6-9d30-4258-a97c-8aa8a7d155ad",
      "metadata": {
        "id": "da42d3f6-9d30-4258-a97c-8aa8a7d155ad"
      },
      "source": [
        "# 中央値"
      ]
    },
    {
      "cell_type": "code",
      "execution_count": 15,
      "id": "3c69c0a3-9388-4a80-bce5-b9c9fac7997f",
      "metadata": {
        "colab": {
          "base_uri": "https://localhost:8080/"
        },
        "id": "3c69c0a3-9388-4a80-bce5-b9c9fac7997f",
        "outputId": "b2c049c5-e19b-4380-af94-1e93708c839e"
      },
      "outputs": [
        {
          "output_type": "execute_result",
          "data": {
            "text/plain": [
              "0.15476977125802577"
            ]
          },
          "metadata": {},
          "execution_count": 15
        }
      ],
      "source": [
        "np.median(df['tip_rate'])"
      ]
    },
    {
      "cell_type": "code",
      "execution_count": 16,
      "id": "27c5493d-ef83-430a-af8b-ce91b1a0362c",
      "metadata": {
        "colab": {
          "base_uri": "https://localhost:8080/"
        },
        "id": "27c5493d-ef83-430a-af8b-ce91b1a0362c",
        "outputId": "8903d168-9519-4400-fee0-b1802aeb51a3"
      },
      "outputs": [
        {
          "output_type": "execute_result",
          "data": {
            "text/plain": [
              "0      0.059447\n",
              "1      0.160542\n",
              "2      0.166587\n",
              "3      0.139780\n",
              "4      0.146808\n",
              "         ...   \n",
              "239    0.203927\n",
              "240    0.073584\n",
              "241    0.088222\n",
              "242    0.098204\n",
              "243    0.159744\n",
              "Name: tip_rate, Length: 244, dtype: float64"
            ]
          },
          "metadata": {},
          "execution_count": 16
        }
      ],
      "source": [
        "df['tip_rate']"
      ]
    },
    {
      "cell_type": "code",
      "execution_count": 17,
      "id": "37f702a1-3a42-42ad-afd2-b3ed9f92101a",
      "metadata": {
        "colab": {
          "base_uri": "https://localhost:8080/",
          "height": 523
        },
        "id": "37f702a1-3a42-42ad-afd2-b3ed9f92101a",
        "outputId": "b185274c-4bf3-4427-fe88-54d084986742"
      },
      "outputs": [
        {
          "output_type": "execute_result",
          "data": {
            "text/plain": [
              "<seaborn.axisgrid.FacetGrid at 0x7c4792c40910>"
            ]
          },
          "metadata": {},
          "execution_count": 17
        },
        {
          "output_type": "display_data",
          "data": {
            "text/plain": [
              "<Figure size 500x500 with 1 Axes>"
            ],
            "image/png": "[encoded data removed]"
          },
          "metadata": {}
        }
      ],
      "source": [
        "sns.displot(df['tip_rate'], kde = False)"
      ]
    },
    {
      "cell_type": "code",
      "execution_count": 18,
      "id": "cb4d76e7-c151-4b55-9f52-8042b3332dd0",
      "metadata": {
        "colab": {
          "base_uri": "https://localhost:8080/"
        },
        "id": "cb4d76e7-c151-4b55-9f52-8042b3332dd0",
        "outputId": "1c193430-5306-465e-ab37-ed9538c295fd"
      },
      "outputs": [
        {
          "output_type": "execute_result",
          "data": {
            "text/plain": [
              "0.15476977125802577"
            ]
          },
          "metadata": {},
          "execution_count": 18
        }
      ],
      "source": [
        "df['tip_rate'].median()"
      ]
    },
    {
      "cell_type": "code",
      "execution_count": 19,
      "id": "988ff2c6-087b-449b-9928-01cd1e401b59",
      "metadata": {
        "colab": {
          "base_uri": "https://localhost:8080/",
          "height": 198
        },
        "id": "988ff2c6-087b-449b-9928-01cd1e401b59",
        "outputId": "7b1e4d98-325b-404a-be16-d786cd60ca2a"
      },
      "outputs": [
        {
          "output_type": "stream",
          "name": "stderr",
          "text": [
            "<ipython-input-19-bfa094082cee>:1: FutureWarning: The default value of numeric_only in DataFrameGroupBy.median is deprecated. In a future version, numeric_only will default to False. Either specify numeric_only or select only columns which should be valid for the function.\n",
            "  df.groupby('sex').median()\n"
          ]
        },
        {
          "output_type": "execute_result",
          "data": {
            "text/plain": [
              "        total_bill   tip  size  tip_rate\n",
              "sex                                     \n",
              "Male         18.35  3.00   2.0  0.153492\n",
              "Female       16.40  2.75   2.0  0.155581"
            ],
            "text/html": [
              "\n",
              "\n",
              "  <div id=\"df-b5de2a4c-6630-4a61-a04f-9ac2a3d18c02\">\n",
              "    <div class=\"colab-df-container\">\n",
              "      <div>\n",
              "<style scoped>\n",
              "    .dataframe tbody tr th:only-of-type {\n",
              "        vertical-align: middle;\n",
              "    }\n",
              "\n",
              "    .dataframe tbody tr th {\n",
              "        vertical-align: top;\n",
              "    }\n",
              "\n",
              "    .dataframe thead th {\n",
              "        text-align: right;\n",
              "    }\n",
              "</style>\n",
              "<table border=\"1\" class=\"dataframe\">\n",
              "  <thead>\n",
              "    <tr style=\"text-align: right;\">\n",
              "      <th></th>\n",
              "      <th>total_bill</th>\n",
              "      <th>tip</th>\n",
              "      <th>size</th>\n",
              "      <th>tip_rate</th>\n",
              "    </tr>\n",
              "    <tr>\n",
              "      <th>sex</th>\n",
              "      <th></th>\n",
              "      <th></th>\n",
              "      <th></th>\n",
              "      <th></th>\n",
              "    </tr>\n",
              "  </thead>\n",
              "  <tbody>\n",
              "    <tr>\n",
              "      <th>Male</th>\n",
              "      <td>18.35</td>\n",
              "      <td>3.00</td>\n",
              "      <td>2.0</td>\n",
              "      <td>0.153492</td>\n",
              "    </tr>\n",
              "    <tr>\n",
              "      <th>Female</th>\n",
              "      <td>16.40</td>\n",
              "      <td>2.75</td>\n",
              "      <td>2.0</td>\n",
              "      <td>0.155581</td>\n",
              "    </tr>\n",
              "  </tbody>\n",
              "</table>\n",
              "</div>\n",
              "      <button class=\"colab-df-convert\" onclick=\"convertToInteractive('df-b5de2a4c-6630-4a61-a04f-9ac2a3d18c02')\"\n",
              "              title=\"Convert this dataframe to an interactive table.\"\n",
              "              style=\"display:none;\">\n",
              "\n",
              "  <svg xmlns=\"http://www.w3.org/2000/svg\" height=\"24px\"viewBox=\"0 0 24 24\"\n",
              "       width=\"24px\">\n",
              "    <path d=\"M0 0h24v24H0V0z\" fill=\"none\"/>\n",
              "    <path d=\"M18.56 5.44l.94 2.06.94-2.06 2.06-.94-2.06-.94-.94-2.06-.94 2.06-2.06.94zm-11 1L8.5 8.5l.94-2.06 2.06-.94-2.06-.94L8.5 2.5l-.94 2.06-2.06.94zm10 10l.94 2.06.94-2.06 2.06-.94-2.06-.94-.94-2.06-.94 2.06-2.06.94z\"/><path d=\"M17.41 7.96l-1.37-1.37c-.4-.4-.92-.59-1.43-.59-.52 0-1.04.2-1.43.59L10.3 9.45l-7.72 7.72c-.78.78-.78 2.05 0 2.83L4 21.41c.39.39.9.59 1.41.59.51 0 1.02-.2 1.41-.59l7.78-7.78 2.81-2.81c.8-.78.8-2.07 0-2.86zM5.41 20L4 18.59l7.72-7.72 1.47 1.35L5.41 20z\"/>\n",
              "  </svg>\n",
              "      </button>\n",
              "\n",
              "\n",
              "\n",
              "    <div id=\"df-413cda9c-050e-46bd-a083-f68be35b68f2\">\n",
              "      <button class=\"colab-df-quickchart\" onclick=\"quickchart('df-413cda9c-050e-46bd-a083-f68be35b68f2')\"\n",
              "              title=\"Suggest charts.\"\n",
              "              style=\"display:none;\">\n",
              "\n",
              "<svg xmlns=\"http://www.w3.org/2000/svg\" height=\"24px\"viewBox=\"0 0 24 24\"\n",
              "     width=\"24px\">\n",
              "    <g>\n",
              "        <path d=\"M19 3H5c-1.1 0-2 .9-2 2v14c0 1.1.9 2 2 2h14c1.1 0 2-.9 2-2V5c0-1.1-.9-2-2-2zM9 17H7v-7h2v7zm4 0h-2V7h2v10zm4 0h-2v-4h2v4z\"/>\n",
              "    </g>\n",
              "</svg>\n",
              "      </button>\n",
              "    </div>\n",
              "\n",
              "<style>\n",
              "  .colab-df-quickchart {\n",
              "    background-color: #E8F0FE;\n",
              "    border: none;\n",
              "    border-radius: 50%;\n",
              "    cursor: pointer;\n",
              "    display: none;\n",
              "    fill: #1967D2;\n",
              "    height: 32px;\n",
              "    padding: 0 0 0 0;\n",
              "    width: 32px;\n",
              "  }\n",
              "\n",
              "  .colab-df-quickchart:hover {\n",
              "    background-color: #E2EBFA;\n",
              "    box-shadow: 0px 1px 2px rgba(60, 64, 67, 0.3), 0px 1px 3px 1px rgba(60, 64, 67, 0.15);\n",
              "    fill: #174EA6;\n",
              "  }\n",
              "\n",
              "  [theme=dark] .colab-df-quickchart {\n",
              "    background-color: #3B4455;\n",
              "    fill: #D2E3FC;\n",
              "  }\n",
              "\n",
              "  [theme=dark] .colab-df-quickchart:hover {\n",
              "    background-color: #434B5C;\n",
              "    box-shadow: 0px 1px 3px 1px rgba(0, 0, 0, 0.15);\n",
              "    filter: drop-shadow(0px 1px 2px rgba(0, 0, 0, 0.3));\n",
              "    fill: #FFFFFF;\n",
              "  }\n",
              "</style>\n",
              "\n",
              "    <script>\n",
              "      async function quickchart(key) {\n",
              "        const containerElement = document.querySelector('#' + key);\n",
              "        const charts = await google.colab.kernel.invokeFunction(\n",
              "            'suggestCharts', [key], {});\n",
              "      }\n",
              "    </script>\n",
              "\n",
              "      <script>\n",
              "\n",
              "function displayQuickchartButton(domScope) {\n",
              "  let quickchartButtonEl =\n",
              "    domScope.querySelector('#df-413cda9c-050e-46bd-a083-f68be35b68f2 button.colab-df-quickchart');\n",
              "  quickchartButtonEl.style.display =\n",
              "    google.colab.kernel.accessAllowed ? 'block' : 'none';\n",
              "}\n",
              "\n",
              "        displayQuickchartButton(document);\n",
              "      </script>\n",
              "      <style>\n",
              "    .colab-df-container {\n",
              "      display:flex;\n",
              "      flex-wrap:wrap;\n",
              "      gap: 12px;\n",
              "    }\n",
              "\n",
              "    .colab-df-convert {\n",
              "      background-color: #E8F0FE;\n",
              "      border: none;\n",
              "      border-radius: 50%;\n",
              "      cursor: pointer;\n",
              "      display: none;\n",
              "      fill: #1967D2;\n",
              "      height: 32px;\n",
              "      padding: 0 0 0 0;\n",
              "      width: 32px;\n",
              "    }\n",
              "\n",
              "    .colab-df-convert:hover {\n",
              "      background-color: #E2EBFA;\n",
              "      box-shadow: 0px 1px 2px rgba(60, 64, 67, 0.3), 0px 1px 3px 1px rgba(60, 64, 67, 0.15);\n",
              "      fill: #174EA6;\n",
              "    }\n",
              "\n",
              "    [theme=dark] .colab-df-convert {\n",
              "      background-color: #3B4455;\n",
              "      fill: #D2E3FC;\n",
              "    }\n",
              "\n",
              "    [theme=dark] .colab-df-convert:hover {\n",
              "      background-color: #434B5C;\n",
              "      box-shadow: 0px 1px 3px 1px rgba(0, 0, 0, 0.15);\n",
              "      filter: drop-shadow(0px 1px 2px rgba(0, 0, 0, 0.3));\n",
              "      fill: #FFFFFF;\n",
              "    }\n",
              "  </style>\n",
              "\n",
              "      <script>\n",
              "        const buttonEl =\n",
              "          document.querySelector('#df-b5de2a4c-6630-4a61-a04f-9ac2a3d18c02 button.colab-df-convert');\n",
              "        buttonEl.style.display =\n",
              "          google.colab.kernel.accessAllowed ? 'block' : 'none';\n",
              "\n",
              "        async function convertToInteractive(key) {\n",
              "          const element = document.querySelector('#df-b5de2a4c-6630-4a61-a04f-9ac2a3d18c02');\n",
              "          const dataTable =\n",
              "            await google.colab.kernel.invokeFunction('convertToInteractive',\n",
              "                                                     [key], {});\n",
              "          if (!dataTable) return;\n",
              "\n",
              "          const docLinkHtml = 'Like what you see? Visit the ' +\n",
              "            '<a target=\"_blank\" href=https://colab.research.google.com/notebooks/data_table.ipynb>data table notebook</a>'\n",
              "            + ' to learn more about interactive tables.';\n",
              "          element.innerHTML = '';\n",
              "          dataTable['output_type'] = 'display_data';\n",
              "          await google.colab.output.renderOutput(dataTable, element);\n",
              "          const docLink = document.createElement('div');\n",
              "          docLink.innerHTML = docLinkHtml;\n",
              "          element.appendChild(docLink);\n",
              "        }\n",
              "      </script>\n",
              "    </div>\n",
              "  </div>\n"
            ]
          },
          "metadata": {},
          "execution_count": 19
        }
      ],
      "source": [
        "df.groupby('sex').median()"
      ]
    },
    {
      "cell_type": "code",
      "execution_count": 20,
      "id": "de7b3b5b-3f85-4ebd-b610-652df82a6e56",
      "metadata": {
        "colab": {
          "base_uri": "https://localhost:8080/",
          "height": 553
        },
        "id": "de7b3b5b-3f85-4ebd-b610-652df82a6e56",
        "outputId": "4bb2feec-006a-4ab1-b182-dcc8f93f88af"
      },
      "outputs": [
        {
          "output_type": "stream",
          "name": "stderr",
          "text": [
            "<ipython-input-20-5d13bd970d2d>:1: FutureWarning: \n",
            "\n",
            "The `ci` parameter is deprecated. Use `errorbar=None` for the same effect.\n",
            "\n",
            "  sns.barplot(data=df, x=\"sex\", y=\"tip_rate\", estimator= np.median, ci=None)\n"
          ]
        },
        {
          "output_type": "execute_result",
          "data": {
            "text/plain": [
              "<Axes: xlabel='sex', ylabel='tip_rate'>"
            ]
          },
          "metadata": {},
          "execution_count": 20
        },
        {
          "output_type": "display_data",
          "data": {
            "text/plain": [
              "<Figure size 640x480 with 1 Axes>"
            ],
            "image/png": "[encoded data removed]"
          },
          "metadata": {}
        }
      ],
      "source": [
        "sns.barplot(data=df, x=\"sex\", y=\"tip_rate\", estimator= np.median, ci=None)"
      ]
    },
    {
      "cell_type": "code",
      "execution_count": 21,
      "id": "27ed6f75-6b97-4d68-bc22-8efd0c5445df",
      "metadata": {
        "colab": {
          "base_uri": "https://localhost:8080/",
          "height": 424
        },
        "id": "27ed6f75-6b97-4d68-bc22-8efd0c5445df",
        "outputId": "0767f5ac-b9df-4c24-95a4-179e0d7c8535"
      },
      "outputs": [
        {
          "output_type": "execute_result",
          "data": {
            "text/plain": [
              "     total_bill   tip     sex smoker  day    time  size  tip_rate\n",
              "237       32.83  1.17    Male    Yes  Sat  Dinner     2  0.035638\n",
              "102       44.30  2.50  Female    Yes  Sat  Dinner     3  0.056433\n",
              "57        26.41  1.50  Female     No  Sat  Dinner     2  0.056797\n",
              "0         16.99  1.01  Female     No  Sun  Dinner     2  0.059447\n",
              "187       30.46  2.00    Male    Yes  Sun  Dinner     5  0.065660\n",
              "..          ...   ...     ...    ...  ...     ...   ...       ...\n",
              "183       23.17  6.50    Male    Yes  Sun  Dinner     4  0.280535\n",
              "232       11.61  3.39    Male     No  Sat  Dinner     2  0.291990\n",
              "67         3.07  1.00  Female    Yes  Sat  Dinner     1  0.325733\n",
              "178        9.60  4.00  Female    Yes  Sun  Dinner     2  0.416667\n",
              "172        7.25  5.15    Male    Yes  Sun  Dinner     2  0.710345\n",
              "\n",
              "[244 rows x 8 columns]"
            ],
            "text/html": [
              "\n",
              "\n",
              "  <div id=\"df-dcbb941c-b4ac-4d91-8ee3-f960dbfaad4b\">\n",
              "    <div class=\"colab-df-container\">\n",
              "      <div>\n",
              "<style scoped>\n",
              "    .dataframe tbody tr th:only-of-type {\n",
              "        vertical-align: middle;\n",
              "    }\n",
              "\n",
              "    .dataframe tbody tr th {\n",
              "        vertical-align: top;\n",
              "    }\n",
              "\n",
              "    .dataframe thead th {\n",
              "        text-align: right;\n",
              "    }\n",
              "</style>\n",
              "<table border=\"1\" class=\"dataframe\">\n",
              "  <thead>\n",
              "    <tr style=\"text-align: right;\">\n",
              "      <th></th>\n",
              "      <th>total_bill</th>\n",
              "      <th>tip</th>\n",
              "      <th>sex</th>\n",
              "      <th>smoker</th>\n",
              "      <th>day</th>\n",
              "      <th>time</th>\n",
              "      <th>size</th>\n",
              "      <th>tip_rate</th>\n",
              "    </tr>\n",
              "  </thead>\n",
              "  <tbody>\n",
              "    <tr>\n",
              "      <th>237</th>\n",
              "      <td>32.83</td>\n",
              "      <td>1.17</td>\n",
              "      <td>Male</td>\n",
              "      <td>Yes</td>\n",
              "      <td>Sat</td>\n",
              "      <td>Dinner</td>\n",
              "      <td>2</td>\n",
              "      <td>0.035638</td>\n",
              "    </tr>\n",
              "    <tr>\n",
              "      <th>102</th>\n",
              "      <td>44.30</td>\n",
              "      <td>2.50</td>\n",
              "      <td>Female</td>\n",
              "      <td>Yes</td>\n",
              "      <td>Sat</td>\n",
              "      <td>Dinner</td>\n",
              "      <td>3</td>\n",
              "      <td>0.056433</td>\n",
              "    </tr>\n",
              "    <tr>\n",
              "      <th>57</th>\n",
              "      <td>26.41</td>\n",
              "      <td>1.50</td>\n",
              "      <td>Female</td>\n",
              "      <td>No</td>\n",
              "      <td>Sat</td>\n",
              "      <td>Dinner</td>\n",
              "      <td>2</td>\n",
              "      <td>0.056797</td>\n",
              "    </tr>\n",
              "    <tr>\n",
              "      <th>0</th>\n",
              "      <td>16.99</td>\n",
              "      <td>1.01</td>\n",
              "      <td>Female</td>\n",
              "      <td>No</td>\n",
              "      <td>Sun</td>\n",
              "      <td>Dinner</td>\n",
              "      <td>2</td>\n",
              "      <td>0.059447</td>\n",
              "    </tr>\n",
              "    <tr>\n",
              "      <th>187</th>\n",
              "      <td>30.46</td>\n",
              "      <td>2.00</td>\n",
              "      <td>Male</td>\n",
              "      <td>Yes</td>\n",
              "      <td>Sun</td>\n",
              "      <td>Dinner</td>\n",
              "      <td>5</td>\n",
              "      <td>0.065660</td>\n",
              "    </tr>\n",
              "    <tr>\n",
              "      <th>...</th>\n",
              "      <td>...</td>\n",
              "      <td>...</td>\n",
              "      <td>...</td>\n",
              "      <td>...</td>\n",
              "      <td>...</td>\n",
              "      <td>...</td>\n",
              "      <td>...</td>\n",
              "      <td>...</td>\n",
              "    </tr>\n",
              "    <tr>\n",
              "      <th>183</th>\n",
              "      <td>23.17</td>\n",
              "      <td>6.50</td>\n",
              "      <td>Male</td>\n",
              "      <td>Yes</td>\n",
              "      <td>Sun</td>\n",
              "      <td>Dinner</td>\n",
              "      <td>4</td>\n",
              "      <td>0.280535</td>\n",
              "    </tr>\n",
              "    <tr>\n",
              "      <th>232</th>\n",
              "      <td>11.61</td>\n",
              "      <td>3.39</td>\n",
              "      <td>Male</td>\n",
              "      <td>No</td>\n",
              "      <td>Sat</td>\n",
              "      <td>Dinner</td>\n",
              "      <td>2</td>\n",
              "      <td>0.291990</td>\n",
              "    </tr>\n",
              "    <tr>\n",
              "      <th>67</th>\n",
              "      <td>3.07</td>\n",
              "      <td>1.00</td>\n",
              "      <td>Female</td>\n",
              "      <td>Yes</td>\n",
              "      <td>Sat</td>\n",
              "      <td>Dinner</td>\n",
              "      <td>1</td>\n",
              "      <td>0.325733</td>\n",
              "    </tr>\n",
              "    <tr>\n",
              "      <th>178</th>\n",
              "      <td>9.60</td>\n",
              "      <td>4.00</td>\n",
              "      <td>Female</td>\n",
              "      <td>Yes</td>\n",
              "      <td>Sun</td>\n",
              "      <td>Dinner</td>\n",
              "      <td>2</td>\n",
              "      <td>0.416667</td>\n",
              "    </tr>\n",
              "    <tr>\n",
              "      <th>172</th>\n",
              "      <td>7.25</td>\n",
              "      <td>5.15</td>\n",
              "      <td>Male</td>\n",
              "      <td>Yes</td>\n",
              "      <td>Sun</td>\n",
              "      <td>Dinner</td>\n",
              "      <td>2</td>\n",
              "      <td>0.710345</td>\n",
              "    </tr>\n",
              "  </tbody>\n",
              "</table>\n",
              "<p>244 rows × 8 columns</p>\n",
              "</div>\n",
              "      <button class=\"colab-df-convert\" onclick=\"convertToInteractive('df-dcbb941c-b4ac-4d91-8ee3-f960dbfaad4b')\"\n",
              "              title=\"Convert this dataframe to an interactive table.\"\n",
              "              style=\"display:none;\">\n",
              "\n",
              "  <svg xmlns=\"http://www.w3.org/2000/svg\" height=\"24px\"viewBox=\"0 0 24 24\"\n",
              "       width=\"24px\">\n",
              "    <path d=\"M0 0h24v24H0V0z\" fill=\"none\"/>\n",
              "    <path d=\"M18.56 5.44l.94 2.06.94-2.06 2.06-.94-2.06-.94-.94-2.06-.94 2.06-2.06.94zm-11 1L8.5 8.5l.94-2.06 2.06-.94-2.06-.94L8.5 2.5l-.94 2.06-2.06.94zm10 10l.94 2.06.94-2.06 2.06-.94-2.06-.94-.94-2.06-.94 2.06-2.06.94z\"/><path d=\"M17.41 7.96l-1.37-1.37c-.4-.4-.92-.59-1.43-.59-.52 0-1.04.2-1.43.59L10.3 9.45l-7.72 7.72c-.78.78-.78 2.05 0 2.83L4 21.41c.39.39.9.59 1.41.59.51 0 1.02-.2 1.41-.59l7.78-7.78 2.81-2.81c.8-.78.8-2.07 0-2.86zM5.41 20L4 18.59l7.72-7.72 1.47 1.35L5.41 20z\"/>\n",
              "  </svg>\n",
              "      </button>\n",
              "\n",
              "\n",
              "\n",
              "    <div id=\"df-32fc2d08-0067-44ee-970a-e7e0c13710b6\">\n",
              "      <button class=\"colab-df-quickchart\" onclick=\"quickchart('df-32fc2d08-0067-44ee-970a-e7e0c13710b6')\"\n",
              "              title=\"Suggest charts.\"\n",
              "              style=\"display:none;\">\n",
              "\n",
              "<svg xmlns=\"http://www.w3.org/2000/svg\" height=\"24px\"viewBox=\"0 0 24 24\"\n",
              "     width=\"24px\">\n",
              "    <g>\n",
              "        <path d=\"M19 3H5c-1.1 0-2 .9-2 2v14c0 1.1.9 2 2 2h14c1.1 0 2-.9 2-2V5c0-1.1-.9-2-2-2zM9 17H7v-7h2v7zm4 0h-2V7h2v10zm4 0h-2v-4h2v4z\"/>\n",
              "    </g>\n",
              "</svg>\n",
              "      </button>\n",
              "    </div>\n",
              "\n",
              "<style>\n",
              "  .colab-df-quickchart {\n",
              "    background-color: #E8F0FE;\n",
              "    border: none;\n",
              "    border-radius: 50%;\n",
              "    cursor: pointer;\n",
              "    display: none;\n",
              "    fill: #1967D2;\n",
              "    height: 32px;\n",
              "    padding: 0 0 0 0;\n",
              "    width: 32px;\n",
              "  }\n",
              "\n",
              "  .colab-df-quickchart:hover {\n",
              "    background-color: #E2EBFA;\n",
              "    box-shadow: 0px 1px 2px rgba(60, 64, 67, 0.3), 0px 1px 3px 1px rgba(60, 64, 67, 0.15);\n",
              "    fill: #174EA6;\n",
              "  }\n",
              "\n",
              "  [theme=dark] .colab-df-quickchart {\n",
              "    background-color: #3B4455;\n",
              "    fill: #D2E3FC;\n",
              "  }\n",
              "\n",
              "  [theme=dark] .colab-df-quickchart:hover {\n",
              "    background-color: #434B5C;\n",
              "    box-shadow: 0px 1px 3px 1px rgba(0, 0, 0, 0.15);\n",
              "    filter: drop-shadow(0px 1px 2px rgba(0, 0, 0, 0.3));\n",
              "    fill: #FFFFFF;\n",
              "  }\n",
              "</style>\n",
              "\n",
              "    <script>\n",
              "      async function quickchart(key) {\n",
              "        const containerElement = document.querySelector('#' + key);\n",
              "        const charts = await google.colab.kernel.invokeFunction(\n",
              "            'suggestCharts', [key], {});\n",
              "      }\n",
              "    </script>\n",
              "\n",
              "      <script>\n",
              "\n",
              "function displayQuickchartButton(domScope) {\n",
              "  let quickchartButtonEl =\n",
              "    domScope.querySelector('#df-32fc2d08-0067-44ee-970a-e7e0c13710b6 button.colab-df-quickchart');\n",
              "  quickchartButtonEl.style.display =\n",
              "    google.colab.kernel.accessAllowed ? 'block' : 'none';\n",
              "}\n",
              "\n",
              "        displayQuickchartButton(document);\n",
              "      </script>\n",
              "      <style>\n",
              "    .colab-df-container {\n",
              "      display:flex;\n",
              "      flex-wrap:wrap;\n",
              "      gap: 12px;\n",
              "    }\n",
              "\n",
              "    .colab-df-convert {\n",
              "      background-color: #E8F0FE;\n",
              "      border: none;\n",
              "      border-radius: 50%;\n",
              "      cursor: pointer;\n",
              "      display: none;\n",
              "      fill: #1967D2;\n",
              "      height: 32px;\n",
              "      padding: 0 0 0 0;\n",
              "      width: 32px;\n",
              "    }\n",
              "\n",
              "    .colab-df-convert:hover {\n",
              "      background-color: #E2EBFA;\n",
              "      box-shadow: 0px 1px 2px rgba(60, 64, 67, 0.3), 0px 1px 3px 1px rgba(60, 64, 67, 0.15);\n",
              "      fill: #174EA6;\n",
              "    }\n",
              "\n",
              "    [theme=dark] .colab-df-convert {\n",
              "      background-color: #3B4455;\n",
              "      fill: #D2E3FC;\n",
              "    }\n",
              "\n",
              "    [theme=dark] .colab-df-convert:hover {\n",
              "      background-color: #434B5C;\n",
              "      box-shadow: 0px 1px 3px 1px rgba(0, 0, 0, 0.15);\n",
              "      filter: drop-shadow(0px 1px 2px rgba(0, 0, 0, 0.3));\n",
              "      fill: #FFFFFF;\n",
              "    }\n",
              "  </style>\n",
              "\n",
              "      <script>\n",
              "        const buttonEl =\n",
              "          document.querySelector('#df-dcbb941c-b4ac-4d91-8ee3-f960dbfaad4b button.colab-df-convert');\n",
              "        buttonEl.style.display =\n",
              "          google.colab.kernel.accessAllowed ? 'block' : 'none';\n",
              "\n",
              "        async function convertToInteractive(key) {\n",
              "          const element = document.querySelector('#df-dcbb941c-b4ac-4d91-8ee3-f960dbfaad4b');\n",
              "          const dataTable =\n",
              "            await google.colab.kernel.invokeFunction('convertToInteractive',\n",
              "                                                     [key], {});\n",
              "          if (!dataTable) return;\n",
              "\n",
              "          const docLinkHtml = 'Like what you see? Visit the ' +\n",
              "            '<a target=\"_blank\" href=https://colab.research.google.com/notebooks/data_table.ipynb>data table notebook</a>'\n",
              "            + ' to learn more about interactive tables.';\n",
              "          element.innerHTML = '';\n",
              "          dataTable['output_type'] = 'display_data';\n",
              "          await google.colab.output.renderOutput(dataTable, element);\n",
              "          const docLink = document.createElement('div');\n",
              "          docLink.innerHTML = docLinkHtml;\n",
              "          element.appendChild(docLink);\n",
              "        }\n",
              "      </script>\n",
              "    </div>\n",
              "  </div>\n"
            ]
          },
          "metadata": {},
          "execution_count": 21
        }
      ],
      "source": [
        "df.sort_values('tip_rate', ascending=True)"
      ]
    },
    {
      "cell_type": "markdown",
      "id": "d0d7a785-5a1a-47d3-92e6-8c32584dc906",
      "metadata": {
        "id": "d0d7a785-5a1a-47d3-92e6-8c32584dc906"
      },
      "source": [
        "# 最頻値"
      ]
    },
    {
      "cell_type": "code",
      "execution_count": 22,
      "id": "c2eb107f-2100-467a-88e3-81d33368ec69",
      "metadata": {
        "colab": {
          "base_uri": "https://localhost:8080/"
        },
        "id": "c2eb107f-2100-467a-88e3-81d33368ec69",
        "outputId": "49b9e56d-c526-4ed7-b414-66c8302d3b0a"
      },
      "outputs": [
        {
          "output_type": "stream",
          "name": "stdout",
          "text": [
            "mode:[[13.42 2.0 'Male' 'No' 'Sat' 'Dinner' 2 0.1448225923244026]]\n",
            "count:[[  3  33 157 151  87 176 156   2]]\n"
          ]
        },
        {
          "output_type": "stream",
          "name": "stderr",
          "text": [
            "<ipython-input-22-04bb958efbaf>:1: FutureWarning: Unlike other reduction functions (e.g. `skew`, `kurtosis`), the default behavior of `mode` typically preserves the axis it acts along. In SciPy 1.11.0, this behavior will change: the default value of `keepdims` will become False, the `axis` over which the statistic is taken will be eliminated, and the value None will no longer be accepted. Set `keepdims` to True or False to avoid this warning.\n",
            "  mode, count = stats.mode(df)\n",
            "<ipython-input-22-04bb958efbaf>:1: DeprecationWarning: Support for non-numeric arrays has been deprecated as of SciPy 1.9.0 and will be removed in 1.11.0. `pandas.DataFrame.mode` can be used instead, see https://pandas.pydata.org/docs/reference/api/pandas.DataFrame.mode.html.\n",
            "  mode, count = stats.mode(df)\n"
          ]
        }
      ],
      "source": [
        "mode, count = stats.mode(df)\n",
        "\n",
        "print(f'mode:{mode}')\n",
        "print(f'count:{count}')"
      ]
    },
    {
      "cell_type": "code",
      "execution_count": 23,
      "id": "da786ec4-4ae0-4af7-8242-cac911c55821",
      "metadata": {
        "colab": {
          "base_uri": "https://localhost:8080/"
        },
        "id": "da786ec4-4ae0-4af7-8242-cac911c55821",
        "outputId": "aaa32b2e-840b-4203-fb98-3ce181153c0a"
      },
      "outputs": [
        {
          "output_type": "execute_result",
          "data": {
            "text/plain": [
              "0    2\n",
              "Name: size, dtype: int64"
            ]
          },
          "metadata": {},
          "execution_count": 23
        }
      ],
      "source": [
        "df['size'].mode()"
      ]
    },
    {
      "cell_type": "code",
      "execution_count": 24,
      "id": "acbf5713-7bb8-46e5-b415-2953c827b334",
      "metadata": {
        "colab": {
          "base_uri": "https://localhost:8080/"
        },
        "id": "acbf5713-7bb8-46e5-b415-2953c827b334",
        "outputId": "ceee464d-2fdf-4052-a667-b26e3d2dd6e6"
      },
      "outputs": [
        {
          "output_type": "stream",
          "name": "stdout",
          "text": [
            "mode:[2]\n",
            "count:[156]\n"
          ]
        },
        {
          "output_type": "stream",
          "name": "stderr",
          "text": [
            "<ipython-input-24-859dc3e9bb21>:1: FutureWarning: Unlike other reduction functions (e.g. `skew`, `kurtosis`), the default behavior of `mode` typically preserves the axis it acts along. In SciPy 1.11.0, this behavior will change: the default value of `keepdims` will become False, the `axis` over which the statistic is taken will be eliminated, and the value None will no longer be accepted. Set `keepdims` to True or False to avoid this warning.\n",
            "  mode, count = stats.mode(df['size'])\n"
          ]
        }
      ],
      "source": [
        "mode, count = stats.mode(df['size'])\n",
        "\n",
        "print(f'mode:{mode}')\n",
        "print(f'count:{count}')"
      ]
    },
    {
      "cell_type": "code",
      "execution_count": 25,
      "id": "565dc974-644b-45f4-af81-b5af22fd6f99",
      "metadata": {
        "colab": {
          "base_uri": "https://localhost:8080/"
        },
        "id": "565dc974-644b-45f4-af81-b5af22fd6f99",
        "outputId": "1c5eacf1-2c20-4fdf-b877-769ee2d532a5"
      },
      "outputs": [
        {
          "output_type": "stream",
          "name": "stdout",
          "text": [
            "mode:[0.14482259]\n",
            "count:[2]\n"
          ]
        },
        {
          "output_type": "stream",
          "name": "stderr",
          "text": [
            "<ipython-input-25-24314f5c359c>:1: FutureWarning: Unlike other reduction functions (e.g. `skew`, `kurtosis`), the default behavior of `mode` typically preserves the axis it acts along. In SciPy 1.11.0, this behavior will change: the default value of `keepdims` will become False, the `axis` over which the statistic is taken will be eliminated, and the value None will no longer be accepted. Set `keepdims` to True or False to avoid this warning.\n",
            "  mode, count = stats.mode(df['tip_rate'])\n"
          ]
        }
      ],
      "source": [
        "mode, count = stats.mode(df['tip_rate'])\n",
        "\n",
        "print(f'mode:{mode}')\n",
        "print(f'count:{count}')"
      ]
    },
    {
      "cell_type": "code",
      "execution_count": 26,
      "id": "0148115d-7b46-40e5-ba47-1ebf283373b9",
      "metadata": {
        "id": "0148115d-7b46-40e5-ba47-1ebf283373b9"
      },
      "outputs": [],
      "source": [
        "# 範囲（Range）"
      ]
    },
    {
      "cell_type": "code",
      "execution_count": 27,
      "id": "90178523-0beb-4807-8a2c-ea3bfaac8493",
      "metadata": {
        "colab": {
          "base_uri": "https://localhost:8080/"
        },
        "id": "90178523-0beb-4807-8a2c-ea3bfaac8493",
        "outputId": "8782cb14-d05b-4afa-ae26-a67c23899bbd"
      },
      "outputs": [
        {
          "output_type": "execute_result",
          "data": {
            "text/plain": [
              "1.0"
            ]
          },
          "metadata": {},
          "execution_count": 27
        }
      ],
      "source": [
        "np.min(df['tip'])"
      ]
    },
    {
      "cell_type": "code",
      "execution_count": 28,
      "id": "0a5e8b88-56cb-4ae0-a3c4-64694222cf4d",
      "metadata": {
        "colab": {
          "base_uri": "https://localhost:8080/"
        },
        "id": "0a5e8b88-56cb-4ae0-a3c4-64694222cf4d",
        "outputId": "528b2ab6-1dc0-4c4d-9051-06778a57efff"
      },
      "outputs": [
        {
          "output_type": "execute_result",
          "data": {
            "text/plain": [
              "1.0"
            ]
          },
          "metadata": {},
          "execution_count": 28
        }
      ],
      "source": [
        "df['tip'].min()"
      ]
    },
    {
      "cell_type": "code",
      "execution_count": 29,
      "id": "3eeb180d-3bb9-4937-b644-6b5d197b2df4",
      "metadata": {
        "colab": {
          "base_uri": "https://localhost:8080/",
          "height": 178
        },
        "id": "3eeb180d-3bb9-4937-b644-6b5d197b2df4",
        "outputId": "f3a2685e-d162-45dc-ebb3-d57a420358af"
      },
      "outputs": [
        {
          "output_type": "stream",
          "name": "stderr",
          "text": [
            "<ipython-input-29-3eee47c2438f>:1: FutureWarning: Dropping invalid columns in DataFrameGroupBy.min is deprecated. In a future version, a TypeError will be raised. Before calling .min, select only columns which should be valid for the function.\n",
            "  df.groupby('sex').min()\n"
          ]
        },
        {
          "output_type": "execute_result",
          "data": {
            "text/plain": [
              "        total_bill  tip  size  tip_rate\n",
              "sex                                    \n",
              "Male          7.25  1.0     1  0.035638\n",
              "Female        3.07  1.0     1  0.056433"
            ],
            "text/html": [
              "\n",
              "\n",
              "  <div id=\"df-b9b2fa49-48c8-498b-9de2-87624cf97677\">\n",
              "    <div class=\"colab-df-container\">\n",
              "      <div>\n",
              "<style scoped>\n",
              "    .dataframe tbody tr th:only-of-type {\n",
              "        vertical-align: middle;\n",
              "    }\n",
              "\n",
              "    .dataframe tbody tr th {\n",
              "        vertical-align: top;\n",
              "    }\n",
              "\n",
              "    .dataframe thead th {\n",
              "        text-align: right;\n",
              "    }\n",
              "</style>\n",
              "<table border=\"1\" class=\"dataframe\">\n",
              "  <thead>\n",
              "    <tr style=\"text-align: right;\">\n",
              "      <th></th>\n",
              "      <th>total_bill</th>\n",
              "      <th>tip</th>\n",
              "      <th>size</th>\n",
              "      <th>tip_rate</th>\n",
              "    </tr>\n",
              "    <tr>\n",
              "      <th>sex</th>\n",
              "      <th></th>\n",
              "      <th></th>\n",
              "      <th></th>\n",
              "      <th></th>\n",
              "    </tr>\n",
              "  </thead>\n",
              "  <tbody>\n",
              "    <tr>\n",
              "      <th>Male</th>\n",
              "      <td>7.25</td>\n",
              "      <td>1.0</td>\n",
              "      <td>1</td>\n",
              "      <td>0.035638</td>\n",
              "    </tr>\n",
              "    <tr>\n",
              "      <th>Female</th>\n",
              "      <td>3.07</td>\n",
              "      <td>1.0</td>\n",
              "      <td>1</td>\n",
              "      <td>0.056433</td>\n",
              "    </tr>\n",
              "  </tbody>\n",
              "</table>\n",
              "</div>\n",
              "      <button class=\"colab-df-convert\" onclick=\"convertToInteractive('df-b9b2fa49-48c8-498b-9de2-87624cf97677')\"\n",
              "              title=\"Convert this dataframe to an interactive table.\"\n",
              "              style=\"display:none;\">\n",
              "\n",
              "  <svg xmlns=\"http://www.w3.org/2000/svg\" height=\"24px\"viewBox=\"0 0 24 24\"\n",
              "       width=\"24px\">\n",
              "    <path d=\"M0 0h24v24H0V0z\" fill=\"none\"/>\n",
              "    <path d=\"M18.56 5.44l.94 2.06.94-2.06 2.06-.94-2.06-.94-.94-2.06-.94 2.06-2.06.94zm-11 1L8.5 8.5l.94-2.06 2.06-.94-2.06-.94L8.5 2.5l-.94 2.06-2.06.94zm10 10l.94 2.06.94-2.06 2.06-.94-2.06-.94-.94-2.06-.94 2.06-2.06.94z\"/><path d=\"M17.41 7.96l-1.37-1.37c-.4-.4-.92-.59-1.43-.59-.52 0-1.04.2-1.43.59L10.3 9.45l-7.72 7.72c-.78.78-.78 2.05 0 2.83L4 21.41c.39.39.9.59 1.41.59.51 0 1.02-.2 1.41-.59l7.78-7.78 2.81-2.81c.8-.78.8-2.07 0-2.86zM5.41 20L4 18.59l7.72-7.72 1.47 1.35L5.41 20z\"/>\n",
              "  </svg>\n",
              "      </button>\n",
              "\n",
              "\n",
              "\n",
              "    <div id=\"df-5982908c-1986-400b-ae57-a67782e6ed00\">\n",
              "      <button class=\"colab-df-quickchart\" onclick=\"quickchart('df-5982908c-1986-400b-ae57-a67782e6ed00')\"\n",
              "              title=\"Suggest charts.\"\n",
              "              style=\"display:none;\">\n",
              "\n",
              "<svg xmlns=\"http://www.w3.org/2000/svg\" height=\"24px\"viewBox=\"0 0 24 24\"\n",
              "     width=\"24px\">\n",
              "    <g>\n",
              "        <path d=\"M19 3H5c-1.1 0-2 .9-2 2v14c0 1.1.9 2 2 2h14c1.1 0 2-.9 2-2V5c0-1.1-.9-2-2-2zM9 17H7v-7h2v7zm4 0h-2V7h2v10zm4 0h-2v-4h2v4z\"/>\n",
              "    </g>\n",
              "</svg>\n",
              "      </button>\n",
              "    </div>\n",
              "\n",
              "<style>\n",
              "  .colab-df-quickchart {\n",
              "    background-color: #E8F0FE;\n",
              "    border: none;\n",
              "    border-radius: 50%;\n",
              "    cursor: pointer;\n",
              "    display: none;\n",
              "    fill: #1967D2;\n",
              "    height: 32px;\n",
              "    padding: 0 0 0 0;\n",
              "    width: 32px;\n",
              "  }\n",
              "\n",
              "  .colab-df-quickchart:hover {\n",
              "    background-color: #E2EBFA;\n",
              "    box-shadow: 0px 1px 2px rgba(60, 64, 67, 0.3), 0px 1px 3px 1px rgba(60, 64, 67, 0.15);\n",
              "    fill: #174EA6;\n",
              "  }\n",
              "\n",
              "  [theme=dark] .colab-df-quickchart {\n",
              "    background-color: #3B4455;\n",
              "    fill: #D2E3FC;\n",
              "  }\n",
              "\n",
              "  [theme=dark] .colab-df-quickchart:hover {\n",
              "    background-color: #434B5C;\n",
              "    box-shadow: 0px 1px 3px 1px rgba(0, 0, 0, 0.15);\n",
              "    filter: drop-shadow(0px 1px 2px rgba(0, 0, 0, 0.3));\n",
              "    fill: #FFFFFF;\n",
              "  }\n",
              "</style>\n",
              "\n",
              "    <script>\n",
              "      async function quickchart(key) {\n",
              "        const containerElement = document.querySelector('#' + key);\n",
              "        const charts = await google.colab.kernel.invokeFunction(\n",
              "            'suggestCharts', [key], {});\n",
              "      }\n",
              "    </script>\n",
              "\n",
              "      <script>\n",
              "\n",
              "function displayQuickchartButton(domScope) {\n",
              "  let quickchartButtonEl =\n",
              "    domScope.querySelector('#df-5982908c-1986-400b-ae57-a67782e6ed00 button.colab-df-quickchart');\n",
              "  quickchartButtonEl.style.display =\n",
              "    google.colab.kernel.accessAllowed ? 'block' : 'none';\n",
              "}\n",
              "\n",
              "        displayQuickchartButton(document);\n",
              "      </script>\n",
              "      <style>\n",
              "    .colab-df-container {\n",
              "      display:flex;\n",
              "      flex-wrap:wrap;\n",
              "      gap: 12px;\n",
              "    }\n",
              "\n",
              "    .colab-df-convert {\n",
              "      background-color: #E8F0FE;\n",
              "      border: none;\n",
              "      border-radius: 50%;\n",
              "      cursor: pointer;\n",
              "      display: none;\n",
              "      fill: #1967D2;\n",
              "      height: 32px;\n",
              "      padding: 0 0 0 0;\n",
              "      width: 32px;\n",
              "    }\n",
              "\n",
              "    .colab-df-convert:hover {\n",
              "      background-color: #E2EBFA;\n",
              "      box-shadow: 0px 1px 2px rgba(60, 64, 67, 0.3), 0px 1px 3px 1px rgba(60, 64, 67, 0.15);\n",
              "      fill: #174EA6;\n",
              "    }\n",
              "\n",
              "    [theme=dark] .colab-df-convert {\n",
              "      background-color: #3B4455;\n",
              "      fill: #D2E3FC;\n",
              "    }\n",
              "\n",
              "    [theme=dark] .colab-df-convert:hover {\n",
              "      background-color: #434B5C;\n",
              "      box-shadow: 0px 1px 3px 1px rgba(0, 0, 0, 0.15);\n",
              "      filter: drop-shadow(0px 1px 2px rgba(0, 0, 0, 0.3));\n",
              "      fill: #FFFFFF;\n",
              "    }\n",
              "  </style>\n",
              "\n",
              "      <script>\n",
              "        const buttonEl =\n",
              "          document.querySelector('#df-b9b2fa49-48c8-498b-9de2-87624cf97677 button.colab-df-convert');\n",
              "        buttonEl.style.display =\n",
              "          google.colab.kernel.accessAllowed ? 'block' : 'none';\n",
              "\n",
              "        async function convertToInteractive(key) {\n",
              "          const element = document.querySelector('#df-b9b2fa49-48c8-498b-9de2-87624cf97677');\n",
              "          const dataTable =\n",
              "            await google.colab.kernel.invokeFunction('convertToInteractive',\n",
              "                                                     [key], {});\n",
              "          if (!dataTable) return;\n",
              "\n",
              "          const docLinkHtml = 'Like what you see? Visit the ' +\n",
              "            '<a target=\"_blank\" href=https://colab.research.google.com/notebooks/data_table.ipynb>data table notebook</a>'\n",
              "            + ' to learn more about interactive tables.';\n",
              "          element.innerHTML = '';\n",
              "          dataTable['output_type'] = 'display_data';\n",
              "          await google.colab.output.renderOutput(dataTable, element);\n",
              "          const docLink = document.createElement('div');\n",
              "          docLink.innerHTML = docLinkHtml;\n",
              "          element.appendChild(docLink);\n",
              "        }\n",
              "      </script>\n",
              "    </div>\n",
              "  </div>\n"
            ]
          },
          "metadata": {},
          "execution_count": 29
        }
      ],
      "source": [
        "df.groupby('sex').min()"
      ]
    },
    {
      "cell_type": "code",
      "execution_count": 30,
      "id": "ae77671f-c952-40f0-894c-d33b6cfd41f9",
      "metadata": {
        "colab": {
          "base_uri": "https://localhost:8080/"
        },
        "id": "ae77671f-c952-40f0-894c-d33b6cfd41f9",
        "outputId": "35250134-e9ab-47c7-819d-d222990c9346"
      },
      "outputs": [
        {
          "output_type": "execute_result",
          "data": {
            "text/plain": [
              "10.0"
            ]
          },
          "metadata": {},
          "execution_count": 30
        }
      ],
      "source": [
        "np.max(df['tip'])"
      ]
    },
    {
      "cell_type": "code",
      "execution_count": 31,
      "id": "86e15900-814a-4976-9063-84451401c25c",
      "metadata": {
        "colab": {
          "base_uri": "https://localhost:8080/"
        },
        "id": "86e15900-814a-4976-9063-84451401c25c",
        "outputId": "ebe6dadc-4b89-49d9-d797-09b36eb5bcbc"
      },
      "outputs": [
        {
          "output_type": "execute_result",
          "data": {
            "text/plain": [
              "10.0"
            ]
          },
          "metadata": {},
          "execution_count": 31
        }
      ],
      "source": [
        "df['tip'].max()"
      ]
    },
    {
      "cell_type": "code",
      "execution_count": 32,
      "id": "4fdd7acc-04ec-4dac-8af8-bde04e1b7570",
      "metadata": {
        "colab": {
          "base_uri": "https://localhost:8080/",
          "height": 178
        },
        "id": "4fdd7acc-04ec-4dac-8af8-bde04e1b7570",
        "outputId": "9a226c21-a53e-4448-c1e5-978b2214b086"
      },
      "outputs": [
        {
          "output_type": "stream",
          "name": "stderr",
          "text": [
            "<ipython-input-32-0858c75f568a>:1: FutureWarning: Dropping invalid columns in DataFrameGroupBy.max is deprecated. In a future version, a TypeError will be raised. Before calling .max, select only columns which should be valid for the function.\n",
            "  df.groupby('sex').max()\n"
          ]
        },
        {
          "output_type": "execute_result",
          "data": {
            "text/plain": [
              "        total_bill   tip  size  tip_rate\n",
              "sex                                     \n",
              "Male         50.81  10.0     6  0.710345\n",
              "Female       44.30   6.5     6  0.416667"
            ],
            "text/html": [
              "\n",
              "\n",
              "  <div id=\"df-801735ca-bd3b-4a06-999c-ef7ced0ec346\">\n",
              "    <div class=\"colab-df-container\">\n",
              "      <div>\n",
              "<style scoped>\n",
              "    .dataframe tbody tr th:only-of-type {\n",
              "        vertical-align: middle;\n",
              "    }\n",
              "\n",
              "    .dataframe tbody tr th {\n",
              "        vertical-align: top;\n",
              "    }\n",
              "\n",
              "    .dataframe thead th {\n",
              "        text-align: right;\n",
              "    }\n",
              "</style>\n",
              "<table border=\"1\" class=\"dataframe\">\n",
              "  <thead>\n",
              "    <tr style=\"text-align: right;\">\n",
              "      <th></th>\n",
              "      <th>total_bill</th>\n",
              "      <th>tip</th>\n",
              "      <th>size</th>\n",
              "      <th>tip_rate</th>\n",
              "    </tr>\n",
              "    <tr>\n",
              "      <th>sex</th>\n",
              "      <th></th>\n",
              "      <th></th>\n",
              "      <th></th>\n",
              "      <th></th>\n",
              "    </tr>\n",
              "  </thead>\n",
              "  <tbody>\n",
              "    <tr>\n",
              "      <th>Male</th>\n",
              "      <td>50.81</td>\n",
              "      <td>10.0</td>\n",
              "      <td>6</td>\n",
              "      <td>0.710345</td>\n",
              "    </tr>\n",
              "    <tr>\n",
              "      <th>Female</th>\n",
              "      <td>44.30</td>\n",
              "      <td>6.5</td>\n",
              "      <td>6</td>\n",
              "      <td>0.416667</td>\n",
              "    </tr>\n",
              "  </tbody>\n",
              "</table>\n",
              "</div>\n",
              "      <button class=\"colab-df-convert\" onclick=\"convertToInteractive('df-801735ca-bd3b-4a06-999c-ef7ced0ec346')\"\n",
              "              title=\"Convert this dataframe to an interactive table.\"\n",
              "              style=\"display:none;\">\n",
              "\n",
              "  <svg xmlns=\"http://www.w3.org/2000/svg\" height=\"24px\"viewBox=\"0 0 24 24\"\n",
              "       width=\"24px\">\n",
              "    <path d=\"M0 0h24v24H0V0z\" fill=\"none\"/>\n",
              "    <path d=\"M18.56 5.44l.94 2.06.94-2.06 2.06-.94-2.06-.94-.94-2.06-.94 2.06-2.06.94zm-11 1L8.5 8.5l.94-2.06 2.06-.94-2.06-.94L8.5 2.5l-.94 2.06-2.06.94zm10 10l.94 2.06.94-2.06 2.06-.94-2.06-.94-.94-2.06-.94 2.06-2.06.94z\"/><path d=\"M17.41 7.96l-1.37-1.37c-.4-.4-.92-.59-1.43-.59-.52 0-1.04.2-1.43.59L10.3 9.45l-7.72 7.72c-.78.78-.78 2.05 0 2.83L4 21.41c.39.39.9.59 1.41.59.51 0 1.02-.2 1.41-.59l7.78-7.78 2.81-2.81c.8-.78.8-2.07 0-2.86zM5.41 20L4 18.59l7.72-7.72 1.47 1.35L5.41 20z\"/>\n",
              "  </svg>\n",
              "      </button>\n",
              "\n",
              "\n",
              "\n",
              "    <div id=\"df-0f9da48c-2649-4370-89e7-f9261ef1c3fb\">\n",
              "      <button class=\"colab-df-quickchart\" onclick=\"quickchart('df-0f9da48c-2649-4370-89e7-f9261ef1c3fb')\"\n",
              "              title=\"Suggest charts.\"\n",
              "              style=\"display:none;\">\n",
              "\n",
              "<svg xmlns=\"http://www.w3.org/2000/svg\" height=\"24px\"viewBox=\"0 0 24 24\"\n",
              "     width=\"24px\">\n",
              "    <g>\n",
              "        <path d=\"M19 3H5c-1.1 0-2 .9-2 2v14c0 1.1.9 2 2 2h14c1.1 0 2-.9 2-2V5c0-1.1-.9-2-2-2zM9 17H7v-7h2v7zm4 0h-2V7h2v10zm4 0h-2v-4h2v4z\"/>\n",
              "    </g>\n",
              "</svg>\n",
              "      </button>\n",
              "    </div>\n",
              "\n",
              "<style>\n",
              "  .colab-df-quickchart {\n",
              "    background-color: #E8F0FE;\n",
              "    border: none;\n",
              "    border-radius: 50%;\n",
              "    cursor: pointer;\n",
              "    display: none;\n",
              "    fill: #1967D2;\n",
              "    height: 32px;\n",
              "    padding: 0 0 0 0;\n",
              "    width: 32px;\n",
              "  }\n",
              "\n",
              "  .colab-df-quickchart:hover {\n",
              "    background-color: #E2EBFA;\n",
              "    box-shadow: 0px 1px 2px rgba(60, 64, 67, 0.3), 0px 1px 3px 1px rgba(60, 64, 67, 0.15);\n",
              "    fill: #174EA6;\n",
              "  }\n",
              "\n",
              "  [theme=dark] .colab-df-quickchart {\n",
              "    background-color: #3B4455;\n",
              "    fill: #D2E3FC;\n",
              "  }\n",
              "\n",
              "  [theme=dark] .colab-df-quickchart:hover {\n",
              "    background-color: #434B5C;\n",
              "    box-shadow: 0px 1px 3px 1px rgba(0, 0, 0, 0.15);\n",
              "    filter: drop-shadow(0px 1px 2px rgba(0, 0, 0, 0.3));\n",
              "    fill: #FFFFFF;\n",
              "  }\n",
              "</style>\n",
              "\n",
              "    <script>\n",
              "      async function quickchart(key) {\n",
              "        const containerElement = document.querySelector('#' + key);\n",
              "        const charts = await google.colab.kernel.invokeFunction(\n",
              "            'suggestCharts', [key], {});\n",
              "      }\n",
              "    </script>\n",
              "\n",
              "      <script>\n",
              "\n",
              "function displayQuickchartButton(domScope) {\n",
              "  let quickchartButtonEl =\n",
              "    domScope.querySelector('#df-0f9da48c-2649-4370-89e7-f9261ef1c3fb button.colab-df-quickchart');\n",
              "  quickchartButtonEl.style.display =\n",
              "    google.colab.kernel.accessAllowed ? 'block' : 'none';\n",
              "}\n",
              "\n",
              "        displayQuickchartButton(document);\n",
              "      </script>\n",
              "      <style>\n",
              "    .colab-df-container {\n",
              "      display:flex;\n",
              "      flex-wrap:wrap;\n",
              "      gap: 12px;\n",
              "    }\n",
              "\n",
              "    .colab-df-convert {\n",
              "      background-color: #E8F0FE;\n",
              "      border: none;\n",
              "      border-radius: 50%;\n",
              "      cursor: pointer;\n",
              "      display: none;\n",
              "      fill: #1967D2;\n",
              "      height: 32px;\n",
              "      padding: 0 0 0 0;\n",
              "      width: 32px;\n",
              "    }\n",
              "\n",
              "    .colab-df-convert:hover {\n",
              "      background-color: #E2EBFA;\n",
              "      box-shadow: 0px 1px 2px rgba(60, 64, 67, 0.3), 0px 1px 3px 1px rgba(60, 64, 67, 0.15);\n",
              "      fill: #174EA6;\n",
              "    }\n",
              "\n",
              "    [theme=dark] .colab-df-convert {\n",
              "      background-color: #3B4455;\n",
              "      fill: #D2E3FC;\n",
              "    }\n",
              "\n",
              "    [theme=dark] .colab-df-convert:hover {\n",
              "      background-color: #434B5C;\n",
              "      box-shadow: 0px 1px 3px 1px rgba(0, 0, 0, 0.15);\n",
              "      filter: drop-shadow(0px 1px 2px rgba(0, 0, 0, 0.3));\n",
              "      fill: #FFFFFF;\n",
              "    }\n",
              "  </style>\n",
              "\n",
              "      <script>\n",
              "        const buttonEl =\n",
              "          document.querySelector('#df-801735ca-bd3b-4a06-999c-ef7ced0ec346 button.colab-df-convert');\n",
              "        buttonEl.style.display =\n",
              "          google.colab.kernel.accessAllowed ? 'block' : 'none';\n",
              "\n",
              "        async function convertToInteractive(key) {\n",
              "          const element = document.querySelector('#df-801735ca-bd3b-4a06-999c-ef7ced0ec346');\n",
              "          const dataTable =\n",
              "            await google.colab.kernel.invokeFunction('convertToInteractive',\n",
              "                                                     [key], {});\n",
              "          if (!dataTable) return;\n",
              "\n",
              "          const docLinkHtml = 'Like what you see? Visit the ' +\n",
              "            '<a target=\"_blank\" href=https://colab.research.google.com/notebooks/data_table.ipynb>data table notebook</a>'\n",
              "            + ' to learn more about interactive tables.';\n",
              "          element.innerHTML = '';\n",
              "          dataTable['output_type'] = 'display_data';\n",
              "          await google.colab.output.renderOutput(dataTable, element);\n",
              "          const docLink = document.createElement('div');\n",
              "          docLink.innerHTML = docLinkHtml;\n",
              "          element.appendChild(docLink);\n",
              "        }\n",
              "      </script>\n",
              "    </div>\n",
              "  </div>\n"
            ]
          },
          "metadata": {},
          "execution_count": 32
        }
      ],
      "source": [
        "df.groupby('sex').max()"
      ]
    },
    {
      "cell_type": "markdown",
      "id": "08a0aff9-36ec-4ffb-9446-80550410fcc4",
      "metadata": {
        "id": "08a0aff9-36ec-4ffb-9446-80550410fcc4"
      },
      "source": [
        "# 四分位数"
      ]
    },
    {
      "cell_type": "code",
      "execution_count": 33,
      "id": "baffdf19-1d6e-47f6-a5c3-05263f508afd",
      "metadata": {
        "colab": {
          "base_uri": "https://localhost:8080/"
        },
        "id": "baffdf19-1d6e-47f6-a5c3-05263f508afd",
        "outputId": "348c601d-5dcb-4b25-c329-195b73fd5add"
      },
      "outputs": [
        {
          "output_type": "execute_result",
          "data": {
            "text/plain": [
              "array([0.12912736, 0.15476977, 0.19147549])"
            ]
          },
          "metadata": {},
          "execution_count": 33
        }
      ],
      "source": [
        "np.quantile(df['tip_rate'], [0.25, 0.50, 0.75])"
      ]
    },
    {
      "cell_type": "code",
      "execution_count": 34,
      "id": "c81b523d-79f2-478c-81a2-fb0914f5f840",
      "metadata": {
        "colab": {
          "base_uri": "https://localhost:8080/"
        },
        "id": "c81b523d-79f2-478c-81a2-fb0914f5f840",
        "outputId": "879150b7-7a0c-4bf7-a4ad-7bff32fda058"
      },
      "outputs": [
        {
          "output_type": "execute_result",
          "data": {
            "text/plain": [
              "0.25    0.129127\n",
              "0.50    0.154770\n",
              "0.75    0.191475\n",
              "Name: tip_rate, dtype: float64"
            ]
          },
          "metadata": {},
          "execution_count": 34
        }
      ],
      "source": [
        "df['tip_rate'].quantile([0.25, 0.50, 0.75])"
      ]
    },
    {
      "cell_type": "code",
      "execution_count": 35,
      "id": "d602f37a-d468-4e82-b2c1-78e1c90b113e",
      "metadata": {
        "colab": {
          "base_uri": "https://localhost:8080/"
        },
        "id": "d602f37a-d468-4e82-b2c1-78e1c90b113e",
        "outputId": "c626691d-d7d8-4b3d-e992-a1127e736f92"
      },
      "outputs": [
        {
          "output_type": "execute_result",
          "data": {
            "text/plain": [
              "0.06234812458689151"
            ]
          },
          "metadata": {},
          "execution_count": 35
        }
      ],
      "source": [
        "stats.iqr(df['tip_rate'])"
      ]
    },
    {
      "cell_type": "code",
      "execution_count": 36,
      "id": "1b4c1d63-4fad-4ae0-83ab-b85c49b20063",
      "metadata": {
        "colab": {
          "base_uri": "https://localhost:8080/"
        },
        "id": "1b4c1d63-4fad-4ae0-83ab-b85c49b20063",
        "outputId": "42d99f77-6798-4b0f-e6da-ca5b8fefdc28"
      },
      "outputs": [
        {
          "output_type": "execute_result",
          "data": {
            "text/plain": [
              "0.062348000000000015"
            ]
          },
          "metadata": {},
          "execution_count": 36
        }
      ],
      "source": [
        "0.191475 - 0.129127"
      ]
    },
    {
      "cell_type": "markdown",
      "id": "fbabf19f-38ae-459d-91c6-0c9bcaa42224",
      "metadata": {
        "id": "fbabf19f-38ae-459d-91c6-0c9bcaa42224"
      },
      "source": [
        "## QD"
      ]
    },
    {
      "cell_type": "code",
      "execution_count": 37,
      "id": "bf3adbfd-a799-41ee-840c-05f119ebaa5d",
      "metadata": {
        "colab": {
          "base_uri": "https://localhost:8080/"
        },
        "id": "bf3adbfd-a799-41ee-840c-05f119ebaa5d",
        "outputId": "b11931b1-097d-46a0-d60f-da0c9b7234fa"
      },
      "outputs": [
        {
          "output_type": "execute_result",
          "data": {
            "text/plain": [
              "0.031174062293445756"
            ]
          },
          "metadata": {},
          "execution_count": 37
        }
      ],
      "source": [
        "stats.iqr(df['tip_rate']) / 2"
      ]
    },
    {
      "cell_type": "code",
      "execution_count": 38,
      "id": "8ffdb13f-a17e-4a80-9866-367eafa08a35",
      "metadata": {
        "colab": {
          "base_uri": "https://localhost:8080/",
          "height": 430
        },
        "id": "8ffdb13f-a17e-4a80-9866-367eafa08a35",
        "outputId": "3c7871cf-f780-459b-9403-155f787f1996"
      },
      "outputs": [
        {
          "output_type": "display_data",
          "data": {
            "text/plain": [
              "<Figure size 640x480 with 1 Axes>"
            ],
            "image/png": "[encoded data removed]"
          },
          "metadata": {}
        }
      ],
      "source": [
        "plt.boxplot(df['tip_rate'])\n",
        "plt.show()"
      ]
    },
    {
      "cell_type": "code",
      "execution_count": 39,
      "id": "55b6eb36-f47d-4356-8c69-80ee05b07e7b",
      "metadata": {
        "colab": {
          "base_uri": "https://localhost:8080/",
          "height": 466
        },
        "id": "55b6eb36-f47d-4356-8c69-80ee05b07e7b",
        "outputId": "38316418-84f4-4806-cdc1-d79894094acb"
      },
      "outputs": [
        {
          "output_type": "execute_result",
          "data": {
            "text/plain": [
              "<Axes: xlabel='size', ylabel='tip_rate'>"
            ]
          },
          "metadata": {},
          "execution_count": 39
        },
        {
          "output_type": "display_data",
          "data": {
            "text/plain": [
              "<Figure size 640x480 with 1 Axes>"
            ],
            "image/png": "[encoded data removed]"
          },
          "metadata": {}
        }
      ],
      "source": [
        "sns.boxplot(x= 'size', y= 'tip_rate', data= df)"
      ]
    },
    {
      "cell_type": "markdown",
      "id": "2e101f9c-5ec3-42ea-bf77-9b508cd1ff7e",
      "metadata": {
        "id": "2e101f9c-5ec3-42ea-bf77-9b508cd1ff7e"
      },
      "source": [
        "# 分散と標準偏差"
      ]
    },
    {
      "cell_type": "markdown",
      "id": "15cb5b8b-499d-4cee-b617-1ddc41b33201",
      "metadata": {
        "id": "15cb5b8b-499d-4cee-b617-1ddc41b33201"
      },
      "source": [
        "## 分散"
      ]
    },
    {
      "cell_type": "code",
      "execution_count": 40,
      "id": "1558b594-b1fe-4fad-b021-f2a19ae82a1d",
      "metadata": {
        "colab": {
          "base_uri": "https://localhost:8080/"
        },
        "id": "1558b594-b1fe-4fad-b021-f2a19ae82a1d",
        "outputId": "8d91c486-d021-494b-daa4-4f7e092a362b"
      },
      "outputs": [
        {
          "output_type": "execute_result",
          "data": {
            "text/plain": [
              "2.9166666666666665"
            ]
          },
          "metadata": {},
          "execution_count": 40
        }
      ],
      "source": [
        "np.var([1, 2, 3, 4, 5, 6, ])"
      ]
    },
    {
      "cell_type": "code",
      "execution_count": 41,
      "id": "7bfb1155-814c-48b0-b4d6-933139d89387",
      "metadata": {
        "colab": {
          "base_uri": "https://localhost:8080/"
        },
        "id": "7bfb1155-814c-48b0-b4d6-933139d89387",
        "outputId": "ca40beba-4056-430d-d9ee-464dc75969b0"
      },
      "outputs": [
        {
          "output_type": "execute_result",
          "data": {
            "text/plain": [
              "0.00371452800135469"
            ]
          },
          "metadata": {},
          "execution_count": 41
        }
      ],
      "source": [
        "np.var(df['tip_rate'])"
      ]
    },
    {
      "cell_type": "markdown",
      "id": "dadf3c56-2ab2-4fe7-b177-0855a7e480c1",
      "metadata": {
        "id": "dadf3c56-2ab2-4fe7-b177-0855a7e480c1"
      },
      "source": [
        "## 標準偏差"
      ]
    },
    {
      "cell_type": "code",
      "execution_count": 42,
      "id": "77964a1d-40a4-41b3-bd0c-cd623e57cac8",
      "metadata": {
        "colab": {
          "base_uri": "https://localhost:8080/"
        },
        "id": "77964a1d-40a4-41b3-bd0c-cd623e57cac8",
        "outputId": "6c6f081a-73a4-469b-d12a-9178d3761b37"
      },
      "outputs": [
        {
          "output_type": "execute_result",
          "data": {
            "text/plain": [
              "1.3807999538298954"
            ]
          },
          "metadata": {},
          "execution_count": 42
        }
      ],
      "source": [
        "tip_std = np.std(df['tip'])\n",
        "tip_std"
      ]
    },
    {
      "cell_type": "code",
      "execution_count": 43,
      "id": "705ce184-fcf4-4f4e-a90f-91324be4b224",
      "metadata": {
        "colab": {
          "base_uri": "https://localhost:8080/"
        },
        "id": "705ce184-fcf4-4f4e-a90f-91324be4b224",
        "outputId": "cf7bf987-1e0e-4383-d0ec-02d8b8c607d3"
      },
      "outputs": [
        {
          "output_type": "execute_result",
          "data": {
            "text/plain": [
              "1.3807999538298954"
            ]
          },
          "metadata": {},
          "execution_count": 43
        }
      ],
      "source": [
        "np.sqrt(np.var(df['tip']))"
      ]
    },
    {
      "cell_type": "code",
      "execution_count": 44,
      "id": "01f17428-6822-4c9a-812f-b0610bc27ac4",
      "metadata": {
        "id": "01f17428-6822-4c9a-812f-b0610bc27ac4"
      },
      "outputs": [],
      "source": [
        "tip_mean = df['tip'].mean()"
      ]
    },
    {
      "cell_type": "code",
      "execution_count": 45,
      "id": "d77020ea-b26e-4929-b2bd-0bbfd06b7944",
      "metadata": {
        "colab": {
          "base_uri": "https://localhost:8080/"
        },
        "id": "d77020ea-b26e-4929-b2bd-0bbfd06b7944",
        "outputId": "62e00d2e-cd2f-434f-de0a-1666864de176"
      },
      "outputs": [
        {
          "output_type": "execute_result",
          "data": {
            "text/plain": [
              "2.99827868852459"
            ]
          },
          "metadata": {},
          "execution_count": 45
        }
      ],
      "source": [
        "tip_mean"
      ]
    },
    {
      "cell_type": "markdown",
      "id": "fada3977-e268-4278-9b49-6a09bbfdcbe5",
      "metadata": {
        "id": "fada3977-e268-4278-9b49-6a09bbfdcbe5"
      },
      "source": [
        "## 大体の予測する場合"
      ]
    },
    {
      "cell_type": "markdown",
      "id": "c80e1239-fc43-4393-a3e1-45f260cc21c2",
      "metadata": {
        "id": "c80e1239-fc43-4393-a3e1-45f260cc21c2"
      },
      "source": [
        "約３分の2"
      ]
    },
    {
      "cell_type": "code",
      "execution_count": 46,
      "id": "bbc52bcb-69cd-4215-bd03-bd7da3502c62",
      "metadata": {
        "colab": {
          "base_uri": "https://localhost:8080/"
        },
        "id": "bbc52bcb-69cd-4215-bd03-bd7da3502c62",
        "outputId": "e92ee583-4ffc-4bbb-fd82-f13d4968863b"
      },
      "outputs": [
        {
          "output_type": "execute_result",
          "data": {
            "text/plain": [
              "4.379078642354485"
            ]
          },
          "metadata": {},
          "execution_count": 46
        }
      ],
      "source": [
        "tip_mean + tip_std"
      ]
    },
    {
      "cell_type": "code",
      "execution_count": 47,
      "id": "1cf4f4ef-bd71-4c8a-9170-3b75c0256984",
      "metadata": {
        "colab": {
          "base_uri": "https://localhost:8080/"
        },
        "id": "1cf4f4ef-bd71-4c8a-9170-3b75c0256984",
        "outputId": "06d7194a-d677-48ee-8fc1-795e64764a9c"
      },
      "outputs": [
        {
          "output_type": "execute_result",
          "data": {
            "text/plain": [
              "1.6174787346946944"
            ]
          },
          "metadata": {},
          "execution_count": 47
        }
      ],
      "source": [
        "tip_mean - tip_std"
      ]
    },
    {
      "cell_type": "markdown",
      "id": "4b4a1090-6506-4db8-ab24-aac220107341",
      "metadata": {
        "id": "4b4a1090-6506-4db8-ab24-aac220107341"
      },
      "source": [
        "95％"
      ]
    },
    {
      "cell_type": "code",
      "execution_count": 48,
      "id": "785efae8-c50c-496e-abe0-0f81e826ca72",
      "metadata": {
        "colab": {
          "base_uri": "https://localhost:8080/"
        },
        "id": "785efae8-c50c-496e-abe0-0f81e826ca72",
        "outputId": "9a808cb3-6cc8-4e19-8527-0438f6ebc700"
      },
      "outputs": [
        {
          "output_type": "execute_result",
          "data": {
            "text/plain": [
              "5.759878596184381"
            ]
          },
          "metadata": {},
          "execution_count": 48
        }
      ],
      "source": [
        "tip_mean + (2 * tip_std)"
      ]
    },
    {
      "cell_type": "code",
      "execution_count": 49,
      "id": "6edb1acd-c8bb-420c-b3c1-e12bb81fdbfd",
      "metadata": {
        "colab": {
          "base_uri": "https://localhost:8080/"
        },
        "id": "6edb1acd-c8bb-420c-b3c1-e12bb81fdbfd",
        "outputId": "fdd18624-20fc-4570-cf45-077615facf7b"
      },
      "outputs": [
        {
          "output_type": "execute_result",
          "data": {
            "text/plain": [
              "0.236678780864799"
            ]
          },
          "metadata": {},
          "execution_count": 49
        }
      ],
      "source": [
        "tip_mean - (2 * tip_std)"
      ]
    },
    {
      "cell_type": "markdown",
      "id": "a36e6b6d-a6b6-436c-9668-5514b4d29320",
      "metadata": {
        "id": "a36e6b6d-a6b6-436c-9668-5514b4d29320"
      },
      "source": [
        "95%から100%"
      ]
    },
    {
      "cell_type": "code",
      "execution_count": 50,
      "id": "cdb64de5-2aa0-4ed1-8746-90211ed85e75",
      "metadata": {
        "colab": {
          "base_uri": "https://localhost:8080/"
        },
        "id": "cdb64de5-2aa0-4ed1-8746-90211ed85e75",
        "outputId": "5164e6cb-3a38-4021-9fca-1853031ef7ca"
      },
      "outputs": [
        {
          "output_type": "execute_result",
          "data": {
            "text/plain": [
              "7.140678550014275"
            ]
          },
          "metadata": {},
          "execution_count": 50
        }
      ],
      "source": [
        "tip_mean + (3 * tip_std)"
      ]
    },
    {
      "cell_type": "code",
      "execution_count": 51,
      "id": "12797a4e-8084-4451-a346-da7a50f8dbd3",
      "metadata": {
        "colab": {
          "base_uri": "https://localhost:8080/"
        },
        "id": "12797a4e-8084-4451-a346-da7a50f8dbd3",
        "outputId": "43d47679-c369-4254-b51a-45b7a3edf7d1"
      },
      "outputs": [
        {
          "output_type": "execute_result",
          "data": {
            "text/plain": [
              "-1.1441211729650962"
            ]
          },
          "metadata": {},
          "execution_count": 51
        }
      ],
      "source": [
        "tip_mean - (3 * tip_std)"
      ]
    },
    {
      "cell_type": "markdown",
      "id": "84016358-3091-4023-bfb8-6c6faa83d6a8",
      "metadata": {
        "id": "84016358-3091-4023-bfb8-6c6faa83d6a8"
      },
      "source": [
        "# 共分散"
      ]
    },
    {
      "cell_type": "code",
      "execution_count": 52,
      "id": "b12daf0c-8dc2-47cf-a839-b01ec66fe9d9",
      "metadata": {
        "colab": {
          "base_uri": "https://localhost:8080/"
        },
        "id": "b12daf0c-8dc2-47cf-a839-b01ec66fe9d9",
        "outputId": "d0eaf26b-5090-4159-bc59-228d5d497bf8"
      },
      "outputs": [
        {
          "output_type": "execute_result",
          "data": {
            "text/plain": [
              "array([[ 0.66666667,  6.66666667],\n",
              "       [ 6.66666667, 66.88888889]])"
            ]
          },
          "metadata": {},
          "execution_count": 52
        }
      ],
      "source": [
        "np.cov([1, 2, 3], [-4, 5, 16], rowvar=False, bias=True)"
      ]
    },
    {
      "cell_type": "code",
      "execution_count": 53,
      "id": "3c75ce29-f6bf-424a-b07b-e48bbc7c2958",
      "metadata": {
        "colab": {
          "base_uri": "https://localhost:8080/",
          "height": 206
        },
        "id": "3c75ce29-f6bf-424a-b07b-e48bbc7c2958",
        "outputId": "0b62b819-3b20-4f76-a606-414e8bdc01f2"
      },
      "outputs": [
        {
          "output_type": "execute_result",
          "data": {
            "text/plain": [
              "   total_bill   tip     sex smoker  day    time  size  tip_rate\n",
              "0       16.99  1.01  Female     No  Sun  Dinner     2  0.059447\n",
              "1       10.34  1.66    Male     No  Sun  Dinner     3  0.160542\n",
              "2       21.01  3.50    Male     No  Sun  Dinner     3  0.166587\n",
              "3       23.68  3.31    Male     No  Sun  Dinner     2  0.139780\n",
              "4       24.59  3.61  Female     No  Sun  Dinner     4  0.146808"
            ],
            "text/html": [
              "\n",
              "\n",
              "  <div id=\"df-5176bfdf-ccbf-49fe-bc2f-876cbaf4a181\">\n",
              "    <div class=\"colab-df-container\">\n",
              "      <div>\n",
              "<style scoped>\n",
              "    .dataframe tbody tr th:only-of-type {\n",
              "        vertical-align: middle;\n",
              "    }\n",
              "\n",
              "    .dataframe tbody tr th {\n",
              "        vertical-align: top;\n",
              "    }\n",
              "\n",
              "    .dataframe thead th {\n",
              "        text-align: right;\n",
              "    }\n",
              "</style>\n",
              "<table border=\"1\" class=\"dataframe\">\n",
              "  <thead>\n",
              "    <tr style=\"text-align: right;\">\n",
              "      <th></th>\n",
              "      <th>total_bill</th>\n",
              "      <th>tip</th>\n",
              "      <th>sex</th>\n",
              "      <th>smoker</th>\n",
              "      <th>day</th>\n",
              "      <th>time</th>\n",
              "      <th>size</th>\n",
              "      <th>tip_rate</th>\n",
              "    </tr>\n",
              "  </thead>\n",
              "  <tbody>\n",
              "    <tr>\n",
              "      <th>0</th>\n",
              "      <td>16.99</td>\n",
              "      <td>1.01</td>\n",
              "      <td>Female</td>\n",
              "      <td>No</td>\n",
              "      <td>Sun</td>\n",
              "      <td>Dinner</td>\n",
              "      <td>2</td>\n",
              "      <td>0.059447</td>\n",
              "    </tr>\n",
              "    <tr>\n",
              "      <th>1</th>\n",
              "      <td>10.34</td>\n",
              "      <td>1.66</td>\n",
              "      <td>Male</td>\n",
              "      <td>No</td>\n",
              "      <td>Sun</td>\n",
              "      <td>Dinner</td>\n",
              "      <td>3</td>\n",
              "      <td>0.160542</td>\n",
              "    </tr>\n",
              "    <tr>\n",
              "      <th>2</th>\n",
              "      <td>21.01</td>\n",
              "      <td>3.50</td>\n",
              "      <td>Male</td>\n",
              "      <td>No</td>\n",
              "      <td>Sun</td>\n",
              "      <td>Dinner</td>\n",
              "      <td>3</td>\n",
              "      <td>0.166587</td>\n",
              "    </tr>\n",
              "    <tr>\n",
              "      <th>3</th>\n",
              "      <td>23.68</td>\n",
              "      <td>3.31</td>\n",
              "      <td>Male</td>\n",
              "      <td>No</td>\n",
              "      <td>Sun</td>\n",
              "      <td>Dinner</td>\n",
              "      <td>2</td>\n",
              "      <td>0.139780</td>\n",
              "    </tr>\n",
              "    <tr>\n",
              "      <th>4</th>\n",
              "      <td>24.59</td>\n",
              "      <td>3.61</td>\n",
              "      <td>Female</td>\n",
              "      <td>No</td>\n",
              "      <td>Sun</td>\n",
              "      <td>Dinner</td>\n",
              "      <td>4</td>\n",
              "      <td>0.146808</td>\n",
              "    </tr>\n",
              "  </tbody>\n",
              "</table>\n",
              "</div>\n",
              "      <button class=\"colab-df-convert\" onclick=\"convertToInteractive('df-5176bfdf-ccbf-49fe-bc2f-876cbaf4a181')\"\n",
              "              title=\"Convert this dataframe to an interactive table.\"\n",
              "              style=\"display:none;\">\n",
              "\n",
              "  <svg xmlns=\"http://www.w3.org/2000/svg\" height=\"24px\"viewBox=\"0 0 24 24\"\n",
              "       width=\"24px\">\n",
              "    <path d=\"M0 0h24v24H0V0z\" fill=\"none\"/>\n",
              "    <path d=\"M18.56 5.44l.94 2.06.94-2.06 2.06-.94-2.06-.94-.94-2.06-.94 2.06-2.06.94zm-11 1L8.5 8.5l.94-2.06 2.06-.94-2.06-.94L8.5 2.5l-.94 2.06-2.06.94zm10 10l.94 2.06.94-2.06 2.06-.94-2.06-.94-.94-2.06-.94 2.06-2.06.94z\"/><path d=\"M17.41 7.96l-1.37-1.37c-.4-.4-.92-.59-1.43-.59-.52 0-1.04.2-1.43.59L10.3 9.45l-7.72 7.72c-.78.78-.78 2.05 0 2.83L4 21.41c.39.39.9.59 1.41.59.51 0 1.02-.2 1.41-.59l7.78-7.78 2.81-2.81c.8-.78.8-2.07 0-2.86zM5.41 20L4 18.59l7.72-7.72 1.47 1.35L5.41 20z\"/>\n",
              "  </svg>\n",
              "      </button>\n",
              "\n",
              "\n",
              "\n",
              "    <div id=\"df-efceeb5d-3d90-4f60-98e6-f89fc3aa54cb\">\n",
              "      <button class=\"colab-df-quickchart\" onclick=\"quickchart('df-efceeb5d-3d90-4f60-98e6-f89fc3aa54cb')\"\n",
              "              title=\"Suggest charts.\"\n",
              "              style=\"display:none;\">\n",
              "\n",
              "<svg xmlns=\"http://www.w3.org/2000/svg\" height=\"24px\"viewBox=\"0 0 24 24\"\n",
              "     width=\"24px\">\n",
              "    <g>\n",
              "        <path d=\"M19 3H5c-1.1 0-2 .9-2 2v14c0 1.1.9 2 2 2h14c1.1 0 2-.9 2-2V5c0-1.1-.9-2-2-2zM9 17H7v-7h2v7zm4 0h-2V7h2v10zm4 0h-2v-4h2v4z\"/>\n",
              "    </g>\n",
              "</svg>\n",
              "      </button>\n",
              "    </div>\n",
              "\n",
              "<style>\n",
              "  .colab-df-quickchart {\n",
              "    background-color: #E8F0FE;\n",
              "    border: none;\n",
              "    border-radius: 50%;\n",
              "    cursor: pointer;\n",
              "    display: none;\n",
              "    fill: #1967D2;\n",
              "    height: 32px;\n",
              "    padding: 0 0 0 0;\n",
              "    width: 32px;\n",
              "  }\n",
              "\n",
              "  .colab-df-quickchart:hover {\n",
              "    background-color: #E2EBFA;\n",
              "    box-shadow: 0px 1px 2px rgba(60, 64, 67, 0.3), 0px 1px 3px 1px rgba(60, 64, 67, 0.15);\n",
              "    fill: #174EA6;\n",
              "  }\n",
              "\n",
              "  [theme=dark] .colab-df-quickchart {\n",
              "    background-color: #3B4455;\n",
              "    fill: #D2E3FC;\n",
              "  }\n",
              "\n",
              "  [theme=dark] .colab-df-quickchart:hover {\n",
              "    background-color: #434B5C;\n",
              "    box-shadow: 0px 1px 3px 1px rgba(0, 0, 0, 0.15);\n",
              "    filter: drop-shadow(0px 1px 2px rgba(0, 0, 0, 0.3));\n",
              "    fill: #FFFFFF;\n",
              "  }\n",
              "</style>\n",
              "\n",
              "    <script>\n",
              "      async function quickchart(key) {\n",
              "        const containerElement = document.querySelector('#' + key);\n",
              "        const charts = await google.colab.kernel.invokeFunction(\n",
              "            'suggestCharts', [key], {});\n",
              "      }\n",
              "    </script>\n",
              "\n",
              "      <script>\n",
              "\n",
              "function displayQuickchartButton(domScope) {\n",
              "  let quickchartButtonEl =\n",
              "    domScope.querySelector('#df-efceeb5d-3d90-4f60-98e6-f89fc3aa54cb button.colab-df-quickchart');\n",
              "  quickchartButtonEl.style.display =\n",
              "    google.colab.kernel.accessAllowed ? 'block' : 'none';\n",
              "}\n",
              "\n",
              "        displayQuickchartButton(document);\n",
              "      </script>\n",
              "      <style>\n",
              "    .colab-df-container {\n",
              "      display:flex;\n",
              "      flex-wrap:wrap;\n",
              "      gap: 12px;\n",
              "    }\n",
              "\n",
              "    .colab-df-convert {\n",
              "      background-color: #E8F0FE;\n",
              "      border: none;\n",
              "      border-radius: 50%;\n",
              "      cursor: pointer;\n",
              "      display: none;\n",
              "      fill: #1967D2;\n",
              "      height: 32px;\n",
              "      padding: 0 0 0 0;\n",
              "      width: 32px;\n",
              "    }\n",
              "\n",
              "    .colab-df-convert:hover {\n",
              "      background-color: #E2EBFA;\n",
              "      box-shadow: 0px 1px 2px rgba(60, 64, 67, 0.3), 0px 1px 3px 1px rgba(60, 64, 67, 0.15);\n",
              "      fill: #174EA6;\n",
              "    }\n",
              "\n",
              "    [theme=dark] .colab-df-convert {\n",
              "      background-color: #3B4455;\n",
              "      fill: #D2E3FC;\n",
              "    }\n",
              "\n",
              "    [theme=dark] .colab-df-convert:hover {\n",
              "      background-color: #434B5C;\n",
              "      box-shadow: 0px 1px 3px 1px rgba(0, 0, 0, 0.15);\n",
              "      filter: drop-shadow(0px 1px 2px rgba(0, 0, 0, 0.3));\n",
              "      fill: #FFFFFF;\n",
              "    }\n",
              "  </style>\n",
              "\n",
              "      <script>\n",
              "        const buttonEl =\n",
              "          document.querySelector('#df-5176bfdf-ccbf-49fe-bc2f-876cbaf4a181 button.colab-df-convert');\n",
              "        buttonEl.style.display =\n",
              "          google.colab.kernel.accessAllowed ? 'block' : 'none';\n",
              "\n",
              "        async function convertToInteractive(key) {\n",
              "          const element = document.querySelector('#df-5176bfdf-ccbf-49fe-bc2f-876cbaf4a181');\n",
              "          const dataTable =\n",
              "            await google.colab.kernel.invokeFunction('convertToInteractive',\n",
              "                                                     [key], {});\n",
              "          if (!dataTable) return;\n",
              "\n",
              "          const docLinkHtml = 'Like what you see? Visit the ' +\n",
              "            '<a target=\"_blank\" href=https://colab.research.google.com/notebooks/data_table.ipynb>data table notebook</a>'\n",
              "            + ' to learn more about interactive tables.';\n",
              "          element.innerHTML = '';\n",
              "          dataTable['output_type'] = 'display_data';\n",
              "          await google.colab.output.renderOutput(dataTable, element);\n",
              "          const docLink = document.createElement('div');\n",
              "          docLink.innerHTML = docLinkHtml;\n",
              "          element.appendChild(docLink);\n",
              "        }\n",
              "      </script>\n",
              "    </div>\n",
              "  </div>\n"
            ]
          },
          "metadata": {},
          "execution_count": 53
        }
      ],
      "source": [
        "df.head()"
      ]
    },
    {
      "cell_type": "code",
      "execution_count": 54,
      "id": "4b416f87-94cc-4235-abb2-ffc990f6f902",
      "metadata": {
        "colab": {
          "base_uri": "https://localhost:8080/"
        },
        "id": "4b416f87-94cc-4235-abb2-ffc990f6f902",
        "outputId": "c718b5b5-c07a-4187-ce03-c1140bc9f1a0"
      },
      "outputs": [
        {
          "output_type": "execute_result",
          "data": {
            "text/plain": [
              "array([[78.92813149,  8.28938892],\n",
              "       [ 8.28938892,  1.90660851]])"
            ]
          },
          "metadata": {},
          "execution_count": 54
        }
      ],
      "source": [
        "np.cov(df['total_bill'], df['tip'], bias=True)"
      ]
    },
    {
      "cell_type": "code",
      "execution_count": 55,
      "id": "979e0828-88f3-49c5-91b4-38c0631617c7",
      "metadata": {
        "id": "979e0828-88f3-49c5-91b4-38c0631617c7"
      },
      "outputs": [],
      "source": [
        "x = np.stack([df['total_bill'], df['tip'], df['size']], axis=0)"
      ]
    },
    {
      "cell_type": "code",
      "execution_count": 56,
      "id": "54f5feb1-423e-42ec-9458-64f5913014b1",
      "metadata": {
        "colab": {
          "base_uri": "https://localhost:8080/"
        },
        "id": "54f5feb1-423e-42ec-9458-64f5913014b1",
        "outputId": "8c3fbca9-9acf-4a0c-fbbc-e8e64c7b7625"
      },
      "outputs": [
        {
          "output_type": "execute_result",
          "data": {
            "text/plain": [
              "array([[78.92813149,  8.28938892,  5.04522121],\n",
              "       [ 8.28938892,  1.90660851,  0.64126747],\n",
              "       [ 5.04522121,  0.64126747,  0.9008835 ]])"
            ]
          },
          "metadata": {},
          "execution_count": 56
        }
      ],
      "source": [
        "np.cov(x, bias=True)"
      ]
    },
    {
      "cell_type": "markdown",
      "id": "659ac571-d24e-4529-84c2-71dd55e82fde",
      "metadata": {
        "id": "659ac571-d24e-4529-84c2-71dd55e82fde"
      },
      "source": [
        "df.cov()は不偏分散と普遍共分散で表示される"
      ]
    },
    {
      "cell_type": "code",
      "execution_count": 57,
      "id": "45342090-2a77-450f-bdf7-ab08f40ca8ba",
      "metadata": {
        "colab": {
          "base_uri": "https://localhost:8080/",
          "height": 210
        },
        "id": "45342090-2a77-450f-bdf7-ab08f40ca8ba",
        "outputId": "888c119c-6a54-4e1d-8399-7b61b7f91b96"
      },
      "outputs": [
        {
          "output_type": "stream",
          "name": "stderr",
          "text": [
            "<ipython-input-57-6f98a29763d5>:1: FutureWarning: The default value of numeric_only in DataFrame.cov is deprecated. In a future version, it will default to False. Select only valid columns or specify the value of numeric_only to silence this warning.\n",
            "  df.cov()\n"
          ]
        },
        {
          "output_type": "execute_result",
          "data": {
            "text/plain": [
              "            total_bill       tip      size  tip_rate\n",
              "total_bill   79.252939  8.323502  5.065983 -0.184107\n",
              "tip           8.323502  1.914455  0.643906  0.028931\n",
              "size          5.065983  0.643906  0.904591 -0.008298\n",
              "tip_rate     -0.184107  0.028931 -0.008298  0.003730"
            ],
            "text/html": [
              "\n",
              "\n",
              "  <div id=\"df-e01f0627-f74d-4ee6-8b7c-bdf0982ea8bf\">\n",
              "    <div class=\"colab-df-container\">\n",
              "      <div>\n",
              "<style scoped>\n",
              "    .dataframe tbody tr th:only-of-type {\n",
              "        vertical-align: middle;\n",
              "    }\n",
              "\n",
              "    .dataframe tbody tr th {\n",
              "        vertical-align: top;\n",
              "    }\n",
              "\n",
              "    .dataframe thead th {\n",
              "        text-align: right;\n",
              "    }\n",
              "</style>\n",
              "<table border=\"1\" class=\"dataframe\">\n",
              "  <thead>\n",
              "    <tr style=\"text-align: right;\">\n",
              "      <th></th>\n",
              "      <th>total_bill</th>\n",
              "      <th>tip</th>\n",
              "      <th>size</th>\n",
              "      <th>tip_rate</th>\n",
              "    </tr>\n",
              "  </thead>\n",
              "  <tbody>\n",
              "    <tr>\n",
              "      <th>total_bill</th>\n",
              "      <td>79.252939</td>\n",
              "      <td>8.323502</td>\n",
              "      <td>5.065983</td>\n",
              "      <td>-0.184107</td>\n",
              "    </tr>\n",
              "    <tr>\n",
              "      <th>tip</th>\n",
              "      <td>8.323502</td>\n",
              "      <td>1.914455</td>\n",
              "      <td>0.643906</td>\n",
              "      <td>0.028931</td>\n",
              "    </tr>\n",
              "    <tr>\n",
              "      <th>size</th>\n",
              "      <td>5.065983</td>\n",
              "      <td>0.643906</td>\n",
              "      <td>0.904591</td>\n",
              "      <td>-0.008298</td>\n",
              "    </tr>\n",
              "    <tr>\n",
              "      <th>tip_rate</th>\n",
              "      <td>-0.184107</td>\n",
              "      <td>0.028931</td>\n",
              "      <td>-0.008298</td>\n",
              "      <td>0.003730</td>\n",
              "    </tr>\n",
              "  </tbody>\n",
              "</table>\n",
              "</div>\n",
              "      <button class=\"colab-df-convert\" onclick=\"convertToInteractive('df-e01f0627-f74d-4ee6-8b7c-bdf0982ea8bf')\"\n",
              "              title=\"Convert this dataframe to an interactive table.\"\n",
              "              style=\"display:none;\">\n",
              "\n",
              "  <svg xmlns=\"http://www.w3.org/2000/svg\" height=\"24px\"viewBox=\"0 0 24 24\"\n",
              "       width=\"24px\">\n",
              "    <path d=\"M0 0h24v24H0V0z\" fill=\"none\"/>\n",
              "    <path d=\"M18.56 5.44l.94 2.06.94-2.06 2.06-.94-2.06-.94-.94-2.06-.94 2.06-2.06.94zm-11 1L8.5 8.5l.94-2.06 2.06-.94-2.06-.94L8.5 2.5l-.94 2.06-2.06.94zm10 10l.94 2.06.94-2.06 2.06-.94-2.06-.94-.94-2.06-.94 2.06-2.06.94z\"/><path d=\"M17.41 7.96l-1.37-1.37c-.4-.4-.92-.59-1.43-.59-.52 0-1.04.2-1.43.59L10.3 9.45l-7.72 7.72c-.78.78-.78 2.05 0 2.83L4 21.41c.39.39.9.59 1.41.59.51 0 1.02-.2 1.41-.59l7.78-7.78 2.81-2.81c.8-.78.8-2.07 0-2.86zM5.41 20L4 18.59l7.72-7.72 1.47 1.35L5.41 20z\"/>\n",
              "  </svg>\n",
              "      </button>\n",
              "\n",
              "\n",
              "\n",
              "    <div id=\"df-dbde49c8-9e02-472b-adbc-70e04098efb3\">\n",
              "      <button class=\"colab-df-quickchart\" onclick=\"quickchart('df-dbde49c8-9e02-472b-adbc-70e04098efb3')\"\n",
              "              title=\"Suggest charts.\"\n",
              "              style=\"display:none;\">\n",
              "\n",
              "<svg xmlns=\"http://www.w3.org/2000/svg\" height=\"24px\"viewBox=\"0 0 24 24\"\n",
              "     width=\"24px\">\n",
              "    <g>\n",
              "        <path d=\"M19 3H5c-1.1 0-2 .9-2 2v14c0 1.1.9 2 2 2h14c1.1 0 2-.9 2-2V5c0-1.1-.9-2-2-2zM9 17H7v-7h2v7zm4 0h-2V7h2v10zm4 0h-2v-4h2v4z\"/>\n",
              "    </g>\n",
              "</svg>\n",
              "      </button>\n",
              "    </div>\n",
              "\n",
              "<style>\n",
              "  .colab-df-quickchart {\n",
              "    background-color: #E8F0FE;\n",
              "    border: none;\n",
              "    border-radius: 50%;\n",
              "    cursor: pointer;\n",
              "    display: none;\n",
              "    fill: #1967D2;\n",
              "    height: 32px;\n",
              "    padding: 0 0 0 0;\n",
              "    width: 32px;\n",
              "  }\n",
              "\n",
              "  .colab-df-quickchart:hover {\n",
              "    background-color: #E2EBFA;\n",
              "    box-shadow: 0px 1px 2px rgba(60, 64, 67, 0.3), 0px 1px 3px 1px rgba(60, 64, 67, 0.15);\n",
              "    fill: #174EA6;\n",
              "  }\n",
              "\n",
              "  [theme=dark] .colab-df-quickchart {\n",
              "    background-color: #3B4455;\n",
              "    fill: #D2E3FC;\n",
              "  }\n",
              "\n",
              "  [theme=dark] .colab-df-quickchart:hover {\n",
              "    background-color: #434B5C;\n",
              "    box-shadow: 0px 1px 3px 1px rgba(0, 0, 0, 0.15);\n",
              "    filter: drop-shadow(0px 1px 2px rgba(0, 0, 0, 0.3));\n",
              "    fill: #FFFFFF;\n",
              "  }\n",
              "</style>\n",
              "\n",
              "    <script>\n",
              "      async function quickchart(key) {\n",
              "        const containerElement = document.querySelector('#' + key);\n",
              "        const charts = await google.colab.kernel.invokeFunction(\n",
              "            'suggestCharts', [key], {});\n",
              "      }\n",
              "    </script>\n",
              "\n",
              "      <script>\n",
              "\n",
              "function displayQuickchartButton(domScope) {\n",
              "  let quickchartButtonEl =\n",
              "    domScope.querySelector('#df-dbde49c8-9e02-472b-adbc-70e04098efb3 button.colab-df-quickchart');\n",
              "  quickchartButtonEl.style.display =\n",
              "    google.colab.kernel.accessAllowed ? 'block' : 'none';\n",
              "}\n",
              "\n",
              "        displayQuickchartButton(document);\n",
              "      </script>\n",
              "      <style>\n",
              "    .colab-df-container {\n",
              "      display:flex;\n",
              "      flex-wrap:wrap;\n",
              "      gap: 12px;\n",
              "    }\n",
              "\n",
              "    .colab-df-convert {\n",
              "      background-color: #E8F0FE;\n",
              "      border: none;\n",
              "      border-radius: 50%;\n",
              "      cursor: pointer;\n",
              "      display: none;\n",
              "      fill: #1967D2;\n",
              "      height: 32px;\n",
              "      padding: 0 0 0 0;\n",
              "      width: 32px;\n",
              "    }\n",
              "\n",
              "    .colab-df-convert:hover {\n",
              "      background-color: #E2EBFA;\n",
              "      box-shadow: 0px 1px 2px rgba(60, 64, 67, 0.3), 0px 1px 3px 1px rgba(60, 64, 67, 0.15);\n",
              "      fill: #174EA6;\n",
              "    }\n",
              "\n",
              "    [theme=dark] .colab-df-convert {\n",
              "      background-color: #3B4455;\n",
              "      fill: #D2E3FC;\n",
              "    }\n",
              "\n",
              "    [theme=dark] .colab-df-convert:hover {\n",
              "      background-color: #434B5C;\n",
              "      box-shadow: 0px 1px 3px 1px rgba(0, 0, 0, 0.15);\n",
              "      filter: drop-shadow(0px 1px 2px rgba(0, 0, 0, 0.3));\n",
              "      fill: #FFFFFF;\n",
              "    }\n",
              "  </style>\n",
              "\n",
              "      <script>\n",
              "        const buttonEl =\n",
              "          document.querySelector('#df-e01f0627-f74d-4ee6-8b7c-bdf0982ea8bf button.colab-df-convert');\n",
              "        buttonEl.style.display =\n",
              "          google.colab.kernel.accessAllowed ? 'block' : 'none';\n",
              "\n",
              "        async function convertToInteractive(key) {\n",
              "          const element = document.querySelector('#df-e01f0627-f74d-4ee6-8b7c-bdf0982ea8bf');\n",
              "          const dataTable =\n",
              "            await google.colab.kernel.invokeFunction('convertToInteractive',\n",
              "                                                     [key], {});\n",
              "          if (!dataTable) return;\n",
              "\n",
              "          const docLinkHtml = 'Like what you see? Visit the ' +\n",
              "            '<a target=\"_blank\" href=https://colab.research.google.com/notebooks/data_table.ipynb>data table notebook</a>'\n",
              "            + ' to learn more about interactive tables.';\n",
              "          element.innerHTML = '';\n",
              "          dataTable['output_type'] = 'display_data';\n",
              "          await google.colab.output.renderOutput(dataTable, element);\n",
              "          const docLink = document.createElement('div');\n",
              "          docLink.innerHTML = docLinkHtml;\n",
              "          element.appendChild(docLink);\n",
              "        }\n",
              "      </script>\n",
              "    </div>\n",
              "  </div>\n"
            ]
          },
          "metadata": {},
          "execution_count": 57
        }
      ],
      "source": [
        "df.cov()"
      ]
    },
    {
      "cell_type": "markdown",
      "id": "863dba9d-606f-449b-ab1c-75b7c05aac5e",
      "metadata": {
        "id": "863dba9d-606f-449b-ab1c-75b7c05aac5e"
      },
      "source": [
        "# 相関行列"
      ]
    },
    {
      "cell_type": "code",
      "execution_count": 58,
      "id": "2fcd581f-f893-4bdb-ac1a-aa2e4c3c3c01",
      "metadata": {
        "colab": {
          "base_uri": "https://localhost:8080/"
        },
        "id": "2fcd581f-f893-4bdb-ac1a-aa2e4c3c3c01",
        "outputId": "34056296-055e-4593-bf73-8de89a8b8253"
      },
      "outputs": [
        {
          "output_type": "execute_result",
          "data": {
            "text/plain": [
              "array([[1.        , 0.89104211],\n",
              "       [0.89104211, 1.        ]])"
            ]
          },
          "metadata": {},
          "execution_count": 58
        }
      ],
      "source": [
        "np.corrcoef([1, 4, 5], [5, 6, 8])"
      ]
    },
    {
      "cell_type": "code",
      "execution_count": 59,
      "id": "c3e1e8b8-4d0f-44fd-82f8-7644093ddca0",
      "metadata": {
        "colab": {
          "base_uri": "https://localhost:8080/"
        },
        "id": "c3e1e8b8-4d0f-44fd-82f8-7644093ddca0",
        "outputId": "03b07f5d-5f0e-48c9-f4ca-3f29dad2292e"
      },
      "outputs": [
        {
          "output_type": "execute_result",
          "data": {
            "text/plain": [
              "array([[1.        , 0.67573411],\n",
              "       [0.67573411, 1.        ]])"
            ]
          },
          "metadata": {},
          "execution_count": 59
        }
      ],
      "source": [
        "np.corrcoef(df['total_bill'], df['tip'])"
      ]
    },
    {
      "cell_type": "code",
      "execution_count": 60,
      "id": "2ec73bfa-3ff5-479d-a8a9-aeb36c8807fc",
      "metadata": {
        "colab": {
          "base_uri": "https://localhost:8080/"
        },
        "id": "2ec73bfa-3ff5-479d-a8a9-aeb36c8807fc",
        "outputId": "4dbd3c78-3b32-4521-e274-6c13cec20bfb"
      },
      "outputs": [
        {
          "output_type": "execute_result",
          "data": {
            "text/plain": [
              "array([[1.        , 0.67573411, 0.59831513],\n",
              "       [0.67573411, 1.        , 0.48929878],\n",
              "       [0.59831513, 0.48929878, 1.        ]])"
            ]
          },
          "metadata": {},
          "execution_count": 60
        }
      ],
      "source": [
        "x = np.stack([df['total_bill'], df['tip'], df['size']], axis=0)\n",
        "np.corrcoef(x)"
      ]
    },
    {
      "cell_type": "code",
      "execution_count": 61,
      "id": "e0907c10-06f9-406e-a9fd-9457832d1ce2",
      "metadata": {
        "colab": {
          "base_uri": "https://localhost:8080/",
          "height": 210
        },
        "id": "e0907c10-06f9-406e-a9fd-9457832d1ce2",
        "outputId": "defd99b5-2b0a-4906-cacb-b97d690f6179"
      },
      "outputs": [
        {
          "output_type": "stream",
          "name": "stderr",
          "text": [
            "<ipython-input-61-2f6f6606aa2c>:1: FutureWarning: The default value of numeric_only in DataFrame.corr is deprecated. In a future version, it will default to False. Select only valid columns or specify the value of numeric_only to silence this warning.\n",
            "  df.corr()\n"
          ]
        },
        {
          "output_type": "execute_result",
          "data": {
            "text/plain": [
              "            total_bill       tip      size  tip_rate\n",
              "total_bill    1.000000  0.675734  0.598315 -0.338624\n",
              "tip           0.675734  1.000000  0.489299  0.342370\n",
              "size          0.598315  0.489299  1.000000 -0.142860\n",
              "tip_rate     -0.338624  0.342370 -0.142860  1.000000"
            ],
            "text/html": [
              "\n",
              "\n",
              "  <div id=\"df-048182a3-17d1-44ff-9ac8-5d1db6096123\">\n",
              "    <div class=\"colab-df-container\">\n",
              "      <div>\n",
              "<style scoped>\n",
              "    .dataframe tbody tr th:only-of-type {\n",
              "        vertical-align: middle;\n",
              "    }\n",
              "\n",
              "    .dataframe tbody tr th {\n",
              "        vertical-align: top;\n",
              "    }\n",
              "\n",
              "    .dataframe thead th {\n",
              "        text-align: right;\n",
              "    }\n",
              "</style>\n",
              "<table border=\"1\" class=\"dataframe\">\n",
              "  <thead>\n",
              "    <tr style=\"text-align: right;\">\n",
              "      <th></th>\n",
              "      <th>total_bill</th>\n",
              "      <th>tip</th>\n",
              "      <th>size</th>\n",
              "      <th>tip_rate</th>\n",
              "    </tr>\n",
              "  </thead>\n",
              "  <tbody>\n",
              "    <tr>\n",
              "      <th>total_bill</th>\n",
              "      <td>1.000000</td>\n",
              "      <td>0.675734</td>\n",
              "      <td>0.598315</td>\n",
              "      <td>-0.338624</td>\n",
              "    </tr>\n",
              "    <tr>\n",
              "      <th>tip</th>\n",
              "      <td>0.675734</td>\n",
              "      <td>1.000000</td>\n",
              "      <td>0.489299</td>\n",
              "      <td>0.342370</td>\n",
              "    </tr>\n",
              "    <tr>\n",
              "      <th>size</th>\n",
              "      <td>0.598315</td>\n",
              "      <td>0.489299</td>\n",
              "      <td>1.000000</td>\n",
              "      <td>-0.142860</td>\n",
              "    </tr>\n",
              "    <tr>\n",
              "      <th>tip_rate</th>\n",
              "      <td>-0.338624</td>\n",
              "      <td>0.342370</td>\n",
              "      <td>-0.142860</td>\n",
              "      <td>1.000000</td>\n",
              "    </tr>\n",
              "  </tbody>\n",
              "</table>\n",
              "</div>\n",
              "      <button class=\"colab-df-convert\" onclick=\"convertToInteractive('df-048182a3-17d1-44ff-9ac8-5d1db6096123')\"\n",
              "              title=\"Convert this dataframe to an interactive table.\"\n",
              "              style=\"display:none;\">\n",
              "\n",
              "  <svg xmlns=\"http://www.w3.org/2000/svg\" height=\"24px\"viewBox=\"0 0 24 24\"\n",
              "       width=\"24px\">\n",
              "    <path d=\"M0 0h24v24H0V0z\" fill=\"none\"/>\n",
              "    <path d=\"M18.56 5.44l.94 2.06.94-2.06 2.06-.94-2.06-.94-.94-2.06-.94 2.06-2.06.94zm-11 1L8.5 8.5l.94-2.06 2.06-.94-2.06-.94L8.5 2.5l-.94 2.06-2.06.94zm10 10l.94 2.06.94-2.06 2.06-.94-2.06-.94-.94-2.06-.94 2.06-2.06.94z\"/><path d=\"M17.41 7.96l-1.37-1.37c-.4-.4-.92-.59-1.43-.59-.52 0-1.04.2-1.43.59L10.3 9.45l-7.72 7.72c-.78.78-.78 2.05 0 2.83L4 21.41c.39.39.9.59 1.41.59.51 0 1.02-.2 1.41-.59l7.78-7.78 2.81-2.81c.8-.78.8-2.07 0-2.86zM5.41 20L4 18.59l7.72-7.72 1.47 1.35L5.41 20z\"/>\n",
              "  </svg>\n",
              "      </button>\n",
              "\n",
              "\n",
              "\n",
              "    <div id=\"df-7df5e391-3bf8-4f79-b3e8-568661672ab7\">\n",
              "      <button class=\"colab-df-quickchart\" onclick=\"quickchart('df-7df5e391-3bf8-4f79-b3e8-568661672ab7')\"\n",
              "              title=\"Suggest charts.\"\n",
              "              style=\"display:none;\">\n",
              "\n",
              "<svg xmlns=\"http://www.w3.org/2000/svg\" height=\"24px\"viewBox=\"0 0 24 24\"\n",
              "     width=\"24px\">\n",
              "    <g>\n",
              "        <path d=\"M19 3H5c-1.1 0-2 .9-2 2v14c0 1.1.9 2 2 2h14c1.1 0 2-.9 2-2V5c0-1.1-.9-2-2-2zM9 17H7v-7h2v7zm4 0h-2V7h2v10zm4 0h-2v-4h2v4z\"/>\n",
              "    </g>\n",
              "</svg>\n",
              "      </button>\n",
              "    </div>\n",
              "\n",
              "<style>\n",
              "  .colab-df-quickchart {\n",
              "    background-color: #E8F0FE;\n",
              "    border: none;\n",
              "    border-radius: 50%;\n",
              "    cursor: pointer;\n",
              "    display: none;\n",
              "    fill: #1967D2;\n",
              "    height: 32px;\n",
              "    padding: 0 0 0 0;\n",
              "    width: 32px;\n",
              "  }\n",
              "\n",
              "  .colab-df-quickchart:hover {\n",
              "    background-color: #E2EBFA;\n",
              "    box-shadow: 0px 1px 2px rgba(60, 64, 67, 0.3), 0px 1px 3px 1px rgba(60, 64, 67, 0.15);\n",
              "    fill: #174EA6;\n",
              "  }\n",
              "\n",
              "  [theme=dark] .colab-df-quickchart {\n",
              "    background-color: #3B4455;\n",
              "    fill: #D2E3FC;\n",
              "  }\n",
              "\n",
              "  [theme=dark] .colab-df-quickchart:hover {\n",
              "    background-color: #434B5C;\n",
              "    box-shadow: 0px 1px 3px 1px rgba(0, 0, 0, 0.15);\n",
              "    filter: drop-shadow(0px 1px 2px rgba(0, 0, 0, 0.3));\n",
              "    fill: #FFFFFF;\n",
              "  }\n",
              "</style>\n",
              "\n",
              "    <script>\n",
              "      async function quickchart(key) {\n",
              "        const containerElement = document.querySelector('#' + key);\n",
              "        const charts = await google.colab.kernel.invokeFunction(\n",
              "            'suggestCharts', [key], {});\n",
              "      }\n",
              "    </script>\n",
              "\n",
              "      <script>\n",
              "\n",
              "function displayQuickchartButton(domScope) {\n",
              "  let quickchartButtonEl =\n",
              "    domScope.querySelector('#df-7df5e391-3bf8-4f79-b3e8-568661672ab7 button.colab-df-quickchart');\n",
              "  quickchartButtonEl.style.display =\n",
              "    google.colab.kernel.accessAllowed ? 'block' : 'none';\n",
              "}\n",
              "\n",
              "        displayQuickchartButton(document);\n",
              "      </script>\n",
              "      <style>\n",
              "    .colab-df-container {\n",
              "      display:flex;\n",
              "      flex-wrap:wrap;\n",
              "      gap: 12px;\n",
              "    }\n",
              "\n",
              "    .colab-df-convert {\n",
              "      background-color: #E8F0FE;\n",
              "      border: none;\n",
              "      border-radius: 50%;\n",
              "      cursor: pointer;\n",
              "      display: none;\n",
              "      fill: #1967D2;\n",
              "      height: 32px;\n",
              "      padding: 0 0 0 0;\n",
              "      width: 32px;\n",
              "    }\n",
              "\n",
              "    .colab-df-convert:hover {\n",
              "      background-color: #E2EBFA;\n",
              "      box-shadow: 0px 1px 2px rgba(60, 64, 67, 0.3), 0px 1px 3px 1px rgba(60, 64, 67, 0.15);\n",
              "      fill: #174EA6;\n",
              "    }\n",
              "\n",
              "    [theme=dark] .colab-df-convert {\n",
              "      background-color: #3B4455;\n",
              "      fill: #D2E3FC;\n",
              "    }\n",
              "\n",
              "    [theme=dark] .colab-df-convert:hover {\n",
              "      background-color: #434B5C;\n",
              "      box-shadow: 0px 1px 3px 1px rgba(0, 0, 0, 0.15);\n",
              "      filter: drop-shadow(0px 1px 2px rgba(0, 0, 0, 0.3));\n",
              "      fill: #FFFFFF;\n",
              "    }\n",
              "  </style>\n",
              "\n",
              "      <script>\n",
              "        const buttonEl =\n",
              "          document.querySelector('#df-048182a3-17d1-44ff-9ac8-5d1db6096123 button.colab-df-convert');\n",
              "        buttonEl.style.display =\n",
              "          google.colab.kernel.accessAllowed ? 'block' : 'none';\n",
              "\n",
              "        async function convertToInteractive(key) {\n",
              "          const element = document.querySelector('#df-048182a3-17d1-44ff-9ac8-5d1db6096123');\n",
              "          const dataTable =\n",
              "            await google.colab.kernel.invokeFunction('convertToInteractive',\n",
              "                                                     [key], {});\n",
              "          if (!dataTable) return;\n",
              "\n",
              "          const docLinkHtml = 'Like what you see? Visit the ' +\n",
              "            '<a target=\"_blank\" href=https://colab.research.google.com/notebooks/data_table.ipynb>data table notebook</a>'\n",
              "            + ' to learn more about interactive tables.';\n",
              "          element.innerHTML = '';\n",
              "          dataTable['output_type'] = 'display_data';\n",
              "          await google.colab.output.renderOutput(dataTable, element);\n",
              "          const docLink = document.createElement('div');\n",
              "          docLink.innerHTML = docLinkHtml;\n",
              "          element.appendChild(docLink);\n",
              "        }\n",
              "      </script>\n",
              "    </div>\n",
              "  </div>\n"
            ]
          },
          "metadata": {},
          "execution_count": 61
        }
      ],
      "source": [
        "df.corr()"
      ]
    },
    {
      "cell_type": "code",
      "execution_count": 62,
      "id": "1d0cc0e2-4578-4188-8630-4ca5b2d0f6d4",
      "metadata": {
        "colab": {
          "base_uri": "https://localhost:8080/",
          "height": 487
        },
        "id": "1d0cc0e2-4578-4188-8630-4ca5b2d0f6d4",
        "outputId": "86d72fa8-34eb-4707-83a9-3f704c143b40"
      },
      "outputs": [
        {
          "output_type": "stream",
          "name": "stderr",
          "text": [
            "<ipython-input-62-8581877c7c63>:1: FutureWarning: The default value of numeric_only in DataFrame.corr is deprecated. In a future version, it will default to False. Select only valid columns or specify the value of numeric_only to silence this warning.\n",
            "  sns.heatmap(df.corr(), cmap='coolwarm', annot=True)\n"
          ]
        },
        {
          "output_type": "execute_result",
          "data": {
            "text/plain": [
              "<Axes: >"
            ]
          },
          "metadata": {},
          "execution_count": 62
        },
        {
          "output_type": "display_data",
          "data": {
            "text/plain": [
              "<Figure size 640x480 with 2 Axes>"
            ],
            "image/png": "[encoded data removed]"
          },
          "metadata": {}
        }
      ],
      "source": [
        "sns.heatmap(df.corr(), cmap='coolwarm', annot=True)"
      ]
    },
    {
      "cell_type": "markdown",
      "id": "38de51da-619b-4990-8cd7-9577655c5bd8",
      "metadata": {
        "id": "38de51da-619b-4990-8cd7-9577655c5bd8"
      },
      "source": [
        "# 連関"
      ]
    },
    {
      "cell_type": "code",
      "execution_count": 63,
      "id": "69167a3b-c241-4300-aa06-1875b974675f",
      "metadata": {
        "colab": {
          "base_uri": "https://localhost:8080/",
          "height": 143
        },
        "id": "69167a3b-c241-4300-aa06-1875b974675f",
        "outputId": "169ba0a3-243b-4fb6-99dc-d232b35535d8"
      },
      "outputs": [
        {
          "output_type": "execute_result",
          "data": {
            "text/plain": [
              "time    Lunch  Dinner\n",
              "sex                  \n",
              "Male       33     124\n",
              "Female     35      52"
            ],
            "text/html": [
              "\n",
              "\n",
              "  <div id=\"df-ea0c760c-faba-4bed-8a45-a5b3772dac93\">\n",
              "    <div class=\"colab-df-container\">\n",
              "      <div>\n",
              "<style scoped>\n",
              "    .dataframe tbody tr th:only-of-type {\n",
              "        vertical-align: middle;\n",
              "    }\n",
              "\n",
              "    .dataframe tbody tr th {\n",
              "        vertical-align: top;\n",
              "    }\n",
              "\n",
              "    .dataframe thead th {\n",
              "        text-align: right;\n",
              "    }\n",
              "</style>\n",
              "<table border=\"1\" class=\"dataframe\">\n",
              "  <thead>\n",
              "    <tr style=\"text-align: right;\">\n",
              "      <th>time</th>\n",
              "      <th>Lunch</th>\n",
              "      <th>Dinner</th>\n",
              "    </tr>\n",
              "    <tr>\n",
              "      <th>sex</th>\n",
              "      <th></th>\n",
              "      <th></th>\n",
              "    </tr>\n",
              "  </thead>\n",
              "  <tbody>\n",
              "    <tr>\n",
              "      <th>Male</th>\n",
              "      <td>33</td>\n",
              "      <td>124</td>\n",
              "    </tr>\n",
              "    <tr>\n",
              "      <th>Female</th>\n",
              "      <td>35</td>\n",
              "      <td>52</td>\n",
              "    </tr>\n",
              "  </tbody>\n",
              "</table>\n",
              "</div>\n",
              "      <button class=\"colab-df-convert\" onclick=\"convertToInteractive('df-ea0c760c-faba-4bed-8a45-a5b3772dac93')\"\n",
              "              title=\"Convert this dataframe to an interactive table.\"\n",
              "              style=\"display:none;\">\n",
              "\n",
              "  <svg xmlns=\"http://www.w3.org/2000/svg\" height=\"24px\"viewBox=\"0 0 24 24\"\n",
              "       width=\"24px\">\n",
              "    <path d=\"M0 0h24v24H0V0z\" fill=\"none\"/>\n",
              "    <path d=\"M18.56 5.44l.94 2.06.94-2.06 2.06-.94-2.06-.94-.94-2.06-.94 2.06-2.06.94zm-11 1L8.5 8.5l.94-2.06 2.06-.94-2.06-.94L8.5 2.5l-.94 2.06-2.06.94zm10 10l.94 2.06.94-2.06 2.06-.94-2.06-.94-.94-2.06-.94 2.06-2.06.94z\"/><path d=\"M17.41 7.96l-1.37-1.37c-.4-.4-.92-.59-1.43-.59-.52 0-1.04.2-1.43.59L10.3 9.45l-7.72 7.72c-.78.78-.78 2.05 0 2.83L4 21.41c.39.39.9.59 1.41.59.51 0 1.02-.2 1.41-.59l7.78-7.78 2.81-2.81c.8-.78.8-2.07 0-2.86zM5.41 20L4 18.59l7.72-7.72 1.47 1.35L5.41 20z\"/>\n",
              "  </svg>\n",
              "      </button>\n",
              "\n",
              "\n",
              "\n",
              "    <div id=\"df-f829f6fb-1144-4188-ba6c-dd8b34f7b9b0\">\n",
              "      <button class=\"colab-df-quickchart\" onclick=\"quickchart('df-f829f6fb-1144-4188-ba6c-dd8b34f7b9b0')\"\n",
              "              title=\"Suggest charts.\"\n",
              "              style=\"display:none;\">\n",
              "\n",
              "<svg xmlns=\"http://www.w3.org/2000/svg\" height=\"24px\"viewBox=\"0 0 24 24\"\n",
              "     width=\"24px\">\n",
              "    <g>\n",
              "        <path d=\"M19 3H5c-1.1 0-2 .9-2 2v14c0 1.1.9 2 2 2h14c1.1 0 2-.9 2-2V5c0-1.1-.9-2-2-2zM9 17H7v-7h2v7zm4 0h-2V7h2v10zm4 0h-2v-4h2v4z\"/>\n",
              "    </g>\n",
              "</svg>\n",
              "      </button>\n",
              "    </div>\n",
              "\n",
              "<style>\n",
              "  .colab-df-quickchart {\n",
              "    background-color: #E8F0FE;\n",
              "    border: none;\n",
              "    border-radius: 50%;\n",
              "    cursor: pointer;\n",
              "    display: none;\n",
              "    fill: #1967D2;\n",
              "    height: 32px;\n",
              "    padding: 0 0 0 0;\n",
              "    width: 32px;\n",
              "  }\n",
              "\n",
              "  .colab-df-quickchart:hover {\n",
              "    background-color: #E2EBFA;\n",
              "    box-shadow: 0px 1px 2px rgba(60, 64, 67, 0.3), 0px 1px 3px 1px rgba(60, 64, 67, 0.15);\n",
              "    fill: #174EA6;\n",
              "  }\n",
              "\n",
              "  [theme=dark] .colab-df-quickchart {\n",
              "    background-color: #3B4455;\n",
              "    fill: #D2E3FC;\n",
              "  }\n",
              "\n",
              "  [theme=dark] .colab-df-quickchart:hover {\n",
              "    background-color: #434B5C;\n",
              "    box-shadow: 0px 1px 3px 1px rgba(0, 0, 0, 0.15);\n",
              "    filter: drop-shadow(0px 1px 2px rgba(0, 0, 0, 0.3));\n",
              "    fill: #FFFFFF;\n",
              "  }\n",
              "</style>\n",
              "\n",
              "    <script>\n",
              "      async function quickchart(key) {\n",
              "        const containerElement = document.querySelector('#' + key);\n",
              "        const charts = await google.colab.kernel.invokeFunction(\n",
              "            'suggestCharts', [key], {});\n",
              "      }\n",
              "    </script>\n",
              "\n",
              "      <script>\n",
              "\n",
              "function displayQuickchartButton(domScope) {\n",
              "  let quickchartButtonEl =\n",
              "    domScope.querySelector('#df-f829f6fb-1144-4188-ba6c-dd8b34f7b9b0 button.colab-df-quickchart');\n",
              "  quickchartButtonEl.style.display =\n",
              "    google.colab.kernel.accessAllowed ? 'block' : 'none';\n",
              "}\n",
              "\n",
              "        displayQuickchartButton(document);\n",
              "      </script>\n",
              "      <style>\n",
              "    .colab-df-container {\n",
              "      display:flex;\n",
              "      flex-wrap:wrap;\n",
              "      gap: 12px;\n",
              "    }\n",
              "\n",
              "    .colab-df-convert {\n",
              "      background-color: #E8F0FE;\n",
              "      border: none;\n",
              "      border-radius: 50%;\n",
              "      cursor: pointer;\n",
              "      display: none;\n",
              "      fill: #1967D2;\n",
              "      height: 32px;\n",
              "      padding: 0 0 0 0;\n",
              "      width: 32px;\n",
              "    }\n",
              "\n",
              "    .colab-df-convert:hover {\n",
              "      background-color: #E2EBFA;\n",
              "      box-shadow: 0px 1px 2px rgba(60, 64, 67, 0.3), 0px 1px 3px 1px rgba(60, 64, 67, 0.15);\n",
              "      fill: #174EA6;\n",
              "    }\n",
              "\n",
              "    [theme=dark] .colab-df-convert {\n",
              "      background-color: #3B4455;\n",
              "      fill: #D2E3FC;\n",
              "    }\n",
              "\n",
              "    [theme=dark] .colab-df-convert:hover {\n",
              "      background-color: #434B5C;\n",
              "      box-shadow: 0px 1px 3px 1px rgba(0, 0, 0, 0.15);\n",
              "      filter: drop-shadow(0px 1px 2px rgba(0, 0, 0, 0.3));\n",
              "      fill: #FFFFFF;\n",
              "    }\n",
              "  </style>\n",
              "\n",
              "      <script>\n",
              "        const buttonEl =\n",
              "          document.querySelector('#df-ea0c760c-faba-4bed-8a45-a5b3772dac93 button.colab-df-convert');\n",
              "        buttonEl.style.display =\n",
              "          google.colab.kernel.accessAllowed ? 'block' : 'none';\n",
              "\n",
              "        async function convertToInteractive(key) {\n",
              "          const element = document.querySelector('#df-ea0c760c-faba-4bed-8a45-a5b3772dac93');\n",
              "          const dataTable =\n",
              "            await google.colab.kernel.invokeFunction('convertToInteractive',\n",
              "                                                     [key], {});\n",
              "          if (!dataTable) return;\n",
              "\n",
              "          const docLinkHtml = 'Like what you see? Visit the ' +\n",
              "            '<a target=\"_blank\" href=https://colab.research.google.com/notebooks/data_table.ipynb>data table notebook</a>'\n",
              "            + ' to learn more about interactive tables.';\n",
              "          element.innerHTML = '';\n",
              "          dataTable['output_type'] = 'display_data';\n",
              "          await google.colab.output.renderOutput(dataTable, element);\n",
              "          const docLink = document.createElement('div');\n",
              "          docLink.innerHTML = docLinkHtml;\n",
              "          element.appendChild(docLink);\n",
              "        }\n",
              "      </script>\n",
              "    </div>\n",
              "  </div>\n"
            ]
          },
          "metadata": {},
          "execution_count": 63
        }
      ],
      "source": [
        "pd.crosstab(df['sex'], df['time'])"
      ]
    },
    {
      "cell_type": "code",
      "execution_count": 64,
      "id": "2a94148a-1818-4417-b939-5c367c1a5a16",
      "metadata": {
        "colab": {
          "base_uri": "https://localhost:8080/"
        },
        "id": "2a94148a-1818-4417-b939-5c367c1a5a16",
        "outputId": "4e77eacd-446c-4137-98c9-c2ab0f03a0c7"
      },
      "outputs": [
        {
          "output_type": "execute_result",
          "data": {
            "text/plain": [
              "Chi2ContingencyResult(statistic=10.277251918677742, pvalue=0.0013468039268008766, dof=1, expected_freq=array([[ 43.75409836, 113.24590164],\n",
              "       [ 24.24590164,  62.75409836]]))"
            ]
          },
          "metadata": {},
          "execution_count": 64
        }
      ],
      "source": [
        "cont_table = pd.crosstab(df['sex'], df['time'])\n",
        "stats.chi2_contingency(cont_table, correction=False)"
      ]
    },
    {
      "cell_type": "markdown",
      "id": "9d4b882c-a133-4ab8-b689-04c7869f273e",
      "metadata": {
        "id": "9d4b882c-a133-4ab8-b689-04c7869f273e"
      },
      "source": [
        "# クラメールの連関係数"
      ]
    },
    {
      "cell_type": "code",
      "execution_count": 65,
      "id": "90ef30ad-d275-4081-b42b-8eccbbfb28f0",
      "metadata": {
        "id": "90ef30ad-d275-4081-b42b-8eccbbfb28f0"
      },
      "outputs": [],
      "source": [
        "chi_2 = stats.chi2_contingency(cont_table, correction=False)[0]"
      ]
    },
    {
      "cell_type": "code",
      "execution_count": 66,
      "id": "a9451be5-4797-4721-936c-4318866ebebb",
      "metadata": {
        "colab": {
          "base_uri": "https://localhost:8080/"
        },
        "id": "a9451be5-4797-4721-936c-4318866ebebb",
        "outputId": "431ff06c-3422-443e-dc4f-2eaadd6a95ee"
      },
      "outputs": [
        {
          "output_type": "execute_result",
          "data": {
            "text/plain": [
              "2"
            ]
          },
          "metadata": {},
          "execution_count": 66
        }
      ],
      "source": [
        "len(cont_table)"
      ]
    },
    {
      "cell_type": "code",
      "execution_count": 67,
      "id": "3a670f3a-76cf-4dd4-87f0-3e273bdf9e16",
      "metadata": {
        "id": "3a670f3a-76cf-4dd4-87f0-3e273bdf9e16"
      },
      "outputs": [],
      "source": [
        "def cramers_v(x, y):\n",
        "    cont_table = pd.crosstab(x, y)\n",
        "    chi_2 = stats.chi2_contingency(cont_table, correction=False)[0]\n",
        "    min_d = min(cont_table.shape) - 1\n",
        "    n = len(x)\n",
        "    v = np.sqrt(chi_2 / (min_d * n))\n",
        "    return v"
      ]
    },
    {
      "cell_type": "code",
      "execution_count": 68,
      "id": "c0fefb09-cbd9-466f-8182-c5d0cdee08bb",
      "metadata": {
        "colab": {
          "base_uri": "https://localhost:8080/"
        },
        "id": "c0fefb09-cbd9-466f-8182-c5d0cdee08bb",
        "outputId": "d8e78299-a6af-4325-a49f-5e44407f4f81"
      },
      "outputs": [
        {
          "output_type": "execute_result",
          "data": {
            "text/plain": [
              "0.20523129613344476"
            ]
          },
          "metadata": {},
          "execution_count": 68
        }
      ],
      "source": [
        "cramers_v(df['sex'], df['time'])"
      ]
    },
    {
      "cell_type": "markdown",
      "id": "c08af8fc-2ef5-4236-99b2-ddb870ffdd9e",
      "metadata": {
        "id": "c08af8fc-2ef5-4236-99b2-ddb870ffdd9e"
      },
      "source": [
        "# 確率分布"
      ]
    },
    {
      "cell_type": "code",
      "execution_count": 69,
      "id": "634010a6-599f-42a2-ae63-44a2e3c7d6af",
      "metadata": {
        "colab": {
          "base_uri": "https://localhost:8080/"
        },
        "id": "634010a6-599f-42a2-ae63-44a2e3c7d6af",
        "outputId": "97e22ca5-e9b4-4138-e554-15571178c17a"
      },
      "outputs": [
        {
          "output_type": "execute_result",
          "data": {
            "text/plain": [
              "3"
            ]
          },
          "metadata": {},
          "execution_count": 69
        }
      ],
      "source": [
        "# random variates: 確率変量\n",
        "stats.randint.rvs(1, 7)"
      ]
    },
    {
      "cell_type": "code",
      "execution_count": 70,
      "id": "f8d8d8bb-1675-4581-8f5b-5a28793e8d48",
      "metadata": {
        "colab": {
          "base_uri": "https://localhost:8080/"
        },
        "id": "f8d8d8bb-1675-4581-8f5b-5a28793e8d48",
        "outputId": "9bf1a958-b98f-40a3-d077-b246c3655881"
      },
      "outputs": [
        {
          "output_type": "execute_result",
          "data": {
            "text/plain": [
              "0.8788753406557545"
            ]
          },
          "metadata": {},
          "execution_count": 70
        }
      ],
      "source": [
        "stats.uniform.rvs(0, 1)"
      ]
    },
    {
      "cell_type": "markdown",
      "id": "f5b63f19-1e48-4e55-9bed-1f9bd6551360",
      "metadata": {
        "id": "f5b63f19-1e48-4e55-9bed-1f9bd6551360"
      },
      "source": [
        "# 確立分布の描画"
      ]
    },
    {
      "cell_type": "code",
      "execution_count": 71,
      "id": "f4eaefff-480c-4841-8846-44cd682beabf",
      "metadata": {
        "id": "f4eaefff-480c-4841-8846-44cd682beabf"
      },
      "outputs": [],
      "source": [
        "def simple_func(x):\n",
        "    return x **2 + 3"
      ]
    },
    {
      "cell_type": "code",
      "execution_count": 72,
      "id": "98b7a3e4-bb47-451f-92e3-270ca7ef4d25",
      "metadata": {
        "colab": {
          "base_uri": "https://localhost:8080/"
        },
        "id": "98b7a3e4-bb47-451f-92e3-270ca7ef4d25",
        "outputId": "f3be22f5-82b2-4553-d58d-b3556568ba13"
      },
      "outputs": [
        {
          "output_type": "execute_result",
          "data": {
            "text/plain": [
              "7"
            ]
          },
          "metadata": {},
          "execution_count": 72
        }
      ],
      "source": [
        "simple_func(2)"
      ]
    },
    {
      "cell_type": "code",
      "execution_count": 73,
      "id": "fd6475cb-116a-4a14-a4c2-58e21962020f",
      "metadata": {
        "id": "fd6475cb-116a-4a14-a4c2-58e21962020f"
      },
      "outputs": [],
      "source": [
        "# x = np.linspace(-3, 3, 100)\n",
        "x = np.arange(-3, 4)\n",
        "y = simple_func(x)"
      ]
    },
    {
      "cell_type": "code",
      "execution_count": 74,
      "id": "8df466d0-12ea-4b02-bde7-b72ddce515bb",
      "metadata": {
        "colab": {
          "base_uri": "https://localhost:8080/"
        },
        "id": "8df466d0-12ea-4b02-bde7-b72ddce515bb",
        "outputId": "77b0a464-a6c5-4155-ecd7-585c3e7fbe73"
      },
      "outputs": [
        {
          "output_type": "execute_result",
          "data": {
            "text/plain": [
              "array([-3, -2, -1,  0,  1,  2,  3])"
            ]
          },
          "metadata": {},
          "execution_count": 74
        }
      ],
      "source": [
        "x"
      ]
    },
    {
      "cell_type": "code",
      "execution_count": 75,
      "id": "7be234b1-f508-4a66-8deb-556f78e73ec4",
      "metadata": {
        "colab": {
          "base_uri": "https://localhost:8080/",
          "height": 447
        },
        "id": "7be234b1-f508-4a66-8deb-556f78e73ec4",
        "outputId": "94dac715-fdde-434e-864e-8a3ef39e012f"
      },
      "outputs": [
        {
          "output_type": "execute_result",
          "data": {
            "text/plain": [
              "[<matplotlib.lines.Line2D at 0x7c47928fd7e0>]"
            ]
          },
          "metadata": {},
          "execution_count": 75
        },
        {
          "output_type": "display_data",
          "data": {
            "text/plain": [
              "<Figure size 640x480 with 1 Axes>"
            ],
            "image/png": "[encoded data removed]"
          },
          "metadata": {}
        }
      ],
      "source": [
        "plt.plot(x, y)"
      ]
    },
    {
      "cell_type": "code",
      "execution_count": 76,
      "id": "339f4f38-d275-4720-baa0-06e3cef72c4c",
      "metadata": {
        "colab": {
          "base_uri": "https://localhost:8080/"
        },
        "id": "339f4f38-d275-4720-baa0-06e3cef72c4c",
        "outputId": "ac91a7c3-242c-4ab1-8da5-9cef25a8bfd1"
      },
      "outputs": [
        {
          "output_type": "execute_result",
          "data": {
            "text/plain": [
              "array([12,  7,  4,  3,  4,  7, 12])"
            ]
          },
          "metadata": {},
          "execution_count": 76
        }
      ],
      "source": [
        "y"
      ]
    },
    {
      "cell_type": "markdown",
      "id": "a42247cb-72f2-4618-9213-f7dbda7db4b0",
      "metadata": {
        "id": "a42247cb-72f2-4618-9213-f7dbda7db4b0"
      },
      "source": [
        "## 離散型確率分布"
      ]
    },
    {
      "cell_type": "code",
      "execution_count": 77,
      "id": "eb130a2c-3bc4-4810-8d8c-fc1a214e7655",
      "metadata": {
        "colab": {
          "base_uri": "https://localhost:8080/",
          "height": 452
        },
        "id": "eb130a2c-3bc4-4810-8d8c-fc1a214e7655",
        "outputId": "44f7a480-211b-4c71-980f-665d9b955e4d"
      },
      "outputs": [
        {
          "output_type": "execute_result",
          "data": {
            "text/plain": [
              "<matplotlib.collections.LineCollection at 0x7c4792740850>"
            ]
          },
          "metadata": {},
          "execution_count": 77
        },
        {
          "output_type": "display_data",
          "data": {
            "text/plain": [
              "<Figure size 640x480 with 1 Axes>"
            ],
            "image/png": "[encoded data removed]"
          },
          "metadata": {}
        }
      ],
      "source": [
        "x = np.arange(1, 7)\n",
        "y = stats.randint(1, 7).pmf(x)\n",
        "plt.plot(x, y, 'o')\n",
        "plt.vlines(x, 0, y)"
      ]
    },
    {
      "cell_type": "markdown",
      "id": "85a67d32-f972-4dda-8586-0d48adeb69b1",
      "metadata": {
        "id": "85a67d32-f972-4dda-8586-0d48adeb69b1"
      },
      "source": [
        "## 連続型確率分布"
      ]
    },
    {
      "cell_type": "code",
      "execution_count": 78,
      "id": "6a2c18e4-ae9b-4cf4-8f1c-7ad70483d891",
      "metadata": {
        "colab": {
          "base_uri": "https://localhost:8080/",
          "height": 447
        },
        "id": "6a2c18e4-ae9b-4cf4-8f1c-7ad70483d891",
        "outputId": "5eb98640-fe17-4ffa-8224-f86ab3dc1f39"
      },
      "outputs": [
        {
          "output_type": "execute_result",
          "data": {
            "text/plain": [
              "[<matplotlib.lines.Line2D at 0x7c47928012a0>]"
            ]
          },
          "metadata": {},
          "execution_count": 78
        },
        {
          "output_type": "display_data",
          "data": {
            "text/plain": [
              "<Figure size 640x480 with 1 Axes>"
            ],
            "image/png": "[encoded data removed]"
          },
          "metadata": {}
        }
      ],
      "source": [
        "x = np.linspace(-2, 2, 100)\n",
        "y = stats.uniform(loc=0, scale=1).pdf(x)\n",
        "plt.plot(x, y)"
      ]
    },
    {
      "cell_type": "code",
      "execution_count": 79,
      "id": "04e70188-5431-4a1a-ac9a-5f012a9c5873",
      "metadata": {
        "colab": {
          "base_uri": "https://localhost:8080/"
        },
        "id": "04e70188-5431-4a1a-ac9a-5f012a9c5873",
        "outputId": "9d8e4d4e-d3f1-4d49-a83f-ef1b4896c627"
      },
      "outputs": [
        {
          "output_type": "execute_result",
          "data": {
            "text/plain": [
              "array([0., 0., 0., 0., 0., 0., 0., 0., 0., 0., 0., 0., 0., 0., 0., 0., 0.,\n",
              "       0., 0., 0., 0., 0., 0., 0., 0., 0., 0., 0., 0., 0., 0., 0., 0., 0.,\n",
              "       0., 0., 0., 0., 0., 0., 0., 0., 0., 0., 0., 0., 0., 0., 0., 0., 1.,\n",
              "       1., 1., 1., 1., 1., 1., 1., 1., 1., 1., 1., 1., 1., 1., 1., 1., 1.,\n",
              "       1., 1., 1., 1., 1., 1., 1., 0., 0., 0., 0., 0., 0., 0., 0., 0., 0.,\n",
              "       0., 0., 0., 0., 0., 0., 0., 0., 0., 0., 0., 0., 0., 0., 0.])"
            ]
          },
          "metadata": {},
          "execution_count": 79
        }
      ],
      "source": [
        "y"
      ]
    },
    {
      "cell_type": "markdown",
      "id": "eaf36d18-a3d3-4bba-b429-2f0a4fd98923",
      "metadata": {
        "id": "eaf36d18-a3d3-4bba-b429-2f0a4fd98923"
      },
      "source": [
        "# CDF"
      ]
    },
    {
      "cell_type": "code",
      "execution_count": 80,
      "id": "7e0e3e9a-4665-425e-97b9-72f7186d0df4",
      "metadata": {
        "colab": {
          "base_uri": "https://localhost:8080/",
          "height": 447
        },
        "id": "7e0e3e9a-4665-425e-97b9-72f7186d0df4",
        "outputId": "18fdfe23-a88c-499d-f003-be703adc7eab"
      },
      "outputs": [
        {
          "output_type": "execute_result",
          "data": {
            "text/plain": [
              "[<matplotlib.lines.Line2D at 0x7c4792690130>]"
            ]
          },
          "metadata": {},
          "execution_count": 80
        },
        {
          "output_type": "display_data",
          "data": {
            "text/plain": [
              "<Figure size 640x480 with 1 Axes>"
            ],
            "image/png": "[encoded data removed]"
          },
          "metadata": {}
        }
      ],
      "source": [
        "x = np.linspace(-3, 3, 100)\n",
        "y = stats.norm.pdf(x)\n",
        "plt.plot(x, y)"
      ]
    },
    {
      "cell_type": "code",
      "execution_count": 81,
      "id": "316dbfd9-7c51-4601-98ca-f5838830cd6a",
      "metadata": {
        "colab": {
          "base_uri": "https://localhost:8080/",
          "height": 447
        },
        "id": "316dbfd9-7c51-4601-98ca-f5838830cd6a",
        "outputId": "d0e469ed-0bb6-45be-af45-32a13d60735c"
      },
      "outputs": [
        {
          "output_type": "execute_result",
          "data": {
            "text/plain": [
              "[<matplotlib.lines.Line2D at 0x7c47926ef550>]"
            ]
          },
          "metadata": {},
          "execution_count": 81
        },
        {
          "output_type": "display_data",
          "data": {
            "text/plain": [
              "<Figure size 640x480 with 1 Axes>"
            ],
            "image/png": "[encoded data removed]"
          },
          "metadata": {}
        }
      ],
      "source": [
        "y = stats.norm.cdf(x)\n",
        "plt.plot(x, y)\n"
      ]
    },
    {
      "cell_type": "code",
      "execution_count": 82,
      "id": "c553854e-6beb-4fa6-8231-2488ba72d9d9",
      "metadata": {
        "colab": {
          "base_uri": "https://localhost:8080/",
          "height": 447
        },
        "id": "c553854e-6beb-4fa6-8231-2488ba72d9d9",
        "outputId": "2dccbc23-c02e-4839-fd40-0c74464cb44a"
      },
      "outputs": [
        {
          "output_type": "execute_result",
          "data": {
            "text/plain": [
              "[<matplotlib.lines.Line2D at 0x7c47925817b0>]"
            ]
          },
          "metadata": {},
          "execution_count": 82
        },
        {
          "output_type": "display_data",
          "data": {
            "text/plain": [
              "<Figure size 640x480 with 1 Axes>"
            ],
            "image/png": "[encoded data removed]"
          },
          "metadata": {}
        }
      ],
      "source": [
        "y = stats.norm.sf(x)\n",
        "plt.plot(x, y)\n"
      ]
    },
    {
      "cell_type": "markdown",
      "id": "0ab0d51d-2693-4e7f-879c-30142fd09ef0",
      "metadata": {
        "id": "0ab0d51d-2693-4e7f-879c-30142fd09ef0"
      },
      "source": [
        "#　正規分布"
      ]
    },
    {
      "cell_type": "code",
      "execution_count": 83,
      "id": "bffcb091-e755-478a-9d09-7dbd7451d575",
      "metadata": {
        "colab": {
          "base_uri": "https://localhost:8080/",
          "height": 447
        },
        "id": "bffcb091-e755-478a-9d09-7dbd7451d575",
        "outputId": "821130e2-a921-4588-be9d-6d09805612ef"
      },
      "outputs": [
        {
          "output_type": "execute_result",
          "data": {
            "text/plain": [
              "[<matplotlib.lines.Line2D at 0x7c47925ef580>]"
            ]
          },
          "metadata": {},
          "execution_count": 83
        },
        {
          "output_type": "display_data",
          "data": {
            "text/plain": [
              "<Figure size 640x480 with 1 Axes>"
            ],
            "image/png": "[encoded data removed]"
          },
          "metadata": {}
        }
      ],
      "source": [
        "x = np.linspace(-5, 15, 100)\n",
        "y = stats.norm(loc=10, scale=3).pdf(x)\n",
        "y2 = stats.norm(loc=8, scale=3).pdf(x)\n",
        "y3 = stats.norm(loc=8, scale=1).pdf(x)\n",
        "\n",
        "plt.plot(x, y)\n",
        "plt.plot(x, y2)\n",
        "plt.plot(x, y3)"
      ]
    },
    {
      "cell_type": "code",
      "execution_count": 84,
      "id": "c6476303-cd04-46e3-8afe-e58de8cdddce",
      "metadata": {
        "colab": {
          "base_uri": "https://localhost:8080/",
          "height": 447
        },
        "id": "c6476303-cd04-46e3-8afe-e58de8cdddce",
        "outputId": "4c91d7dd-1322-4996-e2d6-3ebc640d99c1"
      },
      "outputs": [
        {
          "output_type": "execute_result",
          "data": {
            "text/plain": [
              "[<matplotlib.lines.Line2D at 0x7c47924aca00>]"
            ]
          },
          "metadata": {},
          "execution_count": 84
        },
        {
          "output_type": "display_data",
          "data": {
            "text/plain": [
              "<Figure size 640x480 with 1 Axes>"
            ],
            "image/png": "[encoded data removed]"
          },
          "metadata": {}
        }
      ],
      "source": [
        "y = stats.norm.pdf(x)\n",
        "plt.plot(x, y)"
      ]
    },
    {
      "cell_type": "markdown",
      "id": "4ab7179d-f2de-4810-bdd3-96e262367599",
      "metadata": {
        "id": "4ab7179d-f2de-4810-bdd3-96e262367599"
      },
      "source": [
        "#　カーネル密度推定"
      ]
    },
    {
      "cell_type": "code",
      "execution_count": 85,
      "id": "7353a137-2875-4dee-b065-db5dc0d737d4",
      "metadata": {
        "colab": {
          "base_uri": "https://localhost:8080/",
          "height": 447
        },
        "id": "7353a137-2875-4dee-b065-db5dc0d737d4",
        "outputId": "6491e24f-f81e-484b-cea2-314289d0e2d9"
      },
      "outputs": [
        {
          "output_type": "execute_result",
          "data": {
            "text/plain": [
              "[<matplotlib.lines.Line2D at 0x7c47926ae8c0>]"
            ]
          },
          "metadata": {},
          "execution_count": 85
        },
        {
          "output_type": "display_data",
          "data": {
            "text/plain": [
              "<Figure size 640x480 with 1 Axes>"
            ],
            "image/png": "[encoded data removed]"
          },
          "metadata": {}
        }
      ],
      "source": [
        "x = np.linspace(-3, 10, 100)\n",
        "y = stats.gaussian_kde([1, 1, 2, 2, 3, 4, 5]).pdf(x)\n",
        "plt.plot(x, y)"
      ]
    },
    {
      "cell_type": "code",
      "execution_count": 86,
      "id": "13f31c1b-da84-4f43-83c2-b75f472727bf",
      "metadata": {
        "colab": {
          "base_uri": "https://localhost:8080/",
          "height": 524
        },
        "id": "13f31c1b-da84-4f43-83c2-b75f472727bf",
        "outputId": "67376a72-3402-4cb8-cb48-62329d8e5db9"
      },
      "outputs": [
        {
          "output_type": "execute_result",
          "data": {
            "text/plain": [
              "<seaborn.axisgrid.FacetGrid at 0x7c4792b71180>"
            ]
          },
          "metadata": {},
          "execution_count": 86
        },
        {
          "output_type": "display_data",
          "data": {
            "text/plain": [
              "<Figure size 500x500 with 1 Axes>"
            ],
            "image/png": "[encoded data removed]"
          },
          "metadata": {}
        }
      ],
      "source": [
        "sns.displot(df['tip'], kde=True)"
      ]
    },
    {
      "cell_type": "code",
      "execution_count": 87,
      "id": "e40d9fd8-87ff-4258-b0b2-b8b3b4e8ed6d",
      "metadata": {
        "id": "e40d9fd8-87ff-4258-b0b2-b8b3b4e8ed6d"
      },
      "outputs": [],
      "source": [
        "resample_data = stats.gaussian_kde(df['tip']).resample()"
      ]
    },
    {
      "cell_type": "code",
      "execution_count": 88,
      "id": "a7dad96b-7c7c-490c-8e46-959541d914e4",
      "metadata": {
        "colab": {
          "base_uri": "https://localhost:8080/"
        },
        "id": "a7dad96b-7c7c-490c-8e46-959541d914e4",
        "outputId": "8166747a-458a-4032-deac-724b04d714ba"
      },
      "outputs": [
        {
          "output_type": "execute_result",
          "data": {
            "text/plain": [
              "(1, 244)"
            ]
          },
          "metadata": {},
          "execution_count": 88
        }
      ],
      "source": [
        "resample_data.shape"
      ]
    },
    {
      "cell_type": "markdown",
      "id": "17a6e3f7-cc52-49bb-8d39-74b00c15fec5",
      "metadata": {
        "id": "17a6e3f7-cc52-49bb-8d39-74b00c15fec5"
      },
      "source": [
        "# Chalenge"
      ]
    },
    {
      "cell_type": "code",
      "execution_count": 89,
      "id": "1c0f6cac-9086-4615-9a3f-1df0d3bd8268",
      "metadata": {
        "colab": {
          "base_uri": "https://localhost:8080/",
          "height": 447
        },
        "id": "1c0f6cac-9086-4615-9a3f-1df0d3bd8268",
        "outputId": "b7e9b085-bad7-4235-ba85-4e4494372d39"
      },
      "outputs": [
        {
          "output_type": "execute_result",
          "data": {
            "text/plain": [
              "[<matplotlib.lines.Line2D at 0x7c47903969e0>]"
            ]
          },
          "metadata": {},
          "execution_count": 89
        },
        {
          "output_type": "display_data",
          "data": {
            "text/plain": [
              "<Figure size 640x480 with 1 Axes>"
            ],
            "image/png": "[encoded data removed]"
          },
          "metadata": {}
        }
      ],
      "source": [
        "x = np.linspace(-5, 15, 1000)\n",
        "y = stats.norm(loc=4, scale=3).pdf(x)\n",
        "plt.plot(x, y)"
      ]
    },
    {
      "cell_type": "code",
      "execution_count": 90,
      "id": "18286c59-8df4-4fb6-870a-e3f05dd82973",
      "metadata": {
        "colab": {
          "base_uri": "https://localhost:8080/"
        },
        "id": "18286c59-8df4-4fb6-870a-e3f05dd82973",
        "outputId": "5f15ebc6-b0ac-487a-9247-64c7380150dd"
      },
      "outputs": [
        {
          "output_type": "execute_result",
          "data": {
            "text/plain": [
              "5.000000000000001"
            ]
          },
          "metadata": {},
          "execution_count": 90
        }
      ],
      "source": [
        "x_mean = x.mean()\n",
        "x_mean"
      ]
    },
    {
      "cell_type": "code",
      "execution_count": 91,
      "id": "ea7cdc40-fd5c-4a0f-b93c-b301f2aa7ad9",
      "metadata": {
        "colab": {
          "base_uri": "https://localhost:8080/"
        },
        "id": "ea7cdc40-fd5c-4a0f-b93c-b301f2aa7ad9",
        "outputId": "be165b0d-4622-4e0f-8440-ae5ca5aaef3c"
      },
      "outputs": [
        {
          "output_type": "execute_result",
          "data": {
            "text/plain": [
              "5.779279084228419"
            ]
          },
          "metadata": {},
          "execution_count": 91
        }
      ],
      "source": [
        "x_std = x.std()\n",
        "x_std"
      ]
    },
    {
      "cell_type": "code",
      "execution_count": 92,
      "id": "5462db28-ca5a-4a29-bce2-f3ed586443f3",
      "metadata": {
        "colab": {
          "base_uri": "https://localhost:8080/"
        },
        "id": "5462db28-ca5a-4a29-bce2-f3ed586443f3",
        "outputId": "571f05b4-fed7-4f7a-b40d-86f537c4230d"
      },
      "outputs": [
        {
          "output_type": "execute_result",
          "data": {
            "text/plain": [
              "10.77927908422842"
            ]
          },
          "metadata": {},
          "execution_count": 92
        }
      ],
      "source": [
        "x_mean + x_std"
      ]
    },
    {
      "cell_type": "code",
      "execution_count": 93,
      "id": "22f1af96-724c-4800-9891-753567e7b0ba",
      "metadata": {
        "colab": {
          "base_uri": "https://localhost:8080/"
        },
        "id": "22f1af96-724c-4800-9891-753567e7b0ba",
        "outputId": "807607b2-0957-4298-8c10-024af15a6699"
      },
      "outputs": [
        {
          "output_type": "execute_result",
          "data": {
            "text/plain": [
              "-0.7792790842284179"
            ]
          },
          "metadata": {},
          "execution_count": 93
        }
      ],
      "source": [
        "x_mean - x_std"
      ]
    },
    {
      "cell_type": "code",
      "execution_count": 94,
      "id": "f935fe11-5fb4-4486-bbb0-dd2b50a57e36",
      "metadata": {
        "colab": {
          "base_uri": "https://localhost:8080/"
        },
        "id": "f935fe11-5fb4-4486-bbb0-dd2b50a57e36",
        "outputId": "7e8eee33-4d06-4d95-feb0-8b5582186a3a"
      },
      "outputs": [
        {
          "output_type": "execute_result",
          "data": {
            "text/plain": [
              "16.558558168456837"
            ]
          },
          "metadata": {},
          "execution_count": 94
        }
      ],
      "source": [
        "x_mean + 2*x_std"
      ]
    },
    {
      "cell_type": "code",
      "execution_count": 95,
      "id": "95f6635a-d5fc-4a32-b20b-2ea5b92acd29",
      "metadata": {
        "colab": {
          "base_uri": "https://localhost:8080/"
        },
        "id": "95f6635a-d5fc-4a32-b20b-2ea5b92acd29",
        "outputId": "4482445a-b4a4-4a58-8d59-4c98af290f7f"
      },
      "outputs": [
        {
          "output_type": "execute_result",
          "data": {
            "text/plain": [
              "-6.558558168456837"
            ]
          },
          "metadata": {},
          "execution_count": 95
        }
      ],
      "source": [
        "x_mean - 2*x_std"
      ]
    },
    {
      "cell_type": "markdown",
      "id": "03c1ad73-4762-48a0-8169-235a5d9a60b8",
      "metadata": {
        "id": "03c1ad73-4762-48a0-8169-235a5d9a60b8"
      },
      "source": [
        "# 68-95-99.7ルール"
      ]
    },
    {
      "cell_type": "code",
      "execution_count": 96,
      "id": "5cd5bdba-655d-4a96-bad6-1be201a47f5c",
      "metadata": {
        "id": "5cd5bdba-655d-4a96-bad6-1be201a47f5c"
      },
      "outputs": [],
      "source": [
        "group1 = []\n",
        "group2 = []\n",
        "group3 = []\n",
        "samples = []\n",
        "\n",
        "loc = 4\n",
        "scale = 3\n",
        "\n",
        "for i in range(1000):\n",
        "    sample = stats.norm(loc=loc, scale=scale).rvs()\n",
        "    if loc-scale < sample < loc+scale:\n",
        "        group1.append(sample)\n",
        "    elif loc-2*scale < sample < loc+2*scale:\n",
        "        group2.append(sample)\n",
        "    elif loc-3*scale < sample < loc+3*scale:\n",
        "        group3.append(sample)\n",
        "    samples.append(sample)"
      ]
    },
    {
      "cell_type": "code",
      "execution_count": 97,
      "id": "ab4db125-c004-43b6-bdfe-2903ccca95a1",
      "metadata": {
        "colab": {
          "base_uri": "https://localhost:8080/"
        },
        "id": "ab4db125-c004-43b6-bdfe-2903ccca95a1",
        "outputId": "190a1eb9-b337-4506-a615-0813d0721885"
      },
      "outputs": [
        {
          "output_type": "execute_result",
          "data": {
            "text/plain": [
              "0.677"
            ]
          },
          "metadata": {},
          "execution_count": 97
        }
      ],
      "source": [
        "len(group1)/len(samples)"
      ]
    },
    {
      "cell_type": "code",
      "execution_count": 98,
      "id": "979ef524-891b-4be2-b4a3-5954ad8881d4",
      "metadata": {
        "colab": {
          "base_uri": "https://localhost:8080/"
        },
        "id": "979ef524-891b-4be2-b4a3-5954ad8881d4",
        "outputId": "cf290d38-6d3a-43dc-ad39-aae31370f07f"
      },
      "outputs": [
        {
          "output_type": "stream",
          "name": "stdout",
          "text": [
            "Group1: 0.677\n",
            "Group2: 0.955\n",
            "Group3: 0.997\n"
          ]
        }
      ],
      "source": [
        "print(f'Group1: {len(group1)/len(samples)}')\n",
        "print(f'Group2: {(len(group1) + len(group2))/len(samples)}')\n",
        "print(f'Group3: {(len(group1) + len(group2) + len(group3))/len(samples)}')"
      ]
    },
    {
      "cell_type": "markdown",
      "id": "e7899b35-25cb-4c8b-b88d-8ae4c9e7f6d2",
      "metadata": {
        "id": "e7899b35-25cb-4c8b-b88d-8ae4c9e7f6d2"
      },
      "source": [
        "#　標準化"
      ]
    },
    {
      "cell_type": "code",
      "execution_count": 99,
      "id": "67c5172e-da0b-4de6-ba9f-79220ad081fc",
      "metadata": {
        "id": "67c5172e-da0b-4de6-ba9f-79220ad081fc"
      },
      "outputs": [],
      "source": [
        "scaler = StandardScaler()"
      ]
    },
    {
      "cell_type": "code",
      "execution_count": 100,
      "id": "3546fe25-e48c-46f7-b956-7adffc13e873",
      "metadata": {
        "id": "3546fe25-e48c-46f7-b956-7adffc13e873"
      },
      "outputs": [],
      "source": [
        "scaled = scaler.fit_transform(df['tip_rate'].values.reshape(-1, 1))"
      ]
    },
    {
      "cell_type": "markdown",
      "id": "31d03529-8ab7-4065-ba91-774eeb98738f",
      "metadata": {
        "id": "31d03529-8ab7-4065-ba91-774eeb98738f"
      },
      "source": [
        "## 偏差値"
      ]
    },
    {
      "cell_type": "code",
      "execution_count": 101,
      "id": "59d8cc5e-8fff-43eb-8744-7870e4f81d35",
      "metadata": {
        "id": "59d8cc5e-8fff-43eb-8744-7870e4f81d35"
      },
      "outputs": [],
      "source": [
        "# scaled * 10 + 50"
      ]
    },
    {
      "cell_type": "code",
      "execution_count": 102,
      "id": "e8ac7cbd-9abe-46c1-8bbd-205fcdc3ff3d",
      "metadata": {
        "id": "e8ac7cbd-9abe-46c1-8bbd-205fcdc3ff3d"
      },
      "outputs": [],
      "source": [
        "# scaler.fit_transform(df[['total_bill', 'tip_rate']])"
      ]
    },
    {
      "cell_type": "markdown",
      "id": "a09b155f-aedb-457e-84e5-329e65526573",
      "metadata": {
        "id": "a09b155f-aedb-457e-84e5-329e65526573"
      },
      "source": [
        "# 二項分布"
      ]
    },
    {
      "cell_type": "code",
      "execution_count": 103,
      "id": "4699a9b1-6b74-4397-8cab-b80ac36c6f76",
      "metadata": {
        "colab": {
          "base_uri": "https://localhost:8080/",
          "height": 448
        },
        "id": "4699a9b1-6b74-4397-8cab-b80ac36c6f76",
        "outputId": "f5c7aa71-c666-40ec-b8ec-cd46342dbebf"
      },
      "outputs": [
        {
          "output_type": "execute_result",
          "data": {
            "text/plain": [
              "<matplotlib.collections.LineCollection at 0x7c4790235b10>"
            ]
          },
          "metadata": {},
          "execution_count": 103
        },
        {
          "output_type": "display_data",
          "data": {
            "text/plain": [
              "<Figure size 640x480 with 1 Axes>"
            ],
            "image/png": "[encoded data removed]"
          },
          "metadata": {}
        }
      ],
      "source": [
        "n = 3\n",
        "x = np.arange(n+1)\n",
        "y = stats.binom(n=n, p=1/6).pmf(x)\n",
        "plt.plot(x, y, 'o')\n",
        "plt.vlines(x, 0, y)"
      ]
    },
    {
      "cell_type": "code",
      "execution_count": 104,
      "id": "a6c73c36-0965-4866-8bfc-747c4c6623ae",
      "metadata": {
        "colab": {
          "base_uri": "https://localhost:8080/"
        },
        "id": "a6c73c36-0965-4866-8bfc-747c4c6623ae",
        "outputId": "6e860568-1e0e-4b45-a897-e63c4167ed14"
      },
      "outputs": [
        {
          "output_type": "execute_result",
          "data": {
            "text/plain": [
              "array([0, 1, 2, 3])"
            ]
          },
          "metadata": {},
          "execution_count": 104
        }
      ],
      "source": [
        "x"
      ]
    },
    {
      "cell_type": "code",
      "execution_count": 105,
      "id": "7746e719-c40b-4aa0-9017-b00725fba32e",
      "metadata": {
        "colab": {
          "base_uri": "https://localhost:8080/"
        },
        "id": "7746e719-c40b-4aa0-9017-b00725fba32e",
        "outputId": "670a7b30-211f-41ed-9e2b-5eb378e6d79b"
      },
      "outputs": [
        {
          "output_type": "execute_result",
          "data": {
            "text/plain": [
              "array([0.5787037 , 0.34722222, 0.06944444, 0.00462963])"
            ]
          },
          "metadata": {},
          "execution_count": 105
        }
      ],
      "source": [
        "y"
      ]
    },
    {
      "cell_type": "markdown",
      "id": "45a275d6-8f9d-4346-a137-844749360c1f",
      "metadata": {
        "id": "45a275d6-8f9d-4346-a137-844749360c1f"
      },
      "source": [
        "## 練習問題"
      ]
    },
    {
      "cell_type": "code",
      "execution_count": 106,
      "id": "11b3be93-82e8-4c3c-9a4d-5e0f5b9a60d0",
      "metadata": {
        "colab": {
          "base_uri": "https://localhost:8080/",
          "height": 447
        },
        "id": "11b3be93-82e8-4c3c-9a4d-5e0f5b9a60d0",
        "outputId": "8e2870a1-493b-4ad3-bf02-fe05d7880ce4"
      },
      "outputs": [
        {
          "output_type": "execute_result",
          "data": {
            "text/plain": [
              "<matplotlib.collections.LineCollection at 0x7c47902cee30>"
            ]
          },
          "metadata": {},
          "execution_count": 106
        },
        {
          "output_type": "display_data",
          "data": {
            "text/plain": [
              "<Figure size 640x480 with 1 Axes>"
            ],
            "image/png": "[encoded data removed]"
          },
          "metadata": {}
        }
      ],
      "source": [
        "n = 100\n",
        "p = 1/6\n",
        "x = np.arange(n+1)\n",
        "y = stats.binom(n=n, p=p).pmf(x)\n",
        "plt.plot(x, y, 'o')\n",
        "plt.vlines(x, 0, y)"
      ]
    },
    {
      "cell_type": "code",
      "execution_count": 107,
      "id": "311f1615-c56a-4d24-b4b7-7292a20c76cd",
      "metadata": {
        "colab": {
          "base_uri": "https://localhost:8080/",
          "height": 447
        },
        "id": "311f1615-c56a-4d24-b4b7-7292a20c76cd",
        "outputId": "6b287e38-cf70-498f-9bdf-470f7b0ff898"
      },
      "outputs": [
        {
          "output_type": "execute_result",
          "data": {
            "text/plain": [
              "[<matplotlib.lines.Line2D at 0x7c4790189690>]"
            ]
          },
          "metadata": {},
          "execution_count": 107
        },
        {
          "output_type": "display_data",
          "data": {
            "text/plain": [
              "<Figure size 640x480 with 1 Axes>"
            ],
            "image/png": "[encoded data removed]"
          },
          "metadata": {}
        }
      ],
      "source": [
        "y2 = stats.norm(p*n, np.sqrt(n*p*(1-p))).pdf(x)\n",
        "plt.plot(x, y2)\n",
        "plt.plot(x, y, 'o')"
      ]
    },
    {
      "cell_type": "code",
      "execution_count": 108,
      "id": "4e4139e5-81bf-4d8f-9173-1715ced0c985",
      "metadata": {
        "colab": {
          "base_uri": "https://localhost:8080/"
        },
        "id": "4e4139e5-81bf-4d8f-9173-1715ced0c985",
        "outputId": "30199e10-4dd9-4e73-e86e-bd69826cbee5"
      },
      "outputs": [
        {
          "output_type": "execute_result",
          "data": {
            "text/plain": [
              "16.666666666666664"
            ]
          },
          "metadata": {},
          "execution_count": 108
        }
      ],
      "source": [
        "p * n"
      ]
    },
    {
      "cell_type": "code",
      "execution_count": 109,
      "id": "ba1f28c8-1a8b-430e-85fa-bb650de5b3a2",
      "metadata": {
        "colab": {
          "base_uri": "https://localhost:8080/"
        },
        "id": "ba1f28c8-1a8b-430e-85fa-bb650de5b3a2",
        "outputId": "75f452f2-177b-4b4b-c8bd-1db259ac0693"
      },
      "outputs": [
        {
          "output_type": "execute_result",
          "data": {
            "text/plain": [
              "16.666666666666664"
            ]
          },
          "metadata": {},
          "execution_count": 109
        }
      ],
      "source": [
        "# 平均\n",
        "stats.binom(n=n, p=p).mean()"
      ]
    },
    {
      "cell_type": "code",
      "execution_count": 110,
      "id": "5cb3aa28-f98e-457f-a735-51bec83b562f",
      "metadata": {
        "colab": {
          "base_uri": "https://localhost:8080/"
        },
        "id": "5cb3aa28-f98e-457f-a735-51bec83b562f",
        "outputId": "801fb3ce-67fa-4331-a10f-136f0ce90a48"
      },
      "outputs": [
        {
          "output_type": "execute_result",
          "data": {
            "text/plain": [
              "13.888888888888888"
            ]
          },
          "metadata": {},
          "execution_count": 110
        }
      ],
      "source": [
        "# 分散\n",
        "stats.binom(n, p).var()"
      ]
    },
    {
      "cell_type": "code",
      "execution_count": 111,
      "id": "3228f74c-6199-4a18-8917-c988a10d120c",
      "metadata": {
        "colab": {
          "base_uri": "https://localhost:8080/"
        },
        "id": "3228f74c-6199-4a18-8917-c988a10d120c",
        "outputId": "790cc2f2-2812-480a-f2de-a43d3ec493ae"
      },
      "outputs": [
        {
          "output_type": "execute_result",
          "data": {
            "text/plain": [
              "13.888888888888888"
            ]
          },
          "metadata": {},
          "execution_count": 111
        }
      ],
      "source": [
        "p*n*(1-p)"
      ]
    },
    {
      "cell_type": "code",
      "execution_count": 112,
      "id": "85187aa5-81a2-42f2-8777-216b706d714d",
      "metadata": {
        "colab": {
          "base_uri": "https://localhost:8080/"
        },
        "id": "85187aa5-81a2-42f2-8777-216b706d714d",
        "outputId": "70a0d4da-46a1-49ef-86ba-404250a3cc91"
      },
      "outputs": [
        {
          "output_type": "execute_result",
          "data": {
            "text/plain": [
              "3.7267799624996494"
            ]
          },
          "metadata": {},
          "execution_count": 112
        }
      ],
      "source": [
        "# 標準偏差\n",
        "stats.binom(n, p).std()"
      ]
    },
    {
      "cell_type": "code",
      "execution_count": 113,
      "id": "60604387-8242-4eef-96d0-b0f3d9b38448",
      "metadata": {
        "colab": {
          "base_uri": "https://localhost:8080/"
        },
        "id": "60604387-8242-4eef-96d0-b0f3d9b38448",
        "outputId": "7414a657-519f-4949-a0bd-5daa5cb09680"
      },
      "outputs": [
        {
          "output_type": "execute_result",
          "data": {
            "text/plain": [
              "3.7267799624996494"
            ]
          },
          "metadata": {},
          "execution_count": 113
        }
      ],
      "source": [
        "np.sqrt(p*n*(1-p))"
      ]
    },
    {
      "cell_type": "markdown",
      "id": "d048d6c8-d43f-4345-a6f8-34d087a2c4e2",
      "metadata": {
        "id": "d048d6c8-d43f-4345-a6f8-34d087a2c4e2"
      },
      "source": [
        "#　標本分布を見てみよう（Chalenge）"
      ]
    },
    {
      "cell_type": "code",
      "execution_count": 114,
      "id": "ba9a098a-698a-44f6-8a4f-fb645c38faca",
      "metadata": {
        "colab": {
          "base_uri": "https://localhost:8080/"
        },
        "id": "ba9a098a-698a-44f6-8a4f-fb645c38faca",
        "outputId": "29a92175-aed7-4f7a-969a-ba22dd0d02b2"
      },
      "outputs": [
        {
          "output_type": "execute_result",
          "data": {
            "text/plain": [
              "50"
            ]
          },
          "metadata": {},
          "execution_count": 114
        }
      ],
      "source": [
        "len(df['tip'].sample(50))"
      ]
    },
    {
      "cell_type": "code",
      "execution_count": 115,
      "id": "17eaaecf-ccfd-4469-9ec9-d710a8b91c24",
      "metadata": {
        "id": "17eaaecf-ccfd-4469-9ec9-d710a8b91c24"
      },
      "outputs": [],
      "source": [
        "# n = 50\n",
        "# for i in range(100):\n",
        "#     sample_df = df['tip'].sample(n)\n",
        "#     print(f'---sample_df:{i}---')\n",
        "#     print(f'df_mean{sample_df.mean()}')\n",
        "#     print(f'df_var{sample_df.var()}')"
      ]
    },
    {
      "cell_type": "code",
      "execution_count": 116,
      "id": "b5322391-58eb-401a-88c6-064fe62b513d",
      "metadata": {
        "colab": {
          "base_uri": "https://localhost:8080/"
        },
        "id": "b5322391-58eb-401a-88c6-064fe62b513d",
        "outputId": "340ab67e-6e65-413e-8237-8d2fe638e09b"
      },
      "outputs": [
        {
          "output_type": "stream",
          "name": "stdout",
          "text": [
            "2.99827868852459\n",
            "1.914454638062471\n"
          ]
        }
      ],
      "source": [
        "print(df['tip'].mean())\n",
        "print(df['tip'].var())"
      ]
    },
    {
      "cell_type": "code",
      "execution_count": 117,
      "id": "9e60ac4a-2495-46bf-9a2d-8e100a0c2c7c",
      "metadata": {
        "id": "9e60ac4a-2495-46bf-9a2d-8e100a0c2c7c"
      },
      "outputs": [],
      "source": [
        "m = 100\n",
        "n = 50\n",
        "column = 'tip'\n",
        "\n",
        "sample_means = []\n",
        "for i in range(m):\n",
        "    sample_df = df.sample(n)\n",
        "    sample_mean = sample_df[column].mean()\n",
        "    sample_means.append(sample_mean)"
      ]
    },
    {
      "cell_type": "code",
      "execution_count": 118,
      "id": "54d9dbb7-0e97-4199-b856-30052ae22540",
      "metadata": {
        "colab": {
          "base_uri": "https://localhost:8080/"
        },
        "id": "54d9dbb7-0e97-4199-b856-30052ae22540",
        "outputId": "fb546048-5fee-4cad-8ebb-853d1d584024"
      },
      "outputs": [
        {
          "output_type": "execute_result",
          "data": {
            "text/plain": [
              "3.0120080000000002"
            ]
          },
          "metadata": {},
          "execution_count": 118
        }
      ],
      "source": [
        "# 平均\n",
        "np.mean(sample_means)"
      ]
    },
    {
      "cell_type": "code",
      "execution_count": 119,
      "id": "1e44f3bd-861f-42cb-a0e1-067beff3f317",
      "metadata": {
        "colab": {
          "base_uri": "https://localhost:8080/"
        },
        "id": "1e44f3bd-861f-42cb-a0e1-067beff3f317",
        "outputId": "ea2e38a1-5074-4901-df9a-80f308cbc6a9"
      },
      "outputs": [
        {
          "output_type": "execute_result",
          "data": {
            "text/plain": [
              "2.99827868852459"
            ]
          },
          "metadata": {},
          "execution_count": 119
        }
      ],
      "source": [
        "# 母平均\n",
        "df[column].mean()"
      ]
    },
    {
      "cell_type": "code",
      "execution_count": 120,
      "id": "9e87a104-1b00-4624-8dd4-50a7e569cb03",
      "metadata": {
        "colab": {
          "base_uri": "https://localhost:8080/"
        },
        "id": "9e87a104-1b00-4624-8dd4-50a7e569cb03",
        "outputId": "0306f8a1-6914-4417-d2ff-9895ab6c6f1c"
      },
      "outputs": [
        {
          "output_type": "execute_result",
          "data": {
            "text/plain": [
              "0.028570731935999998"
            ]
          },
          "metadata": {},
          "execution_count": 120
        }
      ],
      "source": [
        "# 分散\n",
        "np.var(sample_means)"
      ]
    },
    {
      "cell_type": "code",
      "execution_count": 121,
      "id": "5681f48f-3fe7-4cf0-8460-005d3428a77b",
      "metadata": {
        "colab": {
          "base_uri": "https://localhost:8080/"
        },
        "id": "5681f48f-3fe7-4cf0-8460-005d3428a77b",
        "outputId": "bf6371dd-f5b1-4f8c-f790-c1cafe6aedc4"
      },
      "outputs": [
        {
          "output_type": "execute_result",
          "data": {
            "text/plain": [
              "0.038132170249932824"
            ]
          },
          "metadata": {},
          "execution_count": 121
        }
      ],
      "source": [
        "# 母分散/n\n",
        "np.var(df[column])/n"
      ]
    },
    {
      "cell_type": "code",
      "execution_count": 122,
      "id": "ef0b11e2-2cb5-4f8f-8fa2-9b48124101d8",
      "metadata": {
        "colab": {
          "base_uri": "https://localhost:8080/",
          "height": 524
        },
        "id": "ef0b11e2-2cb5-4f8f-8fa2-9b48124101d8",
        "outputId": "e7c8599e-dec3-4975-a364-8e2920b8d792"
      },
      "outputs": [
        {
          "output_type": "execute_result",
          "data": {
            "text/plain": [
              "<seaborn.axisgrid.FacetGrid at 0x7c47901d6d40>"
            ]
          },
          "metadata": {},
          "execution_count": 122
        },
        {
          "output_type": "display_data",
          "data": {
            "text/plain": [
              "<Figure size 500x500 with 1 Axes>"
            ],
            "image/png": "[encoded data removed]"
          },
          "metadata": {}
        }
      ],
      "source": [
        "sns.displot(df[column])"
      ]
    },
    {
      "cell_type": "code",
      "execution_count": 123,
      "id": "cf7d59e7-de0a-4d15-8da7-ca62dd94865b",
      "metadata": {
        "colab": {
          "base_uri": "https://localhost:8080/",
          "height": 523
        },
        "id": "cf7d59e7-de0a-4d15-8da7-ca62dd94865b",
        "outputId": "a073d480-9439-42dd-cb1a-b8b46965866d"
      },
      "outputs": [
        {
          "output_type": "execute_result",
          "data": {
            "text/plain": [
              "<seaborn.axisgrid.FacetGrid at 0x7c479002c880>"
            ]
          },
          "metadata": {},
          "execution_count": 123
        },
        {
          "output_type": "display_data",
          "data": {
            "text/plain": [
              "<Figure size 500x500 with 1 Axes>"
            ],
            "image/png": "[encoded data removed]"
          },
          "metadata": {}
        }
      ],
      "source": [
        "sns.displot(sample_means)"
      ]
    },
    {
      "cell_type": "markdown",
      "id": "b9ddcf4f-f589-463e-926c-8eb0fa73cc77",
      "metadata": {
        "id": "b9ddcf4f-f589-463e-926c-8eb0fa73cc77"
      },
      "source": [
        "# 不偏分散"
      ]
    },
    {
      "cell_type": "code",
      "execution_count": 124,
      "id": "41bd256d-2605-426b-88bc-6a341525d430",
      "metadata": {
        "colab": {
          "base_uri": "https://localhost:8080/"
        },
        "id": "41bd256d-2605-426b-88bc-6a341525d430",
        "outputId": "1a327a72-be07-4af9-c0b2-692950972a6e"
      },
      "outputs": [
        {
          "output_type": "execute_result",
          "data": {
            "text/plain": [
              "1.914454638062471"
            ]
          },
          "metadata": {},
          "execution_count": 124
        }
      ],
      "source": [
        "stats.tvar(df['tip'])"
      ]
    },
    {
      "cell_type": "code",
      "execution_count": 125,
      "id": "4ad9dabe-2cba-4baa-ba9e-3297854b1974",
      "metadata": {
        "colab": {
          "base_uri": "https://localhost:8080/"
        },
        "id": "4ad9dabe-2cba-4baa-ba9e-3297854b1974",
        "outputId": "30b979a6-4cbd-404d-dedc-af1fbf5d4af9"
      },
      "outputs": [
        {
          "output_type": "execute_result",
          "data": {
            "text/plain": [
              "1.914454638062471"
            ]
          },
          "metadata": {},
          "execution_count": 125
        }
      ],
      "source": [
        "np.var(df['tip'], ddof=1)"
      ]
    },
    {
      "cell_type": "markdown",
      "id": "30f9f69d-9e7c-40aa-8a31-cfed6a51f921",
      "metadata": {
        "id": "30f9f69d-9e7c-40aa-8a31-cfed6a51f921"
      },
      "source": [
        "# 不偏分散の平方根"
      ]
    },
    {
      "cell_type": "code",
      "execution_count": 126,
      "id": "8641ed25-f64e-43d8-be77-a2a214f80826",
      "metadata": {
        "colab": {
          "base_uri": "https://localhost:8080/"
        },
        "id": "8641ed25-f64e-43d8-be77-a2a214f80826",
        "outputId": "d4a818f3-dcbe-4b7f-ef26-1749285516c4"
      },
      "outputs": [
        {
          "output_type": "execute_result",
          "data": {
            "text/plain": [
              "1.3836381890011822"
            ]
          },
          "metadata": {},
          "execution_count": 126
        }
      ],
      "source": [
        "np.sqrt(stats.tvar(df['tip']))"
      ]
    },
    {
      "cell_type": "code",
      "execution_count": 127,
      "id": "53c4e68a-e836-4bd6-9350-56fa8359a33d",
      "metadata": {
        "colab": {
          "base_uri": "https://localhost:8080/"
        },
        "id": "53c4e68a-e836-4bd6-9350-56fa8359a33d",
        "outputId": "2b3eb333-e26a-4aea-a34b-ba9907405825"
      },
      "outputs": [
        {
          "output_type": "execute_result",
          "data": {
            "text/plain": [
              "1.3836381890011822"
            ]
          },
          "metadata": {},
          "execution_count": 127
        }
      ],
      "source": [
        "stats.tstd(df['tip'])"
      ]
    },
    {
      "cell_type": "code",
      "execution_count": 128,
      "id": "a90ac5aa-286d-4a1b-bce1-397c23e7f9d3",
      "metadata": {
        "colab": {
          "base_uri": "https://localhost:8080/"
        },
        "id": "a90ac5aa-286d-4a1b-bce1-397c23e7f9d3",
        "outputId": "a35c41dc-64fd-4ccf-a4f3-cff8132c0f78"
      },
      "outputs": [
        {
          "output_type": "execute_result",
          "data": {
            "text/plain": [
              "1.3836381890011822"
            ]
          },
          "metadata": {},
          "execution_count": 128
        }
      ],
      "source": [
        "np.std(df['tip'], ddof=1)"
      ]
    },
    {
      "cell_type": "markdown",
      "id": "bd15996e-acef-447f-b858-333a15632de9",
      "metadata": {
        "id": "bd15996e-acef-447f-b858-333a15632de9"
      },
      "source": [
        "## Chalenge問題"
      ]
    },
    {
      "cell_type": "code",
      "execution_count": 129,
      "id": "2ab1a7b9-e630-4599-8313-24d9809c3232",
      "metadata": {
        "id": "2ab1a7b9-e630-4599-8313-24d9809c3232"
      },
      "outputs": [],
      "source": [
        "m = 100\n",
        "n = 50\n",
        "column = 'tip'\n",
        "\n",
        "sample_vars = []\n",
        "sample_tvars = []\n",
        "for i in range(m):\n",
        "    sample_df = df.sample(n)\n",
        "    sample_var = np.var(sample_df[column])\n",
        "    sample_vars.append(sample_var)\n",
        "    sample_tvar = np.var(sample_df[column], ddof=1)\n",
        "    sample_tvars.append(sample_tvar)"
      ]
    },
    {
      "cell_type": "code",
      "execution_count": 130,
      "id": "f1d0fbd9-73e3-4b87-a066-88362d2a7c02",
      "metadata": {
        "colab": {
          "base_uri": "https://localhost:8080/"
        },
        "id": "f1d0fbd9-73e3-4b87-a066-88362d2a7c02",
        "outputId": "977cbe89-1739-45ec-f8ba-8cadf6852e07"
      },
      "outputs": [
        {
          "output_type": "execute_result",
          "data": {
            "text/plain": [
              "1.8369146300000003"
            ]
          },
          "metadata": {},
          "execution_count": 130
        }
      ],
      "source": [
        "np.mean(sample_vars)"
      ]
    },
    {
      "cell_type": "code",
      "execution_count": 131,
      "id": "5243203c-8891-4a07-b88e-17410fab04bf",
      "metadata": {
        "colab": {
          "base_uri": "https://localhost:8080/"
        },
        "id": "5243203c-8891-4a07-b88e-17410fab04bf",
        "outputId": "84331296-0b9c-4648-c243-a12221a68136"
      },
      "outputs": [
        {
          "output_type": "execute_result",
          "data": {
            "text/plain": [
              "1.87440268367347"
            ]
          },
          "metadata": {},
          "execution_count": 131
        }
      ],
      "source": [
        "np.mean(sample_tvars)"
      ]
    },
    {
      "cell_type": "code",
      "execution_count": 132,
      "id": "5e543bdb-6c44-4fdb-9562-298953034947",
      "metadata": {
        "colab": {
          "base_uri": "https://localhost:8080/"
        },
        "id": "5e543bdb-6c44-4fdb-9562-298953034947",
        "outputId": "bc1af64f-0e01-4bcd-953b-80a0db9573f3"
      },
      "outputs": [
        {
          "output_type": "execute_result",
          "data": {
            "text/plain": [
              "1.9066085124966412"
            ]
          },
          "metadata": {},
          "execution_count": 132
        }
      ],
      "source": [
        "np.var(df[column])"
      ]
    },
    {
      "cell_type": "markdown",
      "id": "e20db1a7-98c0-4bd3-b4ce-3c5e9514e0d1",
      "metadata": {
        "id": "e20db1a7-98c0-4bd3-b4ce-3c5e9514e0d1"
      },
      "source": [
        "# 比率の区間推定"
      ]
    },
    {
      "cell_type": "code",
      "execution_count": 133,
      "id": "e1ef84da-9ceb-481e-a71f-5fe20b43e874",
      "metadata": {
        "colab": {
          "base_uri": "https://localhost:8080/"
        },
        "id": "e1ef84da-9ceb-481e-a71f-5fe20b43e874",
        "outputId": "3a97600e-7c02-4ed2-f3a9-2d35b83a5cb2"
      },
      "outputs": [
        {
          "output_type": "execute_result",
          "data": {
            "text/plain": [
              "(570.0, 630.0)"
            ]
          },
          "metadata": {},
          "execution_count": 133
        }
      ],
      "source": [
        "stats.binom.interval(0.95, 1000, 0.6)"
      ]
    },
    {
      "cell_type": "code",
      "execution_count": 134,
      "id": "31869eec-6b80-490a-b8ea-91277167a564",
      "metadata": {
        "colab": {
          "base_uri": "https://localhost:8080/"
        },
        "id": "31869eec-6b80-490a-b8ea-91277167a564",
        "outputId": "d8ab60ab-2ab0-4d6e-ec73-b0fd1c0b6b9d"
      },
      "outputs": [
        {
          "output_type": "execute_result",
          "data": {
            "text/plain": [
              "(560.0, 640.0)"
            ]
          },
          "metadata": {},
          "execution_count": 134
        }
      ],
      "source": [
        "stats.binom.interval(0.99, 1000, 0.6)"
      ]
    },
    {
      "cell_type": "markdown",
      "id": "990fe7cd-d321-4c2e-a195-e982aea793f1",
      "metadata": {
        "id": "990fe7cd-d321-4c2e-a195-e982aea793f1"
      },
      "source": [
        "## Chalenge"
      ]
    },
    {
      "cell_type": "code",
      "execution_count": 135,
      "id": "0658dd68-7ea3-45a5-b8b8-4ac7f4bafad2",
      "metadata": {
        "id": "0658dd68-7ea3-45a5-b8b8-4ac7f4bafad2"
      },
      "outputs": [],
      "source": [
        "n = 50\n",
        "m = 100\n",
        "alpha = 0.95\n",
        "column = 'sex'\n",
        "rate_target = 'Male'\n",
        "binom_results = []\n",
        "\n",
        "for i in range(m):\n",
        "    sample_df = df.sample(n)\n",
        "    value_counts = sample_df[column].value_counts()\n",
        "    male_count = value_counts[rate_target]\n",
        "    ratio = male_count / n\n",
        "    binom_result = stats.binom.interval(alpha, n, ratio)\n",
        "    binom_results.append(binom_result)"
      ]
    },
    {
      "cell_type": "code",
      "execution_count": 157,
      "id": "ee1403f9-9c01-49f2-b571-cb2a69667ddd",
      "metadata": {
        "id": "ee1403f9-9c01-49f2-b571-cb2a69667ddd"
      },
      "outputs": [],
      "source": [
        "population_male_ratio = len(df[df['sex']=='Male']) / len(df)\n",
        "results = []\n",
        "\n",
        "for _ in range(m):\n",
        "  sample_df = df.sample(n)\n",
        "  male_ratio = len(sample_df[sample_df[column]==rate_target]) / len(sample_df)\n",
        "  min_num, max_num = stats.binom.interval(alpha, n, male_ratio)\n",
        "  min_ratio = min_num / n\n",
        "  max_ratio = max_num / n\n",
        "\n",
        "  correct = min_ratio < population_male_ratio < max_ratio\n",
        "  results.append({'min': min_ratio, 'max': max_ratio, 'result': correct})"
      ]
    },
    {
      "cell_type": "code",
      "execution_count": 159,
      "id": "66dffd85-cdd9-4254-b7a7-16e7a41a9b4b",
      "metadata": {
        "id": "66dffd85-cdd9-4254-b7a7-16e7a41a9b4b"
      },
      "outputs": [],
      "source": [
        "result_df = pd.DataFrame(results)"
      ]
    },
    {
      "cell_type": "code",
      "source": [
        "result_df['result'].value_counts()"
      ],
      "metadata": {
        "colab": {
          "base_uri": "https://localhost:8080/"
        },
        "id": "lbMR_MXQ6SQc",
        "outputId": "e65d25ed-d726-458a-e7f7-60193f61509f"
      },
      "id": "lbMR_MXQ6SQc",
      "execution_count": 161,
      "outputs": [
        {
          "output_type": "execute_result",
          "data": {
            "text/plain": [
              "True     99\n",
              "False     1\n",
              "Name: result, dtype: int64"
            ]
          },
          "metadata": {},
          "execution_count": 161
        }
      ]
    },
    {
      "cell_type": "code",
      "source": [],
      "metadata": {
        "id": "emn0rJTf9iBE"
      },
      "id": "emn0rJTf9iBE",
      "execution_count": null,
      "outputs": []
    }
  ],
  "metadata": {
    "kernelspec": {
      "display_name": "Python 3",
      "language": "python",
      "name": "python3"
    },
    "language_info": {
      "codemirror_mode": {
        "name": "ipython",
        "version": 3
      },
      "file_extension": ".py",
      "mimetype": "text/x-python",
      "name": "python",
      "nbconvert_exporter": "python",
      "pygments_lexer": "ipython3",
      "version": "3.8.8"
    },
    "colab": {
      "provenance": []
    }
  },
  "nbformat": 4,
  "nbformat_minor": 5
}