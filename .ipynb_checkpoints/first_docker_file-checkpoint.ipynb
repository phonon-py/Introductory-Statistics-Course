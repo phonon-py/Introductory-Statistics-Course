{
 "cells": [
  {
   "cell_type": "code",
   "execution_count": 158,
   "id": "cd0ca3f5-a53f-4956-997b-4d811535da19",
   "metadata": {
    "id": "cd0ca3f5-a53f-4956-997b-4d811535da19"
   },
   "outputs": [],
   "source": [
    "import numpy as np\n",
    "import seaborn as sns\n",
    "import pandas as pd\n",
    "from scipy import stats\n",
    "from statsmodels.stats.proportion import proportions_ztest\n",
    "from sklearn.preprocessing import StandardScaler\n",
    "import matplotlib.pyplot as plt\n",
    "%matplotlib inline"
   ]
  },
  {
   "cell_type": "markdown",
   "id": "81d83588-58da-46a5-a7ab-6a295cdf78d8",
   "metadata": {
    "id": "81d83588-58da-46a5-a7ab-6a295cdf78d8"
   },
   "source": [
    "# データ準備"
   ]
  },
  {
   "cell_type": "code",
   "execution_count": 159,
   "id": "22fd265c-43b0-4dd4-a616-32f325d838a2",
   "metadata": {
    "id": "22fd265c-43b0-4dd4-a616-32f325d838a2"
   },
   "outputs": [],
   "source": [
    "df = sns.load_dataset('tips')\n",
    "\n",
    "df['tip_rate'] = df['tip'] / df['total_bill']"
   ]
  },
  {
   "cell_type": "code",
   "execution_count": 160,
   "id": "9e6b04db-6584-4bc3-9958-ddf6e1285227",
   "metadata": {
    "colab": {
     "base_uri": "https://localhost:8080/"
    },
    "id": "9e6b04db-6584-4bc3-9958-ddf6e1285227",
    "outputId": "d60ff69b-5fac-46aa-b66b-bd37f3440b24"
   },
   "outputs": [
    {
     "data": {
      "text/plain": [
       "Index(['total_bill', 'tip', 'sex', 'smoker', 'day', 'time', 'size',\n",
       "       'tip_rate'],\n",
       "      dtype='object')"
      ]
     },
     "execution_count": 160,
     "metadata": {},
     "output_type": "execute_result"
    }
   ],
   "source": [
    "df.columns"
   ]
  },
  {
   "cell_type": "code",
   "execution_count": 161,
   "id": "c56a6548-540f-412c-9931-d94818ec1b24",
   "metadata": {
    "colab": {
     "base_uri": "https://localhost:8080/",
     "height": 206
    },
    "id": "c56a6548-540f-412c-9931-d94818ec1b24",
    "outputId": "996c335d-63f4-4d7d-cc75-162bf8244359"
   },
   "outputs": [
    {
     "data": {
      "text/html": [
       "<div>\n",
       "<style scoped>\n",
       "    .dataframe tbody tr th:only-of-type {\n",
       "        vertical-align: middle;\n",
       "    }\n",
       "\n",
       "    .dataframe tbody tr th {\n",
       "        vertical-align: top;\n",
       "    }\n",
       "\n",
       "    .dataframe thead th {\n",
       "        text-align: right;\n",
       "    }\n",
       "</style>\n",
       "<table border=\"1\" class=\"dataframe\">\n",
       "  <thead>\n",
       "    <tr style=\"text-align: right;\">\n",
       "      <th></th>\n",
       "      <th>total_bill</th>\n",
       "      <th>tip</th>\n",
       "      <th>sex</th>\n",
       "      <th>smoker</th>\n",
       "      <th>day</th>\n",
       "      <th>time</th>\n",
       "      <th>size</th>\n",
       "      <th>tip_rate</th>\n",
       "    </tr>\n",
       "  </thead>\n",
       "  <tbody>\n",
       "    <tr>\n",
       "      <th>0</th>\n",
       "      <td>16.99</td>\n",
       "      <td>1.01</td>\n",
       "      <td>Female</td>\n",
       "      <td>No</td>\n",
       "      <td>Sun</td>\n",
       "      <td>Dinner</td>\n",
       "      <td>2</td>\n",
       "      <td>0.059447</td>\n",
       "    </tr>\n",
       "    <tr>\n",
       "      <th>1</th>\n",
       "      <td>10.34</td>\n",
       "      <td>1.66</td>\n",
       "      <td>Male</td>\n",
       "      <td>No</td>\n",
       "      <td>Sun</td>\n",
       "      <td>Dinner</td>\n",
       "      <td>3</td>\n",
       "      <td>0.160542</td>\n",
       "    </tr>\n",
       "    <tr>\n",
       "      <th>2</th>\n",
       "      <td>21.01</td>\n",
       "      <td>3.50</td>\n",
       "      <td>Male</td>\n",
       "      <td>No</td>\n",
       "      <td>Sun</td>\n",
       "      <td>Dinner</td>\n",
       "      <td>3</td>\n",
       "      <td>0.166587</td>\n",
       "    </tr>\n",
       "    <tr>\n",
       "      <th>3</th>\n",
       "      <td>23.68</td>\n",
       "      <td>3.31</td>\n",
       "      <td>Male</td>\n",
       "      <td>No</td>\n",
       "      <td>Sun</td>\n",
       "      <td>Dinner</td>\n",
       "      <td>2</td>\n",
       "      <td>0.139780</td>\n",
       "    </tr>\n",
       "    <tr>\n",
       "      <th>4</th>\n",
       "      <td>24.59</td>\n",
       "      <td>3.61</td>\n",
       "      <td>Female</td>\n",
       "      <td>No</td>\n",
       "      <td>Sun</td>\n",
       "      <td>Dinner</td>\n",
       "      <td>4</td>\n",
       "      <td>0.146808</td>\n",
       "    </tr>\n",
       "  </tbody>\n",
       "</table>\n",
       "</div>"
      ],
      "text/plain": [
       "   total_bill   tip     sex smoker  day    time  size  tip_rate\n",
       "0       16.99  1.01  Female     No  Sun  Dinner     2  0.059447\n",
       "1       10.34  1.66    Male     No  Sun  Dinner     3  0.160542\n",
       "2       21.01  3.50    Male     No  Sun  Dinner     3  0.166587\n",
       "3       23.68  3.31    Male     No  Sun  Dinner     2  0.139780\n",
       "4       24.59  3.61  Female     No  Sun  Dinner     4  0.146808"
      ]
     },
     "execution_count": 161,
     "metadata": {},
     "output_type": "execute_result"
    }
   ],
   "source": [
    "df.head()"
   ]
  },
  {
   "cell_type": "code",
   "execution_count": 162,
   "id": "5d0e4974-5fca-47f7-ba9d-26769709edce",
   "metadata": {
    "colab": {
     "base_uri": "https://localhost:8080/",
     "height": 35
    },
    "id": "5d0e4974-5fca-47f7-ba9d-26769709edce",
    "outputId": "dbaddfa2-da51-44c4-a044-7ffb2f89a4a5"
   },
   "outputs": [
    {
     "data": {
      "text/plain": [
       "'0.11.1'"
      ]
     },
     "execution_count": 162,
     "metadata": {},
     "output_type": "execute_result"
    }
   ],
   "source": [
    "sns.__version__"
   ]
  },
  {
   "cell_type": "markdown",
   "id": "2203d51a-1e4e-41dc-ab9f-e26a35d44f79",
   "metadata": {
    "id": "2203d51a-1e4e-41dc-ab9f-e26a35d44f79"
   },
   "source": [
    "# ヒストグラムで連続変数の分布を描画する"
   ]
  },
  {
   "cell_type": "code",
   "execution_count": 163,
   "id": "3565d009-0638-4766-af7d-ac949e53d9fa",
   "metadata": {
    "colab": {
     "base_uri": "https://localhost:8080/",
     "height": 524
    },
    "id": "3565d009-0638-4766-af7d-ac949e53d9fa",
    "outputId": "fc4eb038-d90e-4fdd-8bda-623aa7690316"
   },
   "outputs": [
    {
     "data": {
      "text/plain": [
       "<seaborn.axisgrid.FacetGrid at 0x405db87520>"
      ]
     },
     "execution_count": 163,
     "metadata": {},
     "output_type": "execute_result"
    },
    {
     "data": {
      "image/png": "[encoded data removed]",
      "text/plain": [
       "<Figure size 360x360 with 1 Axes>"
      ]
     },
     "metadata": {
      "needs_background": "light"
     },
     "output_type": "display_data"
    }
   ],
   "source": [
    "sns.displot(df['tip'], kde = False)"
   ]
  },
  {
   "cell_type": "markdown",
   "id": "40f3aa75-d6c2-4705-b97b-7b7db3ae0773",
   "metadata": {
    "id": "40f3aa75-d6c2-4705-b97b-7b7db3ae0773"
   },
   "source": [
    "#　棒グラフでカテゴリ変数を描画する"
   ]
  },
  {
   "cell_type": "code",
   "execution_count": 164,
   "id": "c5665043-31c8-4529-8389-fc761b90e1a9",
   "metadata": {
    "colab": {
     "base_uri": "https://localhost:8080/",
     "height": 524
    },
    "id": "c5665043-31c8-4529-8389-fc761b90e1a9",
    "outputId": "48306e0e-1102-4c9e-9bb6-2167a9c619ff"
   },
   "outputs": [
    {
     "data": {
      "text/plain": [
       "<seaborn.axisgrid.FacetGrid at 0x405d9eb100>"
      ]
     },
     "execution_count": 164,
     "metadata": {},
     "output_type": "execute_result"
    },
    {
     "data": {
      "image/png": "[encoded data removed]",
      "text/plain": [
       "<Figure size 360x360 with 1 Axes>"
      ]
     },
     "metadata": {
      "needs_background": "light"
     },
     "output_type": "display_data"
    }
   ],
   "source": [
    "sns.catplot(x= 'time', data = df, kind= 'count')"
   ]
  },
  {
   "cell_type": "markdown",
   "id": "a8c90aec-74a6-477f-8331-32f0aedaa922",
   "metadata": {
    "id": "a8c90aec-74a6-477f-8331-32f0aedaa922"
   },
   "source": [
    "# 平均値"
   ]
  },
  {
   "cell_type": "code",
   "execution_count": 165,
   "id": "6e1f90d1-1915-42b7-9470-b917cf3bf608",
   "metadata": {
    "colab": {
     "base_uri": "https://localhost:8080/"
    },
    "id": "6e1f90d1-1915-42b7-9470-b917cf3bf608",
    "outputId": "25e5b95d-153d-459d-f4f7-1a6b6611de0a"
   },
   "outputs": [
    {
     "data": {
      "text/plain": [
       "2.0"
      ]
     },
     "execution_count": 165,
     "metadata": {},
     "output_type": "execute_result"
    }
   ],
   "source": [
    "\n",
    "np.mean([1, 2, 3])"
   ]
  },
  {
   "cell_type": "code",
   "execution_count": 166,
   "id": "46929916-b3d7-4bee-8b59-651ee208f615",
   "metadata": {
    "colab": {
     "base_uri": "https://localhost:8080/",
     "height": 206
    },
    "id": "46929916-b3d7-4bee-8b59-651ee208f615",
    "outputId": "94a1c95b-42d4-41e3-cb22-41c8c26dbef6"
   },
   "outputs": [
    {
     "data": {
      "text/html": [
       "<div>\n",
       "<style scoped>\n",
       "    .dataframe tbody tr th:only-of-type {\n",
       "        vertical-align: middle;\n",
       "    }\n",
       "\n",
       "    .dataframe tbody tr th {\n",
       "        vertical-align: top;\n",
       "    }\n",
       "\n",
       "    .dataframe thead th {\n",
       "        text-align: right;\n",
       "    }\n",
       "</style>\n",
       "<table border=\"1\" class=\"dataframe\">\n",
       "  <thead>\n",
       "    <tr style=\"text-align: right;\">\n",
       "      <th></th>\n",
       "      <th>total_bill</th>\n",
       "      <th>tip</th>\n",
       "      <th>sex</th>\n",
       "      <th>smoker</th>\n",
       "      <th>day</th>\n",
       "      <th>time</th>\n",
       "      <th>size</th>\n",
       "      <th>tip_rate</th>\n",
       "    </tr>\n",
       "  </thead>\n",
       "  <tbody>\n",
       "    <tr>\n",
       "      <th>0</th>\n",
       "      <td>16.99</td>\n",
       "      <td>1.01</td>\n",
       "      <td>Female</td>\n",
       "      <td>No</td>\n",
       "      <td>Sun</td>\n",
       "      <td>Dinner</td>\n",
       "      <td>2</td>\n",
       "      <td>0.059447</td>\n",
       "    </tr>\n",
       "    <tr>\n",
       "      <th>1</th>\n",
       "      <td>10.34</td>\n",
       "      <td>1.66</td>\n",
       "      <td>Male</td>\n",
       "      <td>No</td>\n",
       "      <td>Sun</td>\n",
       "      <td>Dinner</td>\n",
       "      <td>3</td>\n",
       "      <td>0.160542</td>\n",
       "    </tr>\n",
       "    <tr>\n",
       "      <th>2</th>\n",
       "      <td>21.01</td>\n",
       "      <td>3.50</td>\n",
       "      <td>Male</td>\n",
       "      <td>No</td>\n",
       "      <td>Sun</td>\n",
       "      <td>Dinner</td>\n",
       "      <td>3</td>\n",
       "      <td>0.166587</td>\n",
       "    </tr>\n",
       "    <tr>\n",
       "      <th>3</th>\n",
       "      <td>23.68</td>\n",
       "      <td>3.31</td>\n",
       "      <td>Male</td>\n",
       "      <td>No</td>\n",
       "      <td>Sun</td>\n",
       "      <td>Dinner</td>\n",
       "      <td>2</td>\n",
       "      <td>0.139780</td>\n",
       "    </tr>\n",
       "    <tr>\n",
       "      <th>4</th>\n",
       "      <td>24.59</td>\n",
       "      <td>3.61</td>\n",
       "      <td>Female</td>\n",
       "      <td>No</td>\n",
       "      <td>Sun</td>\n",
       "      <td>Dinner</td>\n",
       "      <td>4</td>\n",
       "      <td>0.146808</td>\n",
       "    </tr>\n",
       "  </tbody>\n",
       "</table>\n",
       "</div>"
      ],
      "text/plain": [
       "   total_bill   tip     sex smoker  day    time  size  tip_rate\n",
       "0       16.99  1.01  Female     No  Sun  Dinner     2  0.059447\n",
       "1       10.34  1.66    Male     No  Sun  Dinner     3  0.160542\n",
       "2       21.01  3.50    Male     No  Sun  Dinner     3  0.166587\n",
       "3       23.68  3.31    Male     No  Sun  Dinner     2  0.139780\n",
       "4       24.59  3.61  Female     No  Sun  Dinner     4  0.146808"
      ]
     },
     "execution_count": 166,
     "metadata": {},
     "output_type": "execute_result"
    }
   ],
   "source": [
    "df.head()"
   ]
  },
  {
   "cell_type": "code",
   "execution_count": 167,
   "id": "926fe035-7789-4ae7-8a6f-51aff92a3fec",
   "metadata": {
    "colab": {
     "base_uri": "https://localhost:8080/"
    },
    "id": "926fe035-7789-4ae7-8a6f-51aff92a3fec",
    "outputId": "e6e7a48c-7a8f-4309-dc81-c5504682d401"
   },
   "outputs": [
    {
     "data": {
      "text/plain": [
       "0.16080258172250478"
      ]
     },
     "execution_count": 167,
     "metadata": {},
     "output_type": "execute_result"
    }
   ],
   "source": [
    "np.mean(df['tip_rate'])"
   ]
  },
  {
   "cell_type": "code",
   "execution_count": 168,
   "id": "293c5ab2-e6bc-4a34-a2ae-f87913c4261b",
   "metadata": {
    "colab": {
     "base_uri": "https://localhost:8080/"
    },
    "id": "293c5ab2-e6bc-4a34-a2ae-f87913c4261b",
    "outputId": "be024507-e253-4bad-dea2-2aa08368bfcb"
   },
   "outputs": [
    {
     "data": {
      "text/plain": [
       "0.16080258172250478"
      ]
     },
     "execution_count": 168,
     "metadata": {},
     "output_type": "execute_result"
    }
   ],
   "source": [
    "df['tip_rate'].mean()"
   ]
  },
  {
   "cell_type": "markdown",
   "id": "1e6a78f4-a785-480e-a39d-05c0968aced8",
   "metadata": {
    "id": "1e6a78f4-a785-480e-a39d-05c0968aced8"
   },
   "source": [
    "## groupbyはとても便利"
   ]
  },
  {
   "cell_type": "code",
   "execution_count": 169,
   "id": "553b3ba0-4383-44c2-b1d3-5e51b14c54f2",
   "metadata": {
    "colab": {
     "base_uri": "https://localhost:8080/",
     "height": 198
    },
    "id": "553b3ba0-4383-44c2-b1d3-5e51b14c54f2",
    "outputId": "33337f8a-8350-47aa-904b-f01e910f2388"
   },
   "outputs": [
    {
     "data": {
      "text/html": [
       "<div>\n",
       "<style scoped>\n",
       "    .dataframe tbody tr th:only-of-type {\n",
       "        vertical-align: middle;\n",
       "    }\n",
       "\n",
       "    .dataframe tbody tr th {\n",
       "        vertical-align: top;\n",
       "    }\n",
       "\n",
       "    .dataframe thead th {\n",
       "        text-align: right;\n",
       "    }\n",
       "</style>\n",
       "<table border=\"1\" class=\"dataframe\">\n",
       "  <thead>\n",
       "    <tr style=\"text-align: right;\">\n",
       "      <th></th>\n",
       "      <th>total_bill</th>\n",
       "      <th>tip</th>\n",
       "      <th>size</th>\n",
       "      <th>tip_rate</th>\n",
       "    </tr>\n",
       "    <tr>\n",
       "      <th>sex</th>\n",
       "      <th></th>\n",
       "      <th></th>\n",
       "      <th></th>\n",
       "      <th></th>\n",
       "    </tr>\n",
       "  </thead>\n",
       "  <tbody>\n",
       "    <tr>\n",
       "      <th>Male</th>\n",
       "      <td>20.744076</td>\n",
       "      <td>3.089618</td>\n",
       "      <td>2.630573</td>\n",
       "      <td>0.157651</td>\n",
       "    </tr>\n",
       "    <tr>\n",
       "      <th>Female</th>\n",
       "      <td>18.056897</td>\n",
       "      <td>2.833448</td>\n",
       "      <td>2.459770</td>\n",
       "      <td>0.166491</td>\n",
       "    </tr>\n",
       "  </tbody>\n",
       "</table>\n",
       "</div>"
      ],
      "text/plain": [
       "        total_bill       tip      size  tip_rate\n",
       "sex                                             \n",
       "Male     20.744076  3.089618  2.630573  0.157651\n",
       "Female   18.056897  2.833448  2.459770  0.166491"
      ]
     },
     "execution_count": 169,
     "metadata": {},
     "output_type": "execute_result"
    }
   ],
   "source": [
    "df.groupby('sex').mean()"
   ]
  },
  {
   "cell_type": "code",
   "execution_count": 170,
   "id": "135670e0-cc11-470f-b2fc-a138c8829da9",
   "metadata": {
    "colab": {
     "base_uri": "https://localhost:8080/"
    },
    "id": "135670e0-cc11-470f-b2fc-a138c8829da9",
    "outputId": "2433efeb-762d-4d20-c001-dd829c3a4bf0"
   },
   "outputs": [
    {
     "data": {
      "text/plain": [
       "sex\n",
       "Male      0.157651\n",
       "Female    0.166491\n",
       "Name: tip_rate, dtype: float64"
      ]
     },
     "execution_count": 170,
     "metadata": {},
     "output_type": "execute_result"
    }
   ],
   "source": [
    "df.groupby('sex').mean()['tip_rate']"
   ]
  },
  {
   "cell_type": "code",
   "execution_count": 171,
   "id": "278fdb67-896c-4a18-a2dd-56765c484670",
   "metadata": {
    "colab": {
     "base_uri": "https://localhost:8080/",
     "height": 553
    },
    "id": "278fdb67-896c-4a18-a2dd-56765c484670",
    "outputId": "dbef7734-6a3e-40ef-e570-0ec356f4e1c3"
   },
   "outputs": [
    {
     "data": {
      "text/plain": [
       "<AxesSubplot:xlabel='sex', ylabel='tip_rate'>"
      ]
     },
     "execution_count": 171,
     "metadata": {},
     "output_type": "execute_result"
    },
    {
     "data": {
      "image/png": "[encoded data removed]",
      "text/plain": [
       "<Figure size 432x288 with 1 Axes>"
      ]
     },
     "metadata": {
      "needs_background": "light"
     },
     "output_type": "display_data"
    }
   ],
   "source": [
    "sns.barplot(x='sex', y='tip_rate', data=df, ci=None)"
   ]
  },
  {
   "cell_type": "markdown",
   "id": "da42d3f6-9d30-4258-a97c-8aa8a7d155ad",
   "metadata": {
    "id": "da42d3f6-9d30-4258-a97c-8aa8a7d155ad"
   },
   "source": [
    "# 中央値"
   ]
  },
  {
   "cell_type": "code",
   "execution_count": 172,
   "id": "3c69c0a3-9388-4a80-bce5-b9c9fac7997f",
   "metadata": {
    "colab": {
     "base_uri": "https://localhost:8080/"
    },
    "id": "3c69c0a3-9388-4a80-bce5-b9c9fac7997f",
    "outputId": "b2c049c5-e19b-4380-af94-1e93708c839e"
   },
   "outputs": [
    {
     "data": {
      "text/plain": [
       "0.15476977125802577"
      ]
     },
     "execution_count": 172,
     "metadata": {},
     "output_type": "execute_result"
    }
   ],
   "source": [
    "np.median(df['tip_rate'])"
   ]
  },
  {
   "cell_type": "code",
   "execution_count": 173,
   "id": "27c5493d-ef83-430a-af8b-ce91b1a0362c",
   "metadata": {
    "colab": {
     "base_uri": "https://localhost:8080/"
    },
    "id": "27c5493d-ef83-430a-af8b-ce91b1a0362c",
    "outputId": "8903d168-9519-4400-fee0-b1802aeb51a3"
   },
   "outputs": [
    {
     "data": {
      "text/plain": [
       "0      0.059447\n",
       "1      0.160542\n",
       "2      0.166587\n",
       "3      0.139780\n",
       "4      0.146808\n",
       "         ...   \n",
       "239    0.203927\n",
       "240    0.073584\n",
       "241    0.088222\n",
       "242    0.098204\n",
       "243    0.159744\n",
       "Name: tip_rate, Length: 244, dtype: float64"
      ]
     },
     "execution_count": 173,
     "metadata": {},
     "output_type": "execute_result"
    }
   ],
   "source": [
    "df['tip_rate']"
   ]
  },
  {
   "cell_type": "code",
   "execution_count": 174,
   "id": "37f702a1-3a42-42ad-afd2-b3ed9f92101a",
   "metadata": {
    "colab": {
     "base_uri": "https://localhost:8080/",
     "height": 523
    },
    "id": "37f702a1-3a42-42ad-afd2-b3ed9f92101a",
    "outputId": "b185274c-4bf3-4427-fe88-54d084986742"
   },
   "outputs": [
    {
     "data": {
      "text/plain": [
       "<seaborn.axisgrid.FacetGrid at 0x405da9c6d0>"
      ]
     },
     "execution_count": 174,
     "metadata": {},
     "output_type": "execute_result"
    },
    {
     "data": {
      "image/png": "[encoded data removed]",
      "text/plain": [
       "<Figure size 360x360 with 1 Axes>"
      ]
     },
     "metadata": {
      "needs_background": "light"
     },
     "output_type": "display_data"
    }
   ],
   "source": [
    "sns.displot(df['tip_rate'], kde = False)"
   ]
  },
  {
   "cell_type": "code",
   "execution_count": 175,
   "id": "cb4d76e7-c151-4b55-9f52-8042b3332dd0",
   "metadata": {
    "colab": {
     "base_uri": "https://localhost:8080/"
    },
    "id": "cb4d76e7-c151-4b55-9f52-8042b3332dd0",
    "outputId": "1c193430-5306-465e-ab37-ed9538c295fd"
   },
   "outputs": [
    {
     "data": {
      "text/plain": [
       "0.15476977125802577"
      ]
     },
     "execution_count": 175,
     "metadata": {},
     "output_type": "execute_result"
    }
   ],
   "source": [
    "df['tip_rate'].median()"
   ]
  },
  {
   "cell_type": "code",
   "execution_count": 176,
   "id": "988ff2c6-087b-449b-9928-01cd1e401b59",
   "metadata": {
    "colab": {
     "base_uri": "https://localhost:8080/",
     "height": 198
    },
    "id": "988ff2c6-087b-449b-9928-01cd1e401b59",
    "outputId": "7b1e4d98-325b-404a-be16-d786cd60ca2a"
   },
   "outputs": [
    {
     "data": {
      "text/html": [
       "<div>\n",
       "<style scoped>\n",
       "    .dataframe tbody tr th:only-of-type {\n",
       "        vertical-align: middle;\n",
       "    }\n",
       "\n",
       "    .dataframe tbody tr th {\n",
       "        vertical-align: top;\n",
       "    }\n",
       "\n",
       "    .dataframe thead th {\n",
       "        text-align: right;\n",
       "    }\n",
       "</style>\n",
       "<table border=\"1\" class=\"dataframe\">\n",
       "  <thead>\n",
       "    <tr style=\"text-align: right;\">\n",
       "      <th></th>\n",
       "      <th>total_bill</th>\n",
       "      <th>tip</th>\n",
       "      <th>size</th>\n",
       "      <th>tip_rate</th>\n",
       "    </tr>\n",
       "    <tr>\n",
       "      <th>sex</th>\n",
       "      <th></th>\n",
       "      <th></th>\n",
       "      <th></th>\n",
       "      <th></th>\n",
       "    </tr>\n",
       "  </thead>\n",
       "  <tbody>\n",
       "    <tr>\n",
       "      <th>Male</th>\n",
       "      <td>18.35</td>\n",
       "      <td>3.00</td>\n",
       "      <td>2</td>\n",
       "      <td>0.153492</td>\n",
       "    </tr>\n",
       "    <tr>\n",
       "      <th>Female</th>\n",
       "      <td>16.40</td>\n",
       "      <td>2.75</td>\n",
       "      <td>2</td>\n",
       "      <td>0.155581</td>\n",
       "    </tr>\n",
       "  </tbody>\n",
       "</table>\n",
       "</div>"
      ],
      "text/plain": [
       "        total_bill   tip  size  tip_rate\n",
       "sex                                     \n",
       "Male         18.35  3.00     2  0.153492\n",
       "Female       16.40  2.75     2  0.155581"
      ]
     },
     "execution_count": 176,
     "metadata": {},
     "output_type": "execute_result"
    }
   ],
   "source": [
    "df.groupby('sex').median()"
   ]
  },
  {
   "cell_type": "code",
   "execution_count": 177,
   "id": "de7b3b5b-3f85-4ebd-b610-652df82a6e56",
   "metadata": {
    "colab": {
     "base_uri": "https://localhost:8080/",
     "height": 553
    },
    "id": "de7b3b5b-3f85-4ebd-b610-652df82a6e56",
    "outputId": "4bb2feec-006a-4ab1-b182-dcc8f93f88af"
   },
   "outputs": [
    {
     "data": {
      "text/plain": [
       "<AxesSubplot:xlabel='sex', ylabel='tip_rate'>"
      ]
     },
     "execution_count": 177,
     "metadata": {},
     "output_type": "execute_result"
    },
    {
     "data": {
      "image/png": "[encoded data removed]",
      "text/plain": [
       "<Figure size 432x288 with 1 Axes>"
      ]
     },
     "metadata": {
      "needs_background": "light"
     },
     "output_type": "display_data"
    }
   ],
   "source": [
    "sns.barplot(data=df, x=\"sex\", y=\"tip_rate\", estimator= np.median, ci=None)"
   ]
  },
  {
   "cell_type": "code",
   "execution_count": 178,
   "id": "27ed6f75-6b97-4d68-bc22-8efd0c5445df",
   "metadata": {
    "colab": {
     "base_uri": "https://localhost:8080/",
     "height": 424
    },
    "id": "27ed6f75-6b97-4d68-bc22-8efd0c5445df",
    "outputId": "0767f5ac-b9df-4c24-95a4-179e0d7c8535"
   },
   "outputs": [
    {
     "data": {
      "text/html": [
       "<div>\n",
       "<style scoped>\n",
       "    .dataframe tbody tr th:only-of-type {\n",
       "        vertical-align: middle;\n",
       "    }\n",
       "\n",
       "    .dataframe tbody tr th {\n",
       "        vertical-align: top;\n",
       "    }\n",
       "\n",
       "    .dataframe thead th {\n",
       "        text-align: right;\n",
       "    }\n",
       "</style>\n",
       "<table border=\"1\" class=\"dataframe\">\n",
       "  <thead>\n",
       "    <tr style=\"text-align: right;\">\n",
       "      <th></th>\n",
       "      <th>total_bill</th>\n",
       "      <th>tip</th>\n",
       "      <th>sex</th>\n",
       "      <th>smoker</th>\n",
       "      <th>day</th>\n",
       "      <th>time</th>\n",
       "      <th>size</th>\n",
       "      <th>tip_rate</th>\n",
       "    </tr>\n",
       "  </thead>\n",
       "  <tbody>\n",
       "    <tr>\n",
       "      <th>237</th>\n",
       "      <td>32.83</td>\n",
       "      <td>1.17</td>\n",
       "      <td>Male</td>\n",
       "      <td>Yes</td>\n",
       "      <td>Sat</td>\n",
       "      <td>Dinner</td>\n",
       "      <td>2</td>\n",
       "      <td>0.035638</td>\n",
       "    </tr>\n",
       "    <tr>\n",
       "      <th>102</th>\n",
       "      <td>44.30</td>\n",
       "      <td>2.50</td>\n",
       "      <td>Female</td>\n",
       "      <td>Yes</td>\n",
       "      <td>Sat</td>\n",
       "      <td>Dinner</td>\n",
       "      <td>3</td>\n",
       "      <td>0.056433</td>\n",
       "    </tr>\n",
       "    <tr>\n",
       "      <th>57</th>\n",
       "      <td>26.41</td>\n",
       "      <td>1.50</td>\n",
       "      <td>Female</td>\n",
       "      <td>No</td>\n",
       "      <td>Sat</td>\n",
       "      <td>Dinner</td>\n",
       "      <td>2</td>\n",
       "      <td>0.056797</td>\n",
       "    </tr>\n",
       "    <tr>\n",
       "      <th>0</th>\n",
       "      <td>16.99</td>\n",
       "      <td>1.01</td>\n",
       "      <td>Female</td>\n",
       "      <td>No</td>\n",
       "      <td>Sun</td>\n",
       "      <td>Dinner</td>\n",
       "      <td>2</td>\n",
       "      <td>0.059447</td>\n",
       "    </tr>\n",
       "    <tr>\n",
       "      <th>187</th>\n",
       "      <td>30.46</td>\n",
       "      <td>2.00</td>\n",
       "      <td>Male</td>\n",
       "      <td>Yes</td>\n",
       "      <td>Sun</td>\n",
       "      <td>Dinner</td>\n",
       "      <td>5</td>\n",
       "      <td>0.065660</td>\n",
       "    </tr>\n",
       "    <tr>\n",
       "      <th>...</th>\n",
       "      <td>...</td>\n",
       "      <td>...</td>\n",
       "      <td>...</td>\n",
       "      <td>...</td>\n",
       "      <td>...</td>\n",
       "      <td>...</td>\n",
       "      <td>...</td>\n",
       "      <td>...</td>\n",
       "    </tr>\n",
       "    <tr>\n",
       "      <th>183</th>\n",
       "      <td>23.17</td>\n",
       "      <td>6.50</td>\n",
       "      <td>Male</td>\n",
       "      <td>Yes</td>\n",
       "      <td>Sun</td>\n",
       "      <td>Dinner</td>\n",
       "      <td>4</td>\n",
       "      <td>0.280535</td>\n",
       "    </tr>\n",
       "    <tr>\n",
       "      <th>232</th>\n",
       "      <td>11.61</td>\n",
       "      <td>3.39</td>\n",
       "      <td>Male</td>\n",
       "      <td>No</td>\n",
       "      <td>Sat</td>\n",
       "      <td>Dinner</td>\n",
       "      <td>2</td>\n",
       "      <td>0.291990</td>\n",
       "    </tr>\n",
       "    <tr>\n",
       "      <th>67</th>\n",
       "      <td>3.07</td>\n",
       "      <td>1.00</td>\n",
       "      <td>Female</td>\n",
       "      <td>Yes</td>\n",
       "      <td>Sat</td>\n",
       "      <td>Dinner</td>\n",
       "      <td>1</td>\n",
       "      <td>0.325733</td>\n",
       "    </tr>\n",
       "    <tr>\n",
       "      <th>178</th>\n",
       "      <td>9.60</td>\n",
       "      <td>4.00</td>\n",
       "      <td>Female</td>\n",
       "      <td>Yes</td>\n",
       "      <td>Sun</td>\n",
       "      <td>Dinner</td>\n",
       "      <td>2</td>\n",
       "      <td>0.416667</td>\n",
       "    </tr>\n",
       "    <tr>\n",
       "      <th>172</th>\n",
       "      <td>7.25</td>\n",
       "      <td>5.15</td>\n",
       "      <td>Male</td>\n",
       "      <td>Yes</td>\n",
       "      <td>Sun</td>\n",
       "      <td>Dinner</td>\n",
       "      <td>2</td>\n",
       "      <td>0.710345</td>\n",
       "    </tr>\n",
       "  </tbody>\n",
       "</table>\n",
       "<p>244 rows × 8 columns</p>\n",
       "</div>"
      ],
      "text/plain": [
       "     total_bill   tip     sex smoker  day    time  size  tip_rate\n",
       "237       32.83  1.17    Male    Yes  Sat  Dinner     2  0.035638\n",
       "102       44.30  2.50  Female    Yes  Sat  Dinner     3  0.056433\n",
       "57        26.41  1.50  Female     No  Sat  Dinner     2  0.056797\n",
       "0         16.99  1.01  Female     No  Sun  Dinner     2  0.059447\n",
       "187       30.46  2.00    Male    Yes  Sun  Dinner     5  0.065660\n",
       "..          ...   ...     ...    ...  ...     ...   ...       ...\n",
       "183       23.17  6.50    Male    Yes  Sun  Dinner     4  0.280535\n",
       "232       11.61  3.39    Male     No  Sat  Dinner     2  0.291990\n",
       "67         3.07  1.00  Female    Yes  Sat  Dinner     1  0.325733\n",
       "178        9.60  4.00  Female    Yes  Sun  Dinner     2  0.416667\n",
       "172        7.25  5.15    Male    Yes  Sun  Dinner     2  0.710345\n",
       "\n",
       "[244 rows x 8 columns]"
      ]
     },
     "execution_count": 178,
     "metadata": {},
     "output_type": "execute_result"
    }
   ],
   "source": [
    "df.sort_values('tip_rate', ascending=True)"
   ]
  },
  {
   "cell_type": "markdown",
   "id": "d0d7a785-5a1a-47d3-92e6-8c32584dc906",
   "metadata": {
    "id": "d0d7a785-5a1a-47d3-92e6-8c32584dc906"
   },
   "source": [
    "# 最頻値"
   ]
  },
  {
   "cell_type": "code",
   "execution_count": 179,
   "id": "c2eb107f-2100-467a-88e3-81d33368ec69",
   "metadata": {
    "colab": {
     "base_uri": "https://localhost:8080/"
    },
    "id": "c2eb107f-2100-467a-88e3-81d33368ec69",
    "outputId": "49b9e56d-c526-4ed7-b414-66c8302d3b0a"
   },
   "outputs": [
    {
     "name": "stdout",
     "output_type": "stream",
     "text": [
      "mode:[[13.42 2.0 'Male' 'No' 'Sat' 'Dinner' 2 0.1448225923244026]]\n",
      "count:[[  3  33 157 151  87 176 156   2]]\n"
     ]
    }
   ],
   "source": [
    "mode, count = stats.mode(df)\n",
    "\n",
    "print(f'mode:{mode}')\n",
    "print(f'count:{count}')"
   ]
  },
  {
   "cell_type": "code",
   "execution_count": 180,
   "id": "da786ec4-4ae0-4af7-8242-cac911c55821",
   "metadata": {
    "colab": {
     "base_uri": "https://localhost:8080/"
    },
    "id": "da786ec4-4ae0-4af7-8242-cac911c55821",
    "outputId": "aaa32b2e-840b-4203-fb98-3ce181153c0a"
   },
   "outputs": [
    {
     "data": {
      "text/plain": [
       "0    2\n",
       "dtype: int64"
      ]
     },
     "execution_count": 180,
     "metadata": {},
     "output_type": "execute_result"
    }
   ],
   "source": [
    "df['size'].mode()"
   ]
  },
  {
   "cell_type": "code",
   "execution_count": 181,
   "id": "acbf5713-7bb8-46e5-b415-2953c827b334",
   "metadata": {
    "colab": {
     "base_uri": "https://localhost:8080/"
    },
    "id": "acbf5713-7bb8-46e5-b415-2953c827b334",
    "outputId": "ceee464d-2fdf-4052-a667-b26e3d2dd6e6"
   },
   "outputs": [
    {
     "name": "stdout",
     "output_type": "stream",
     "text": [
      "mode:[2]\n",
      "count:[156]\n"
     ]
    }
   ],
   "source": [
    "mode, count = stats.mode(df['size'])\n",
    "\n",
    "print(f'mode:{mode}')\n",
    "print(f'count:{count}')"
   ]
  },
  {
   "cell_type": "code",
   "execution_count": 182,
   "id": "565dc974-644b-45f4-af81-b5af22fd6f99",
   "metadata": {
    "colab": {
     "base_uri": "https://localhost:8080/"
    },
    "id": "565dc974-644b-45f4-af81-b5af22fd6f99",
    "outputId": "1c5eacf1-2c20-4fdf-b877-769ee2d532a5"
   },
   "outputs": [
    {
     "name": "stdout",
     "output_type": "stream",
     "text": [
      "mode:[0.14482259]\n",
      "count:[2]\n"
     ]
    }
   ],
   "source": [
    "mode, count = stats.mode(df['tip_rate'])\n",
    "\n",
    "print(f'mode:{mode}')\n",
    "print(f'count:{count}')"
   ]
  },
  {
   "cell_type": "code",
   "execution_count": 183,
   "id": "0148115d-7b46-40e5-ba47-1ebf283373b9",
   "metadata": {
    "id": "0148115d-7b46-40e5-ba47-1ebf283373b9"
   },
   "outputs": [],
   "source": [
    "# 範囲（Range）"
   ]
  },
  {
   "cell_type": "code",
   "execution_count": 184,
   "id": "90178523-0beb-4807-8a2c-ea3bfaac8493",
   "metadata": {
    "colab": {
     "base_uri": "https://localhost:8080/"
    },
    "id": "90178523-0beb-4807-8a2c-ea3bfaac8493",
    "outputId": "8782cb14-d05b-4afa-ae26-a67c23899bbd"
   },
   "outputs": [
    {
     "data": {
      "text/plain": [
       "1.0"
      ]
     },
     "execution_count": 184,
     "metadata": {},
     "output_type": "execute_result"
    }
   ],
   "source": [
    "np.min(df['tip'])"
   ]
  },
  {
   "cell_type": "code",
   "execution_count": 185,
   "id": "0a5e8b88-56cb-4ae0-a3c4-64694222cf4d",
   "metadata": {
    "colab": {
     "base_uri": "https://localhost:8080/"
    },
    "id": "0a5e8b88-56cb-4ae0-a3c4-64694222cf4d",
    "outputId": "528b2ab6-1dc0-4c4d-9051-06778a57efff"
   },
   "outputs": [
    {
     "data": {
      "text/plain": [
       "1.0"
      ]
     },
     "execution_count": 185,
     "metadata": {},
     "output_type": "execute_result"
    }
   ],
   "source": [
    "df['tip'].min()"
   ]
  },
  {
   "cell_type": "code",
   "execution_count": 186,
   "id": "3eeb180d-3bb9-4937-b644-6b5d197b2df4",
   "metadata": {
    "colab": {
     "base_uri": "https://localhost:8080/",
     "height": 178
    },
    "id": "3eeb180d-3bb9-4937-b644-6b5d197b2df4",
    "outputId": "f3a2685e-d162-45dc-ebb3-d57a420358af"
   },
   "outputs": [
    {
     "data": {
      "text/html": [
       "<div>\n",
       "<style scoped>\n",
       "    .dataframe tbody tr th:only-of-type {\n",
       "        vertical-align: middle;\n",
       "    }\n",
       "\n",
       "    .dataframe tbody tr th {\n",
       "        vertical-align: top;\n",
       "    }\n",
       "\n",
       "    .dataframe thead th {\n",
       "        text-align: right;\n",
       "    }\n",
       "</style>\n",
       "<table border=\"1\" class=\"dataframe\">\n",
       "  <thead>\n",
       "    <tr style=\"text-align: right;\">\n",
       "      <th></th>\n",
       "      <th>total_bill</th>\n",
       "      <th>tip</th>\n",
       "      <th>size</th>\n",
       "      <th>tip_rate</th>\n",
       "    </tr>\n",
       "    <tr>\n",
       "      <th>sex</th>\n",
       "      <th></th>\n",
       "      <th></th>\n",
       "      <th></th>\n",
       "      <th></th>\n",
       "    </tr>\n",
       "  </thead>\n",
       "  <tbody>\n",
       "    <tr>\n",
       "      <th>Male</th>\n",
       "      <td>7.25</td>\n",
       "      <td>1.0</td>\n",
       "      <td>1</td>\n",
       "      <td>0.035638</td>\n",
       "    </tr>\n",
       "    <tr>\n",
       "      <th>Female</th>\n",
       "      <td>3.07</td>\n",
       "      <td>1.0</td>\n",
       "      <td>1</td>\n",
       "      <td>0.056433</td>\n",
       "    </tr>\n",
       "  </tbody>\n",
       "</table>\n",
       "</div>"
      ],
      "text/plain": [
       "        total_bill  tip  size  tip_rate\n",
       "sex                                    \n",
       "Male          7.25  1.0     1  0.035638\n",
       "Female        3.07  1.0     1  0.056433"
      ]
     },
     "execution_count": 186,
     "metadata": {},
     "output_type": "execute_result"
    }
   ],
   "source": [
    "df.groupby('sex').min()"
   ]
  },
  {
   "cell_type": "code",
   "execution_count": 187,
   "id": "ae77671f-c952-40f0-894c-d33b6cfd41f9",
   "metadata": {
    "colab": {
     "base_uri": "https://localhost:8080/"
    },
    "id": "ae77671f-c952-40f0-894c-d33b6cfd41f9",
    "outputId": "35250134-e9ab-47c7-819d-d222990c9346"
   },
   "outputs": [
    {
     "data": {
      "text/plain": [
       "10.0"
      ]
     },
     "execution_count": 187,
     "metadata": {},
     "output_type": "execute_result"
    }
   ],
   "source": [
    "np.max(df['tip'])"
   ]
  },
  {
   "cell_type": "code",
   "execution_count": 188,
   "id": "86e15900-814a-4976-9063-84451401c25c",
   "metadata": {
    "colab": {
     "base_uri": "https://localhost:8080/"
    },
    "id": "86e15900-814a-4976-9063-84451401c25c",
    "outputId": "ebe6dadc-4b89-49d9-d797-09b36eb5bcbc"
   },
   "outputs": [
    {
     "data": {
      "text/plain": [
       "10.0"
      ]
     },
     "execution_count": 188,
     "metadata": {},
     "output_type": "execute_result"
    }
   ],
   "source": [
    "df['tip'].max()"
   ]
  },
  {
   "cell_type": "code",
   "execution_count": 189,
   "id": "4fdd7acc-04ec-4dac-8af8-bde04e1b7570",
   "metadata": {
    "colab": {
     "base_uri": "https://localhost:8080/",
     "height": 178
    },
    "id": "4fdd7acc-04ec-4dac-8af8-bde04e1b7570",
    "outputId": "9a226c21-a53e-4448-c1e5-978b2214b086"
   },
   "outputs": [
    {
     "data": {
      "text/html": [
       "<div>\n",
       "<style scoped>\n",
       "    .dataframe tbody tr th:only-of-type {\n",
       "        vertical-align: middle;\n",
       "    }\n",
       "\n",
       "    .dataframe tbody tr th {\n",
       "        vertical-align: top;\n",
       "    }\n",
       "\n",
       "    .dataframe thead th {\n",
       "        text-align: right;\n",
       "    }\n",
       "</style>\n",
       "<table border=\"1\" class=\"dataframe\">\n",
       "  <thead>\n",
       "    <tr style=\"text-align: right;\">\n",
       "      <th></th>\n",
       "      <th>total_bill</th>\n",
       "      <th>tip</th>\n",
       "      <th>size</th>\n",
       "      <th>tip_rate</th>\n",
       "    </tr>\n",
       "    <tr>\n",
       "      <th>sex</th>\n",
       "      <th></th>\n",
       "      <th></th>\n",
       "      <th></th>\n",
       "      <th></th>\n",
       "    </tr>\n",
       "  </thead>\n",
       "  <tbody>\n",
       "    <tr>\n",
       "      <th>Male</th>\n",
       "      <td>50.81</td>\n",
       "      <td>10.0</td>\n",
       "      <td>6</td>\n",
       "      <td>0.710345</td>\n",
       "    </tr>\n",
       "    <tr>\n",
       "      <th>Female</th>\n",
       "      <td>44.30</td>\n",
       "      <td>6.5</td>\n",
       "      <td>6</td>\n",
       "      <td>0.416667</td>\n",
       "    </tr>\n",
       "  </tbody>\n",
       "</table>\n",
       "</div>"
      ],
      "text/plain": [
       "        total_bill   tip  size  tip_rate\n",
       "sex                                     \n",
       "Male         50.81  10.0     6  0.710345\n",
       "Female       44.30   6.5     6  0.416667"
      ]
     },
     "execution_count": 189,
     "metadata": {},
     "output_type": "execute_result"
    }
   ],
   "source": [
    "df.groupby('sex').max()"
   ]
  },
  {
   "cell_type": "markdown",
   "id": "08a0aff9-36ec-4ffb-9446-80550410fcc4",
   "metadata": {
    "id": "08a0aff9-36ec-4ffb-9446-80550410fcc4"
   },
   "source": [
    "# 四分位数"
   ]
  },
  {
   "cell_type": "code",
   "execution_count": 190,
   "id": "baffdf19-1d6e-47f6-a5c3-05263f508afd",
   "metadata": {
    "colab": {
     "base_uri": "https://localhost:8080/"
    },
    "id": "baffdf19-1d6e-47f6-a5c3-05263f508afd",
    "outputId": "348c601d-5dcb-4b25-c329-195b73fd5add"
   },
   "outputs": [
    {
     "data": {
      "text/plain": [
       "array([0.12912736, 0.15476977, 0.19147549])"
      ]
     },
     "execution_count": 190,
     "metadata": {},
     "output_type": "execute_result"
    }
   ],
   "source": [
    "np.quantile(df['tip_rate'], [0.25, 0.50, 0.75])"
   ]
  },
  {
   "cell_type": "code",
   "execution_count": 191,
   "id": "c81b523d-79f2-478c-81a2-fb0914f5f840",
   "metadata": {
    "colab": {
     "base_uri": "https://localhost:8080/"
    },
    "id": "c81b523d-79f2-478c-81a2-fb0914f5f840",
    "outputId": "879150b7-7a0c-4bf7-a4ad-7bff32fda058"
   },
   "outputs": [
    {
     "data": {
      "text/plain": [
       "0.25    0.129127\n",
       "0.50    0.154770\n",
       "0.75    0.191475\n",
       "Name: tip_rate, dtype: float64"
      ]
     },
     "execution_count": 191,
     "metadata": {},
     "output_type": "execute_result"
    }
   ],
   "source": [
    "df['tip_rate'].quantile([0.25, 0.50, 0.75])"
   ]
  },
  {
   "cell_type": "code",
   "execution_count": 192,
   "id": "d602f37a-d468-4e82-b2c1-78e1c90b113e",
   "metadata": {
    "colab": {
     "base_uri": "https://localhost:8080/"
    },
    "id": "d602f37a-d468-4e82-b2c1-78e1c90b113e",
    "outputId": "c626691d-d7d8-4b3d-e992-a1127e736f92"
   },
   "outputs": [
    {
     "data": {
      "text/plain": [
       "0.06234812458689151"
      ]
     },
     "execution_count": 192,
     "metadata": {},
     "output_type": "execute_result"
    }
   ],
   "source": [
    "stats.iqr(df['tip_rate'])"
   ]
  },
  {
   "cell_type": "code",
   "execution_count": 193,
   "id": "1b4c1d63-4fad-4ae0-83ab-b85c49b20063",
   "metadata": {
    "colab": {
     "base_uri": "https://localhost:8080/"
    },
    "id": "1b4c1d63-4fad-4ae0-83ab-b85c49b20063",
    "outputId": "42d99f77-6798-4b0f-e6da-ca5b8fefdc28"
   },
   "outputs": [
    {
     "data": {
      "text/plain": [
       "0.062348000000000015"
      ]
     },
     "execution_count": 193,
     "metadata": {},
     "output_type": "execute_result"
    }
   ],
   "source": [
    "0.191475 - 0.129127"
   ]
  },
  {
   "cell_type": "markdown",
   "id": "fbabf19f-38ae-459d-91c6-0c9bcaa42224",
   "metadata": {
    "id": "fbabf19f-38ae-459d-91c6-0c9bcaa42224"
   },
   "source": [
    "## QD"
   ]
  },
  {
   "cell_type": "code",
   "execution_count": 194,
   "id": "bf3adbfd-a799-41ee-840c-05f119ebaa5d",
   "metadata": {
    "colab": {
     "base_uri": "https://localhost:8080/"
    },
    "id": "bf3adbfd-a799-41ee-840c-05f119ebaa5d",
    "outputId": "b11931b1-097d-46a0-d60f-da0c9b7234fa"
   },
   "outputs": [
    {
     "data": {
      "text/plain": [
       "0.031174062293445756"
      ]
     },
     "execution_count": 194,
     "metadata": {},
     "output_type": "execute_result"
    }
   ],
   "source": [
    "stats.iqr(df['tip_rate']) / 2"
   ]
  },
  {
   "cell_type": "code",
   "execution_count": 195,
   "id": "8ffdb13f-a17e-4a80-9866-367eafa08a35",
   "metadata": {
    "colab": {
     "base_uri": "https://localhost:8080/",
     "height": 430
    },
    "id": "8ffdb13f-a17e-4a80-9866-367eafa08a35",
    "outputId": "3c7871cf-f780-459b-9403-155f787f1996"
   },
   "outputs": [
    {
     "data": {
      "image/png": "[encoded data removed]",
      "text/plain": [
       "<Figure size 432x288 with 1 Axes>"
      ]
     },
     "metadata": {
      "needs_background": "light"
     },
     "output_type": "display_data"
    }
   ],
   "source": [
    "plt.boxplot(df['tip_rate'])\n",
    "plt.show()"
   ]
  },
  {
   "cell_type": "code",
   "execution_count": 196,
   "id": "55b6eb36-f47d-4356-8c69-80ee05b07e7b",
   "metadata": {
    "colab": {
     "base_uri": "https://localhost:8080/",
     "height": 466
    },
    "id": "55b6eb36-f47d-4356-8c69-80ee05b07e7b",
    "outputId": "38316418-84f4-4806-cdc1-d79894094acb"
   },
   "outputs": [
    {
     "data": {
      "text/plain": [
       "<AxesSubplot:xlabel='size', ylabel='tip_rate'>"
      ]
     },
     "execution_count": 196,
     "metadata": {},
     "output_type": "execute_result"
    },
    {
     "data": {
      "image/png": "[encoded data removed]",
      "text/plain": [
       "<Figure size 432x288 with 1 Axes>"
      ]
     },
     "metadata": {
      "needs_background": "light"
     },
     "output_type": "display_data"
    }
   ],
   "source": [
    "sns.boxplot(x= 'size', y= 'tip_rate', data= df)"
   ]
  },
  {
   "cell_type": "markdown",
   "id": "2e101f9c-5ec3-42ea-bf77-9b508cd1ff7e",
   "metadata": {
    "id": "2e101f9c-5ec3-42ea-bf77-9b508cd1ff7e"
   },
   "source": [
    "# 分散と標準偏差"
   ]
  },
  {
   "cell_type": "markdown",
   "id": "15cb5b8b-499d-4cee-b617-1ddc41b33201",
   "metadata": {
    "id": "15cb5b8b-499d-4cee-b617-1ddc41b33201"
   },
   "source": [
    "## 分散"
   ]
  },
  {
   "cell_type": "code",
   "execution_count": 197,
   "id": "1558b594-b1fe-4fad-b021-f2a19ae82a1d",
   "metadata": {
    "colab": {
     "base_uri": "https://localhost:8080/"
    },
    "id": "1558b594-b1fe-4fad-b021-f2a19ae82a1d",
    "outputId": "8d91c486-d021-494b-daa4-4f7e092a362b"
   },
   "outputs": [
    {
     "data": {
      "text/plain": [
       "2.9166666666666665"
      ]
     },
     "execution_count": 197,
     "metadata": {},
     "output_type": "execute_result"
    }
   ],
   "source": [
    "np.var([1, 2, 3, 4, 5, 6, ])"
   ]
  },
  {
   "cell_type": "code",
   "execution_count": 198,
   "id": "7bfb1155-814c-48b0-b4d6-933139d89387",
   "metadata": {
    "colab": {
     "base_uri": "https://localhost:8080/"
    },
    "id": "7bfb1155-814c-48b0-b4d6-933139d89387",
    "outputId": "ca40beba-4056-430d-d9ee-464dc75969b0"
   },
   "outputs": [
    {
     "data": {
      "text/plain": [
       "0.0037145280013546928"
      ]
     },
     "execution_count": 198,
     "metadata": {},
     "output_type": "execute_result"
    }
   ],
   "source": [
    "np.var(df['tip_rate'])"
   ]
  },
  {
   "cell_type": "markdown",
   "id": "dadf3c56-2ab2-4fe7-b177-0855a7e480c1",
   "metadata": {
    "id": "dadf3c56-2ab2-4fe7-b177-0855a7e480c1"
   },
   "source": [
    "## 標準偏差"
   ]
  },
  {
   "cell_type": "code",
   "execution_count": 199,
   "id": "77964a1d-40a4-41b3-bd0c-cd623e57cac8",
   "metadata": {
    "colab": {
     "base_uri": "https://localhost:8080/"
    },
    "id": "77964a1d-40a4-41b3-bd0c-cd623e57cac8",
    "outputId": "6c6f081a-73a4-469b-d12a-9178d3761b37"
   },
   "outputs": [
    {
     "data": {
      "text/plain": [
       "1.3807999538298958"
      ]
     },
     "execution_count": 199,
     "metadata": {},
     "output_type": "execute_result"
    }
   ],
   "source": [
    "tip_std = np.std(df['tip'])\n",
    "tip_std"
   ]
  },
  {
   "cell_type": "code",
   "execution_count": 200,
   "id": "705ce184-fcf4-4f4e-a90f-91324be4b224",
   "metadata": {
    "colab": {
     "base_uri": "https://localhost:8080/"
    },
    "id": "705ce184-fcf4-4f4e-a90f-91324be4b224",
    "outputId": "cf7bf987-1e0e-4383-d0ec-02d8b8c607d3"
   },
   "outputs": [
    {
     "data": {
      "text/plain": [
       "1.3807999538298958"
      ]
     },
     "execution_count": 200,
     "metadata": {},
     "output_type": "execute_result"
    }
   ],
   "source": [
    "np.sqrt(np.var(df['tip']))"
   ]
  },
  {
   "cell_type": "code",
   "execution_count": 201,
   "id": "01f17428-6822-4c9a-812f-b0610bc27ac4",
   "metadata": {
    "id": "01f17428-6822-4c9a-812f-b0610bc27ac4"
   },
   "outputs": [],
   "source": [
    "tip_mean = df['tip'].mean()"
   ]
  },
  {
   "cell_type": "code",
   "execution_count": 202,
   "id": "d77020ea-b26e-4929-b2bd-0bbfd06b7944",
   "metadata": {
    "colab": {
     "base_uri": "https://localhost:8080/"
    },
    "id": "d77020ea-b26e-4929-b2bd-0bbfd06b7944",
    "outputId": "62e00d2e-cd2f-434f-de0a-1666864de176"
   },
   "outputs": [
    {
     "data": {
      "text/plain": [
       "2.9982786885245902"
      ]
     },
     "execution_count": 202,
     "metadata": {},
     "output_type": "execute_result"
    }
   ],
   "source": [
    "tip_mean"
   ]
  },
  {
   "cell_type": "markdown",
   "id": "fada3977-e268-4278-9b49-6a09bbfdcbe5",
   "metadata": {
    "id": "fada3977-e268-4278-9b49-6a09bbfdcbe5"
   },
   "source": [
    "## 大体の予測する場合"
   ]
  },
  {
   "cell_type": "markdown",
   "id": "c80e1239-fc43-4393-a3e1-45f260cc21c2",
   "metadata": {
    "id": "c80e1239-fc43-4393-a3e1-45f260cc21c2"
   },
   "source": [
    "約３分の2"
   ]
  },
  {
   "cell_type": "code",
   "execution_count": 203,
   "id": "bbc52bcb-69cd-4215-bd03-bd7da3502c62",
   "metadata": {
    "colab": {
     "base_uri": "https://localhost:8080/"
    },
    "id": "bbc52bcb-69cd-4215-bd03-bd7da3502c62",
    "outputId": "e92ee583-4ffc-4bbb-fd82-f13d4968863b"
   },
   "outputs": [
    {
     "data": {
      "text/plain": [
       "4.379078642354486"
      ]
     },
     "execution_count": 203,
     "metadata": {},
     "output_type": "execute_result"
    }
   ],
   "source": [
    "tip_mean + tip_std"
   ]
  },
  {
   "cell_type": "code",
   "execution_count": 204,
   "id": "1cf4f4ef-bd71-4c8a-9170-3b75c0256984",
   "metadata": {
    "colab": {
     "base_uri": "https://localhost:8080/"
    },
    "id": "1cf4f4ef-bd71-4c8a-9170-3b75c0256984",
    "outputId": "06d7194a-d677-48ee-8fc1-795e64764a9c"
   },
   "outputs": [
    {
     "data": {
      "text/plain": [
       "1.6174787346946944"
      ]
     },
     "execution_count": 204,
     "metadata": {},
     "output_type": "execute_result"
    }
   ],
   "source": [
    "tip_mean - tip_std"
   ]
  },
  {
   "cell_type": "markdown",
   "id": "4b4a1090-6506-4db8-ab24-aac220107341",
   "metadata": {
    "id": "4b4a1090-6506-4db8-ab24-aac220107341"
   },
   "source": [
    "95％"
   ]
  },
  {
   "cell_type": "code",
   "execution_count": 205,
   "id": "785efae8-c50c-496e-abe0-0f81e826ca72",
   "metadata": {
    "colab": {
     "base_uri": "https://localhost:8080/"
    },
    "id": "785efae8-c50c-496e-abe0-0f81e826ca72",
    "outputId": "9a808cb3-6cc8-4e19-8527-0438f6ebc700"
   },
   "outputs": [
    {
     "data": {
      "text/plain": [
       "5.759878596184382"
      ]
     },
     "execution_count": 205,
     "metadata": {},
     "output_type": "execute_result"
    }
   ],
   "source": [
    "tip_mean + (2 * tip_std)"
   ]
  },
  {
   "cell_type": "code",
   "execution_count": 206,
   "id": "6edb1acd-c8bb-420c-b3c1-e12bb81fdbfd",
   "metadata": {
    "colab": {
     "base_uri": "https://localhost:8080/"
    },
    "id": "6edb1acd-c8bb-420c-b3c1-e12bb81fdbfd",
    "outputId": "fdd18624-20fc-4570-cf45-077615facf7b"
   },
   "outputs": [
    {
     "data": {
      "text/plain": [
       "0.23667878086479854"
      ]
     },
     "execution_count": 206,
     "metadata": {},
     "output_type": "execute_result"
    }
   ],
   "source": [
    "tip_mean - (2 * tip_std)"
   ]
  },
  {
   "cell_type": "markdown",
   "id": "a36e6b6d-a6b6-436c-9668-5514b4d29320",
   "metadata": {
    "id": "a36e6b6d-a6b6-436c-9668-5514b4d29320"
   },
   "source": [
    "95%から100%"
   ]
  },
  {
   "cell_type": "code",
   "execution_count": 207,
   "id": "cdb64de5-2aa0-4ed1-8746-90211ed85e75",
   "metadata": {
    "colab": {
     "base_uri": "https://localhost:8080/"
    },
    "id": "cdb64de5-2aa0-4ed1-8746-90211ed85e75",
    "outputId": "5164e6cb-3a38-4021-9fca-1853031ef7ca"
   },
   "outputs": [
    {
     "data": {
      "text/plain": [
       "7.140678550014278"
      ]
     },
     "execution_count": 207,
     "metadata": {},
     "output_type": "execute_result"
    }
   ],
   "source": [
    "tip_mean + (3 * tip_std)"
   ]
  },
  {
   "cell_type": "code",
   "execution_count": 208,
   "id": "12797a4e-8084-4451-a346-da7a50f8dbd3",
   "metadata": {
    "colab": {
     "base_uri": "https://localhost:8080/"
    },
    "id": "12797a4e-8084-4451-a346-da7a50f8dbd3",
    "outputId": "43d47679-c369-4254-b51a-45b7a3edf7d1"
   },
   "outputs": [
    {
     "data": {
      "text/plain": [
       "-1.1441211729650975"
      ]
     },
     "execution_count": 208,
     "metadata": {},
     "output_type": "execute_result"
    }
   ],
   "source": [
    "tip_mean - (3 * tip_std)"
   ]
  },
  {
   "cell_type": "markdown",
   "id": "84016358-3091-4023-bfb8-6c6faa83d6a8",
   "metadata": {
    "id": "84016358-3091-4023-bfb8-6c6faa83d6a8"
   },
   "source": [
    "# 共分散"
   ]
  },
  {
   "cell_type": "code",
   "execution_count": 209,
   "id": "b12daf0c-8dc2-47cf-a839-b01ec66fe9d9",
   "metadata": {
    "colab": {
     "base_uri": "https://localhost:8080/"
    },
    "id": "b12daf0c-8dc2-47cf-a839-b01ec66fe9d9",
    "outputId": "d0eaf26b-5090-4159-bc59-228d5d497bf8"
   },
   "outputs": [
    {
     "data": {
      "text/plain": [
       "array([[ 0.66666667,  6.66666667],\n",
       "       [ 6.66666667, 66.88888889]])"
      ]
     },
     "execution_count": 209,
     "metadata": {},
     "output_type": "execute_result"
    }
   ],
   "source": [
    "np.cov([1, 2, 3], [-4, 5, 16], rowvar=False, bias=True)"
   ]
  },
  {
   "cell_type": "code",
   "execution_count": 210,
   "id": "3c75ce29-f6bf-424a-b07b-e48bbc7c2958",
   "metadata": {
    "colab": {
     "base_uri": "https://localhost:8080/",
     "height": 206
    },
    "id": "3c75ce29-f6bf-424a-b07b-e48bbc7c2958",
    "outputId": "0b62b819-3b20-4f76-a606-414e8bdc01f2"
   },
   "outputs": [
    {
     "data": {
      "text/html": [
       "<div>\n",
       "<style scoped>\n",
       "    .dataframe tbody tr th:only-of-type {\n",
       "        vertical-align: middle;\n",
       "    }\n",
       "\n",
       "    .dataframe tbody tr th {\n",
       "        vertical-align: top;\n",
       "    }\n",
       "\n",
       "    .dataframe thead th {\n",
       "        text-align: right;\n",
       "    }\n",
       "</style>\n",
       "<table border=\"1\" class=\"dataframe\">\n",
       "  <thead>\n",
       "    <tr style=\"text-align: right;\">\n",
       "      <th></th>\n",
       "      <th>total_bill</th>\n",
       "      <th>tip</th>\n",
       "      <th>sex</th>\n",
       "      <th>smoker</th>\n",
       "      <th>day</th>\n",
       "      <th>time</th>\n",
       "      <th>size</th>\n",
       "      <th>tip_rate</th>\n",
       "    </tr>\n",
       "  </thead>\n",
       "  <tbody>\n",
       "    <tr>\n",
       "      <th>0</th>\n",
       "      <td>16.99</td>\n",
       "      <td>1.01</td>\n",
       "      <td>Female</td>\n",
       "      <td>No</td>\n",
       "      <td>Sun</td>\n",
       "      <td>Dinner</td>\n",
       "      <td>2</td>\n",
       "      <td>0.059447</td>\n",
       "    </tr>\n",
       "    <tr>\n",
       "      <th>1</th>\n",
       "      <td>10.34</td>\n",
       "      <td>1.66</td>\n",
       "      <td>Male</td>\n",
       "      <td>No</td>\n",
       "      <td>Sun</td>\n",
       "      <td>Dinner</td>\n",
       "      <td>3</td>\n",
       "      <td>0.160542</td>\n",
       "    </tr>\n",
       "    <tr>\n",
       "      <th>2</th>\n",
       "      <td>21.01</td>\n",
       "      <td>3.50</td>\n",
       "      <td>Male</td>\n",
       "      <td>No</td>\n",
       "      <td>Sun</td>\n",
       "      <td>Dinner</td>\n",
       "      <td>3</td>\n",
       "      <td>0.166587</td>\n",
       "    </tr>\n",
       "    <tr>\n",
       "      <th>3</th>\n",
       "      <td>23.68</td>\n",
       "      <td>3.31</td>\n",
       "      <td>Male</td>\n",
       "      <td>No</td>\n",
       "      <td>Sun</td>\n",
       "      <td>Dinner</td>\n",
       "      <td>2</td>\n",
       "      <td>0.139780</td>\n",
       "    </tr>\n",
       "    <tr>\n",
       "      <th>4</th>\n",
       "      <td>24.59</td>\n",
       "      <td>3.61</td>\n",
       "      <td>Female</td>\n",
       "      <td>No</td>\n",
       "      <td>Sun</td>\n",
       "      <td>Dinner</td>\n",
       "      <td>4</td>\n",
       "      <td>0.146808</td>\n",
       "    </tr>\n",
       "  </tbody>\n",
       "</table>\n",
       "</div>"
      ],
      "text/plain": [
       "   total_bill   tip     sex smoker  day    time  size  tip_rate\n",
       "0       16.99  1.01  Female     No  Sun  Dinner     2  0.059447\n",
       "1       10.34  1.66    Male     No  Sun  Dinner     3  0.160542\n",
       "2       21.01  3.50    Male     No  Sun  Dinner     3  0.166587\n",
       "3       23.68  3.31    Male     No  Sun  Dinner     2  0.139780\n",
       "4       24.59  3.61  Female     No  Sun  Dinner     4  0.146808"
      ]
     },
     "execution_count": 210,
     "metadata": {},
     "output_type": "execute_result"
    }
   ],
   "source": [
    "df.head()"
   ]
  },
  {
   "cell_type": "code",
   "execution_count": 211,
   "id": "4b416f87-94cc-4235-abb2-ffc990f6f902",
   "metadata": {
    "colab": {
     "base_uri": "https://localhost:8080/"
    },
    "id": "4b416f87-94cc-4235-abb2-ffc990f6f902",
    "outputId": "c718b5b5-c07a-4187-ce03-c1140bc9f1a0"
   },
   "outputs": [
    {
     "data": {
      "text/plain": [
       "array([[78.92813149,  8.28938892],\n",
       "       [ 8.28938892,  1.90660851]])"
      ]
     },
     "execution_count": 211,
     "metadata": {},
     "output_type": "execute_result"
    }
   ],
   "source": [
    "np.cov(df['total_bill'], df['tip'], bias=True)"
   ]
  },
  {
   "cell_type": "code",
   "execution_count": 212,
   "id": "979e0828-88f3-49c5-91b4-38c0631617c7",
   "metadata": {
    "id": "979e0828-88f3-49c5-91b4-38c0631617c7"
   },
   "outputs": [],
   "source": [
    "x = np.stack([df['total_bill'], df['tip'], df['size']], axis=0)"
   ]
  },
  {
   "cell_type": "code",
   "execution_count": 213,
   "id": "54f5feb1-423e-42ec-9458-64f5913014b1",
   "metadata": {
    "colab": {
     "base_uri": "https://localhost:8080/"
    },
    "id": "54f5feb1-423e-42ec-9458-64f5913014b1",
    "outputId": "8c3fbca9-9acf-4a0c-fbbc-e8e64c7b7625"
   },
   "outputs": [
    {
     "data": {
      "text/plain": [
       "array([[78.92813149,  8.28938892,  5.04522121],\n",
       "       [ 8.28938892,  1.90660851,  0.64126747],\n",
       "       [ 5.04522121,  0.64126747,  0.9008835 ]])"
      ]
     },
     "execution_count": 213,
     "metadata": {},
     "output_type": "execute_result"
    }
   ],
   "source": [
    "np.cov(x, bias=True)"
   ]
  },
  {
   "cell_type": "markdown",
   "id": "659ac571-d24e-4529-84c2-71dd55e82fde",
   "metadata": {
    "id": "659ac571-d24e-4529-84c2-71dd55e82fde"
   },
   "source": [
    "df.cov()は不偏分散と普遍共分散で表示される"
   ]
  },
  {
   "cell_type": "code",
   "execution_count": 214,
   "id": "45342090-2a77-450f-bdf7-ab08f40ca8ba",
   "metadata": {
    "colab": {
     "base_uri": "https://localhost:8080/",
     "height": 210
    },
    "id": "45342090-2a77-450f-bdf7-ab08f40ca8ba",
    "outputId": "888c119c-6a54-4e1d-8399-7b61b7f91b96"
   },
   "outputs": [
    {
     "data": {
      "text/html": [
       "<div>\n",
       "<style scoped>\n",
       "    .dataframe tbody tr th:only-of-type {\n",
       "        vertical-align: middle;\n",
       "    }\n",
       "\n",
       "    .dataframe tbody tr th {\n",
       "        vertical-align: top;\n",
       "    }\n",
       "\n",
       "    .dataframe thead th {\n",
       "        text-align: right;\n",
       "    }\n",
       "</style>\n",
       "<table border=\"1\" class=\"dataframe\">\n",
       "  <thead>\n",
       "    <tr style=\"text-align: right;\">\n",
       "      <th></th>\n",
       "      <th>total_bill</th>\n",
       "      <th>tip</th>\n",
       "      <th>size</th>\n",
       "      <th>tip_rate</th>\n",
       "    </tr>\n",
       "  </thead>\n",
       "  <tbody>\n",
       "    <tr>\n",
       "      <th>total_bill</th>\n",
       "      <td>79.252939</td>\n",
       "      <td>8.323502</td>\n",
       "      <td>5.065983</td>\n",
       "      <td>-0.184107</td>\n",
       "    </tr>\n",
       "    <tr>\n",
       "      <th>tip</th>\n",
       "      <td>8.323502</td>\n",
       "      <td>1.914455</td>\n",
       "      <td>0.643906</td>\n",
       "      <td>0.028931</td>\n",
       "    </tr>\n",
       "    <tr>\n",
       "      <th>size</th>\n",
       "      <td>5.065983</td>\n",
       "      <td>0.643906</td>\n",
       "      <td>0.904591</td>\n",
       "      <td>-0.008298</td>\n",
       "    </tr>\n",
       "    <tr>\n",
       "      <th>tip_rate</th>\n",
       "      <td>-0.184107</td>\n",
       "      <td>0.028931</td>\n",
       "      <td>-0.008298</td>\n",
       "      <td>0.003730</td>\n",
       "    </tr>\n",
       "  </tbody>\n",
       "</table>\n",
       "</div>"
      ],
      "text/plain": [
       "            total_bill       tip      size  tip_rate\n",
       "total_bill   79.252939  8.323502  5.065983 -0.184107\n",
       "tip           8.323502  1.914455  0.643906  0.028931\n",
       "size          5.065983  0.643906  0.904591 -0.008298\n",
       "tip_rate     -0.184107  0.028931 -0.008298  0.003730"
      ]
     },
     "execution_count": 214,
     "metadata": {},
     "output_type": "execute_result"
    }
   ],
   "source": [
    "df.cov()"
   ]
  },
  {
   "cell_type": "markdown",
   "id": "863dba9d-606f-449b-ab1c-75b7c05aac5e",
   "metadata": {
    "id": "863dba9d-606f-449b-ab1c-75b7c05aac5e"
   },
   "source": [
    "# 相関行列"
   ]
  },
  {
   "cell_type": "code",
   "execution_count": 215,
   "id": "2fcd581f-f893-4bdb-ac1a-aa2e4c3c3c01",
   "metadata": {
    "colab": {
     "base_uri": "https://localhost:8080/"
    },
    "id": "2fcd581f-f893-4bdb-ac1a-aa2e4c3c3c01",
    "outputId": "34056296-055e-4593-bf73-8de89a8b8253"
   },
   "outputs": [
    {
     "data": {
      "text/plain": [
       "array([[1.        , 0.89104211],\n",
       "       [0.89104211, 1.        ]])"
      ]
     },
     "execution_count": 215,
     "metadata": {},
     "output_type": "execute_result"
    }
   ],
   "source": [
    "np.corrcoef([1, 4, 5], [5, 6, 8])"
   ]
  },
  {
   "cell_type": "code",
   "execution_count": 216,
   "id": "c3e1e8b8-4d0f-44fd-82f8-7644093ddca0",
   "metadata": {
    "colab": {
     "base_uri": "https://localhost:8080/"
    },
    "id": "c3e1e8b8-4d0f-44fd-82f8-7644093ddca0",
    "outputId": "03b07f5d-5f0e-48c9-f4ca-3f29dad2292e"
   },
   "outputs": [
    {
     "data": {
      "text/plain": [
       "array([[1.        , 0.67573411],\n",
       "       [0.67573411, 1.        ]])"
      ]
     },
     "execution_count": 216,
     "metadata": {},
     "output_type": "execute_result"
    }
   ],
   "source": [
    "np.corrcoef(df['total_bill'], df['tip'])"
   ]
  },
  {
   "cell_type": "code",
   "execution_count": 217,
   "id": "2ec73bfa-3ff5-479d-a8a9-aeb36c8807fc",
   "metadata": {
    "colab": {
     "base_uri": "https://localhost:8080/"
    },
    "id": "2ec73bfa-3ff5-479d-a8a9-aeb36c8807fc",
    "outputId": "4dbd3c78-3b32-4521-e274-6c13cec20bfb"
   },
   "outputs": [
    {
     "data": {
      "text/plain": [
       "array([[1.        , 0.67573411, 0.59831513],\n",
       "       [0.67573411, 1.        , 0.48929878],\n",
       "       [0.59831513, 0.48929878, 1.        ]])"
      ]
     },
     "execution_count": 217,
     "metadata": {},
     "output_type": "execute_result"
    }
   ],
   "source": [
    "x = np.stack([df['total_bill'], df['tip'], df['size']], axis=0)\n",
    "np.corrcoef(x)"
   ]
  },
  {
   "cell_type": "code",
   "execution_count": 218,
   "id": "e0907c10-06f9-406e-a9fd-9457832d1ce2",
   "metadata": {
    "colab": {
     "base_uri": "https://localhost:8080/",
     "height": 210
    },
    "id": "e0907c10-06f9-406e-a9fd-9457832d1ce2",
    "outputId": "defd99b5-2b0a-4906-cacb-b97d690f6179"
   },
   "outputs": [
    {
     "data": {
      "text/html": [
       "<div>\n",
       "<style scoped>\n",
       "    .dataframe tbody tr th:only-of-type {\n",
       "        vertical-align: middle;\n",
       "    }\n",
       "\n",
       "    .dataframe tbody tr th {\n",
       "        vertical-align: top;\n",
       "    }\n",
       "\n",
       "    .dataframe thead th {\n",
       "        text-align: right;\n",
       "    }\n",
       "</style>\n",
       "<table border=\"1\" class=\"dataframe\">\n",
       "  <thead>\n",
       "    <tr style=\"text-align: right;\">\n",
       "      <th></th>\n",
       "      <th>total_bill</th>\n",
       "      <th>tip</th>\n",
       "      <th>size</th>\n",
       "      <th>tip_rate</th>\n",
       "    </tr>\n",
       "  </thead>\n",
       "  <tbody>\n",
       "    <tr>\n",
       "      <th>total_bill</th>\n",
       "      <td>1.000000</td>\n",
       "      <td>0.675734</td>\n",
       "      <td>0.598315</td>\n",
       "      <td>-0.338624</td>\n",
       "    </tr>\n",
       "    <tr>\n",
       "      <th>tip</th>\n",
       "      <td>0.675734</td>\n",
       "      <td>1.000000</td>\n",
       "      <td>0.489299</td>\n",
       "      <td>0.342370</td>\n",
       "    </tr>\n",
       "    <tr>\n",
       "      <th>size</th>\n",
       "      <td>0.598315</td>\n",
       "      <td>0.489299</td>\n",
       "      <td>1.000000</td>\n",
       "      <td>-0.142860</td>\n",
       "    </tr>\n",
       "    <tr>\n",
       "      <th>tip_rate</th>\n",
       "      <td>-0.338624</td>\n",
       "      <td>0.342370</td>\n",
       "      <td>-0.142860</td>\n",
       "      <td>1.000000</td>\n",
       "    </tr>\n",
       "  </tbody>\n",
       "</table>\n",
       "</div>"
      ],
      "text/plain": [
       "            total_bill       tip      size  tip_rate\n",
       "total_bill    1.000000  0.675734  0.598315 -0.338624\n",
       "tip           0.675734  1.000000  0.489299  0.342370\n",
       "size          0.598315  0.489299  1.000000 -0.142860\n",
       "tip_rate     -0.338624  0.342370 -0.142860  1.000000"
      ]
     },
     "execution_count": 218,
     "metadata": {},
     "output_type": "execute_result"
    }
   ],
   "source": [
    "df.corr()"
   ]
  },
  {
   "cell_type": "code",
   "execution_count": 219,
   "id": "1d0cc0e2-4578-4188-8630-4ca5b2d0f6d4",
   "metadata": {
    "colab": {
     "base_uri": "https://localhost:8080/",
     "height": 487
    },
    "id": "1d0cc0e2-4578-4188-8630-4ca5b2d0f6d4",
    "outputId": "86d72fa8-34eb-4707-83a9-3f704c143b40"
   },
   "outputs": [
    {
     "data": {
      "text/plain": [
       "<AxesSubplot:>"
      ]
     },
     "execution_count": 219,
     "metadata": {},
     "output_type": "execute_result"
    },
    {
     "data": {
      "image/png": "[encoded data removed]",
      "text/plain": [
       "<Figure size 432x288 with 2 Axes>"
      ]
     },
     "metadata": {
      "needs_background": "light"
     },
     "output_type": "display_data"
    }
   ],
   "source": [
    "sns.heatmap(df.corr(), cmap='coolwarm', annot=True)"
   ]
  },
  {
   "cell_type": "markdown",
   "id": "38de51da-619b-4990-8cd7-9577655c5bd8",
   "metadata": {
    "id": "38de51da-619b-4990-8cd7-9577655c5bd8"
   },
   "source": [
    "# 連関"
   ]
  },
  {
   "cell_type": "code",
   "execution_count": 220,
   "id": "69167a3b-c241-4300-aa06-1875b974675f",
   "metadata": {
    "colab": {
     "base_uri": "https://localhost:8080/",
     "height": 143
    },
    "id": "69167a3b-c241-4300-aa06-1875b974675f",
    "outputId": "169ba0a3-243b-4fb6-99dc-d232b35535d8"
   },
   "outputs": [
    {
     "data": {
      "text/html": [
       "<div>\n",
       "<style scoped>\n",
       "    .dataframe tbody tr th:only-of-type {\n",
       "        vertical-align: middle;\n",
       "    }\n",
       "\n",
       "    .dataframe tbody tr th {\n",
       "        vertical-align: top;\n",
       "    }\n",
       "\n",
       "    .dataframe thead th {\n",
       "        text-align: right;\n",
       "    }\n",
       "</style>\n",
       "<table border=\"1\" class=\"dataframe\">\n",
       "  <thead>\n",
       "    <tr style=\"text-align: right;\">\n",
       "      <th>time</th>\n",
       "      <th>Lunch</th>\n",
       "      <th>Dinner</th>\n",
       "    </tr>\n",
       "    <tr>\n",
       "      <th>sex</th>\n",
       "      <th></th>\n",
       "      <th></th>\n",
       "    </tr>\n",
       "  </thead>\n",
       "  <tbody>\n",
       "    <tr>\n",
       "      <th>Male</th>\n",
       "      <td>33</td>\n",
       "      <td>124</td>\n",
       "    </tr>\n",
       "    <tr>\n",
       "      <th>Female</th>\n",
       "      <td>35</td>\n",
       "      <td>52</td>\n",
       "    </tr>\n",
       "  </tbody>\n",
       "</table>\n",
       "</div>"
      ],
      "text/plain": [
       "time    Lunch  Dinner\n",
       "sex                  \n",
       "Male       33     124\n",
       "Female     35      52"
      ]
     },
     "execution_count": 220,
     "metadata": {},
     "output_type": "execute_result"
    }
   ],
   "source": [
    "pd.crosstab(df['sex'], df['time'])"
   ]
  },
  {
   "cell_type": "code",
   "execution_count": 221,
   "id": "2a94148a-1818-4417-b939-5c367c1a5a16",
   "metadata": {
    "colab": {
     "base_uri": "https://localhost:8080/"
    },
    "id": "2a94148a-1818-4417-b939-5c367c1a5a16",
    "outputId": "4e77eacd-446c-4137-98c9-c2ab0f03a0c7"
   },
   "outputs": [
    {
     "data": {
      "text/plain": [
       "(10.277251918677742,\n",
       " 0.0013468039268008766,\n",
       " 1,\n",
       " array([[ 43.75409836, 113.24590164],\n",
       "        [ 24.24590164,  62.75409836]]))"
      ]
     },
     "execution_count": 221,
     "metadata": {},
     "output_type": "execute_result"
    }
   ],
   "source": [
    "cont_table = pd.crosstab(df['sex'], df['time'])\n",
    "stats.chi2_contingency(cont_table, correction=False)"
   ]
  },
  {
   "cell_type": "markdown",
   "id": "9d4b882c-a133-4ab8-b689-04c7869f273e",
   "metadata": {
    "id": "9d4b882c-a133-4ab8-b689-04c7869f273e"
   },
   "source": [
    "# クラメールの連関係数"
   ]
  },
  {
   "cell_type": "code",
   "execution_count": 222,
   "id": "90ef30ad-d275-4081-b42b-8eccbbfb28f0",
   "metadata": {
    "id": "90ef30ad-d275-4081-b42b-8eccbbfb28f0"
   },
   "outputs": [],
   "source": [
    "chi_2 = stats.chi2_contingency(cont_table, correction=False)[0]"
   ]
  },
  {
   "cell_type": "code",
   "execution_count": 223,
   "id": "a9451be5-4797-4721-936c-4318866ebebb",
   "metadata": {
    "colab": {
     "base_uri": "https://localhost:8080/"
    },
    "id": "a9451be5-4797-4721-936c-4318866ebebb",
    "outputId": "431ff06c-3422-443e-dc4f-2eaadd6a95ee"
   },
   "outputs": [
    {
     "data": {
      "text/plain": [
       "2"
      ]
     },
     "execution_count": 223,
     "metadata": {},
     "output_type": "execute_result"
    }
   ],
   "source": [
    "len(cont_table)"
   ]
  },
  {
   "cell_type": "code",
   "execution_count": 224,
   "id": "3a670f3a-76cf-4dd4-87f0-3e273bdf9e16",
   "metadata": {
    "id": "3a670f3a-76cf-4dd4-87f0-3e273bdf9e16"
   },
   "outputs": [],
   "source": [
    "def cramers_v(x, y):\n",
    "    cont_table = pd.crosstab(x, y)\n",
    "    chi_2 = stats.chi2_contingency(cont_table, correction=False)[0]\n",
    "    min_d = min(cont_table.shape) - 1\n",
    "    n = len(x)\n",
    "    v = np.sqrt(chi_2 / (min_d * n))\n",
    "    return v"
   ]
  },
  {
   "cell_type": "code",
   "execution_count": 225,
   "id": "c0fefb09-cbd9-466f-8182-c5d0cdee08bb",
   "metadata": {
    "colab": {
     "base_uri": "https://localhost:8080/"
    },
    "id": "c0fefb09-cbd9-466f-8182-c5d0cdee08bb",
    "outputId": "d8e78299-a6af-4325-a49f-5e44407f4f81"
   },
   "outputs": [
    {
     "data": {
      "text/plain": [
       "0.20523129613344476"
      ]
     },
     "execution_count": 225,
     "metadata": {},
     "output_type": "execute_result"
    }
   ],
   "source": [
    "cramers_v(df['sex'], df['time'])"
   ]
  },
  {
   "cell_type": "markdown",
   "id": "c08af8fc-2ef5-4236-99b2-ddb870ffdd9e",
   "metadata": {
    "id": "c08af8fc-2ef5-4236-99b2-ddb870ffdd9e"
   },
   "source": [
    "# 確率分布"
   ]
  },
  {
   "cell_type": "code",
   "execution_count": 226,
   "id": "634010a6-599f-42a2-ae63-44a2e3c7d6af",
   "metadata": {
    "colab": {
     "base_uri": "https://localhost:8080/"
    },
    "id": "634010a6-599f-42a2-ae63-44a2e3c7d6af",
    "outputId": "97e22ca5-e9b4-4138-e554-15571178c17a"
   },
   "outputs": [
    {
     "data": {
      "text/plain": [
       "5"
      ]
     },
     "execution_count": 226,
     "metadata": {},
     "output_type": "execute_result"
    }
   ],
   "source": [
    "# random variates: 確率変量\n",
    "stats.randint.rvs(1, 7)"
   ]
  },
  {
   "cell_type": "code",
   "execution_count": 227,
   "id": "f8d8d8bb-1675-4581-8f5b-5a28793e8d48",
   "metadata": {
    "colab": {
     "base_uri": "https://localhost:8080/"
    },
    "id": "f8d8d8bb-1675-4581-8f5b-5a28793e8d48",
    "outputId": "9bf1a958-b98f-40a3-d077-b246c3655881"
   },
   "outputs": [
    {
     "data": {
      "text/plain": [
       "0.8723328278555806"
      ]
     },
     "execution_count": 227,
     "metadata": {},
     "output_type": "execute_result"
    }
   ],
   "source": [
    "stats.uniform.rvs(0, 1)"
   ]
  },
  {
   "cell_type": "markdown",
   "id": "f5b63f19-1e48-4e55-9bed-1f9bd6551360",
   "metadata": {
    "id": "f5b63f19-1e48-4e55-9bed-1f9bd6551360"
   },
   "source": [
    "# 確立分布の描画"
   ]
  },
  {
   "cell_type": "code",
   "execution_count": 228,
   "id": "f4eaefff-480c-4841-8846-44cd682beabf",
   "metadata": {
    "id": "f4eaefff-480c-4841-8846-44cd682beabf"
   },
   "outputs": [],
   "source": [
    "def simple_func(x):\n",
    "    return x **2 + 3"
   ]
  },
  {
   "cell_type": "code",
   "execution_count": 229,
   "id": "98b7a3e4-bb47-451f-92e3-270ca7ef4d25",
   "metadata": {
    "colab": {
     "base_uri": "https://localhost:8080/"
    },
    "id": "98b7a3e4-bb47-451f-92e3-270ca7ef4d25",
    "outputId": "f3be22f5-82b2-4553-d58d-b3556568ba13"
   },
   "outputs": [
    {
     "data": {
      "text/plain": [
       "7"
      ]
     },
     "execution_count": 229,
     "metadata": {},
     "output_type": "execute_result"
    }
   ],
   "source": [
    "simple_func(2)"
   ]
  },
  {
   "cell_type": "code",
   "execution_count": 230,
   "id": "fd6475cb-116a-4a14-a4c2-58e21962020f",
   "metadata": {
    "id": "fd6475cb-116a-4a14-a4c2-58e21962020f"
   },
   "outputs": [],
   "source": [
    "# x = np.linspace(-3, 3, 100)\n",
    "x = np.arange(-3, 4)\n",
    "y = simple_func(x)"
   ]
  },
  {
   "cell_type": "code",
   "execution_count": 231,
   "id": "8df466d0-12ea-4b02-bde7-b72ddce515bb",
   "metadata": {
    "colab": {
     "base_uri": "https://localhost:8080/"
    },
    "id": "8df466d0-12ea-4b02-bde7-b72ddce515bb",
    "outputId": "77b0a464-a6c5-4155-ecd7-585c3e7fbe73"
   },
   "outputs": [
    {
     "data": {
      "text/plain": [
       "array([-3, -2, -1,  0,  1,  2,  3])"
      ]
     },
     "execution_count": 231,
     "metadata": {},
     "output_type": "execute_result"
    }
   ],
   "source": [
    "x"
   ]
  },
  {
   "cell_type": "code",
   "execution_count": 232,
   "id": "7be234b1-f508-4a66-8deb-556f78e73ec4",
   "metadata": {
    "colab": {
     "base_uri": "https://localhost:8080/",
     "height": 447
    },
    "id": "7be234b1-f508-4a66-8deb-556f78e73ec4",
    "outputId": "94dac715-fdde-434e-864e-8a3ef39e012f"
   },
   "outputs": [
    {
     "data": {
      "text/plain": [
       "[<matplotlib.lines.Line2D at 0x405d130b20>]"
      ]
     },
     "execution_count": 232,
     "metadata": {},
     "output_type": "execute_result"
    },
    {
     "data": {
      "image/png": "[encoded data removed]",
      "text/plain": [
       "<Figure size 432x288 with 1 Axes>"
      ]
     },
     "metadata": {
      "needs_background": "light"
     },
     "output_type": "display_data"
    }
   ],
   "source": [
    "plt.plot(x, y)"
   ]
  },
  {
   "cell_type": "code",
   "execution_count": 233,
   "id": "339f4f38-d275-4720-baa0-06e3cef72c4c",
   "metadata": {
    "colab": {
     "base_uri": "https://localhost:8080/"
    },
    "id": "339f4f38-d275-4720-baa0-06e3cef72c4c",
    "outputId": "ac91a7c3-242c-4ab1-8da5-9cef25a8bfd1"
   },
   "outputs": [
    {
     "data": {
      "text/plain": [
       "array([12,  7,  4,  3,  4,  7, 12])"
      ]
     },
     "execution_count": 233,
     "metadata": {},
     "output_type": "execute_result"
    }
   ],
   "source": [
    "y"
   ]
  },
  {
   "cell_type": "markdown",
   "id": "a42247cb-72f2-4618-9213-f7dbda7db4b0",
   "metadata": {
    "id": "a42247cb-72f2-4618-9213-f7dbda7db4b0"
   },
   "source": [
    "## 離散型確率分布"
   ]
  },
  {
   "cell_type": "code",
   "execution_count": 234,
   "id": "eb130a2c-3bc4-4810-8d8c-fc1a214e7655",
   "metadata": {
    "colab": {
     "base_uri": "https://localhost:8080/",
     "height": 452
    },
    "id": "eb130a2c-3bc4-4810-8d8c-fc1a214e7655",
    "outputId": "44f7a480-211b-4c71-980f-665d9b955e4d"
   },
   "outputs": [
    {
     "data": {
      "text/plain": [
       "<matplotlib.collections.LineCollection at 0x405cd28b20>"
      ]
     },
     "execution_count": 234,
     "metadata": {},
     "output_type": "execute_result"
    },
    {
     "data": {
      "image/png": "[encoded data removed]",
      "text/plain": [
       "<Figure size 432x288 with 1 Axes>"
      ]
     },
     "metadata": {
      "needs_background": "light"
     },
     "output_type": "display_data"
    }
   ],
   "source": [
    "x = np.arange(1, 7)\n",
    "y = stats.randint(1, 7).pmf(x)\n",
    "plt.plot(x, y, 'o')\n",
    "plt.vlines(x, 0, y)"
   ]
  },
  {
   "cell_type": "markdown",
   "id": "85a67d32-f972-4dda-8586-0d48adeb69b1",
   "metadata": {
    "id": "85a67d32-f972-4dda-8586-0d48adeb69b1"
   },
   "source": [
    "## 連続型確率分布"
   ]
  },
  {
   "cell_type": "code",
   "execution_count": 235,
   "id": "6a2c18e4-ae9b-4cf4-8f1c-7ad70483d891",
   "metadata": {
    "colab": {
     "base_uri": "https://localhost:8080/",
     "height": 447
    },
    "id": "6a2c18e4-ae9b-4cf4-8f1c-7ad70483d891",
    "outputId": "5eb98640-fe17-4ffa-8224-f86ab3dc1f39"
   },
   "outputs": [
    {
     "data": {
      "text/plain": [
       "[<matplotlib.lines.Line2D at 0x405c733fa0>]"
      ]
     },
     "execution_count": 235,
     "metadata": {},
     "output_type": "execute_result"
    },
    {
     "data": {
      "image/png": "[encoded data removed]",
      "text/plain": [
       "<Figure size 432x288 with 1 Axes>"
      ]
     },
     "metadata": {
      "needs_background": "light"
     },
     "output_type": "display_data"
    }
   ],
   "source": [
    "x = np.linspace(-2, 2, 100)\n",
    "y = stats.uniform(loc=0, scale=1).pdf(x)\n",
    "plt.plot(x, y)"
   ]
  },
  {
   "cell_type": "code",
   "execution_count": 236,
   "id": "04e70188-5431-4a1a-ac9a-5f012a9c5873",
   "metadata": {
    "colab": {
     "base_uri": "https://localhost:8080/"
    },
    "id": "04e70188-5431-4a1a-ac9a-5f012a9c5873",
    "outputId": "9d8e4d4e-d3f1-4d49-a83f-ef1b4896c627"
   },
   "outputs": [
    {
     "data": {
      "text/plain": [
       "array([0., 0., 0., 0., 0., 0., 0., 0., 0., 0., 0., 0., 0., 0., 0., 0., 0.,\n",
       "       0., 0., 0., 0., 0., 0., 0., 0., 0., 0., 0., 0., 0., 0., 0., 0., 0.,\n",
       "       0., 0., 0., 0., 0., 0., 0., 0., 0., 0., 0., 0., 0., 0., 0., 0., 1.,\n",
       "       1., 1., 1., 1., 1., 1., 1., 1., 1., 1., 1., 1., 1., 1., 1., 1., 1.,\n",
       "       1., 1., 1., 1., 1., 1., 1., 0., 0., 0., 0., 0., 0., 0., 0., 0., 0.,\n",
       "       0., 0., 0., 0., 0., 0., 0., 0., 0., 0., 0., 0., 0., 0., 0.])"
      ]
     },
     "execution_count": 236,
     "metadata": {},
     "output_type": "execute_result"
    }
   ],
   "source": [
    "y"
   ]
  },
  {
   "cell_type": "markdown",
   "id": "eaf36d18-a3d3-4bba-b429-2f0a4fd98923",
   "metadata": {
    "id": "eaf36d18-a3d3-4bba-b429-2f0a4fd98923"
   },
   "source": [
    "# CDF"
   ]
  },
  {
   "cell_type": "code",
   "execution_count": 237,
   "id": "7e0e3e9a-4665-425e-97b9-72f7186d0df4",
   "metadata": {
    "colab": {
     "base_uri": "https://localhost:8080/",
     "height": 447
    },
    "id": "7e0e3e9a-4665-425e-97b9-72f7186d0df4",
    "outputId": "18fdfe23-a88c-499d-f003-be703adc7eab"
   },
   "outputs": [
    {
     "data": {
      "text/plain": [
       "[<matplotlib.lines.Line2D at 0x405d41d3d0>]"
      ]
     },
     "execution_count": 237,
     "metadata": {},
     "output_type": "execute_result"
    },
    {
     "data": {
      "image/png": "[encoded data removed]",
      "text/plain": [
       "<Figure size 432x288 with 1 Axes>"
      ]
     },
     "metadata": {
      "needs_background": "light"
     },
     "output_type": "display_data"
    }
   ],
   "source": [
    "x = np.linspace(-3, 3, 100)\n",
    "y = stats.norm.pdf(x)\n",
    "plt.plot(x, y)"
   ]
  },
  {
   "cell_type": "code",
   "execution_count": 238,
   "id": "316dbfd9-7c51-4601-98ca-f5838830cd6a",
   "metadata": {
    "colab": {
     "base_uri": "https://localhost:8080/",
     "height": 447
    },
    "id": "316dbfd9-7c51-4601-98ca-f5838830cd6a",
    "outputId": "d0e469ed-0bb6-45be-af45-32a13d60735c"
   },
   "outputs": [
    {
     "data": {
      "text/plain": [
       "[<matplotlib.lines.Line2D at 0x405d3994c0>]"
      ]
     },
     "execution_count": 238,
     "metadata": {},
     "output_type": "execute_result"
    },
    {
     "data": {
      "image/png": "[encoded data removed]",
      "text/plain": [
       "<Figure size 432x288 with 1 Axes>"
      ]
     },
     "metadata": {
      "needs_background": "light"
     },
     "output_type": "display_data"
    }
   ],
   "source": [
    "y = stats.norm.cdf(x)\n",
    "plt.plot(x, y)\n"
   ]
  },
  {
   "cell_type": "code",
   "execution_count": 239,
   "id": "c553854e-6beb-4fa6-8231-2488ba72d9d9",
   "metadata": {
    "colab": {
     "base_uri": "https://localhost:8080/",
     "height": 447
    },
    "id": "c553854e-6beb-4fa6-8231-2488ba72d9d9",
    "outputId": "2dccbc23-c02e-4839-fd40-0c74464cb44a"
   },
   "outputs": [
    {
     "data": {
      "text/plain": [
       "[<matplotlib.lines.Line2D at 0x405c71d190>]"
      ]
     },
     "execution_count": 239,
     "metadata": {},
     "output_type": "execute_result"
    },
    {
     "data": {
      "image/png": "[encoded data removed]",
      "text/plain": [
       "<Figure size 432x288 with 1 Axes>"
      ]
     },
     "metadata": {
      "needs_background": "light"
     },
     "output_type": "display_data"
    }
   ],
   "source": [
    "y = stats.norm.sf(x)\n",
    "plt.plot(x, y)\n"
   ]
  },
  {
   "cell_type": "markdown",
   "id": "0ab0d51d-2693-4e7f-879c-30142fd09ef0",
   "metadata": {
    "id": "0ab0d51d-2693-4e7f-879c-30142fd09ef0"
   },
   "source": [
    "#　正規分布"
   ]
  },
  {
   "cell_type": "code",
   "execution_count": 240,
   "id": "bffcb091-e755-478a-9d09-7dbd7451d575",
   "metadata": {
    "colab": {
     "base_uri": "https://localhost:8080/",
     "height": 447
    },
    "id": "bffcb091-e755-478a-9d09-7dbd7451d575",
    "outputId": "821130e2-a921-4588-be9d-6d09805612ef"
   },
   "outputs": [
    {
     "data": {
      "text/plain": [
       "[<matplotlib.lines.Line2D at 0x405cbee040>]"
      ]
     },
     "execution_count": 240,
     "metadata": {},
     "output_type": "execute_result"
    },
    {
     "data": {
      "image/png": "[encoded data removed]",
      "text/plain": [
       "<Figure size 432x288 with 1 Axes>"
      ]
     },
     "metadata": {
      "needs_background": "light"
     },
     "output_type": "display_data"
    }
   ],
   "source": [
    "x = np.linspace(-5, 15, 100)\n",
    "y = stats.norm(loc=10, scale=3).pdf(x)\n",
    "y2 = stats.norm(loc=8, scale=3).pdf(x)\n",
    "y3 = stats.norm(loc=8, scale=1).pdf(x)\n",
    "\n",
    "plt.plot(x, y)\n",
    "plt.plot(x, y2)\n",
    "plt.plot(x, y3)"
   ]
  },
  {
   "cell_type": "code",
   "execution_count": 241,
   "id": "c6476303-cd04-46e3-8afe-e58de8cdddce",
   "metadata": {
    "colab": {
     "base_uri": "https://localhost:8080/",
     "height": 447
    },
    "id": "c6476303-cd04-46e3-8afe-e58de8cdddce",
    "outputId": "4c91d7dd-1322-4996-e2d6-3ebc640d99c1"
   },
   "outputs": [
    {
     "data": {
      "text/plain": [
       "[<matplotlib.lines.Line2D at 0x405c7a3400>]"
      ]
     },
     "execution_count": 241,
     "metadata": {},
     "output_type": "execute_result"
    },
    {
     "data": {
      "image/png": "[encoded data removed]",
      "text/plain": [
       "<Figure size 432x288 with 1 Axes>"
      ]
     },
     "metadata": {
      "needs_background": "light"
     },
     "output_type": "display_data"
    }
   ],
   "source": [
    "y = stats.norm.pdf(x)\n",
    "plt.plot(x, y)"
   ]
  },
  {
   "cell_type": "markdown",
   "id": "4ab7179d-f2de-4810-bdd3-96e262367599",
   "metadata": {
    "id": "4ab7179d-f2de-4810-bdd3-96e262367599"
   },
   "source": [
    "#　カーネル密度推定"
   ]
  },
  {
   "cell_type": "code",
   "execution_count": 242,
   "id": "7353a137-2875-4dee-b065-db5dc0d737d4",
   "metadata": {
    "colab": {
     "base_uri": "https://localhost:8080/",
     "height": 447
    },
    "id": "7353a137-2875-4dee-b065-db5dc0d737d4",
    "outputId": "6491e24f-f81e-484b-cea2-314289d0e2d9"
   },
   "outputs": [
    {
     "data": {
      "text/plain": [
       "[<matplotlib.lines.Line2D at 0x405cef0c70>]"
      ]
     },
     "execution_count": 242,
     "metadata": {},
     "output_type": "execute_result"
    },
    {
     "data": {
      "image/png": "[encoded data removed]",
      "text/plain": [
       "<Figure size 432x288 with 1 Axes>"
      ]
     },
     "metadata": {
      "needs_background": "light"
     },
     "output_type": "display_data"
    }
   ],
   "source": [
    "x = np.linspace(-3, 10, 100)\n",
    "y = stats.gaussian_kde([1, 1, 2, 2, 3, 4, 5]).pdf(x)\n",
    "plt.plot(x, y)"
   ]
  },
  {
   "cell_type": "code",
   "execution_count": 243,
   "id": "13f31c1b-da84-4f43-83c2-b75f472727bf",
   "metadata": {
    "colab": {
     "base_uri": "https://localhost:8080/",
     "height": 524
    },
    "id": "13f31c1b-da84-4f43-83c2-b75f472727bf",
    "outputId": "67376a72-3402-4cb8-cb48-62329d8e5db9"
   },
   "outputs": [
    {
     "data": {
      "text/plain": [
       "<seaborn.axisgrid.FacetGrid at 0x405d1657c0>"
      ]
     },
     "execution_count": 243,
     "metadata": {},
     "output_type": "execute_result"
    },
    {
     "data": {
      "image/png": "[encoded data removed]",
      "text/plain": [
       "<Figure size 360x360 with 1 Axes>"
      ]
     },
     "metadata": {
      "needs_background": "light"
     },
     "output_type": "display_data"
    }
   ],
   "source": [
    "sns.displot(df['tip'], kde=True)"
   ]
  },
  {
   "cell_type": "code",
   "execution_count": 244,
   "id": "e40d9fd8-87ff-4258-b0b2-b8b3b4e8ed6d",
   "metadata": {
    "id": "e40d9fd8-87ff-4258-b0b2-b8b3b4e8ed6d"
   },
   "outputs": [],
   "source": [
    "resample_data = stats.gaussian_kde(df['tip']).resample()"
   ]
  },
  {
   "cell_type": "code",
   "execution_count": 245,
   "id": "a7dad96b-7c7c-490c-8e46-959541d914e4",
   "metadata": {
    "colab": {
     "base_uri": "https://localhost:8080/"
    },
    "id": "a7dad96b-7c7c-490c-8e46-959541d914e4",
    "outputId": "8166747a-458a-4032-deac-724b04d714ba"
   },
   "outputs": [
    {
     "data": {
      "text/plain": [
       "(1, 244)"
      ]
     },
     "execution_count": 245,
     "metadata": {},
     "output_type": "execute_result"
    }
   ],
   "source": [
    "resample_data.shape"
   ]
  },
  {
   "cell_type": "markdown",
   "id": "17a6e3f7-cc52-49bb-8d39-74b00c15fec5",
   "metadata": {
    "id": "17a6e3f7-cc52-49bb-8d39-74b00c15fec5"
   },
   "source": [
    "# Chalenge"
   ]
  },
  {
   "cell_type": "code",
   "execution_count": 246,
   "id": "1c0f6cac-9086-4615-9a3f-1df0d3bd8268",
   "metadata": {
    "colab": {
     "base_uri": "https://localhost:8080/",
     "height": 447
    },
    "id": "1c0f6cac-9086-4615-9a3f-1df0d3bd8268",
    "outputId": "b7e9b085-bad7-4235-ba85-4e4494372d39"
   },
   "outputs": [
    {
     "data": {
      "text/plain": [
       "[<matplotlib.lines.Line2D at 0x405d779a30>]"
      ]
     },
     "execution_count": 246,
     "metadata": {},
     "output_type": "execute_result"
    },
    {
     "data": {
      "image/png": "[encoded data removed]",
      "text/plain": [
       "<Figure size 432x288 with 1 Axes>"
      ]
     },
     "metadata": {
      "needs_background": "light"
     },
     "output_type": "display_data"
    }
   ],
   "source": [
    "x = np.linspace(-5, 15, 1000)\n",
    "y = stats.norm(loc=4, scale=3).pdf(x)\n",
    "plt.plot(x, y)"
   ]
  },
  {
   "cell_type": "code",
   "execution_count": 247,
   "id": "18286c59-8df4-4fb6-870a-e3f05dd82973",
   "metadata": {
    "colab": {
     "base_uri": "https://localhost:8080/"
    },
    "id": "18286c59-8df4-4fb6-870a-e3f05dd82973",
    "outputId": "5f15ebc6-b0ac-487a-9247-64c7380150dd"
   },
   "outputs": [
    {
     "data": {
      "text/plain": [
       "5.000000000000001"
      ]
     },
     "execution_count": 247,
     "metadata": {},
     "output_type": "execute_result"
    }
   ],
   "source": [
    "x_mean = x.mean()\n",
    "x_mean"
   ]
  },
  {
   "cell_type": "code",
   "execution_count": 248,
   "id": "ea7cdc40-fd5c-4a0f-b93c-b301f2aa7ad9",
   "metadata": {
    "colab": {
     "base_uri": "https://localhost:8080/"
    },
    "id": "ea7cdc40-fd5c-4a0f-b93c-b301f2aa7ad9",
    "outputId": "be165b0d-4622-4e0f-8440-ae5ca5aaef3c"
   },
   "outputs": [
    {
     "data": {
      "text/plain": [
       "5.779279084228419"
      ]
     },
     "execution_count": 248,
     "metadata": {},
     "output_type": "execute_result"
    }
   ],
   "source": [
    "x_std = x.std()\n",
    "x_std"
   ]
  },
  {
   "cell_type": "code",
   "execution_count": 249,
   "id": "5462db28-ca5a-4a29-bce2-f3ed586443f3",
   "metadata": {
    "colab": {
     "base_uri": "https://localhost:8080/"
    },
    "id": "5462db28-ca5a-4a29-bce2-f3ed586443f3",
    "outputId": "571f05b4-fed7-4f7a-b40d-86f537c4230d"
   },
   "outputs": [
    {
     "data": {
      "text/plain": [
       "10.77927908422842"
      ]
     },
     "execution_count": 249,
     "metadata": {},
     "output_type": "execute_result"
    }
   ],
   "source": [
    "x_mean + x_std"
   ]
  },
  {
   "cell_type": "code",
   "execution_count": 250,
   "id": "22f1af96-724c-4800-9891-753567e7b0ba",
   "metadata": {
    "colab": {
     "base_uri": "https://localhost:8080/"
    },
    "id": "22f1af96-724c-4800-9891-753567e7b0ba",
    "outputId": "807607b2-0957-4298-8c10-024af15a6699"
   },
   "outputs": [
    {
     "data": {
      "text/plain": [
       "-0.7792790842284179"
      ]
     },
     "execution_count": 250,
     "metadata": {},
     "output_type": "execute_result"
    }
   ],
   "source": [
    "x_mean - x_std"
   ]
  },
  {
   "cell_type": "code",
   "execution_count": 251,
   "id": "f935fe11-5fb4-4486-bbb0-dd2b50a57e36",
   "metadata": {
    "colab": {
     "base_uri": "https://localhost:8080/"
    },
    "id": "f935fe11-5fb4-4486-bbb0-dd2b50a57e36",
    "outputId": "7e8eee33-4d06-4d95-feb0-8b5582186a3a"
   },
   "outputs": [
    {
     "data": {
      "text/plain": [
       "16.558558168456837"
      ]
     },
     "execution_count": 251,
     "metadata": {},
     "output_type": "execute_result"
    }
   ],
   "source": [
    "x_mean + 2*x_std"
   ]
  },
  {
   "cell_type": "code",
   "execution_count": 252,
   "id": "95f6635a-d5fc-4a32-b20b-2ea5b92acd29",
   "metadata": {
    "colab": {
     "base_uri": "https://localhost:8080/"
    },
    "id": "95f6635a-d5fc-4a32-b20b-2ea5b92acd29",
    "outputId": "4482445a-b4a4-4a58-8d59-4c98af290f7f"
   },
   "outputs": [
    {
     "data": {
      "text/plain": [
       "-6.558558168456837"
      ]
     },
     "execution_count": 252,
     "metadata": {},
     "output_type": "execute_result"
    }
   ],
   "source": [
    "x_mean - 2*x_std"
   ]
  },
  {
   "cell_type": "markdown",
   "id": "03c1ad73-4762-48a0-8169-235a5d9a60b8",
   "metadata": {
    "id": "03c1ad73-4762-48a0-8169-235a5d9a60b8"
   },
   "source": [
    "# 68-95-99.7ルール"
   ]
  },
  {
   "cell_type": "code",
   "execution_count": 253,
   "id": "5cd5bdba-655d-4a96-bad6-1be201a47f5c",
   "metadata": {
    "id": "5cd5bdba-655d-4a96-bad6-1be201a47f5c"
   },
   "outputs": [],
   "source": [
    "group1 = []\n",
    "group2 = []\n",
    "group3 = []\n",
    "samples = []\n",
    "\n",
    "loc = 4\n",
    "scale = 3\n",
    "\n",
    "for i in range(1000):\n",
    "    sample = stats.norm(loc=loc, scale=scale).rvs()\n",
    "    if loc-scale < sample < loc+scale:\n",
    "        group1.append(sample)\n",
    "    elif loc-2*scale < sample < loc+2*scale:\n",
    "        group2.append(sample)\n",
    "    elif loc-3*scale < sample < loc+3*scale:\n",
    "        group3.append(sample)\n",
    "    samples.append(sample)"
   ]
  },
  {
   "cell_type": "code",
   "execution_count": 254,
   "id": "ab4db125-c004-43b6-bdfe-2903ccca95a1",
   "metadata": {
    "colab": {
     "base_uri": "https://localhost:8080/"
    },
    "id": "ab4db125-c004-43b6-bdfe-2903ccca95a1",
    "outputId": "190a1eb9-b337-4506-a615-0813d0721885"
   },
   "outputs": [
    {
     "data": {
      "text/plain": [
       "0.694"
      ]
     },
     "execution_count": 254,
     "metadata": {},
     "output_type": "execute_result"
    }
   ],
   "source": [
    "len(group1)/len(samples)"
   ]
  },
  {
   "cell_type": "code",
   "execution_count": 255,
   "id": "979ef524-891b-4be2-b4a3-5954ad8881d4",
   "metadata": {
    "colab": {
     "base_uri": "https://localhost:8080/"
    },
    "id": "979ef524-891b-4be2-b4a3-5954ad8881d4",
    "outputId": "cf290d38-6d3a-43dc-ad39-aae31370f07f"
   },
   "outputs": [
    {
     "name": "stdout",
     "output_type": "stream",
     "text": [
      "Group1: 0.694\n",
      "Group2: 0.95\n",
      "Group3: 0.996\n"
     ]
    }
   ],
   "source": [
    "print(f'Group1: {len(group1)/len(samples)}')\n",
    "print(f'Group2: {(len(group1) + len(group2))/len(samples)}')\n",
    "print(f'Group3: {(len(group1) + len(group2) + len(group3))/len(samples)}')"
   ]
  },
  {
   "cell_type": "markdown",
   "id": "e7899b35-25cb-4c8b-b88d-8ae4c9e7f6d2",
   "metadata": {
    "id": "e7899b35-25cb-4c8b-b88d-8ae4c9e7f6d2"
   },
   "source": [
    "#　標準化"
   ]
  },
  {
   "cell_type": "code",
   "execution_count": 256,
   "id": "67c5172e-da0b-4de6-ba9f-79220ad081fc",
   "metadata": {
    "id": "67c5172e-da0b-4de6-ba9f-79220ad081fc"
   },
   "outputs": [],
   "source": [
    "scaler = StandardScaler()"
   ]
  },
  {
   "cell_type": "code",
   "execution_count": 257,
   "id": "3546fe25-e48c-46f7-b956-7adffc13e873",
   "metadata": {
    "id": "3546fe25-e48c-46f7-b956-7adffc13e873"
   },
   "outputs": [],
   "source": [
    "scaled = scaler.fit_transform(df['tip_rate'].values.reshape(-1, 1))"
   ]
  },
  {
   "cell_type": "markdown",
   "id": "31d03529-8ab7-4065-ba91-774eeb98738f",
   "metadata": {
    "id": "31d03529-8ab7-4065-ba91-774eeb98738f"
   },
   "source": [
    "## 偏差値"
   ]
  },
  {
   "cell_type": "code",
   "execution_count": 258,
   "id": "59d8cc5e-8fff-43eb-8744-7870e4f81d35",
   "metadata": {
    "id": "59d8cc5e-8fff-43eb-8744-7870e4f81d35"
   },
   "outputs": [],
   "source": [
    "# scaled * 10 + 50"
   ]
  },
  {
   "cell_type": "code",
   "execution_count": 259,
   "id": "e8ac7cbd-9abe-46c1-8bbd-205fcdc3ff3d",
   "metadata": {
    "id": "e8ac7cbd-9abe-46c1-8bbd-205fcdc3ff3d"
   },
   "outputs": [],
   "source": [
    "# scaler.fit_transform(df[['total_bill', 'tip_rate']])"
   ]
  },
  {
   "cell_type": "markdown",
   "id": "a09b155f-aedb-457e-84e5-329e65526573",
   "metadata": {
    "id": "a09b155f-aedb-457e-84e5-329e65526573"
   },
   "source": [
    "# 二項分布"
   ]
  },
  {
   "cell_type": "code",
   "execution_count": 260,
   "id": "4699a9b1-6b74-4397-8cab-b80ac36c6f76",
   "metadata": {
    "colab": {
     "base_uri": "https://localhost:8080/",
     "height": 448
    },
    "id": "4699a9b1-6b74-4397-8cab-b80ac36c6f76",
    "outputId": "f5c7aa71-c666-40ec-b8ec-cd46342dbebf"
   },
   "outputs": [
    {
     "data": {
      "text/plain": [
       "<matplotlib.collections.LineCollection at 0x405c898580>"
      ]
     },
     "execution_count": 260,
     "metadata": {},
     "output_type": "execute_result"
    },
    {
     "data": {
      "image/png": "[encoded data removed]",
      "text/plain": [
       "<Figure size 432x288 with 1 Axes>"
      ]
     },
     "metadata": {
      "needs_background": "light"
     },
     "output_type": "display_data"
    }
   ],
   "source": [
    "n = 3\n",
    "x = np.arange(n+1)\n",
    "y = stats.binom(n=n, p=1/6).pmf(x)\n",
    "plt.plot(x, y, 'o')\n",
    "plt.vlines(x, 0, y)"
   ]
  },
  {
   "cell_type": "code",
   "execution_count": 261,
   "id": "a6c73c36-0965-4866-8bfc-747c4c6623ae",
   "metadata": {
    "colab": {
     "base_uri": "https://localhost:8080/"
    },
    "id": "a6c73c36-0965-4866-8bfc-747c4c6623ae",
    "outputId": "6e860568-1e0e-4b45-a897-e63c4167ed14"
   },
   "outputs": [
    {
     "data": {
      "text/plain": [
       "array([0, 1, 2, 3])"
      ]
     },
     "execution_count": 261,
     "metadata": {},
     "output_type": "execute_result"
    }
   ],
   "source": [
    "x"
   ]
  },
  {
   "cell_type": "code",
   "execution_count": 262,
   "id": "7746e719-c40b-4aa0-9017-b00725fba32e",
   "metadata": {
    "colab": {
     "base_uri": "https://localhost:8080/"
    },
    "id": "7746e719-c40b-4aa0-9017-b00725fba32e",
    "outputId": "670a7b30-211f-41ed-9e2b-5eb378e6d79b"
   },
   "outputs": [
    {
     "data": {
      "text/plain": [
       "array([0.5787037 , 0.34722222, 0.06944444, 0.00462963])"
      ]
     },
     "execution_count": 262,
     "metadata": {},
     "output_type": "execute_result"
    }
   ],
   "source": [
    "y"
   ]
  },
  {
   "cell_type": "markdown",
   "id": "45a275d6-8f9d-4346-a137-844749360c1f",
   "metadata": {
    "id": "45a275d6-8f9d-4346-a137-844749360c1f"
   },
   "source": [
    "## 練習問題"
   ]
  },
  {
   "cell_type": "code",
   "execution_count": 263,
   "id": "11b3be93-82e8-4c3c-9a4d-5e0f5b9a60d0",
   "metadata": {
    "colab": {
     "base_uri": "https://localhost:8080/",
     "height": 447
    },
    "id": "11b3be93-82e8-4c3c-9a4d-5e0f5b9a60d0",
    "outputId": "8e2870a1-493b-4ad3-bf02-fe05d7880ce4"
   },
   "outputs": [
    {
     "data": {
      "text/plain": [
       "<matplotlib.collections.LineCollection at 0x405da72100>"
      ]
     },
     "execution_count": 263,
     "metadata": {},
     "output_type": "execute_result"
    },
    {
     "data": {
      "image/png": "[encoded data removed]",
      "text/plain": [
       "<Figure size 432x288 with 1 Axes>"
      ]
     },
     "metadata": {
      "needs_background": "light"
     },
     "output_type": "display_data"
    }
   ],
   "source": [
    "n = 100\n",
    "p = 1/6\n",
    "x = np.arange(n+1)\n",
    "y = stats.binom(n=n, p=p).pmf(x)\n",
    "plt.plot(x, y, 'o')\n",
    "plt.vlines(x, 0, y)"
   ]
  },
  {
   "cell_type": "code",
   "execution_count": 264,
   "id": "311f1615-c56a-4d24-b4b7-7292a20c76cd",
   "metadata": {
    "colab": {
     "base_uri": "https://localhost:8080/",
     "height": 447
    },
    "id": "311f1615-c56a-4d24-b4b7-7292a20c76cd",
    "outputId": "6b287e38-cf70-498f-9bdf-470f7b0ff898"
   },
   "outputs": [
    {
     "data": {
      "text/plain": [
       "[<matplotlib.lines.Line2D at 0x405ce44a60>]"
      ]
     },
     "execution_count": 264,
     "metadata": {},
     "output_type": "execute_result"
    },
    {
     "data": {
      "image/png": "[encoded data removed]",
      "text/plain": [
       "<Figure size 432x288 with 1 Axes>"
      ]
     },
     "metadata": {
      "needs_background": "light"
     },
     "output_type": "display_data"
    }
   ],
   "source": [
    "y2 = stats.norm(p*n, np.sqrt(n*p*(1-p))).pdf(x)\n",
    "plt.plot(x, y2)\n",
    "plt.plot(x, y, 'o')"
   ]
  },
  {
   "cell_type": "code",
   "execution_count": 265,
   "id": "4e4139e5-81bf-4d8f-9173-1715ced0c985",
   "metadata": {
    "colab": {
     "base_uri": "https://localhost:8080/"
    },
    "id": "4e4139e5-81bf-4d8f-9173-1715ced0c985",
    "outputId": "30199e10-4dd9-4e73-e86e-bd69826cbee5"
   },
   "outputs": [
    {
     "data": {
      "text/plain": [
       "16.666666666666664"
      ]
     },
     "execution_count": 265,
     "metadata": {},
     "output_type": "execute_result"
    }
   ],
   "source": [
    "p * n"
   ]
  },
  {
   "cell_type": "code",
   "execution_count": 266,
   "id": "ba1f28c8-1a8b-430e-85fa-bb650de5b3a2",
   "metadata": {
    "colab": {
     "base_uri": "https://localhost:8080/"
    },
    "id": "ba1f28c8-1a8b-430e-85fa-bb650de5b3a2",
    "outputId": "75f452f2-177b-4b4b-c8bd-1db259ac0693"
   },
   "outputs": [
    {
     "data": {
      "text/plain": [
       "16.666666666666664"
      ]
     },
     "execution_count": 266,
     "metadata": {},
     "output_type": "execute_result"
    }
   ],
   "source": [
    "# 平均\n",
    "stats.binom(n=n, p=p).mean()"
   ]
  },
  {
   "cell_type": "code",
   "execution_count": 267,
   "id": "5cb3aa28-f98e-457f-a735-51bec83b562f",
   "metadata": {
    "colab": {
     "base_uri": "https://localhost:8080/"
    },
    "id": "5cb3aa28-f98e-457f-a735-51bec83b562f",
    "outputId": "801fb3ce-67fa-4331-a10f-136f0ce90a48"
   },
   "outputs": [
    {
     "data": {
      "text/plain": [
       "13.888888888888888"
      ]
     },
     "execution_count": 267,
     "metadata": {},
     "output_type": "execute_result"
    }
   ],
   "source": [
    "# 分散\n",
    "stats.binom(n, p).var()"
   ]
  },
  {
   "cell_type": "code",
   "execution_count": 268,
   "id": "3228f74c-6199-4a18-8917-c988a10d120c",
   "metadata": {
    "colab": {
     "base_uri": "https://localhost:8080/"
    },
    "id": "3228f74c-6199-4a18-8917-c988a10d120c",
    "outputId": "790cc2f2-2812-480a-f2de-a43d3ec493ae"
   },
   "outputs": [
    {
     "data": {
      "text/plain": [
       "13.888888888888888"
      ]
     },
     "execution_count": 268,
     "metadata": {},
     "output_type": "execute_result"
    }
   ],
   "source": [
    "p*n*(1-p)"
   ]
  },
  {
   "cell_type": "code",
   "execution_count": 269,
   "id": "85187aa5-81a2-42f2-8777-216b706d714d",
   "metadata": {
    "colab": {
     "base_uri": "https://localhost:8080/"
    },
    "id": "85187aa5-81a2-42f2-8777-216b706d714d",
    "outputId": "70a0d4da-46a1-49ef-86ba-404250a3cc91"
   },
   "outputs": [
    {
     "data": {
      "text/plain": [
       "3.7267799624996494"
      ]
     },
     "execution_count": 269,
     "metadata": {},
     "output_type": "execute_result"
    }
   ],
   "source": [
    "# 標準偏差\n",
    "stats.binom(n, p).std()"
   ]
  },
  {
   "cell_type": "code",
   "execution_count": 270,
   "id": "60604387-8242-4eef-96d0-b0f3d9b38448",
   "metadata": {
    "colab": {
     "base_uri": "https://localhost:8080/"
    },
    "id": "60604387-8242-4eef-96d0-b0f3d9b38448",
    "outputId": "7414a657-519f-4949-a0bd-5daa5cb09680"
   },
   "outputs": [
    {
     "data": {
      "text/plain": [
       "3.7267799624996494"
      ]
     },
     "execution_count": 270,
     "metadata": {},
     "output_type": "execute_result"
    }
   ],
   "source": [
    "np.sqrt(p*n*(1-p))"
   ]
  },
  {
   "cell_type": "markdown",
   "id": "e6e3c80c-fed1-411a-8ea2-2f0f62debf9e",
   "metadata": {},
   "source": [
    "## 二項分布復習"
   ]
  },
  {
   "cell_type": "code",
   "execution_count": 271,
   "id": "bedcaa35-eef5-4155-953d-a286c64fb29d",
   "metadata": {},
   "outputs": [],
   "source": [
    "n = 3\n",
    "x = np.arange(n+1)\n",
    "y = stats.binom(n=n, p=1/6).pmf(x)"
   ]
  },
  {
   "cell_type": "code",
   "execution_count": 272,
   "id": "414339dd-b76c-4b4f-bc95-81a549f277cc",
   "metadata": {},
   "outputs": [
    {
     "data": {
      "text/plain": [
       "array([0, 1, 2, 3])"
      ]
     },
     "execution_count": 272,
     "metadata": {},
     "output_type": "execute_result"
    }
   ],
   "source": [
    "# 出る回数をXとする\n",
    "x"
   ]
  },
  {
   "cell_type": "code",
   "execution_count": 273,
   "id": "1c58592e-5913-40c8-9480-b682115fc78b",
   "metadata": {},
   "outputs": [
    {
     "data": {
      "text/plain": [
       "array([0.5787037 , 0.34722222, 0.06944444, 0.00462963])"
      ]
     },
     "execution_count": 273,
     "metadata": {},
     "output_type": "execute_result"
    }
   ],
   "source": [
    "# 出る回数に対しての確率をYとする\n",
    "y"
   ]
  },
  {
   "cell_type": "code",
   "execution_count": 274,
   "id": "ee2eb19f-11a4-4c79-a888-5848a54259ed",
   "metadata": {},
   "outputs": [
    {
     "data": {
      "text/plain": [
       "<matplotlib.collections.LineCollection at 0x40603ee640>"
      ]
     },
     "execution_count": 274,
     "metadata": {},
     "output_type": "execute_result"
    },
    {
     "data": {
      "image/png": "[encoded data removed]",
      "text/plain": [
       "<Figure size 432x288 with 1 Axes>"
      ]
     },
     "metadata": {
      "needs_background": "light"
     },
     "output_type": "display_data"
    }
   ],
   "source": [
    "plt.plot(x,y, 'o')\n",
    "plt.vlines(x, 0, y)"
   ]
  },
  {
   "cell_type": "markdown",
   "id": "d048d6c8-d43f-4345-a6f8-34d087a2c4e2",
   "metadata": {
    "id": "d048d6c8-d43f-4345-a6f8-34d087a2c4e2"
   },
   "source": [
    "#　標本分布を見てみよう（Chalenge）"
   ]
  },
  {
   "cell_type": "code",
   "execution_count": 275,
   "id": "ba9a098a-698a-44f6-8a4f-fb645c38faca",
   "metadata": {
    "colab": {
     "base_uri": "https://localhost:8080/"
    },
    "id": "ba9a098a-698a-44f6-8a4f-fb645c38faca",
    "outputId": "29a92175-aed7-4f7a-969a-ba22dd0d02b2"
   },
   "outputs": [
    {
     "data": {
      "text/plain": [
       "50"
      ]
     },
     "execution_count": 275,
     "metadata": {},
     "output_type": "execute_result"
    }
   ],
   "source": [
    "len(df['tip'].sample(50))"
   ]
  },
  {
   "cell_type": "code",
   "execution_count": 276,
   "id": "17eaaecf-ccfd-4469-9ec9-d710a8b91c24",
   "metadata": {
    "id": "17eaaecf-ccfd-4469-9ec9-d710a8b91c24"
   },
   "outputs": [],
   "source": [
    "# n = 50\n",
    "# for i in range(100):\n",
    "#     sample_df = df['tip'].sample(n)\n",
    "#     print(f'---sample_df:{i}---')\n",
    "#     print(f'df_mean{sample_df.mean()}')\n",
    "#     print(f'df_var{sample_df.var()}')"
   ]
  },
  {
   "cell_type": "code",
   "execution_count": 277,
   "id": "b5322391-58eb-401a-88c6-064fe62b513d",
   "metadata": {
    "colab": {
     "base_uri": "https://localhost:8080/"
    },
    "id": "b5322391-58eb-401a-88c6-064fe62b513d",
    "outputId": "340ab67e-6e65-413e-8237-8d2fe638e09b"
   },
   "outputs": [
    {
     "name": "stdout",
     "output_type": "stream",
     "text": [
      "2.9982786885245902\n",
      "1.9144546380624725\n"
     ]
    }
   ],
   "source": [
    "print(df['tip'].mean())\n",
    "print(df['tip'].var())"
   ]
  },
  {
   "cell_type": "code",
   "execution_count": 278,
   "id": "9e60ac4a-2495-46bf-9a2d-8e100a0c2c7c",
   "metadata": {
    "id": "9e60ac4a-2495-46bf-9a2d-8e100a0c2c7c"
   },
   "outputs": [],
   "source": [
    "m = 100\n",
    "n = 50\n",
    "column = 'tip'\n",
    "\n",
    "sample_means = []\n",
    "for i in range(m):\n",
    "    sample_df = df.sample(n)\n",
    "    sample_mean = sample_df[column].mean()\n",
    "    sample_means.append(sample_mean)"
   ]
  },
  {
   "cell_type": "code",
   "execution_count": 279,
   "id": "54d9dbb7-0e97-4199-b856-30052ae22540",
   "metadata": {
    "colab": {
     "base_uri": "https://localhost:8080/"
    },
    "id": "54d9dbb7-0e97-4199-b856-30052ae22540",
    "outputId": "fb546048-5fee-4cad-8ebb-853d1d584024"
   },
   "outputs": [
    {
     "data": {
      "text/plain": [
       "2.9846640000000004"
      ]
     },
     "execution_count": 279,
     "metadata": {},
     "output_type": "execute_result"
    }
   ],
   "source": [
    "# 平均\n",
    "np.mean(sample_means)"
   ]
  },
  {
   "cell_type": "code",
   "execution_count": 280,
   "id": "1e44f3bd-861f-42cb-a0e1-067beff3f317",
   "metadata": {
    "colab": {
     "base_uri": "https://localhost:8080/"
    },
    "id": "1e44f3bd-861f-42cb-a0e1-067beff3f317",
    "outputId": "ea2e38a1-5074-4901-df9a-80f308cbc6a9"
   },
   "outputs": [
    {
     "data": {
      "text/plain": [
       "2.9982786885245902"
      ]
     },
     "execution_count": 280,
     "metadata": {},
     "output_type": "execute_result"
    }
   ],
   "source": [
    "# 母平均\n",
    "df[column].mean()"
   ]
  },
  {
   "cell_type": "code",
   "execution_count": 281,
   "id": "9e87a104-1b00-4624-8dd4-50a7e569cb03",
   "metadata": {
    "colab": {
     "base_uri": "https://localhost:8080/"
    },
    "id": "9e87a104-1b00-4624-8dd4-50a7e569cb03",
    "outputId": "0306f8a1-6914-4417-d2ff-9895ab6c6f1c"
   },
   "outputs": [
    {
     "data": {
      "text/plain": [
       "0.022835419104000013"
      ]
     },
     "execution_count": 281,
     "metadata": {},
     "output_type": "execute_result"
    }
   ],
   "source": [
    "# 分散\n",
    "np.var(sample_means)"
   ]
  },
  {
   "cell_type": "code",
   "execution_count": 282,
   "id": "5681f48f-3fe7-4cf0-8460-005d3428a77b",
   "metadata": {
    "colab": {
     "base_uri": "https://localhost:8080/"
    },
    "id": "5681f48f-3fe7-4cf0-8460-005d3428a77b",
    "outputId": "bf6371dd-f5b1-4f8c-f790-c1cafe6aedc4"
   },
   "outputs": [
    {
     "data": {
      "text/plain": [
       "0.03813217024993285"
      ]
     },
     "execution_count": 282,
     "metadata": {},
     "output_type": "execute_result"
    }
   ],
   "source": [
    "# 母分散/n\n",
    "np.var(df[column])/n"
   ]
  },
  {
   "cell_type": "code",
   "execution_count": 283,
   "id": "ef0b11e2-2cb5-4f8f-8fa2-9b48124101d8",
   "metadata": {
    "colab": {
     "base_uri": "https://localhost:8080/",
     "height": 524
    },
    "id": "ef0b11e2-2cb5-4f8f-8fa2-9b48124101d8",
    "outputId": "e7c8599e-dec3-4975-a364-8e2920b8d792"
   },
   "outputs": [
    {
     "data": {
      "text/plain": [
       "<seaborn.axisgrid.FacetGrid at 0x406040ad90>"
      ]
     },
     "execution_count": 283,
     "metadata": {},
     "output_type": "execute_result"
    },
    {
     "data": {
      "image/png": "[encoded data removed]",
      "text/plain": [
       "<Figure size 360x360 with 1 Axes>"
      ]
     },
     "metadata": {
      "needs_background": "light"
     },
     "output_type": "display_data"
    }
   ],
   "source": [
    "sns.displot(df[column])"
   ]
  },
  {
   "cell_type": "code",
   "execution_count": 284,
   "id": "cf7d59e7-de0a-4d15-8da7-ca62dd94865b",
   "metadata": {
    "colab": {
     "base_uri": "https://localhost:8080/",
     "height": 523
    },
    "id": "cf7d59e7-de0a-4d15-8da7-ca62dd94865b",
    "outputId": "a073d480-9439-42dd-cb1a-b8b46965866d"
   },
   "outputs": [
    {
     "data": {
      "text/plain": [
       "<seaborn.axisgrid.FacetGrid at 0x40603fe4c0>"
      ]
     },
     "execution_count": 284,
     "metadata": {},
     "output_type": "execute_result"
    },
    {
     "data": {
      "image/png": "[encoded data removed]",
      "text/plain": [
       "<Figure size 360x360 with 1 Axes>"
      ]
     },
     "metadata": {
      "needs_background": "light"
     },
     "output_type": "display_data"
    }
   ],
   "source": [
    "sns.displot(sample_means)"
   ]
  },
  {
   "cell_type": "markdown",
   "id": "b9ddcf4f-f589-463e-926c-8eb0fa73cc77",
   "metadata": {
    "id": "b9ddcf4f-f589-463e-926c-8eb0fa73cc77"
   },
   "source": [
    "# 不偏分散"
   ]
  },
  {
   "cell_type": "code",
   "execution_count": 285,
   "id": "41bd256d-2605-426b-88bc-6a341525d430",
   "metadata": {
    "colab": {
     "base_uri": "https://localhost:8080/"
    },
    "id": "41bd256d-2605-426b-88bc-6a341525d430",
    "outputId": "1a327a72-be07-4af9-c0b2-692950972a6e"
   },
   "outputs": [
    {
     "data": {
      "text/plain": [
       "1.914454638062471"
      ]
     },
     "execution_count": 285,
     "metadata": {},
     "output_type": "execute_result"
    }
   ],
   "source": [
    "stats.tvar(df['tip'])"
   ]
  },
  {
   "cell_type": "code",
   "execution_count": 286,
   "id": "4ad9dabe-2cba-4baa-ba9e-3297854b1974",
   "metadata": {
    "colab": {
     "base_uri": "https://localhost:8080/"
    },
    "id": "4ad9dabe-2cba-4baa-ba9e-3297854b1974",
    "outputId": "30b979a6-4cbd-404d-dedc-af1fbf5d4af9"
   },
   "outputs": [
    {
     "data": {
      "text/plain": [
       "1.9144546380624725"
      ]
     },
     "execution_count": 286,
     "metadata": {},
     "output_type": "execute_result"
    }
   ],
   "source": [
    "np.var(df['tip'], ddof=1)"
   ]
  },
  {
   "cell_type": "markdown",
   "id": "30f9f69d-9e7c-40aa-8a31-cfed6a51f921",
   "metadata": {
    "id": "30f9f69d-9e7c-40aa-8a31-cfed6a51f921"
   },
   "source": [
    "# 不偏分散の平方根"
   ]
  },
  {
   "cell_type": "code",
   "execution_count": 287,
   "id": "8641ed25-f64e-43d8-be77-a2a214f80826",
   "metadata": {
    "colab": {
     "base_uri": "https://localhost:8080/"
    },
    "id": "8641ed25-f64e-43d8-be77-a2a214f80826",
    "outputId": "d4a818f3-dcbe-4b7f-ef26-1749285516c4"
   },
   "outputs": [
    {
     "data": {
      "text/plain": [
       "1.3836381890011822"
      ]
     },
     "execution_count": 287,
     "metadata": {},
     "output_type": "execute_result"
    }
   ],
   "source": [
    "np.sqrt(stats.tvar(df['tip']))"
   ]
  },
  {
   "cell_type": "code",
   "execution_count": 288,
   "id": "53c4e68a-e836-4bd6-9350-56fa8359a33d",
   "metadata": {
    "colab": {
     "base_uri": "https://localhost:8080/"
    },
    "id": "53c4e68a-e836-4bd6-9350-56fa8359a33d",
    "outputId": "2b3eb333-e26a-4aea-a34b-ba9907405825"
   },
   "outputs": [
    {
     "data": {
      "text/plain": [
       "1.3836381890011822"
      ]
     },
     "execution_count": 288,
     "metadata": {},
     "output_type": "execute_result"
    }
   ],
   "source": [
    "stats.tstd(df['tip'])"
   ]
  },
  {
   "cell_type": "code",
   "execution_count": 289,
   "id": "a90ac5aa-286d-4a1b-bce1-397c23e7f9d3",
   "metadata": {
    "colab": {
     "base_uri": "https://localhost:8080/"
    },
    "id": "a90ac5aa-286d-4a1b-bce1-397c23e7f9d3",
    "outputId": "a35c41dc-64fd-4ccf-a4f3-cff8132c0f78"
   },
   "outputs": [
    {
     "data": {
      "text/plain": [
       "1.3836381890011826"
      ]
     },
     "execution_count": 289,
     "metadata": {},
     "output_type": "execute_result"
    }
   ],
   "source": [
    "np.std(df['tip'], ddof=1)"
   ]
  },
  {
   "cell_type": "markdown",
   "id": "bd15996e-acef-447f-b858-333a15632de9",
   "metadata": {
    "id": "bd15996e-acef-447f-b858-333a15632de9"
   },
   "source": [
    "## Chalenge問題"
   ]
  },
  {
   "cell_type": "code",
   "execution_count": 290,
   "id": "2ab1a7b9-e630-4599-8313-24d9809c3232",
   "metadata": {
    "id": "2ab1a7b9-e630-4599-8313-24d9809c3232"
   },
   "outputs": [],
   "source": [
    "m = 100\n",
    "n = 50\n",
    "column = 'tip'\n",
    "\n",
    "sample_vars = []\n",
    "sample_tvars = []\n",
    "for i in range(m):\n",
    "    sample_df = df.sample(n)\n",
    "    sample_var = np.var(sample_df[column])\n",
    "    sample_vars.append(sample_var)\n",
    "    sample_tvar = np.var(sample_df[column], ddof=1)\n",
    "    sample_tvars.append(sample_tvar)"
   ]
  },
  {
   "cell_type": "code",
   "execution_count": 291,
   "id": "f1d0fbd9-73e3-4b87-a066-88362d2a7c02",
   "metadata": {
    "colab": {
     "base_uri": "https://localhost:8080/"
    },
    "id": "f1d0fbd9-73e3-4b87-a066-88362d2a7c02",
    "outputId": "977cbe89-1739-45ec-f8ba-8cadf6852e07"
   },
   "outputs": [
    {
     "data": {
      "text/plain": [
       "1.8721372228000002"
      ]
     },
     "execution_count": 291,
     "metadata": {},
     "output_type": "execute_result"
    }
   ],
   "source": [
    "np.mean(sample_vars)"
   ]
  },
  {
   "cell_type": "code",
   "execution_count": 292,
   "id": "5243203c-8891-4a07-b88e-17410fab04bf",
   "metadata": {
    "colab": {
     "base_uri": "https://localhost:8080/"
    },
    "id": "5243203c-8891-4a07-b88e-17410fab04bf",
    "outputId": "84331296-0b9c-4648-c243-a12221a68136"
   },
   "outputs": [
    {
     "data": {
      "text/plain": [
       "1.9103441048979597"
      ]
     },
     "execution_count": 292,
     "metadata": {},
     "output_type": "execute_result"
    }
   ],
   "source": [
    "np.mean(sample_tvars)"
   ]
  },
  {
   "cell_type": "code",
   "execution_count": 293,
   "id": "5e543bdb-6c44-4fdb-9562-298953034947",
   "metadata": {
    "colab": {
     "base_uri": "https://localhost:8080/"
    },
    "id": "5e543bdb-6c44-4fdb-9562-298953034947",
    "outputId": "bc1af64f-0e01-4bcd-953b-80a0db9573f3"
   },
   "outputs": [
    {
     "data": {
      "text/plain": [
       "1.9066085124966428"
      ]
     },
     "execution_count": 293,
     "metadata": {},
     "output_type": "execute_result"
    }
   ],
   "source": [
    "np.var(df[column])"
   ]
  },
  {
   "cell_type": "markdown",
   "id": "e20db1a7-98c0-4bd3-b4ce-3c5e9514e0d1",
   "metadata": {
    "id": "e20db1a7-98c0-4bd3-b4ce-3c5e9514e0d1"
   },
   "source": [
    "# 比率の区間推定"
   ]
  },
  {
   "cell_type": "code",
   "execution_count": 294,
   "id": "e1ef84da-9ceb-481e-a71f-5fe20b43e874",
   "metadata": {
    "colab": {
     "base_uri": "https://localhost:8080/"
    },
    "id": "e1ef84da-9ceb-481e-a71f-5fe20b43e874",
    "outputId": "3a97600e-7c02-4ed2-f3a9-2d35b83a5cb2"
   },
   "outputs": [
    {
     "data": {
      "text/plain": [
       "(570.0, 630.0)"
      ]
     },
     "execution_count": 294,
     "metadata": {},
     "output_type": "execute_result"
    }
   ],
   "source": [
    "stats.binom.interval(0.95, 1000, 0.6)"
   ]
  },
  {
   "cell_type": "code",
   "execution_count": 295,
   "id": "31869eec-6b80-490a-b8ea-91277167a564",
   "metadata": {
    "colab": {
     "base_uri": "https://localhost:8080/"
    },
    "id": "31869eec-6b80-490a-b8ea-91277167a564",
    "outputId": "d8ab60ab-2ab0-4d6e-ec73-b0fd1c0b6b9d"
   },
   "outputs": [
    {
     "data": {
      "text/plain": [
       "(560.0, 640.0)"
      ]
     },
     "execution_count": 295,
     "metadata": {},
     "output_type": "execute_result"
    }
   ],
   "source": [
    "stats.binom.interval(0.99, 1000, 0.6)"
   ]
  },
  {
   "cell_type": "markdown",
   "id": "990fe7cd-d321-4c2e-a195-e982aea793f1",
   "metadata": {
    "id": "990fe7cd-d321-4c2e-a195-e982aea793f1"
   },
   "source": [
    "## Chalenge"
   ]
  },
  {
   "cell_type": "code",
   "execution_count": 296,
   "id": "0658dd68-7ea3-45a5-b8b8-4ac7f4bafad2",
   "metadata": {
    "id": "0658dd68-7ea3-45a5-b8b8-4ac7f4bafad2"
   },
   "outputs": [],
   "source": [
    "n = 50\n",
    "m = 100\n",
    "alpha = 0.95\n",
    "column = 'sex'\n",
    "rate_target = 'Male'\n",
    "binom_results = []\n",
    "\n",
    "for i in range(m):\n",
    "    sample_df = df.sample(n)\n",
    "    value_counts = sample_df[column].value_counts()\n",
    "    male_count = value_counts[rate_target]\n",
    "    ratio = male_count / n\n",
    "    binom_result = stats.binom.interval(alpha, n, ratio)\n",
    "    binom_results.append(binom_result)"
   ]
  },
  {
   "cell_type": "code",
   "execution_count": 297,
   "id": "ee1403f9-9c01-49f2-b571-cb2a69667ddd",
   "metadata": {
    "id": "ee1403f9-9c01-49f2-b571-cb2a69667ddd"
   },
   "outputs": [],
   "source": [
    "population_male_ratio = len(df[df['sex']=='Male']) / len(df)\n",
    "results = []\n",
    "\n",
    "for _ in range(m):\n",
    "  sample_df = df.sample(n)\n",
    "  male_ratio = len(sample_df[sample_df[column]==rate_target]) / len(sample_df)\n",
    "  min_num, max_num = stats.binom.interval(alpha, n, male_ratio)\n",
    "  min_ratio = min_num / n\n",
    "  max_ratio = max_num / n\n",
    "\n",
    "  correct = min_ratio < population_male_ratio < max_ratio\n",
    "  results.append({'min': min_ratio, 'max': max_ratio, 'result': correct})"
   ]
  },
  {
   "cell_type": "code",
   "execution_count": 298,
   "id": "1ec98ad2-0ce1-428c-99a1-18112fe46cdf",
   "metadata": {},
   "outputs": [
    {
     "data": {
      "text/plain": [
       "0.6"
      ]
     },
     "execution_count": 298,
     "metadata": {},
     "output_type": "execute_result"
    }
   ],
   "source": [
    "male_ratio"
   ]
  },
  {
   "cell_type": "code",
   "execution_count": 299,
   "id": "66dffd85-cdd9-4254-b7a7-16e7a41a9b4b",
   "metadata": {
    "id": "66dffd85-cdd9-4254-b7a7-16e7a41a9b4b"
   },
   "outputs": [],
   "source": [
    "result_df = pd.DataFrame(results)"
   ]
  },
  {
   "cell_type": "code",
   "execution_count": 300,
   "id": "lbMR_MXQ6SQc",
   "metadata": {
    "colab": {
     "base_uri": "https://localhost:8080/"
    },
    "id": "lbMR_MXQ6SQc",
    "outputId": "e65d25ed-d726-458a-e7f7-60193f61509f"
   },
   "outputs": [
    {
     "data": {
      "text/plain": [
       "True     99\n",
       "False     1\n",
       "Name: result, dtype: int64"
      ]
     },
     "execution_count": 300,
     "metadata": {},
     "output_type": "execute_result"
    }
   ],
   "source": [
    "result_df['result'].value_counts()"
   ]
  },
  {
   "cell_type": "markdown",
   "id": "8055c341-6fe9-4d97-9bda-d4d34da74e23",
   "metadata": {
    "id": "emn0rJTf9iBE"
   },
   "source": [
    "## Chalenge"
   ]
  },
  {
   "cell_type": "code",
   "execution_count": 301,
   "id": "55b44fd1-d345-4bce-ae2f-d8346461addf",
   "metadata": {},
   "outputs": [],
   "source": [
    "n = 50\n",
    "m = 100\n",
    "column = 'tip'\n",
    "alpha = 0.95\n",
    "results = []\n",
    "\n",
    "population_mean = df[column].mean()\n",
    "\n",
    "for _ in range(m):\n",
    "    sampled_df = df.sample(n)\n",
    "    sampled_mean = sampled_df[column].mean()\n",
    "    sample_var = stats.tvar(sampled_df[column])\n",
    "    min_val, max_val = stats.norm.interval(alpha,loc=sampled_mean, scale=np.sqrt(sample_var / n))\n",
    "    correct = min_val < population_mean < max_val\n",
    "    results.append({'min': min_val, 'max': max_val, 'result': correct})"
   ]
  },
  {
   "cell_type": "code",
   "execution_count": 302,
   "id": "358a241a-b8ca-4a3a-a145-3360b78f96d8",
   "metadata": {},
   "outputs": [],
   "source": [
    "results_df =  pd.DataFrame(results)"
   ]
  },
  {
   "cell_type": "code",
   "execution_count": 303,
   "id": "6606496c-6fd5-4bed-84d1-6bd5211bf559",
   "metadata": {},
   "outputs": [
    {
     "data": {
      "text/plain": [
       "True     95\n",
       "False     5\n",
       "Name: result, dtype: int64"
      ]
     },
     "execution_count": 303,
     "metadata": {},
     "output_type": "execute_result"
    }
   ],
   "source": [
    "results_df['result'].value_counts()"
   ]
  },
  {
   "cell_type": "code",
   "execution_count": 304,
   "id": "a8674582-f6e1-4f50-8b6f-cd97e69eadbd",
   "metadata": {},
   "outputs": [
    {
     "data": {
      "text/html": [
       "<div>\n",
       "<style scoped>\n",
       "    .dataframe tbody tr th:only-of-type {\n",
       "        vertical-align: middle;\n",
       "    }\n",
       "\n",
       "    .dataframe tbody tr th {\n",
       "        vertical-align: top;\n",
       "    }\n",
       "\n",
       "    .dataframe thead th {\n",
       "        text-align: right;\n",
       "    }\n",
       "</style>\n",
       "<table border=\"1\" class=\"dataframe\">\n",
       "  <thead>\n",
       "    <tr style=\"text-align: right;\">\n",
       "      <th></th>\n",
       "      <th>min</th>\n",
       "      <th>max</th>\n",
       "      <th>result</th>\n",
       "    </tr>\n",
       "  </thead>\n",
       "  <tbody>\n",
       "    <tr>\n",
       "      <th>0</th>\n",
       "      <td>2.743469</td>\n",
       "      <td>3.368131</td>\n",
       "      <td>True</td>\n",
       "    </tr>\n",
       "    <tr>\n",
       "      <th>1</th>\n",
       "      <td>2.681696</td>\n",
       "      <td>3.508704</td>\n",
       "      <td>True</td>\n",
       "    </tr>\n",
       "    <tr>\n",
       "      <th>2</th>\n",
       "      <td>2.976993</td>\n",
       "      <td>4.023407</td>\n",
       "      <td>True</td>\n",
       "    </tr>\n",
       "    <tr>\n",
       "      <th>3</th>\n",
       "      <td>2.631359</td>\n",
       "      <td>3.407441</td>\n",
       "      <td>True</td>\n",
       "    </tr>\n",
       "    <tr>\n",
       "      <th>4</th>\n",
       "      <td>2.356967</td>\n",
       "      <td>2.986233</td>\n",
       "      <td>False</td>\n",
       "    </tr>\n",
       "  </tbody>\n",
       "</table>\n",
       "</div>"
      ],
      "text/plain": [
       "        min       max  result\n",
       "0  2.743469  3.368131    True\n",
       "1  2.681696  3.508704    True\n",
       "2  2.976993  4.023407    True\n",
       "3  2.631359  3.407441    True\n",
       "4  2.356967  2.986233   False"
      ]
     },
     "execution_count": 304,
     "metadata": {},
     "output_type": "execute_result"
    }
   ],
   "source": [
    "results_df.head()"
   ]
  },
  {
   "cell_type": "markdown",
   "id": "853fe806-862c-4e3c-aa49-ba8139dd4572",
   "metadata": {},
   "source": [
    "# t分布"
   ]
  },
  {
   "cell_type": "markdown",
   "id": "6c2f521f-0580-4306-ae12-7e7983bc4d15",
   "metadata": {},
   "source": [
    "## 母標準偏差σの代わりに不偏分散s'二乗の平方根s'を代用することで変形した分布"
   ]
  },
  {
   "cell_type": "code",
   "execution_count": 305,
   "id": "16290d47-05ec-418a-8d86-bb4e8c95af73",
   "metadata": {},
   "outputs": [
    {
     "data": {
      "text/plain": [
       "<matplotlib.legend.Legend at 0x4060e204f0>"
      ]
     },
     "execution_count": 305,
     "metadata": {},
     "output_type": "execute_result"
    },
    {
     "data": {
      "image/png": "[encoded data removed]",
      "text/plain": [
       "<Figure size 432x288 with 1 Axes>"
      ]
     },
     "metadata": {
      "needs_background": "light"
     },
     "output_type": "display_data"
    }
   ],
   "source": [
    "x = np.linspace(-3, 3, 100)\n",
    "z = stats.norm.pdf(x)\n",
    "# 1から11までの5飛ばしの意味\n",
    "for dof in range(1, 12, 5):\n",
    "    t = stats.t(dof).pdf(x)\n",
    "    plt.plot(x, t, label=f\"t dist(dof={dof})\")\n",
    "plt.plot(x, z, label=\"std norm\", linewidth=3)\n",
    "plt.legend()"
   ]
  },
  {
   "cell_type": "markdown",
   "id": "ac26b1f8-60d8-41ff-8207-ae16829dc7b8",
   "metadata": {},
   "source": [
    "## Chalenge"
   ]
  },
  {
   "cell_type": "code",
   "execution_count": 306,
   "id": "14c4b593-cda6-4606-a340-37a3f3ef0824",
   "metadata": {},
   "outputs": [],
   "source": [
    "n = 50\n",
    "alpha = 0.95\n",
    "column = \"tip\"\n",
    "population_mean = df[column].mean()\n",
    "result = []\n",
    "dof = n - 1\n",
    "\n",
    "df_sample = df.sample(n)\n",
    "sample_mean = df_sample[column].mean()\n",
    "sample_var = stats.tvar(sample_df[column])\n",
    "min_val, max_val = stats.norm.interval(alpha,loc=sample_mean, scale=np.sqrt(sample_var / n))\n",
    "min_val2, max_val2 = stats.t.interval(alpha,loc=sample_mean, scale=np.sqrt(sample_var / n), df=dof)\n",
    "correct_norm = min_val < population_mean < max_val\n",
    "correct_t = min_val2 < population_mean < max_val2\n",
    "\n",
    "result.append({'distribution': 'norm', 'min': min_val, 'max': max_val, 'result': correct_norm})\n",
    "result.append({'distribution': 't', 'min': min_val2, 'max': max_val2, 'result': correct_t})\n",
    "\n"
   ]
  },
  {
   "cell_type": "code",
   "execution_count": 307,
   "id": "0924714d-e7a7-427a-a5ce-2cc1b6184970",
   "metadata": {},
   "outputs": [],
   "source": [
    "result_df = pd.DataFrame(result)"
   ]
  },
  {
   "cell_type": "code",
   "execution_count": 308,
   "id": "1b35b7d3-f4fd-4a11-b533-df575e569bc0",
   "metadata": {},
   "outputs": [
    {
     "name": "stdout",
     "output_type": "stream",
     "text": [
      "population_mean:2.9982786885245902\n"
     ]
    },
    {
     "data": {
      "text/html": [
       "<div>\n",
       "<style scoped>\n",
       "    .dataframe tbody tr th:only-of-type {\n",
       "        vertical-align: middle;\n",
       "    }\n",
       "\n",
       "    .dataframe tbody tr th {\n",
       "        vertical-align: top;\n",
       "    }\n",
       "\n",
       "    .dataframe thead th {\n",
       "        text-align: right;\n",
       "    }\n",
       "</style>\n",
       "<table border=\"1\" class=\"dataframe\">\n",
       "  <thead>\n",
       "    <tr style=\"text-align: right;\">\n",
       "      <th></th>\n",
       "      <th>distribution</th>\n",
       "      <th>min</th>\n",
       "      <th>max</th>\n",
       "      <th>result</th>\n",
       "    </tr>\n",
       "  </thead>\n",
       "  <tbody>\n",
       "    <tr>\n",
       "      <th>0</th>\n",
       "      <td>norm</td>\n",
       "      <td>2.461345</td>\n",
       "      <td>3.325055</td>\n",
       "      <td>True</td>\n",
       "    </tr>\n",
       "    <tr>\n",
       "      <th>1</th>\n",
       "      <td>t</td>\n",
       "      <td>2.450414</td>\n",
       "      <td>3.335986</td>\n",
       "      <td>True</td>\n",
       "    </tr>\n",
       "  </tbody>\n",
       "</table>\n",
       "</div>"
      ],
      "text/plain": [
       "  distribution       min       max  result\n",
       "0         norm  2.461345  3.325055    True\n",
       "1            t  2.450414  3.335986    True"
      ]
     },
     "execution_count": 308,
     "metadata": {},
     "output_type": "execute_result"
    }
   ],
   "source": [
    "print(f\"population_mean:{population_mean}\")\n",
    "result_df"
   ]
  },
  {
   "cell_type": "markdown",
   "id": "f2ab83d7-dbdf-42e2-8c94-f3cd7effd3ee",
   "metadata": {},
   "source": [
    "# 統計的仮設検定\n",
    "- 統計的に仮説が正しいか確かめる\n",
    "- 意思決定を左右する重要な役割を果たす"
   ]
  },
  {
   "cell_type": "markdown",
   "id": "ff4d7f98-1711-4a3a-96b1-00d1e125f9ba",
   "metadata": {},
   "source": [
    "# 帰無仮説と対立仮説\n",
    "- 仮説を立て、その仮説が統計的に成立するといえるかを検証する\n",
    "- 正しくなければその仮説を棄却し、反対の仮説を成立させる\n",
    "- 検定によって成立させたい仮説を対立仮説に選べばOK"
   ]
  },
  {
   "cell_type": "markdown",
   "id": "f1f77e33-5868-451e-8a6b-1aa54f7e1952",
   "metadata": {},
   "source": [
    "# 比率差の検定(Zテスト)"
   ]
  },
  {
   "cell_type": "code",
   "execution_count": 309,
   "id": "d39411c7-ea3c-4826-b8d8-3fa481630e1a",
   "metadata": {},
   "outputs": [
    {
     "data": {
      "text/plain": [
       "(-0.3840618481549573, 0.35046630388746547)"
      ]
     },
     "execution_count": 309,
     "metadata": {},
     "output_type": "execute_result"
    }
   ],
   "source": [
    "proportions_ztest([30, 33], [1000, 1000], alternative= 'smaller')"
   ]
  },
  {
   "cell_type": "code",
   "execution_count": 310,
   "id": "a36cf6d1-8836-4127-90fe-c0adb9b7a040",
   "metadata": {},
   "outputs": [
    {
     "data": {
      "text/plain": [
       "(-5.4349297638940595, 2.7409010469993844e-08)"
      ]
     },
     "execution_count": 310,
     "metadata": {},
     "output_type": "execute_result"
    }
   ],
   "source": [
    "# Teams利用者数で考えてみる。有意水準5%\n",
    "proportions_ztest([550, 700], [1600, 1600], alternative= 'smaller')"
   ]
  },
  {
   "cell_type": "code",
   "execution_count": 311,
   "id": "1cc5976e-0557-40a9-bf78-72b7c718d27e",
   "metadata": {},
   "outputs": [
    {
     "name": "stdout",
     "output_type": "stream",
     "text": [
      "帰無仮説を棄却し、対立仮説を採用します。\n"
     ]
    }
   ],
   "source": [
    "# ChatGPT\n",
    "\n",
    "# トータルユーザー数\n",
    "n_before = 1600\n",
    "n_after = 1600\n",
    "\n",
    "# アクティブユーザー数\n",
    "x_before = 550\n",
    "x_after = 700\n",
    "\n",
    "# データ\n",
    "count = np.array([x_before, x_after])\n",
    "nobs = np.array([n_before, n_after])\n",
    "\n",
    "# Zテストの実行\n",
    "stat, p_value = proportions_ztest(count, nobs, alternative='smaller')\n",
    "\n",
    "# 有意水準\n",
    "alpha = 0.05\n",
    "\n",
    "# 結果の表示\n",
    "if p_value < alpha:\n",
    "    print(\"帰無仮説を棄却し、対立仮説を採用します。\")\n",
    "else:\n",
    "    print(\"帰無仮説を採用します。\")"
   ]
  },
  {
   "cell_type": "markdown",
   "id": "113350ed-2f1b-4e95-bea0-57ec9c3390ee",
   "metadata": {},
   "source": [
    "# 連関の検定\n",
    "- 2つのカテゴリー変数に連関があるかどうか検定する"
   ]
  },
  {
   "cell_type": "code",
   "execution_count": 317,
   "id": "fd971394-ff51-4140-9ca8-e7f4388c09dd",
   "metadata": {},
   "outputs": [],
   "source": [
    "obs = [[15, 5], [15, 65]]\n",
    "chi2, p, dof, ex = stats.chi2_contingency(obs, correction=False)"
   ]
  },
  {
   "cell_type": "code",
   "execution_count": 315,
   "id": "8a72a8a1-460a-4171-ad8b-be2734b91307",
   "metadata": {},
   "outputs": [
    {
     "name": "stdout",
     "output_type": "stream",
     "text": [
      "0.0000009000\n"
     ]
    }
   ],
   "source": [
    "# 計算結果を指数表記を展開して出力\n",
    "result = 9 * (10 ** -7)\n",
    "formatted_result = \"{:.10f}\".format(result)\n",
    "print(formatted_result)"
   ]
  },
  {
   "cell_type": "code",
   "execution_count": 318,
   "id": "6928f63c-0efa-4e02-a794-4bfbbf864ffa",
   "metadata": {},
   "outputs": [
    {
     "data": {
      "text/plain": [
       "24.107142857142858"
      ]
     },
     "execution_count": 318,
     "metadata": {},
     "output_type": "execute_result"
    }
   ],
   "source": [
    "chi2"
   ]
  },
  {
   "cell_type": "code",
   "execution_count": 319,
   "id": "d998f375-21b1-422a-9ab0-5ef5d23a79bd",
   "metadata": {},
   "outputs": [
    {
     "data": {
      "text/plain": [
       "9.112167294252327e-07"
      ]
     },
     "execution_count": 319,
     "metadata": {},
     "output_type": "execute_result"
    }
   ],
   "source": [
    "p"
   ]
  },
  {
   "cell_type": "code",
   "execution_count": 320,
   "id": "87c9d7db-d1ec-42b5-a42d-a7d7f85868dd",
   "metadata": {},
   "outputs": [
    {
     "data": {
      "text/plain": [
       "1"
      ]
     },
     "execution_count": 320,
     "metadata": {},
     "output_type": "execute_result"
    }
   ],
   "source": [
    "dof"
   ]
  },
  {
   "cell_type": "code",
   "execution_count": 322,
   "id": "b2a70295-9235-4005-bc83-313ed4cb2d9e",
   "metadata": {},
   "outputs": [
    {
     "data": {
      "text/plain": [
       "array([[ 6., 14.],\n",
       "       [24., 56.]])"
      ]
     },
     "execution_count": 322,
     "metadata": {},
     "output_type": "execute_result"
    }
   ],
   "source": [
    "ex"
   ]
  },
  {
   "cell_type": "code",
   "execution_count": null,
   "id": "2c00c1a1-22b3-48f6-a49c-230d0e730880",
   "metadata": {},
   "outputs": [],
   "source": []
  }
 ],
 "metadata": {
  "colab": {
   "provenance": []
  },
  "kernelspec": {
   "display_name": "Python 3",
   "language": "python",
   "name": "python3"
  },
  "language_info": {
   "codemirror_mode": {
    "name": "ipython",
    "version": 3
   },
   "file_extension": ".py",
   "mimetype": "text/x-python",
   "name": "python",
   "nbconvert_exporter": "python",
   "pygments_lexer": "ipython3",
   "version": "3.8.8"
  }
 },
 "nbformat": 4,
 "nbformat_minor": 5
}
